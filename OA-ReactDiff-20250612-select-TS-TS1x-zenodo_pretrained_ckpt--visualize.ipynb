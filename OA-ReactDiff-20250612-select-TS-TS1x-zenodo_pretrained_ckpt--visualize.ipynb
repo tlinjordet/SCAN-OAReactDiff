{
 "cells": [
  {
   "cell_type": "markdown",
   "id": "77fb1e04-0409-4927-8412-06656d122d74",
   "metadata": {},
   "source": [
    "# Apply this code to sample TS from model."
   ]
  },
  {
   "cell_type": "code",
   "execution_count": 1,
   "id": "__bohr_old_version_cellId_3__",
   "metadata": {
    "ExecuteTime": {
     "end_time": "2023-10-02T19:44:52.843133900Z",
     "start_time": "2023-10-02T19:44:49.803291700Z"
    }
   },
   "outputs": [],
   "source": [
    "# --- Importing and defining some functions ----\n",
    "import os\n",
    "import torch\n",
    "import py3Dmol\n",
    "import numpy as np\n",
    "\n",
    "from typing import Optional\n",
    "from torch import tensor\n",
    "from e3nn import o3\n",
    "from torch_scatter import scatter_mean\n",
    "\n",
    "from oa_reactdiff.model import LEFTNet\n",
    "\n",
    "default_float = torch.float64\n",
    "torch.set_default_dtype(default_float)  # Use double precision for more accurate testing\n",
    "\n",
    "\n",
    "def remove_mean_batch(\n",
    "    x: tensor, \n",
    "    indices: Optional[tensor] = None\n",
    ") -> tensor:\n",
    "    \"\"\"Remove the mean from each batch in x\n",
    "\n",
    "    Args:\n",
    "        x (tensor): input tensor.\n",
    "        indices (Optional[tensor], optional): batch indices. Defaults to None.\n",
    "\n",
    "    Returns:\n",
    "        tensor: output tensor with batch mean as 0.\n",
    "    \"\"\"\n",
    "    if indices == None:\n",
    "         return x - torch.mean(x, dim=0)\n",
    "    mean = scatter_mean(x, indices, dim=0)\n",
    "    x = x - mean[indices]\n",
    "    return x\n",
    "\n",
    "\n",
    "def draw_in_3dmol(mol: str, fmt: str = \"xyz\") -> py3Dmol.view:\n",
    "    \"\"\"Draw the molecule\n",
    "\n",
    "    Args:\n",
    "        mol (str): str content of molecule.\n",
    "        fmt (str, optional): format. Defaults to \"xyz\".\n",
    "\n",
    "    Returns:\n",
    "        py3Dmol.view: output viewer\n",
    "    \"\"\"\n",
    "    viewer = py3Dmol.view(1024, 576)\n",
    "    viewer.addModel(mol, fmt)\n",
    "    viewer.setStyle({'stick': {}, \"sphere\": {\"radius\": 0.36}})\n",
    "    viewer.zoomTo()\n",
    "    return viewer\n",
    "\n",
    "\n",
    "def assemble_xyz(z: list, pos: tensor) -> str:\n",
    "    \"\"\"Assembling atomic numbers and positions into xyz format\n",
    "\n",
    "    Args:\n",
    "        z (list): chemical elements\n",
    "        pos (tensor): 3D coordinates\n",
    "\n",
    "    Returns:\n",
    "        str: xyz string\n",
    "    \"\"\"\n",
    "    natoms =len(z)\n",
    "    xyz = f\"{natoms}\\n\\n\"\n",
    "    for _z, _pos in zip(z, pos.numpy()):\n",
    "        xyz += f\"{_z}\\t\" + \"\\t\".join([str(x) for x in _pos]) + \"\\n\"\n",
    "    return xyz"
   ]
  },
  {
   "cell_type": "markdown",
   "id": "__bohr_old_version_cellId_4__",
   "metadata": {},
   "source": [
    "### Building a LEFTNet model\n",
    "\n",
    "A simple test is performed to verify SE(3) symmetry. The model here is for testing, so we only need to build a very small model.\n",
    "\n",
    "Note: [LEFTNet](https://arxiv.org/abs/2304.04757) is a new SOTA-level SE(3) graph neural network. Although we use LEFTNet here, the properties it exhibits are model-independent (other SE(3) models, such as [EGNN](https://arxiv.org/pdf/2102.09844.pdf), will give the same results)\n",
    "\n",
    "TL: EGNN is not SE$(3)$  equivariant?"
   ]
  },
  {
   "cell_type": "code",
   "execution_count": 2,
   "id": "__bohr_old_version_cellId_5__",
   "metadata": {
    "ExecuteTime": {
     "end_time": "2023-10-02T20:08:08.703724800Z",
     "start_time": "2023-10-02T20:08:08.653181600Z"
    }
   },
   "outputs": [
    {
     "name": "stderr",
     "output_type": "stream",
     "text": [
      "/misc/home/guest50/micromamba/envs/oa_reactdiff_m/lib/python3.10/site-packages/torch_geometric/nn/conv/message_passing.py:972: UserWarning: 'EquiMessage.jittable' is deprecated and a no-op. Please remove its usage.\n",
      "  warnings.warn(f\"'{self.__class__.__name__}.jittable' is deprecated \"\n"
     ]
    },
    {
     "data": {
      "text/plain": [
       "7882"
      ]
     },
     "execution_count": 2,
     "metadata": {},
     "output_type": "execute_result"
    }
   ],
   "source": [
    "num_layers = 2\n",
    "hidden_channels = 8\n",
    "in_hidden_channels = 4\n",
    "num_radial = 4\n",
    "\n",
    "model =  LEFTNet(\n",
    "    num_layers=num_layers,\n",
    "    hidden_channels=hidden_channels,\n",
    "    in_hidden_channels=in_hidden_channels,\n",
    "    num_radial=num_radial,\n",
    "    object_aware=False,\n",
    ")\n",
    "\n",
    "sum(p.numel() for p in model.parameters() if p.requires_grad)"
   ]
  },
  {
   "cell_type": "raw",
   "id": "ed71048b-49d6-4591-b70c-547e351ff6ad",
   "metadata": {
    "ExecuteTime": {
     "end_time": "2023-10-02T20:08:28.715004500Z",
     "start_time": "2023-10-02T20:08:28.630190700Z"
    }
   },
   "source": [
    "xyz = assemble_xyz(z, pos)\n",
    "view = draw_in_3dmol(xyz, \"xyz\")\n",
    "view  # Display Molecules"
   ]
  },
  {
   "cell_type": "markdown",
   "id": "__bohr_old_version_cellId_34__",
   "metadata": {},
   "source": [
    "\n",
    "\n",
    "### Create an \"Object-Aware\" LEFTNet"
   ]
  },
  {
   "cell_type": "raw",
   "id": "5898122e-1a04-40bf-a934-dd837271ee89",
   "metadata": {
    "ExecuteTime": {
     "end_time": "2023-10-02T20:31:35.925564Z",
     "start_time": "2023-10-02T20:31:35.902036100Z"
    }
   },
   "source": [
    "model_oa =  LEFTNet(\n",
    "    num_layers=num_layers,\n",
    "    hidden_channels=hidden_channels,\n",
    "    in_hidden_channels=in_hidden_channels,\n",
    "    num_radial=num_radial,\n",
    "    object_aware=True,  # Using the object-aware model\n",
    ")"
   ]
  },
  {
   "cell_type": "code",
   "execution_count": 3,
   "id": "__bohr_old_version_cellId_46__",
   "metadata": {
    "ExecuteTime": {
     "end_time": "2023-10-02T20:31:55.072136100Z",
     "start_time": "2023-10-02T20:31:55.024148400Z"
    }
   },
   "outputs": [],
   "source": [
    "# --- Importing necessary function ---\n",
    "from torch.utils.data import DataLoader\n",
    "\n",
    "from oa_reactdiff.trainer.pl_trainer import DDPMModule\n",
    "\n",
    "\n",
    "from oa_reactdiff.dataset import ProcessedTS1x, ProcessedSCAN\n",
    "from oa_reactdiff.diffusion._schedule import DiffSchedule, PredefinedNoiseSchedule\n",
    "\n",
    "from oa_reactdiff.diffusion._normalizer import FEATURE_MAPPING\n",
    "from oa_reactdiff.analyze.rmsd import batch_rmsd\n",
    "\n",
    "from oa_reactdiff.utils.sampling_tools import assemble_sample_inputs, write_tmp_xyz"
   ]
  },
  {
   "cell_type": "code",
   "execution_count": 4,
   "id": "96b9d00f-f0fc-42f3-8ebb-255af0c0e491",
   "metadata": {},
   "outputs": [
    {
     "name": "stdout",
     "output_type": "stream",
     "text": [
      "/misc/home/guest50/OAReactDiff\n"
     ]
    }
   ],
   "source": [
    "!pwd"
   ]
  },
  {
   "cell_type": "markdown",
   "id": "__bohr_old_version_cellId_47__",
   "metadata": {},
   "source": [
    "\n",
    "### Import the pre-trained model and redefine the schedule."
   ]
  },
  {
   "cell_type": "code",
   "execution_count": 5,
   "id": "__bohr_old_version_cellId_48__",
   "metadata": {
    "ExecuteTime": {
     "end_time": "2023-10-02T20:31:55.921080700Z",
     "start_time": "2023-10-02T20:31:55.869082Z"
    }
   },
   "outputs": [
    {
     "name": "stdout",
     "output_type": "stream",
     "text": [
      "cuda\n",
      "/misc/home/guest50/OAReactDiff/oa_reactdiff/trainer\n"
     ]
    },
    {
     "name": "stderr",
     "output_type": "stream",
     "text": [
      "/misc/home/guest50/micromamba/envs/oa_reactdiff_m/lib/python3.10/site-packages/torch_geometric/nn/conv/message_passing.py:972: UserWarning: 'EquiMessage.jittable' is deprecated and a no-op. Please remove its usage.\n",
      "  warnings.warn(f\"'{self.__class__.__name__}.jittable' is deprecated \"\n"
     ]
    }
   ],
   "source": [
    "# TL fix: {\n",
    "from oa_reactdiff.trainer.pl_trainer import DDPMModule\n",
    "# } fix. Why didn' this carry over from the previous cell import statement?\n",
    "\n",
    "device = torch.device(\"cpu\") if not torch.cuda.is_available() else torch.device(\"cuda\")\n",
    "print(device) # TL\n",
    "\n",
    "tspath = os.path.abspath(os.path.join(os.getcwd(), \"oa_reactdiff\",\"trainer\"))\n",
    "print(tspath)\n",
    "# zenodo_pretrained_ckpt\n",
    "ddpm_trainer = DDPMModule.load_from_checkpoint(\n",
    "    checkpoint_path=\"./trained_models/pretrained-ts1x-diff-zenodo.ckpt\",\n",
    "    #checkpoint_path=os.path.abspath(\"/misc/home/guest50/OAReactDiff/oa_reactdiff/trainer/checkpoint/OAReactDiff/leftnet-0-84724de349da/ddpm-epoch=1964-val-totloss=510.42.ckpt\"),\n",
    "    #checkpoint_path=os.path.abspath(\"/misc/home/guest50/OAReactDiff/oa_reactdiff/trainer/checkpoint/OAReactDiff/leftnet-0-84724de349da/ddpm-epoch=1999-val-totloss=523.77.ckpt\"),\n",
    "    #checkpoint_path=\"./pretrained-ts1x-diff.ckpt\", # original\n",
    "    #checkpoint_path=f\"{tspath}/checkpoint/OAReactDiff/leftnet-0-f1ff7dc18fa3/ddpm-epoch=1999-val-totloss=509.31.ckpt\", # Our recapitulation\n",
    "    map_location=device,\n",
    ")\n",
    "ddpm_trainer = ddpm_trainer.to(device)"
   ]
  },
  {
   "cell_type": "raw",
   "id": "0bc9580c-aca8-4a80-85ea-573c67647838",
   "metadata": {},
   "source": [
    "loaded_from_scratch_ckpt = torch.load(\"./trained_models/pretrained-ts1x-diff-from-scratch.ckpt\")\n",
    "loaded_from_scratch_ckpt"
   ]
  },
  {
   "cell_type": "raw",
   "id": "a92fc9c4-5c7b-401b-afd7-5e5b06d6689f",
   "metadata": {},
   "source": [
    "loaded_zenodo_ckpt = torch.load(\"./trained_models/pretrained-ts1x-diff-zenodo.ckpt\")\n",
    "loaded_zenodo_ckpt"
   ]
  },
  {
   "cell_type": "code",
   "execution_count": 6,
   "id": "__bohr_old_version_cellId_50__",
   "metadata": {
    "ExecuteTime": {
     "end_time": "2023-10-02T20:31:56.986652100Z",
     "start_time": "2023-10-02T20:31:56.909147700Z"
    }
   },
   "outputs": [],
   "source": [
    "noise_schedule: str = \"polynomial_2\"\n",
    "timesteps: int = 150\n",
    "precision: float = 1e-5\n",
    "\n",
    "gamma_module = PredefinedNoiseSchedule(\n",
    "            noise_schedule=noise_schedule,\n",
    "            timesteps=timesteps,\n",
    "            precision=precision,\n",
    "        )\n",
    "schedule = DiffSchedule(\n",
    "    gamma_module=gamma_module,\n",
    "    norm_values=ddpm_trainer.ddpm.norm_values\n",
    ")\n",
    "ddpm_trainer.ddpm.schedule = schedule\n",
    "ddpm_trainer.ddpm.T = timesteps\n",
    "ddpm_trainer = ddpm_trainer.to(device)"
   ]
  },
  {
   "cell_type": "markdown",
   "id": "__bohr_old_version_cellId_51__",
   "metadata": {},
   "source": [
    "\n",
    "### Prepare dataset and data loader and select a reaction involving multiple molecules"
   ]
  },
  {
   "cell_type": "code",
   "execution_count": 7,
   "id": "df24046a-94b7-4f50-92a7-512bfe4bef9a",
   "metadata": {},
   "outputs": [],
   "source": [
    "import pickle\n",
    "\n",
    "npz_path = \"./oa_reactdiff/data/transition1x/train.pkl\"\n",
    "\n",
    "train_pkl = pickle.load(open(npz_path, \"rb\"))"
   ]
  },
  {
   "cell_type": "code",
   "execution_count": 8,
   "id": "4dd6c917-8227-439d-8cfe-43185f391bf3",
   "metadata": {},
   "outputs": [
    {
     "data": {
      "text/plain": [
       "[0, 1, 2, 3, 4, 5, 6, 8, 9, 10]"
      ]
     },
     "execution_count": 8,
     "metadata": {},
     "output_type": "execute_result"
    }
   ],
   "source": [
    "train_pkl[\"use_ind\"][:10]"
   ]
  },
  {
   "cell_type": "code",
   "execution_count": 9,
   "id": "22649884-6690-47df-b790-c6e2d8d880c0",
   "metadata": {},
   "outputs": [
    {
     "data": {
      "text/plain": [
       "'rxn0306'"
      ]
     },
     "execution_count": 9,
     "metadata": {},
     "output_type": "execute_result"
    }
   ],
   "source": [
    "train_pkl[\"reactant\"][\"rxn\"][177]"
   ]
  },
  {
   "cell_type": "code",
   "execution_count": 10,
   "id": "224f8233-6524-49d2-bfff-bccf895fac49",
   "metadata": {},
   "outputs": [
    {
     "data": {
      "text/plain": [
       "10"
      ]
     },
     "execution_count": 10,
     "metadata": {},
     "output_type": "execute_result"
    }
   ],
   "source": [
    "train_pkl[\"reactant\"]['num_atoms'][177]"
   ]
  },
  {
   "cell_type": "code",
   "execution_count": 11,
   "id": "c3f0554a-2526-44a9-8d43-6f12b7b6522e",
   "metadata": {},
   "outputs": [
    {
     "data": {
      "text/plain": [
       "10"
      ]
     },
     "execution_count": 11,
     "metadata": {},
     "output_type": "execute_result"
    }
   ],
   "source": [
    "train_pkl[\"reactant\"]['num_atoms'][177]"
   ]
  },
  {
   "cell_type": "code",
   "execution_count": 11,
   "id": "__bohr_old_version_cellId_52__",
   "metadata": {
    "ExecuteTime": {
     "end_time": "2023-10-02T20:31:57.929560300Z",
     "start_time": "2023-10-02T20:31:57.861384500Z"
    }
   },
   "outputs": [
    {
     "data": {
      "text/plain": [
       "9000"
      ]
     },
     "execution_count": 11,
     "metadata": {},
     "output_type": "execute_result"
    }
   ],
   "source": [
    "dataset = ProcessedTS1x(\n",
    "    npz_path=npz_path,\n",
    "    center=True,\n",
    "    pad_fragments=0,\n",
    "    device=device,\n",
    "    zero_charge=False,\n",
    "    remove_h=False,\n",
    "    single_frag_only=False,\n",
    "    swapping_react_prod=False,\n",
    "    use_by_ind=True,\n",
    ")\n",
    "loader = DataLoader(\n",
    "    dataset, \n",
    "    batch_size=1,\n",
    "    shuffle=False,\n",
    "    num_workers=0,\n",
    "    collate_fn=dataset.collate_fn\n",
    ")\n",
    "itl = iter(loader)\n",
    "idx = -1 # TL: why?\n",
    "\n",
    "len(dataset)"
   ]
  },
  {
   "cell_type": "code",
   "execution_count": 12,
   "id": "653bcb6a-252f-4278-8182-79f9e89da318",
   "metadata": {},
   "outputs": [
    {
     "data": {
      "text/plain": [
       "[177,\n",
       " 501,\n",
       " 625,\n",
       " 902,\n",
       " 2616,\n",
       " 3130,\n",
       " 3267,\n",
       " 3294,\n",
       " 4171,\n",
       " 4258,\n",
       " 4392,\n",
       " 4424,\n",
       " 4983,\n",
       " 5334,\n",
       " 6474,\n",
       " 6941,\n",
       " 7484,\n",
       " 8388,\n",
       " 8703,\n",
       " 8894]"
      ]
     },
     "execution_count": 12,
     "metadata": {},
     "output_type": "execute_result"
    }
   ],
   "source": [
    "num_indices_to_select = 20\n",
    "SEED = 747\n",
    "np.random.default_rng(seed=SEED)\n",
    "np.random.seed(SEED)\n",
    "random_indices = np.random.choice(len(dataset), size=num_indices_to_select, replace=False)\n",
    "random_indices = sorted(random_indices)\n",
    "random_indices"
   ]
  },
  {
   "cell_type": "code",
   "execution_count": 13,
   "id": "e95cf915-a208-43ef-afd7-33ccdff632cb",
   "metadata": {},
   "outputs": [
    {
     "data": {
      "text/plain": [
       "[202,\n",
       " 560,\n",
       " 700,\n",
       " 1009,\n",
       " 2924,\n",
       " 3505,\n",
       " 3660,\n",
       " 3691,\n",
       " 4684,\n",
       " 4779,\n",
       " 4931,\n",
       " 4967,\n",
       " 5612,\n",
       " 5999,\n",
       " 7281,\n",
       " 7802,\n",
       " 8399,\n",
       " 9402,\n",
       " 9748,\n",
       " 9952]"
      ]
     },
     "execution_count": 13,
     "metadata": {},
     "output_type": "execute_result"
    }
   ],
   "source": [
    "train_indices = [train_pkl[\"use_ind\"][x] for x in random_indices]\n",
    "train_indices"
   ]
  },
  {
   "cell_type": "raw",
   "id": "d84dc843-d6f6-47ea-b3dc-c622e84cac96",
   "metadata": {},
   "source": [
    "for _ in range(4):  # The 4th sample happens to be a multimolecular reaction\n",
    "    representations, res = next(itl)\n",
    "idx += 1\n",
    "n_samples = representations[0][\"size\"].size(0)\n",
    "if n_samples != 1: #\n",
    "    print(n_samples)#\n",
    "fragments_nodes = [\n",
    "    repre[\"size\"] for repre in representations\n",
    "]\n",
    "conditions = torch.tensor([[0] for _ in range(n_samples)], device=device)"
   ]
  },
  {
   "cell_type": "code",
   "execution_count": 14,
   "id": "d7d259d1-ec65-4a15-a66e-1ea625469ed7",
   "metadata": {},
   "outputs": [],
   "source": [
    "# TL visualize each state:\n",
    "atomic_num2sym = {\n",
    "    1: 'H',    2: 'He',   3: 'Li',   4: 'Be',   5: 'B',    6: 'C',    7: 'N',    8: 'O',    9: 'F',    10: 'Ne',\n",
    "    11: 'Na',  12: 'Mg',  13: 'Al',  14: 'Si',  15: 'P',   16: 'S',   17: 'Cl',  18: 'Ar',  19: 'K',   20: 'Ca',\n",
    "    21: 'Sc',  22: 'Ti',  23: 'V',   24: 'Cr',  25: 'Mn',  26: 'Fe',  27: 'Co',  28: 'Ni',  29: 'Cu',  30: 'Zn',\n",
    "    31: 'Ga',  32: 'Ge',  33: 'As',  34: 'Se',  35: 'Br',  36: 'Kr',  37: 'Rb',  38: 'Sr',  39: 'Y',   40: 'Zr',\n",
    "    41: 'Nb',  42: 'Mo',  43: 'Tc',  44: 'Ru',  45: 'Rh',  46: 'Pd',  47: 'Ag',  48: 'Cd',  49: 'In',  50: 'Sn',\n",
    "    51: 'Sb',  52: 'Te',  53: 'I',   54: 'Xe',  55: 'Cs',  56: 'Ba',  57: 'La',  58: 'Ce',  59: 'Pr',  60: 'Nd',\n",
    "    61: 'Pm',  62: 'Sm',  63: 'Eu',  64: 'Gd', 65: 'Tb',  66: 'Dy',  67: 'Ho',  68: 'Er',  69: 'Tm',  70: 'Yb',\n",
    "    71: 'Lu',  72: 'Hf',  73: 'Ta',  74: 'W',   75: 'Re',  76: 'Os',  77: 'Ir',  78: 'Pt',  79: 'Au',  80: 'Hg',\n",
    "    81: 'Tl',  82: 'Pb',  83: 'Bi',  84: 'Po',  85: 'At',  86: 'Rn',  87: 'Fr',  88: 'Ra',  89: 'Ac',  90: 'Th',\n",
    "    91: 'Pa',  92: 'U',   93: 'Np',  94: 'Pu',  95: 'Am',  96: 'Cm',  97: 'Bk',  98: 'Cf',  99: 'Es', 100: 'Fm',\n",
    "    101: 'Md', 102: 'No', 103: 'Lr', 104: 'Rf', 105: 'Db', 106: 'Sg', 107: 'Bh', 108: 'Hs', 109: 'Mt', 110: 'Ds',\n",
    "    111: 'Rg', 112: 'Cn', 113: 'Nh', 114: 'Fl', 115: 'Mc', 116: 'Lv', 117: 'Ts', 118: 'Og'\n",
    "}"
   ]
  },
  {
   "cell_type": "code",
   "execution_count": 15,
   "id": "3ae13543-bfea-4ae1-ae65-48dd8d239c03",
   "metadata": {},
   "outputs": [],
   "source": [
    "def xyz_block_from_node_features(xh: torch.tensor, comment: str=\"\", c2a: dict=atomic_num2sym) -> str:\n",
    "    num_atoms = xh.shape[0]\n",
    "    xyz_lines = [str(num_atoms), comment]\n",
    "    for row in xh:\n",
    "        position = row[:3].cpu().numpy()\n",
    "        z = c2a[row[-1].long().item()]\n",
    "        xyz_lines.append(f\"{z}\\t\" + \"\\t\".join([str(x) for x in position]))\n",
    "    return \"\\n\".join(xyz_lines)"
   ]
  },
  {
   "cell_type": "raw",
   "id": "a5311ab3-7520-475d-b625-943976948da6",
   "metadata": {},
   "source": [
    "#!mkdir my_results\n",
    "!mkdir results/sample_20_TS-20250611-Tr1x-zenodo_pretrained_ckpt"
   ]
  },
  {
   "cell_type": "code",
   "execution_count": 16,
   "id": "6ecacd61-3e7e-4025-9430-b11ce63445a6",
   "metadata": {},
   "outputs": [],
   "source": [
    "#output_dir = os.path.abspath(\"results/sample_20_TS-20250611-Tr1x-zenodo_pretrained_ckpt\")\n",
    "output_dir = None"
   ]
  },
  {
   "cell_type": "code",
   "execution_count": 17,
   "id": "419df548-fe7d-4125-bb6b-d9e33e6298f1",
   "metadata": {},
   "outputs": [
    {
     "name": "stdout",
     "output_type": "stream",
     "text": [
      "177\n",
      "202\n",
      "10\n",
      "10\n",
      "[0.0027844603802332233]\n",
      "[0.010383678689219172]\n",
      "[0.0034456645464990944]\n",
      "\n",
      "501\n",
      "560\n",
      "10\n",
      "10\n",
      "[0.004800592802929688]\n",
      "[0.008966076543586072]\n",
      "[0.0038860981323944267]\n",
      "\n",
      "625\n",
      "700\n",
      "10\n",
      "10\n",
      "[0.0033001688482348045]\n",
      "[0.013241237793895636]\n",
      "[0.0038895617165288043]\n",
      "\n",
      "902\n",
      "1009\n",
      "12\n",
      "12\n",
      "[0.004022391827383418]\n",
      "[0.00587251775167008]\n",
      "[0.004040244613062573]\n",
      "\n",
      "2616\n",
      "2924\n",
      "13\n",
      "13\n",
      "[0.0038898312913396857]\n",
      "[0.014055473134347036]\n",
      "[0.00386503858588595]\n",
      "\n",
      "3130\n",
      "3505\n",
      "13\n",
      "13\n",
      "[0.0038547169104909823]\n",
      "[0.15032817487660272]\n",
      "[0.0034979079422697563]\n",
      "\n",
      "3267\n",
      "3660\n",
      "13\n",
      "13\n",
      "[0.002978078083873235]\n",
      "[0.015897363142569863]\n",
      "[0.004239871766747407]\n",
      "\n",
      "3294\n",
      "3691\n",
      "13\n",
      "13\n",
      "[0.0034875060368150367]\n",
      "[0.019910638847494697]\n",
      "[0.004123994470618216]\n",
      "\n",
      "4171\n",
      "4684\n",
      "14\n",
      "14\n",
      "[0.003089296499216545]\n",
      "[0.25038845089827844]\n",
      "[0.003843110593978436]\n",
      "\n",
      "4258\n",
      "4779\n",
      "14\n",
      "14\n",
      "[0.0037580238508104578]\n",
      "[0.02379710488750487]\n",
      "[0.004163554335264125]\n",
      "\n",
      "4392\n",
      "4931\n",
      "15\n",
      "15\n",
      "[0.0034576414326273233]\n",
      "[0.41491431382881055]\n",
      "[0.0038971820264111605]\n",
      "\n",
      "4424\n",
      "4967\n",
      "15\n",
      "15\n",
      "[0.002939046068775061]\n",
      "[0.016743140077522794]\n",
      "[0.0044802747179428365]\n",
      "\n",
      "4983\n",
      "5612\n",
      "17\n",
      "17\n",
      "[0.004229845590781137]\n",
      "[0.7188301569047826]\n",
      "[0.0040273118375421]\n",
      "\n",
      "5334\n",
      "5999\n",
      "11\n",
      "11\n",
      "[0.0035872551888399516]\n",
      "[0.00934501024537574]\n",
      "[0.0031725144321082905]\n",
      "\n",
      "6474\n",
      "7281\n",
      "15\n",
      "15\n",
      "[0.0036336940631354797]\n",
      "[0.020430993227135104]\n",
      "[0.003619829517712748]\n",
      "\n",
      "6941\n",
      "7802\n",
      "14\n",
      "14\n",
      "[0.002967072955309322]\n",
      "[0.5296193615323466]\n",
      "[0.0031891979163392163]\n",
      "\n",
      "7484\n",
      "8399\n",
      "16\n",
      "16\n",
      "[0.003345171370683752]\n",
      "[0.4603412675611134]\n",
      "[0.0038647720363942316]\n",
      "\n",
      "8388\n",
      "9402\n",
      "15\n",
      "15\n",
      "[0.0033725634453603687]\n",
      "[0.015096723558650889]\n",
      "[0.0034336335205497784]\n",
      "\n",
      "8703\n",
      "9748\n",
      "16\n",
      "16\n",
      "[0.004191186673241875]\n",
      "[0.026176488920835135]\n",
      "[0.0028752878604872776]\n",
      "\n",
      "8894\n",
      "9952\n",
      "19\n",
      "19\n",
      "[0.003930670639363554]\n",
      "[0.3440580724161656]\n",
      "[0.00356173560743709]\n",
      "\n"
     ]
    }
   ],
   "source": [
    "selected_representation_triples = {}\n",
    "rs_rmsdsx = []\n",
    "ts_rmsdsx = []\n",
    "ps_rmsdsx = []\n",
    "\n",
    "for i in range(len(dataset)): \n",
    "    representations, res = next(itl)\n",
    "    if i in random_indices:\n",
    "        xyz_blocks = []\n",
    "        print(i)\n",
    "        train_idx = train_pkl[\"use_ind\"][i]\n",
    "        print(train_idx)\n",
    "        rxn_id = train_pkl[\"reactant\"][\"rxn\"][train_idx]\n",
    "        n_samples = representations[0][\"size\"].size(0)\n",
    "        fragments_nodes = [\n",
    "            repre[\"size\"] for repre in representations\n",
    "        ]\n",
    "        conditions = torch.tensor([[0] for _ in range(n_samples)], device=device)\n",
    "        # skipping permutation of indices in reactant state\n",
    "        xh_fixed = [\n",
    "            torch.cat(\n",
    "                [repre[feature_type] for feature_type in FEATURE_MAPPING],\n",
    "                dim=1,\n",
    "            )\n",
    "            for repre in representations\n",
    "        ]\n",
    "        print(xh_fixed[2].shape[0])\n",
    "        print(train_pkl[\"reactant\"]['num_atoms'][train_idx])\n",
    "        #ground_truth_ts = xh_fixed[1]\n",
    "        out_samples, out_masks = ddpm_trainer.ddpm.inpaint(\n",
    "            n_samples=n_samples,\n",
    "            fragments_nodes=fragments_nodes,\n",
    "            conditions=conditions,\n",
    "            return_frames=1,\n",
    "            resamplings=5,\n",
    "            jump_length=5,\n",
    "            timesteps=None,\n",
    "            xh_fixed=xh_fixed,\n",
    "            frag_fixed=[0, 2],\n",
    "        )\n",
    "        \n",
    "        # Confirm unchanged reactant state: torch.allclose causing segmentation fault?\n",
    "        #reactant_diff = torch.allclose(out_samples[0][0] - xh_fixed[0]) #= torch.max(torch.abs(out_samples[0][0] - xh_fixed[0]))\n",
    "        #print(reactant_diff)\n",
    "        #assert out_samples[0][0] == xh_fixed[0]\n",
    "        # Confirm unchanged product state:\n",
    "        #assert out_samples[0][2] == xh_fixed[2]\n",
    "        # reactant state (rs_..):\n",
    "        rs_rmsds = batch_rmsd(\n",
    "            fragments_nodes, \n",
    "            out_samples[0],\n",
    "            xh_fixed,\n",
    "            idx=0,\n",
    "        )\n",
    "        print(rs_rmsds)\n",
    "        rs_rmsdsx.append(rs_rmsds[0])\n",
    "\n",
    "        # transition state (ts_..):\n",
    "        ts_rmsds = batch_rmsd(\n",
    "            fragments_nodes, \n",
    "            out_samples[0],\n",
    "            xh_fixed,\n",
    "            idx=1,\n",
    "        )\n",
    "        print(ts_rmsds)\n",
    "        ts_rmsdsx.append(ts_rmsds[0])\n",
    "        \n",
    "        # product state (ps_..):\n",
    "        ps_rmsds = batch_rmsd(\n",
    "            fragments_nodes, \n",
    "            out_samples[0],\n",
    "            xh_fixed,\n",
    "            idx=2,\n",
    "        )\n",
    "        print(ps_rmsds)\n",
    "        ps_rmsdsx.append(ps_rmsds[0])\n",
    "        #assert len(rmsds) == 1\n",
    "        print(\"\")\n",
    "\n",
    "        if output_dir == None:\n",
    "            continue # skip preparing strings for file output\n",
    "\n",
    "        # Now wrap up XYZs into an output file with informative comments.\n",
    "        file_name = f\"{rxn_id}.xyz\"\n",
    "        # Reactant state, two versions\n",
    "        rs_ref_xyz = xyz_block_from_node_features(xh_fixed[0], comment=f\"True/calculated reference reactant state.\")\n",
    "        xyz_blocks.append(rs_ref_xyz)\n",
    "        rs_rec_xyz = xyz_block_from_node_features(out_samples[0][0], comment=f\"Reconstructed reactant state. RMSD: {str(round(rs_rmsds[0],6))} Å.\")\n",
    "        xyz_blocks.append(rs_rec_xyz)\n",
    "        \n",
    "        # Transition state, two versions\n",
    "        ts_ref_xyz = xyz_block_from_node_features(xh_fixed[1], comment=f\"True/calculated reference transition state.\")\n",
    "        xyz_blocks.append(ts_ref_xyz)\n",
    "        ts_gen_xyz = xyz_block_from_node_features(out_samples[0][1], comment=f\"Generated/inpainted transition state. RMSD: {str(round(ts_rmsds[0],6))} Å.\")\n",
    "        xyz_blocks.append(ts_gen_xyz)\n",
    "\n",
    "        # Product state, two versions\n",
    "        ps_ref_xyz = xyz_block_from_node_features(xh_fixed[2], comment=f\"True/calculated reference product state.\")\n",
    "        xyz_blocks.append(ps_ref_xyz)\n",
    "        ps_rec_xyz = xyz_block_from_node_features(out_samples[0][2], comment=f\"Reconstructed product state. RMSD: {str(round(ps_rmsds[0],6))} Å.\")\n",
    "        xyz_blocks.append(ps_rec_xyz)\n",
    "\n",
    "        with open(os.path.join(output_dir, file_name), \"w\") as f_out:\n",
    "            f_out.write(\"\\n\\n\".join(xyz_blocks))\n",
    "        \n",
    "        if i == random_indices[-1]: # no need to keep iterating.\n",
    "            break"
   ]
  },
  {
   "cell_type": "code",
   "execution_count": 18,
   "id": "c245a811-c69b-437c-a686-0cd4cfcc4006",
   "metadata": {},
   "outputs": [
    {
     "name": "stdout",
     "output_type": "stream",
     "text": [
      "Reactant state reconstruction RMSD was mean ± std.dev.: \t0.003581 \t± 0.000502 Å.\n",
      "Transition state inpainting RMSD was mean ± std.dev.: \t\t0.15342 \t± 0.214209 Å.\n",
      "Product state reconstruction RMSD was mean ± std.dev.: \t\t0.003756 \t± 0.000391 Å.\n"
     ]
    }
   ],
   "source": [
    "# Report/analysis of RMSDs seen:\n",
    "\n",
    "rs_mean = round(np.mean(rs_rmsdsx), 6)\n",
    "rs_std = round(np.std(rs_rmsdsx), 6)\n",
    "print(f\"Reactant state reconstruction RMSD was mean ± std.dev.: \\t{rs_mean} \\t± {rs_std} Å.\")\n",
    "ts_mean = round(np.mean(ts_rmsdsx), 6)\n",
    "ts_std = round(np.std(ts_rmsdsx), 6)\n",
    "print(f\"Transition state inpainting RMSD was mean ± std.dev.: \\t\\t{ts_mean} \\t± {ts_std} Å.\")\n",
    "ps_mean = round(np.mean(ps_rmsdsx), 6)\n",
    "ps_std = round(np.std(ps_rmsdsx), 6)\n",
    "print(f\"Product state reconstruction RMSD was mean ± std.dev.: \\t\\t{ps_mean} \\t± {ps_std} Å.\")"
   ]
  },
  {
   "cell_type": "markdown",
   "id": "9f0fee27-532a-4dec-bc51-0fc0f1837bc3",
   "metadata": {},
   "source": [
    "# Improve the visualization of multiple states together:"
   ]
  },
  {
   "cell_type": "code",
   "execution_count": 19,
   "id": "fd71c4ad-e23e-4829-a0c9-fc6897ddb865",
   "metadata": {},
   "outputs": [],
   "source": [
    "from glob import glob\n",
    "import plotly.express as px\n",
    "\n",
    "from oa_reactdiff.analyze.rmsd import xyz2pmg, pymatgen_rmsd\n",
    "\n",
    "from pymatgen.core import Molecule\n",
    "from collections import OrderedDict\n",
    "\n",
    "\n",
    "def draw_reaction(react_path: str, idx: int = 0, prefix: str = \"gen\") -> py3Dmol.view:\n",
    "    \"\"\"Draw the {reactants, transition states, products} of the reaction.\n",
    "\n",
    "    Args:\n",
    "        react_path (str): path to the reaction.\n",
    "        idx (int, optional): index for the generated reaction. Defaults to 0.\n",
    "        prefix (str, optional): prefix for distinguishing true sample and generated structure.\n",
    "            Defaults to \"gen\".\n",
    "\n",
    "    Returns:\n",
    "        py3Dmol.view: _description_\n",
    "    \"\"\"\n",
    "    with open(f\"{react_path}/{prefix}_{idx}_react.xyz\", \"r\") as fo:\n",
    "        natoms = int(fo.readline()) * 3\n",
    "    mol = f\"{natoms}\\n\\n\"\n",
    "    for ii, t in enumerate([\"react\", \"ts\", \"prod\"]):\n",
    "        pmatg_mol = xyz2pmg(f\"{react_path}/{prefix}_{idx}_{t}.xyz\")\n",
    "        pmatg_mol_prime = Molecule(\n",
    "            species=pmatg_mol.atomic_numbers,\n",
    "            coords=pmatg_mol.cart_coords + 8 * ii,\n",
    "        )\n",
    "        mol += \"\\n\".join(pmatg_mol_prime.to(fmt=\"xyz\").split(\"\\n\")[2:]) + \"\\n\"\n",
    "    viewer = py3Dmol.view(1024, 576)\n",
    "    viewer.addModel(mol, \"xyz\")\n",
    "    viewer.setStyle({'stick': {}, \"sphere\": {\"radius\": 0.3}})\n",
    "    viewer.zoomTo()\n",
    "    return viewer\n",
    "\n",
    "def draw_reaction_mod(react_path: str, idx: int = 0, prefix: str = \"gen\") -> py3Dmol.view:\n",
    "    \"\"\"Draw the {reactants, transition states, products} of the reaction.\n",
    "\n",
    "    Args:\n",
    "        react_path (str): path to the reaction.\n",
    "        idx (int, optional): index for the generated reaction. Defaults to 0.\n",
    "        prefix (str, optional): prefix for distinguishing true sample and generated structure.\n",
    "            Defaults to \"gen\".\n",
    "\n",
    "    Returns:\n",
    "        py3Dmol.view: _description_\n",
    "    \"\"\"\n",
    "    with open(f\"{react_path}/{prefix}_{idx}_react.xyz\", \"r\") as fo:\n",
    "        natoms = int(fo.readline()) * 3\n",
    "    mol = f\"{natoms}\\n\\n\"\n",
    "    for ii, t in enumerate([\"react\", \"ts\", \"prod\"]):\n",
    "        pmatg_mol = xyz2pmg(f\"{react_path}/{prefix}_{idx}_{t}.xyz\")\n",
    "        pmatg_mol_prime = Molecule(\n",
    "            species=pmatg_mol.atomic_numbers,\n",
    "            coords=pmatg_mol.cart_coords + 8 * ii,\n",
    "        )\n",
    "        mol += \"\\n\".join(pmatg_mol_prime.to(fmt=\"xyz\").split(\"\\n\")[2:]) + \"\\n\"\n",
    "    viewer = py3Dmol.view(1024, 576)\n",
    "    viewer.addModel(mol, \"xyz\")\n",
    "    viewer.setStyle({'stick': {}, \"sphere\": {\"radius\": 0.3}})\n",
    "    viewer.zoomTo()\n",
    "    return viewer"
   ]
  },
  {
   "cell_type": "code",
   "execution_count": 21,
   "id": "5c9e4d75-af7e-47e7-9ac7-f1a776186a6f",
   "metadata": {},
   "outputs": [
    {
     "data": {
      "text/plain": [
       "'19\\nTrue/calculated reference transition state.\\nC\\t1.0337306\\t-1.2022932\\t-1.2106149\\nC\\t-0.38546628\\t-0.66329134\\t-1.0804629\\nC\\t-1.1488522\\t-0.7932403\\t0.21562387\\nC\\t-0.79307747\\t-0.21712416\\t1.4323623\\nC\\t0.42886135\\t0.57680243\\t1.5876906\\nC\\t0.29236686\\t1.6744617\\t-0.4098736\\nC\\t-0.60238266\\t0.8148652\\t-1.0047852\\nH\\t1.031492\\t-2.293493\\t-1.1177677\\nH\\t1.4485413\\t-0.9401047\\t-2.190542\\nH\\t1.7149061\\t-0.81102854\\t-0.45051065\\nH\\t-0.994589\\t-1.1071033\\t-1.8740281\\nH\\t-2.1521523\\t-1.2065308\\t0.1466279\\nH\\t-1.5953531\\t0.007382358\\t2.134896\\nH\\t0.090429194\\t-0.6706312\\t2.2016292\\nH\\t0.4975539\\t1.259573\\t2.4311655\\nH\\t1.3690892\\t0.19764867\\t1.2128975\\nH\\t1.3610688\\t1.5040045\\t-0.50576895\\nH\\t0.0047180653\\t2.7122762\\t-0.25444165\\nH\\t-1.6008847\\t1.1578263\\t-1.2640975'"
      ]
     },
     "execution_count": 21,
     "metadata": {},
     "output_type": "execute_result"
    }
   ],
   "source": [
    "\n",
    "ts_ref_xyz = xyz_block_from_node_features(xh_fixed[1], comment=f\"True/calculated reference transition state.\")\n",
    "ts_ref_xyz"
   ]
  },
  {
   "cell_type": "code",
   "execution_count": null,
   "id": "09588245-501c-4794-85dc-9f3b2ced6b2f",
   "metadata": {},
   "outputs": [],
   "source": []
  },
  {
   "cell_type": "code",
   "execution_count": null,
   "id": "6b9f0c0c-51d3-4ca2-89a2-acd2197e9f7e",
   "metadata": {},
   "outputs": [],
   "source": []
  }
 ],
 "metadata": {
  "kernelspec": {
   "display_name": "Python 3 (ipykernel)",
   "language": "python",
   "name": "python3"
  },
  "language_info": {
   "codemirror_mode": {
    "name": "ipython",
    "version": 3
   },
   "file_extension": ".py",
   "mimetype": "text/x-python",
   "name": "python",
   "nbconvert_exporter": "python",
   "pygments_lexer": "ipython3",
   "version": "3.10.4"
  }
 },
 "nbformat": 4,
 "nbformat_minor": 5
}
