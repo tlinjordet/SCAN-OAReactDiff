{
 "cells": [
  {
   "cell_type": "markdown",
   "id": "77fb1e04-0409-4927-8412-06656d122d74",
   "metadata": {},
   "source": [
    "# Apply this code to sample TS from model."
   ]
  },
  {
   "cell_type": "code",
   "execution_count": 1,
   "id": "2978af14-b260-4c22-a445-7efb280c3f7f",
   "metadata": {},
   "outputs": [
    {
     "name": "stdout",
     "output_type": "stream",
     "text": [
      "\n"
     ]
    }
   ],
   "source": [
    "!export CUDA_VISIBLE_DEVICES=0\n",
    "!echo $CUDA_VISIBLE_DEVICES"
   ]
  },
  {
   "cell_type": "code",
   "execution_count": 2,
   "id": "__bohr_old_version_cellId_3__",
   "metadata": {
    "ExecuteTime": {
     "end_time": "2023-10-02T19:44:52.843133900Z",
     "start_time": "2023-10-02T19:44:49.803291700Z"
    }
   },
   "outputs": [],
   "source": [
    "# --- Importing and defining some functions ----\n",
    "import os\n",
    "import torch\n",
    "import py3Dmol\n",
    "import numpy as np\n",
    "\n",
    "from typing import Optional\n",
    "from torch import tensor\n",
    "from e3nn import o3\n",
    "from torch_scatter import scatter_mean\n",
    "\n",
    "from oa_reactdiff.model import LEFTNet\n",
    "\n",
    "default_float = torch.float64\n",
    "torch.set_default_dtype(default_float)  # Use double precision for more accurate testing\n",
    "\n",
    "\n",
    "def remove_mean_batch(\n",
    "    x: tensor, \n",
    "    indices: Optional[tensor] = None\n",
    ") -> tensor:\n",
    "    \"\"\"Remove the mean from each batch in x\n",
    "\n",
    "    Args:\n",
    "        x (tensor): input tensor.\n",
    "        indices (Optional[tensor], optional): batch indices. Defaults to None.\n",
    "\n",
    "    Returns:\n",
    "        tensor: output tensor with batch mean as 0.\n",
    "    \"\"\"\n",
    "    if indices == None:\n",
    "         return x - torch.mean(x, dim=0)\n",
    "    mean = scatter_mean(x, indices, dim=0)\n",
    "    x = x - mean[indices]\n",
    "    return x\n",
    "\n",
    "\n",
    "def draw_in_3dmol(mol: str, fmt: str = \"xyz\") -> py3Dmol.view:\n",
    "    \"\"\"Draw the molecule\n",
    "\n",
    "    Args:\n",
    "        mol (str): str content of molecule.\n",
    "        fmt (str, optional): format. Defaults to \"xyz\".\n",
    "\n",
    "    Returns:\n",
    "        py3Dmol.view: output viewer\n",
    "    \"\"\"\n",
    "    viewer = py3Dmol.view(1024, 576)\n",
    "    viewer.addModel(mol, fmt)\n",
    "    viewer.setStyle({'stick': {}, \"sphere\": {\"radius\": 0.36}})\n",
    "    viewer.zoomTo()\n",
    "    return viewer\n",
    "\n",
    "\n",
    "def assemble_xyz(z: list, pos: tensor) -> str:\n",
    "    \"\"\"Assembling atomic numbers and positions into xyz format\n",
    "\n",
    "    Args:\n",
    "        z (list): chemical elements\n",
    "        pos (tensor): 3D coordinates\n",
    "\n",
    "    Returns:\n",
    "        str: xyz string\n",
    "    \"\"\"\n",
    "    natoms =len(z)\n",
    "    xyz = f\"{natoms}\\n\\n\"\n",
    "    for _z, _pos in zip(z, pos.numpy()):\n",
    "        xyz += f\"{_z}\\t\" + \"\\t\".join([str(x) for x in _pos]) + \"\\n\"\n",
    "    return xyz"
   ]
  },
  {
   "cell_type": "markdown",
   "id": "__bohr_old_version_cellId_4__",
   "metadata": {},
   "source": [
    "### Building a LEFTNet model\n",
    "\n",
    "A simple test is performed to verify SE(3) symmetry. The model here is for testing, so we only need to build a very small model.\n",
    "\n",
    "Note: [LEFTNet](https://arxiv.org/abs/2304.04757) is a new SOTA-level SE(3) graph neural network. Although we use LEFTNet here, the properties it exhibits are model-independent (other SE(3) models, such as [EGNN](https://arxiv.org/pdf/2102.09844.pdf), will give the same results)\n",
    "\n",
    "TL: EGNN is not SE$(3)$  equivariant?"
   ]
  },
  {
   "cell_type": "code",
   "execution_count": 3,
   "id": "__bohr_old_version_cellId_5__",
   "metadata": {
    "ExecuteTime": {
     "end_time": "2023-10-02T20:08:08.703724800Z",
     "start_time": "2023-10-02T20:08:08.653181600Z"
    }
   },
   "outputs": [
    {
     "name": "stderr",
     "output_type": "stream",
     "text": [
      "/misc/home/guest50/micromamba/envs/oa_reactdiff_m/lib/python3.10/site-packages/torch_geometric/nn/conv/message_passing.py:972: UserWarning: 'EquiMessage.jittable' is deprecated and a no-op. Please remove its usage.\n",
      "  warnings.warn(f\"'{self.__class__.__name__}.jittable' is deprecated \"\n"
     ]
    },
    {
     "data": {
      "text/plain": [
       "7882"
      ]
     },
     "execution_count": 3,
     "metadata": {},
     "output_type": "execute_result"
    }
   ],
   "source": [
    "num_layers = 2\n",
    "hidden_channels = 8\n",
    "in_hidden_channels = 4\n",
    "num_radial = 4\n",
    "\n",
    "model =  LEFTNet(\n",
    "    num_layers=num_layers,\n",
    "    hidden_channels=hidden_channels,\n",
    "    in_hidden_channels=in_hidden_channels,\n",
    "    num_radial=num_radial,\n",
    "    object_aware=False,\n",
    ")\n",
    "\n",
    "sum(p.numel() for p in model.parameters() if p.requires_grad)"
   ]
  },
  {
   "cell_type": "raw",
   "id": "ed71048b-49d6-4591-b70c-547e351ff6ad",
   "metadata": {
    "ExecuteTime": {
     "end_time": "2023-10-02T20:08:28.715004500Z",
     "start_time": "2023-10-02T20:08:28.630190700Z"
    }
   },
   "source": [
    "xyz = assemble_xyz(z, pos)\n",
    "view = draw_in_3dmol(xyz, \"xyz\")\n",
    "view  # Display Molecules"
   ]
  },
  {
   "cell_type": "markdown",
   "id": "__bohr_old_version_cellId_34__",
   "metadata": {},
   "source": [
    "\n",
    "\n",
    "### Create an \"Object-Aware\" LEFTNet"
   ]
  },
  {
   "cell_type": "raw",
   "id": "5898122e-1a04-40bf-a934-dd837271ee89",
   "metadata": {
    "ExecuteTime": {
     "end_time": "2023-10-02T20:31:35.925564Z",
     "start_time": "2023-10-02T20:31:35.902036100Z"
    }
   },
   "source": [
    "model_oa =  LEFTNet(\n",
    "    num_layers=num_layers,\n",
    "    hidden_channels=hidden_channels,\n",
    "    in_hidden_channels=in_hidden_channels,\n",
    "    num_radial=num_radial,\n",
    "    object_aware=True,  # Using the object-aware model\n",
    ")"
   ]
  },
  {
   "cell_type": "code",
   "execution_count": 4,
   "id": "__bohr_old_version_cellId_46__",
   "metadata": {
    "ExecuteTime": {
     "end_time": "2023-10-02T20:31:55.072136100Z",
     "start_time": "2023-10-02T20:31:55.024148400Z"
    }
   },
   "outputs": [],
   "source": [
    "# --- Importing necessary function ---\n",
    "from torch.utils.data import DataLoader\n",
    "\n",
    "from oa_reactdiff.trainer.pl_trainer import DDPMModule\n",
    "\n",
    "\n",
    "from oa_reactdiff.dataset import ProcessedTS1x, ProcessedSCAN\n",
    "from oa_reactdiff.diffusion._schedule import DiffSchedule, PredefinedNoiseSchedule\n",
    "\n",
    "from oa_reactdiff.diffusion._normalizer import FEATURE_MAPPING\n",
    "from oa_reactdiff.analyze.rmsd import batch_rmsd\n",
    "\n",
    "from oa_reactdiff.utils.sampling_tools import assemble_sample_inputs, write_tmp_xyz"
   ]
  },
  {
   "cell_type": "code",
   "execution_count": 5,
   "id": "96b9d00f-f0fc-42f3-8ebb-255af0c0e491",
   "metadata": {},
   "outputs": [
    {
     "name": "stdout",
     "output_type": "stream",
     "text": [
      "/misc/home/guest50/OAReactDiff\n"
     ]
    }
   ],
   "source": [
    "!pwd"
   ]
  },
  {
   "cell_type": "markdown",
   "id": "__bohr_old_version_cellId_47__",
   "metadata": {},
   "source": [
    "\n",
    "### Import the pre-trained model and redefine the schedule."
   ]
  },
  {
   "cell_type": "code",
   "execution_count": 6,
   "id": "__bohr_old_version_cellId_48__",
   "metadata": {
    "ExecuteTime": {
     "end_time": "2023-10-02T20:31:55.921080700Z",
     "start_time": "2023-10-02T20:31:55.869082Z"
    }
   },
   "outputs": [
    {
     "name": "stdout",
     "output_type": "stream",
     "text": [
      "cuda\n",
      "None\n",
      "cuda\n",
      "/misc/home/guest50/OAReactDiff/oa_reactdiff/trainer\n"
     ]
    },
    {
     "name": "stderr",
     "output_type": "stream",
     "text": [
      "/misc/home/guest50/micromamba/envs/oa_reactdiff_m/lib/python3.10/site-packages/torch_geometric/nn/conv/message_passing.py:972: UserWarning: 'EquiMessage.jittable' is deprecated and a no-op. Please remove its usage.\n",
      "  warnings.warn(f\"'{self.__class__.__name__}.jittable' is deprecated \"\n"
     ]
    }
   ],
   "source": [
    "# TL fix: {\n",
    "from oa_reactdiff.trainer.pl_trainer import DDPMModule\n",
    "# } fix. Why didn' this carry over from the previous cell import statement?\n",
    "\n",
    "device = torch.device(\"cpu\") if not torch.cuda.is_available() else torch.device(\"cuda\")\n",
    "print(device) # TL\n",
    "print(device.index)\n",
    "print(device.type)\n",
    "\n",
    "\n",
    "tspath = os.path.abspath(os.path.join(os.getcwd(), \"oa_reactdiff\",\"trainer\"))\n",
    "print(tspath)\n",
    "# zenodo_pretrained_ckpt\n",
    "ddpm_trainer = DDPMModule.load_from_checkpoint(\n",
    "    checkpoint_path=\"./oa_reactdiff/trainer/checkpoint/OAReactDiff-SCAN/leftnet-SCAN-6-w_selfoops-lr2.5e-4-rcmconly_passerini-03516f3022c5/ddpm-epoch=1899-val-totloss=736.23.ckpt\",    \n",
    "    #checkpoint_path=\"./oa_reactdiff/trainer/checkpoint/OAReactDiff-SCAN/leftnet-SCAN-6-w_selfoops-lr2.5e-4-rcmconly_passerini-03516f3022c5/ddpm-epoch=1799-val-totloss=787.66.ckpt\", --\n",
    "    #\n",
    "    #checkpoint_path=\"./pretrained-ts1x-diff.ckpt\", # original\n",
    "    #checkpoint_path=f\"{tspath}/checkpoint/OAReactDiff/leftnet-0-f1ff7dc18fa3/ddpm-epoch=1999-val-totloss=509.31.ckpt\", # Our recapitulation\n",
    "    map_location=device,\n",
    ")\n",
    "ddpm_trainer = ddpm_trainer.to(device)"
   ]
  },
  {
   "cell_type": "raw",
   "id": "0bc9580c-aca8-4a80-85ea-573c67647838",
   "metadata": {},
   "source": [
    "loaded_from_scratch_ckpt = torch.load(\"./trained_models/pretrained-ts1x-diff-from-scratch.ckpt\")\n",
    "loaded_from_scratch_ckpt"
   ]
  },
  {
   "cell_type": "raw",
   "id": "a92fc9c4-5c7b-401b-afd7-5e5b06d6689f",
   "metadata": {},
   "source": [
    "loaded_zenodo_ckpt = torch.load(\"./trained_models/pretrained-ts1x-diff-zenodo.ckpt\")\n",
    "loaded_zenodo_ckpt"
   ]
  },
  {
   "cell_type": "code",
   "execution_count": 7,
   "id": "__bohr_old_version_cellId_50__",
   "metadata": {
    "ExecuteTime": {
     "end_time": "2023-10-02T20:31:56.986652100Z",
     "start_time": "2023-10-02T20:31:56.909147700Z"
    }
   },
   "outputs": [],
   "source": [
    "noise_schedule: str = \"polynomial_2\"\n",
    "timesteps: int = 150\n",
    "precision: float = 1e-5\n",
    "\n",
    "gamma_module = PredefinedNoiseSchedule(\n",
    "            noise_schedule=noise_schedule,\n",
    "            timesteps=timesteps,\n",
    "            precision=precision,\n",
    "        )\n",
    "schedule = DiffSchedule(\n",
    "    gamma_module=gamma_module,\n",
    "    norm_values=ddpm_trainer.ddpm.norm_values\n",
    ")\n",
    "ddpm_trainer.ddpm.schedule = schedule\n",
    "ddpm_trainer.ddpm.T = timesteps\n",
    "ddpm_trainer = ddpm_trainer.to(device)"
   ]
  },
  {
   "cell_type": "code",
   "execution_count": 8,
   "id": "0090ae42-4572-49b6-b2ec-b6b90d2d66a8",
   "metadata": {},
   "outputs": [],
   "source": [
    "def prep_ddpm_trainer(ckpt_path: str, device=device):\n",
    "    ddpm_trainer = DDPMModule.load_from_checkpoint(\n",
    "        checkpoint_path=ckpt_path,\n",
    "        map_location=device,\n",
    "    )\n",
    "    ddpm_trainer = ddpm_trainer.to(device)\n",
    "\n",
    "    noise_schedule: str = \"polynomial_2\"\n",
    "    timesteps: int = 150\n",
    "    precision: float = 1e-5\n",
    "    \n",
    "    gamma_module = PredefinedNoiseSchedule(\n",
    "                noise_schedule=noise_schedule,\n",
    "                timesteps=timesteps,\n",
    "                precision=precision,\n",
    "            )\n",
    "    schedule = DiffSchedule(\n",
    "        gamma_module=gamma_module,\n",
    "        norm_values=ddpm_trainer.ddpm.norm_values\n",
    "    )\n",
    "    ddpm_trainer.ddpm.schedule = schedule\n",
    "    ddpm_trainer.ddpm.T = timesteps\n",
    "    ddpm_trainer = ddpm_trainer.to(device)\n",
    "    return ddpm_trainer"
   ]
  },
  {
   "cell_type": "raw",
   "id": "9676424b-4434-4dc8-888b-a69a4e7501b6",
   "metadata": {},
   "source": [
    "ddpm_trainer = prep_ddpm_trainer(ckpt_path, device=device)"
   ]
  },
  {
   "cell_type": "markdown",
   "id": "__bohr_old_version_cellId_51__",
   "metadata": {},
   "source": [
    "\n",
    "### Prepare dataset and data loader and select a reaction involving multiple molecules"
   ]
  },
  {
   "cell_type": "code",
   "execution_count": 9,
   "id": "df24046a-94b7-4f50-92a7-512bfe4bef9a",
   "metadata": {},
   "outputs": [],
   "source": [
    "import pickle\n",
    "\n",
    "npz_path = \"./oa_reactdiff/data/SCAN-6/train.pkl\" # w  self-loops after Angstrom correction\n",
    "\n",
    "train_pkl = pickle.load(open(npz_path, \"rb\"))"
   ]
  },
  {
   "cell_type": "code",
   "execution_count": 10,
   "id": "34d048ec-e245-46b7-8803-58de5d677791",
   "metadata": {},
   "outputs": [],
   "source": [
    "valid_pkl = pickle.load(open(\"./oa_reactdiff/data/SCAN-6/valid_addprop.pkl\", \"rb\"))"
   ]
  },
  {
   "cell_type": "code",
   "execution_count": 11,
   "id": "4dd6c917-8227-439d-8cfe-43185f391bf3",
   "metadata": {},
   "outputs": [
    {
     "data": {
      "text/plain": [
       "[0, 1, 2, 3, 4, 5, 6, 7, 8, 9]"
      ]
     },
     "execution_count": 11,
     "metadata": {},
     "output_type": "execute_result"
    }
   ],
   "source": [
    "train_pkl[\"use_ind\"][:10]"
   ]
  },
  {
   "cell_type": "code",
   "execution_count": 12,
   "id": "0820d9d4-8e2a-4c71-a5bc-74b6f82b5c3c",
   "metadata": {},
   "outputs": [
    {
     "data": {
      "text/plain": [
       "[0, 1, 2, 3, 4, 5, 6, 7, 8, 9]"
      ]
     },
     "execution_count": 12,
     "metadata": {},
     "output_type": "execute_result"
    }
   ],
   "source": [
    "valid_pkl[\"use_ind\"][:10]"
   ]
  },
  {
   "cell_type": "code",
   "execution_count": 13,
   "id": "ce74ea9b-94ef-4cde-a6a4-c16eaf5a65fa",
   "metadata": {},
   "outputs": [],
   "source": [
    "# 01/7/2025:\n",
    "# Something doesn't make sense\n",
    "# 957  cp /scr/trond/SCAN/SCAN_train_wo_selfloops-rcmconly_passerini_fix.pkl train_addprop.pkl\n",
    "# 958  cp train_addprop.pkl train.pkl \n",
    "# 959  cp /scr/trond/SCAN/SCAN-6_valid_wo_selfloops-rcmconly_passerini_fix.pkl valid_addprop.pkl\n",
    "\n",
    "train_pkl2 = pickle.load(open(\"/scr/trond/SCAN/SCAN_train_w_selfloops-rcmconly_passerini_fix.pkl\", \"rb\"))\n",
    "valid_pkl2 = pickle.load(open(\"/scr/trond/SCAN/SCAN-6_valid_w_selfloops-rcmconly_passerini_fix.pkl\", \"rb\"))"
   ]
  },
  {
   "cell_type": "code",
   "execution_count": 14,
   "id": "5d3f7a2d-db37-4952-b93f-960fc60bf8d6",
   "metadata": {},
   "outputs": [],
   "source": [
    "#assert sorted(list(set(train_pkl2[\"use_ind\"] + valid_pkl2[\"use_ind\"]))) == list(range(len(train_pkl2[\"transition_state\"][\"rxn\"])))"
   ]
  },
  {
   "cell_type": "code",
   "execution_count": 15,
   "id": "a404b6f6-47c6-4f4b-90ec-733585fd1686",
   "metadata": {},
   "outputs": [
    {
     "data": {
      "text/plain": [
       "True"
      ]
     },
     "execution_count": 15,
     "metadata": {},
     "output_type": "execute_result"
    }
   ],
   "source": [
    "train_pkl2[\"use_ind\"] == valid_pkl2[\"use_ind\"]"
   ]
  },
  {
   "cell_type": "code",
   "execution_count": 16,
   "id": "22649884-6690-47df-b790-c6e2d8d880c0",
   "metadata": {},
   "outputs": [
    {
     "data": {
      "text/plain": [
       "'ALD1-TS177'"
      ]
     },
     "execution_count": 16,
     "metadata": {},
     "output_type": "execute_result"
    }
   ],
   "source": [
    "train_pkl[\"reactant\"][\"rxn\"][177]"
   ]
  },
  {
   "cell_type": "code",
   "execution_count": 17,
   "id": "224f8233-6524-49d2-bfff-bccf895fac49",
   "metadata": {},
   "outputs": [
    {
     "data": {
      "text/plain": [
       "17"
      ]
     },
     "execution_count": 17,
     "metadata": {},
     "output_type": "execute_result"
    }
   ],
   "source": [
    "train_pkl[\"reactant\"]['num_atoms'][177]"
   ]
  },
  {
   "cell_type": "code",
   "execution_count": 18,
   "id": "b6c3c228-9297-497c-b8a2-4726fb007115",
   "metadata": {},
   "outputs": [],
   "source": [
    "selected_passerini_rcmconly_pts = [13605, 17605, 1206, 7394, 15965, 5435, 17328]\n",
    "selected_strecker_rcmconly_pts = [3978, 5528, 7950]\n",
    "selected_wl2_pts = [6029, 784, 11193]"
   ]
  },
  {
   "cell_type": "code",
   "execution_count": 19,
   "id": "12d8dee8-88a5-4bcf-b02c-4f83ddc1ab84",
   "metadata": {},
   "outputs": [],
   "source": [
    "from parse import parse\n",
    "from pprint import pprint"
   ]
  },
  {
   "cell_type": "code",
   "execution_count": 20,
   "id": "91d5e2a4-c307-4f24-99e1-543cd62bca4c",
   "metadata": {},
   "outputs": [
    {
     "data": {
      "text/plain": [
       "{784,\n",
       " 1206,\n",
       " 3978,\n",
       " 5435,\n",
       " 5528,\n",
       " 6029,\n",
       " 7394,\n",
       " 7950,\n",
       " 11193,\n",
       " 13605,\n",
       " 15965,\n",
       " 17328,\n",
       " 17605}"
      ]
     },
     "execution_count": 20,
     "metadata": {},
     "output_type": "execute_result"
    }
   ],
   "source": [
    "set(selected_passerini_rcmconly_pts+selected_strecker_rcmconly_pts+selected_wl2_pts)"
   ]
  },
  {
   "cell_type": "code",
   "execution_count": 21,
   "id": "051f841d-b1f0-4caf-b9e5-4a3c0b9a787f",
   "metadata": {},
   "outputs": [
    {
     "name": "stdout",
     "output_type": "stream",
     "text": [
      "WL1-TS784\n",
      "55285\n",
      "True\n",
      "\n",
      "WL1-TS1206\n",
      "55707\n",
      "True\n",
      "\n",
      "WL1-TS3978\n",
      "58479\n",
      "True\n",
      "\n",
      "WL1-TS5435\n",
      "59936\n",
      "True\n",
      "\n",
      "WL1-TS5528\n",
      "60029\n",
      "True\n",
      "\n",
      "WL1-TS6029\n",
      "60530\n",
      "False\n",
      "\n",
      "WL1-TS7394\n",
      "61895\n",
      "True\n",
      "\n",
      "WL1-TS7950\n",
      "62451\n",
      "True\n",
      "\n",
      "WL1-TS11193\n",
      "65694\n",
      "True\n",
      "\n",
      "rcmconly_passerini-TS784\n",
      "73180\n",
      "True\n",
      "\n",
      "rcmconly_passerini-TS1206\n",
      "73602\n",
      "True\n",
      "\n",
      "rcmconly_passerini-TS3978\n",
      "76374\n",
      "True\n",
      "\n",
      "rcmconly_passerini-TS5435\n",
      "77831\n",
      "True\n",
      "\n",
      "rcmconly_passerini-TS5528\n",
      "77924\n",
      "True\n",
      "\n",
      "rcmconly_passerini-TS6029\n",
      "78425\n",
      "False\n",
      "\n",
      "rcmconly_passerini-TS7394\n",
      "79790\n",
      "True\n",
      "\n",
      "rcmconly_passerini-TS7950\n",
      "80346\n",
      "True\n",
      "\n",
      "rcmconly_passerini-TS11193\n",
      "83589\n",
      "True\n",
      "\n",
      "rcmconly_passerini-TS13605\n",
      "86001\n",
      "True\n",
      "\n",
      "rcmconly_passerini-TS15965\n",
      "88361\n",
      "True\n",
      "\n",
      "rcmconly_passerini-TS17328\n",
      "89724\n",
      "True\n",
      "\n",
      "rcmconly_passerini-TS17605\n",
      "90001\n",
      "True\n",
      "\n",
      "rcmconly_strecker-TS784\n",
      "91382\n",
      "True\n",
      "\n",
      "rcmconly_strecker-TS1206\n",
      "91804\n",
      "True\n",
      "\n",
      "rcmconly_strecker-TS3978\n",
      "94576\n",
      "True\n",
      "\n",
      "rcmconly_strecker-TS5435\n",
      "96033\n",
      "True\n",
      "\n",
      "rcmconly_strecker-TS5528\n",
      "96126\n",
      "True\n",
      "\n",
      "rcmconly_strecker-TS6029\n",
      "96627\n",
      "True\n",
      "\n",
      "rcmconly_strecker-TS7394\n",
      "97992\n",
      "True\n",
      "\n",
      "rcmconly_strecker-TS7950\n",
      "98548\n",
      "True\n",
      "\n",
      "rcmconly_strecker-TS11193\n",
      "101791\n",
      "True\n",
      "\n",
      "rcmconly_strecker-TS13605\n",
      "104203\n",
      "True\n",
      "\n",
      "rcmconly_strecker-TS15965\n",
      "106563\n",
      "True\n",
      "\n",
      "rcmconly_strecker-TS17328\n",
      "107926\n",
      "True\n",
      "\n",
      "rcmconly_strecker-TS17605\n",
      "108203\n",
      "True\n",
      "\n"
     ]
    }
   ],
   "source": [
    "prefixes = {'ALD1',\n",
    " 'EN1',\n",
    " 'HDF1',\n",
    " 'WL1',\n",
    " 'f260_DFG1',\n",
    " 'rcmconly_passerini',\n",
    " 'rcmconly_strecker'}\n",
    "\n",
    "select_prefixes = {'WL1', 'rcmconly_passerini', 'rcmconly_strecker'}\n",
    "rxn_pattern = \"{prefix}-TS{id_num}\"\n",
    "\n",
    "for i, rxn in enumerate(train_pkl[\"transition_state\"][\"rxn\"]):\n",
    "    parsed = parse(rxn_pattern, rxn)\n",
    "    prefix = parsed[\"prefix\"]\n",
    "    id_num = parsed[\"id_num\"]\n",
    "    #prefixes.add(prefix)\n",
    "    if prefix not in select_prefixes: \n",
    "        continue\n",
    "    if int(id_num) in set(selected_passerini_rcmconly_pts+selected_strecker_rcmconly_pts+selected_wl2_pts):\n",
    "        print(rxn)\n",
    "        print(i)\n",
    "        print(i in train_pkl[\"use_ind\"])\n",
    "        print(\"\")"
   ]
  },
  {
   "cell_type": "code",
   "execution_count": 22,
   "id": "e5f8dd39-bf4b-41c5-ada6-59188c875d32",
   "metadata": {},
   "outputs": [
    {
     "name": "stdout",
     "output_type": "stream",
     "text": [
      "['WL1-TS6029', 'WL1-TS784', 'WL1-TS11193', 'rcmconly_strecker-TS3978', 'rcmconly_strecker-TS5528', 'rcmconly_strecker-TS7950', 'rcmconly_passerini-TS13605', 'rcmconly_passerini-TS17605', 'rcmconly_passerini-TS1206', 'rcmconly_passerini-TS7394', 'rcmconly_passerini-TS15965', 'rcmconly_passerini-TS5435', 'rcmconly_passerini-TS17328']\n"
     ]
    }
   ],
   "source": [
    "select_rxns = []\n",
    "\n",
    "selection = {'WL1': selected_wl2_pts, 'rcmconly_strecker': selected_strecker_rcmconly_pts, 'rcmconly_passerini': selected_passerini_rcmconly_pts}\n",
    "\n",
    "for prefix, id_list in selection.items():\n",
    "    for id_num in id_list:\n",
    "        select_rxns.append(f\"{prefix}-TS{id_num}\")\n",
    "\n",
    "print(select_rxns)"
   ]
  },
  {
   "cell_type": "code",
   "execution_count": 23,
   "id": "a470acef-ac42-4e2a-a02f-6d4b1f8b97fd",
   "metadata": {},
   "outputs": [],
   "source": [
    "# assert sorted(list(set(train_pkl[\"use_ind\"] + valid_pkl[\"use_ind\"]))) == list(range(len(train_pkl[\"transition_state\"][\"rxn\"])))"
   ]
  },
  {
   "cell_type": "code",
   "execution_count": 24,
   "id": "7a238c8b-2f5f-46fd-95bc-9c4e24160d3e",
   "metadata": {},
   "outputs": [
    {
     "data": {
      "text/plain": [
       "108754"
      ]
     },
     "execution_count": 24,
     "metadata": {},
     "output_type": "execute_result"
    }
   ],
   "source": [
    "len(train_pkl[\"transition_state\"][\"rxn\"])"
   ]
  },
  {
   "cell_type": "code",
   "execution_count": 25,
   "id": "279fef20-4c44-4665-99e7-cecf3eec68ad",
   "metadata": {},
   "outputs": [
    {
     "data": {
      "text/plain": [
       "108754"
      ]
     },
     "execution_count": 25,
     "metadata": {},
     "output_type": "execute_result"
    }
   ],
   "source": [
    "len(valid_pkl[\"transition_state\"][\"rxn\"])"
   ]
  },
  {
   "cell_type": "code",
   "execution_count": 26,
   "id": "190de056-8b42-4f3b-be7a-37b05422901e",
   "metadata": {},
   "outputs": [
    {
     "data": {
      "text/plain": [
       "True"
      ]
     },
     "execution_count": 26,
     "metadata": {},
     "output_type": "execute_result"
    }
   ],
   "source": [
    "train_pkl[\"use_ind\"] == valid_pkl[\"use_ind\"]"
   ]
  },
  {
   "cell_type": "code",
   "execution_count": 27,
   "id": "7caae405-d593-457e-a2fa-99026277ebc3",
   "metadata": {},
   "outputs": [
    {
     "name": "stdout",
     "output_type": "stream",
     "text": [
      "WL1-TS784\n",
      "55285\n",
      "True\n",
      "\n",
      "WL1-TS6029\n",
      "60530\n",
      "False\n",
      "\n",
      "WL1-TS11193\n",
      "65694\n",
      "True\n",
      "\n",
      "rcmconly_passerini-TS1206\n",
      "73602\n",
      "True\n",
      "\n",
      "rcmconly_passerini-TS5435\n",
      "77831\n",
      "True\n",
      "\n",
      "rcmconly_passerini-TS7394\n",
      "79790\n",
      "True\n",
      "\n",
      "rcmconly_passerini-TS13605\n",
      "86001\n",
      "True\n",
      "\n",
      "rcmconly_passerini-TS15965\n",
      "88361\n",
      "True\n",
      "\n",
      "rcmconly_passerini-TS17328\n",
      "89724\n",
      "True\n",
      "\n",
      "rcmconly_passerini-TS17605\n",
      "90001\n",
      "True\n",
      "\n",
      "rcmconly_strecker-TS3978\n",
      "94576\n",
      "True\n",
      "\n",
      "rcmconly_strecker-TS5528\n",
      "96126\n",
      "True\n",
      "\n",
      "rcmconly_strecker-TS7950\n",
      "98548\n",
      "True\n",
      "\n"
     ]
    }
   ],
   "source": [
    "selected_train_indices = []\n",
    "selected_valid_indices = []\n",
    "selected_rxns_dict = {}\n",
    "for i, rxn in enumerate(train_pkl[\"transition_state\"][\"rxn\"]):\n",
    "    if rxn in select_rxns:\n",
    "        print(rxn)\n",
    "        print(i)\n",
    "        print(i in train_pkl[\"use_ind\"])\n",
    "        if i in train_pkl[\"use_ind\"]:\n",
    "            selected_train_indices.append(train_pkl[\"use_ind\"].index(i))\n",
    "        elif i in valid_pkl[\"use_ind\"]:\n",
    "            selected_valid_indices.append(valid_pkl[\"use_ind\"].index(i))\n",
    "        selected_rxns_dict[i] = rxn\n",
    "        print(\"\")"
   ]
  },
  {
   "cell_type": "code",
   "execution_count": null,
   "id": "d4dd0dc0-c801-451d-abe2-4b2f89a51798",
   "metadata": {},
   "outputs": [],
   "source": []
  },
  {
   "cell_type": "code",
   "execution_count": 28,
   "id": "__bohr_old_version_cellId_52__",
   "metadata": {
    "ExecuteTime": {
     "end_time": "2023-10-02T20:31:57.929560300Z",
     "start_time": "2023-10-02T20:31:57.861384500Z"
    }
   },
   "outputs": [
    {
     "data": {
      "text/plain": [
       "97878"
      ]
     },
     "execution_count": 28,
     "metadata": {},
     "output_type": "execute_result"
    }
   ],
   "source": [
    "dataset = ProcessedSCAN(\n",
    "    npz_path=npz_path,\n",
    "    center=True,\n",
    "    pad_fragments=0,\n",
    "    device=device,\n",
    "    zero_charge=False,\n",
    "    remove_h=False,\n",
    "    single_frag_only=False,\n",
    "    swapping_react_prod=False,\n",
    "    use_by_ind=True,\n",
    ")\n",
    "loader = DataLoader(\n",
    "    dataset, \n",
    "    batch_size=1,\n",
    "    shuffle=False,\n",
    "    num_workers=0,\n",
    "    collate_fn=dataset.collate_fn\n",
    ")\n",
    "itl = iter(loader)\n",
    "idx = -1 # TL: why?\n",
    "\n",
    "len(dataset)"
   ]
  },
  {
   "cell_type": "code",
   "execution_count": 29,
   "id": "653bcb6a-252f-4278-8182-79f9e89da318",
   "metadata": {},
   "outputs": [
    {
     "data": {
      "text/plain": [
       "[6854,\n",
       " 12271,\n",
       " 13864,\n",
       " 23946,\n",
       " 24032,\n",
       " 25222,\n",
       " 25256,\n",
       " 29889,\n",
       " 37106,\n",
       " 37380,\n",
       " 40165,\n",
       " 51364,\n",
       " 57459,\n",
       " 67770,\n",
       " 74604,\n",
       " 83451,\n",
       " 86121,\n",
       " 90515,\n",
       " 96706,\n",
       " 97623]"
      ]
     },
     "execution_count": 29,
     "metadata": {},
     "output_type": "execute_result"
    }
   ],
   "source": [
    "num_indices_to_select = 20\n",
    "SEED = 747\n",
    "np.random.default_rng(seed=SEED)\n",
    "np.random.seed(SEED)\n",
    "random_indices = np.random.choice(len(dataset), size=num_indices_to_select, replace=False)\n",
    "random_indices = sorted(random_indices)\n",
    "random_indices"
   ]
  },
  {
   "cell_type": "code",
   "execution_count": 30,
   "id": "e95cf915-a208-43ef-afd7-33ccdff632cb",
   "metadata": {},
   "outputs": [
    {
     "data": {
      "text/plain": [
       "[7656,\n",
       " 13675,\n",
       " 15472,\n",
       " 26686,\n",
       " 26778,\n",
       " 28110,\n",
       " 28149,\n",
       " 33283,\n",
       " 41300,\n",
       " 41604,\n",
       " 44688,\n",
       " 57086,\n",
       " 63812,\n",
       " 75301,\n",
       " 82867,\n",
       " 92683,\n",
       " 95662,\n",
       " 100586,\n",
       " 107463,\n",
       " 108480]"
      ]
     },
     "execution_count": 30,
     "metadata": {},
     "output_type": "execute_result"
    }
   ],
   "source": [
    "train_indices = [train_pkl[\"use_ind\"][x] for x in random_indices]\n",
    "train_indices"
   ]
  },
  {
   "cell_type": "raw",
   "id": "d84dc843-d6f6-47ea-b3dc-c622e84cac96",
   "metadata": {},
   "source": [
    "for _ in range(4):  # The 4th sample happens to be a multimolecular reaction\n",
    "    representations, res = next(itl)\n",
    "idx += 1\n",
    "n_samples = representations[0][\"size\"].size(0)\n",
    "if n_samples != 1: #\n",
    "    print(n_samples)#\n",
    "fragments_nodes = [\n",
    "    repre[\"size\"] for repre in representations\n",
    "]\n",
    "conditions = torch.tensor([[0] for _ in range(n_samples)], device=device)"
   ]
  },
  {
   "cell_type": "code",
   "execution_count": 31,
   "id": "d7d259d1-ec65-4a15-a66e-1ea625469ed7",
   "metadata": {},
   "outputs": [],
   "source": [
    "# TL visualize each state:\n",
    "atomic_num2sym = {\n",
    "    1: 'H',    2: 'He',   3: 'Li',   4: 'Be',   5: 'B',    6: 'C',    7: 'N',    8: 'O',    9: 'F',    10: 'Ne',\n",
    "    11: 'Na',  12: 'Mg',  13: 'Al',  14: 'Si',  15: 'P',   16: 'S',   17: 'Cl',  18: 'Ar',  19: 'K',   20: 'Ca',\n",
    "    21: 'Sc',  22: 'Ti',  23: 'V',   24: 'Cr',  25: 'Mn',  26: 'Fe',  27: 'Co',  28: 'Ni',  29: 'Cu',  30: 'Zn',\n",
    "    31: 'Ga',  32: 'Ge',  33: 'As',  34: 'Se',  35: 'Br',  36: 'Kr',  37: 'Rb',  38: 'Sr',  39: 'Y',   40: 'Zr',\n",
    "    41: 'Nb',  42: 'Mo',  43: 'Tc',  44: 'Ru',  45: 'Rh',  46: 'Pd',  47: 'Ag',  48: 'Cd',  49: 'In',  50: 'Sn',\n",
    "    51: 'Sb',  52: 'Te',  53: 'I',   54: 'Xe',  55: 'Cs',  56: 'Ba',  57: 'La',  58: 'Ce',  59: 'Pr',  60: 'Nd',\n",
    "    61: 'Pm',  62: 'Sm',  63: 'Eu',  64: 'Gd', 65: 'Tb',  66: 'Dy',  67: 'Ho',  68: 'Er',  69: 'Tm',  70: 'Yb',\n",
    "    71: 'Lu',  72: 'Hf',  73: 'Ta',  74: 'W',   75: 'Re',  76: 'Os',  77: 'Ir',  78: 'Pt',  79: 'Au',  80: 'Hg',\n",
    "    81: 'Tl',  82: 'Pb',  83: 'Bi',  84: 'Po',  85: 'At',  86: 'Rn',  87: 'Fr',  88: 'Ra',  89: 'Ac',  90: 'Th',\n",
    "    91: 'Pa',  92: 'U',   93: 'Np',  94: 'Pu',  95: 'Am',  96: 'Cm',  97: 'Bk',  98: 'Cf',  99: 'Es', 100: 'Fm',\n",
    "    101: 'Md', 102: 'No', 103: 'Lr', 104: 'Rf', 105: 'Db', 106: 'Sg', 107: 'Bh', 108: 'Hs', 109: 'Mt', 110: 'Ds',\n",
    "    111: 'Rg', 112: 'Cn', 113: 'Nh', 114: 'Fl', 115: 'Mc', 116: 'Lv', 117: 'Ts', 118: 'Og'\n",
    "}"
   ]
  },
  {
   "cell_type": "code",
   "execution_count": 32,
   "id": "3ae13543-bfea-4ae1-ae65-48dd8d239c03",
   "metadata": {},
   "outputs": [],
   "source": [
    "def xyz_block_from_node_features(xh: torch.tensor, comment: str=\"\", c2a: dict=atomic_num2sym) -> str:\n",
    "    num_atoms = xh.shape[0]\n",
    "    xyz_lines = [str(num_atoms), comment]\n",
    "    for row in xh:\n",
    "        position = row[:3].cpu().numpy()\n",
    "        z = c2a[row[-1].long().item()]\n",
    "        xyz_lines.append(f\"{z}\\t\" + \"\\t\".join([str(x) for x in position]))\n",
    "    return \"\\n\".join(xyz_lines)"
   ]
  },
  {
   "cell_type": "code",
   "execution_count": 33,
   "id": "8172719e-3681-429b-b2d8-d1f0924c15a6",
   "metadata": {},
   "outputs": [
    {
     "name": "stdout",
     "output_type": "stream",
     "text": [
      "mkdir: cannot create directory 'results/sample_selected_TS-20250703-SCAN-6_7-w_wo_selfloops-lr2_5_lr5_0e-4-ValFix3': File exists\n"
     ]
    }
   ],
   "source": [
    "#!mkdir my_results\n",
    "!mkdir results/sample_selected_TS-20250703-SCAN-6_7-w_wo_selfloops-lr2_5_lr5_0e-4-ValFix3"
   ]
  },
  {
   "cell_type": "code",
   "execution_count": 34,
   "id": "b80d9ba7-e799-4ffa-8484-5be3cf9de7ab",
   "metadata": {},
   "outputs": [
    {
     "name": "stdout",
     "output_type": "stream",
     "text": [
      "total 44K\n",
      "drwxr-xr-x  2 guest50 users 4.0K Jun 11 17:49 sample_20_TS-20250611-Tr1x-from_scratch_pretrained_ckpt\n",
      "drwxr-xr-x  2 guest50 users 4.0K Jun 11 18:05 sample_20_TS-20250611-Tr1x-zenodo_pretrained_ckpt\n",
      "drwxr-xr-x  2 guest50 users 4.0K Jun 11 18:57 sample_20_TS-20250611-SCAN-from_scratch_pretrained_ckpt\n",
      "drwxr-xr-x  2 guest50 users 4.0K Jun 17 18:13 sample_20_TS-20250616-SCAN-w_selfloops-from_scratch_pretrained_ckpt\n",
      "drwxr-xr-x  2 guest50 users 4.0K Jun 17 18:35 sample_20_TS-20250616-SCAN-wo_selfloops-from_scratch_pretrained_ckpt\n",
      "drwxr-xr-x  2 guest50 users 4.0K Jun 25 15:44 sample_20_TS-20250625-SCAN-4-w_selfloops-lr2_5e-4-from_scratch_pretrained_ckpt\n",
      "drwxr-xr-x  2 guest50 users   10 Jun 26 14:54 sample_selected_TS-20250626-SCAN-4-various_models-from_scratch_pretrained_ckpt\n",
      "drwxr-xr-x  2 guest50 users   10 Jul  1 14:22 sample_selected_TS-20250701-SCAN-6_7-ValFix2-various_models-from_scratch_pretrained_ckpt\n",
      "drwxr-xr-x  2 guest50 users 4.0K Jul  1 16:52 sample_selected_TS-20250701-SCAN-6-w_selfloops-lr2.5e-4-ValFix2\n",
      "drwxr-xr-x  2 guest50 users   10 Jul  3 12:48 sample_selected_TS-20250703-SCAN-7-w_wo_selfloops-lr2_5_lr5_0e-4-ValFix3\n",
      "drwxr-xr-x  2 guest50 users   10 Jul  3 12:51 sample_selected_TS-20250703-SCAN-8-w_wo_selfloops-lr2_5_lr5_0e-4-ValFix3\n",
      "drwxr-xr-x  2 guest50 users   10 Jul  3 13:39 sample_selected_TS-20250703-SCAN-6_7-w_wo_selfloops-lr2_5_lr5_0e-4-ValFix3\n",
      "drwxr-xr-x 14 guest50 users 4.0K Jul  3 13:39 .\n",
      "drwxr-xr-x 15 guest50 users 8.0K Jul  3  2025 ..\n"
     ]
    }
   ],
   "source": [
    "!ls -haltr results"
   ]
  },
  {
   "cell_type": "code",
   "execution_count": 35,
   "id": "6ecacd61-3e7e-4025-9430-b11ce63445a6",
   "metadata": {},
   "outputs": [],
   "source": [
    "output_dir = os.path.abspath(\"results/sample_selected_TS-20250703-SCAN-6_7-w_wo_selfloops-lr2_5_lr5_0e-4-ValFix3\")\n",
    "#output_dir = None"
   ]
  },
  {
   "cell_type": "raw",
   "id": "af416cab-88ad-4273-be82-a608de14940f",
   "metadata": {},
   "source": [
    "ddpm_trainer = prep_ddpm_trainer(ckpt_path, device=device)"
   ]
  },
  {
   "cell_type": "code",
   "execution_count": 36,
   "id": "f9e2681e-c1f5-4887-b46d-8eb916c9ec95",
   "metadata": {},
   "outputs": [
    {
     "name": "stdout",
     "output_type": "stream",
     "text": [
      "total 80K\n",
      "drwxr-xr-x  4 guest50 users   61 Jun  4 21:37 ..\n",
      "drwxr-xr-x  2 guest50 users   32 Jun  4 21:37 leftnet-SCAN-0-1b5f166db70f\n",
      "drwxr-xr-x  2 guest50 users   32 Jun  4 21:41 leftnet-SCAN-0-f07862fcb99f\n",
      "drwxr-xr-x  2 guest50 users   32 Jun  4 23:12 leftnet-SCAN-0-f851475eba02\n",
      "drwxr-xr-x  2 guest50 users   32 Jun  4 23:20 leftnet-SCAN-0-c045e295fe38\n",
      "drwxr-xr-x  2 guest50 users   32 Jun  4 23:27 leftnet-SCAN-0-f3fa37995f70\n",
      "drwxr-xr-x  2 guest50 users   32 Jun  4 23:48 leftnet-SCAN-0-174f699cc8c1\n",
      "drwxr-xr-x  2 guest50 users   32 Jun  4 23:51 leftnet-SCAN-0-2c3eab8f65b3\n",
      "drwxr-xr-x  2 guest50 users   32 Jun  5 00:10 leftnet-SCAN-0-51a26ab46b18\n",
      "drwxr-xr-x  2 guest50 users   32 Jun  5 14:49 leftnet-SCAN-0-0b401e663721\n",
      "drwxr-xr-x  2 guest50 users   32 Jun  7 16:07 leftnet-SCAN-0-37a0a175a522\n",
      "drwxr-xr-x  2 guest50 users   32 Jun  7 16:30 leftnet-SCAN-0-5579cb2cd21c\n",
      "drwxr-xr-x  2 guest50 users  287 Jun  7 16:42 leftnet-SCAN-0-e1b24c127367\n",
      "drwxr-xr-x  2 guest50 users 4.0K Jun  9 17:18 leftnet-SCAN-0-bba999d63383\n",
      "drwxr-xr-x  2 guest50 users   32 Jun 14 21:46 leftnet-SCAN-1_Angstrom_data-df3cd9c0a4f6\n",
      "drwxr-xr-x  2 guest50 users 4.0K Jun 16 21:42 leftnet-SCAN-2_Angstrom_wo_selfloops_data-e7b5d8952556\n",
      "drwxr-xr-x  2 guest50 users 4.0K Jun 16 22:45 leftnet-SCAN-1-w_selfoops-_Angstrom_data-c5eb72872057\n",
      "drwxr-xr-x  2 guest50 users 4.0K Jun 20 17:20 leftnet-SCAN-3-w_selfoops-lr5e-4-3e48e1271c2f\n",
      "drwxr-xr-x  2 guest50 users   32 Jun 22 17:41 leftnet-SCAN-4-w_selfoops-lr5e-4-rcmconly_passerini-10c659bd0683\n",
      "drwxr-xr-x  2 guest50 users   32 Jun 22 17:44 leftnet-SCAN-5-wo_selfoops-lr5e-4-rcmconly_passerini-4a54be217647\n",
      "drwxr-xr-x  2 guest50 users 4.0K Jun 24 17:08 leftnet-SCAN-4-w_selfoops-lr5e-4-rcmconly_passerini-0b9e259429b1\n",
      "drwxr-xr-x  2 guest50 users 4.0K Jun 24 20:49 leftnet-SCAN-5-wo_selfoops-lr5e-4-rcmconly_passerini-1b8569439275\n",
      "drwxr-xr-x  2 guest50 users 4.0K Jun 25 17:05 leftnet-SCAN-7-wo_selfoops-lr2.5e-4-rcmconly_passerini-18309e741f21\n",
      "drwxr-xr-x  2 guest50 users 4.0K Jun 25 19:41 leftnet-SCAN-6-w_selfoops-lr2.5e-4-rcmconly_passerini-03516f3022c5\n",
      "drwxr-xr-x  2 guest50 users 4.0K Jun 29 22:47 6-w_selfoops-lr5e-4-rcmconly_passerini-SCAN-leftnetee6a8c83b353\n",
      "drwxr-xr-x  2 guest50 users 4.0K Jun 29 23:43 6-w_selfoops-lr2.5e-4-rcmconly_passerini-SCAN-leftnet26948f8d9ec9\n",
      "drwxr-xr-x  2 guest50 users 4.0K Jun 29 23:51 7-wo_selfoops-lr2.5e-4-rcmconly_passerini-SCAN-leftnet17383d5f6686\n",
      "drwxr-xr-x  2 guest50 users 4.0K Jun 29 23:55 7-wo_selfoops-lr5e-4-rcmconly_passerini-SCAN-leftnet077d7a3ab36c\n",
      "drwxr-xr-x 36 guest50 users 4.0K Jul  2 19:03 .\n",
      "drwxr-xr-x  2 guest50 users 4.0K Jul  3 12:07 8wo-lr2.5e-4-ValFix3-SCAN-leftnetae2ad45e2dd8\n",
      "drwxr-xr-x  2 guest50 users 4.0K Jul  3 12:15 8w-lr5e-4-ValFix3-SCAN-leftnetefadd8bd15e7\n",
      "drwxr-xr-x  2 guest50 users 4.0K Jul  3 14:16 8wo-lr5e-4-ValFix3-SCAN-leftnet3f50bcab0e5f\n",
      "drwxr-xr-x  2 guest50 users 4.0K Jul  3 14:16 9w-lr5e-4-ValFix4-SCAN-leftnet64449ad28e23\n",
      "drwxr-xr-x  2 guest50 users 4.0K Jul  3 14:18 8w-lr2.5e-4-ValFix3-SCAN-leftnet3ccd31ef9ecd\n",
      "drwxr-xr-x  2 guest50 users 4.0K Jul  3 14:20 9w-lr5e-4-StepLR-ValFix4-SCAN-leftnet0364991d3328\n",
      "drwxr-xr-x  2 guest50 users 4.0K Jul  3 14:26 9w-lr5e-4-CosAnnl-ValFix4-SCAN-leftnetf482bad1261a\n"
     ]
    }
   ],
   "source": [
    "!ls -haltr oa_reactdiff/trainer/checkpoint/OAReactDiff-SCAN/"
   ]
  },
  {
   "cell_type": "code",
   "execution_count": 37,
   "id": "b27c2ba6-a258-4f69-9f09-200a11afe1e4",
   "metadata": {},
   "outputs": [
    {
     "name": "stdout",
     "output_type": "stream",
     "text": [
      "./oa_reactdiff/trainer/checkpoint/OAReactDiff-SCAN/6-w_selfoops-lr5e-4-rcmconly_passerini-SCAN-leftnetee6a8c83b353:\n",
      "total 1.6G\n",
      "-rw-r--r--  1 guest50 users  29K Jun 28 00:42 leftnet.py\n",
      "-rw-r--r--  1 guest50 users 163M Jun 28 18:59 ddpm-epoch=774-val-totloss=704.41.ckpt\n",
      "-rw-r--r--  1 guest50 users 163M Jun 29 04:35 ddpm-epoch=1180-val-totloss=708.74.ckpt\n",
      "-rw-r--r--  1 guest50 users 163M Jun 29 06:52 ddpm-epoch=1278-val-totloss=711.23.ckpt\n",
      "-rw-r--r--  1 guest50 users 163M Jun 29 10:17 ddpm-epoch=1421-val-totloss=707.90.ckpt\n",
      "-rw-r--r--  1 guest50 users 163M Jun 29 12:36 ddpm-epoch=1519-val-totloss=702.43.ckpt\n",
      "-rw-r--r--  1 guest50 users 163M Jun 29 18:19 ddpm-epoch=1762-val-totloss=706.70.ckpt\n",
      "-rw-r--r--  1 guest50 users 163M Jun 29 18:33 ddpm-epoch=1771-val-totloss=710.16.ckpt\n",
      "-rw-r--r--  1 guest50 users 163M Jun 29 18:39 ddpm-epoch=1777-val-totloss=710.10.ckpt\n",
      "-rw-r--r--  1 guest50 users 163M Jun 29 21:02 ddpm-epoch=1878-val-totloss=710.04.ckpt\n",
      "-rw-r--r--  1 guest50 users 163M Jun 29 22:47 ddpm-epoch=1951-val-totloss=701.95.ckpt\n",
      "drwxr-xr-x  2 guest50 users 4.0K Jun 29 22:47 .\n",
      "drwxr-xr-x 36 guest50 users 4.0K Jul  2 19:03 ..\n",
      "\n",
      "./oa_reactdiff/trainer/checkpoint/OAReactDiff-SCAN/6-w_selfoops-lr2.5e-4-rcmconly_passerini-SCAN-leftnet26948f8d9ec9:\n",
      "total 1.6G\n",
      "-rw-r--r--  1 guest50 users  29K Jun 28 00:43 leftnet.py\n",
      "-rw-r--r--  1 guest50 users 163M Jun 28 22:30 ddpm-epoch=899-val-totloss=696.66.ckpt\n",
      "-rw-r--r--  1 guest50 users 163M Jun 29 02:55 ddpm-epoch=1082-val-totloss=696.29.ckpt\n",
      "-rw-r--r--  1 guest50 users 163M Jun 29 10:05 ddpm-epoch=1377-val-totloss=703.45.ckpt\n",
      "-rw-r--r--  1 guest50 users 163M Jun 29 10:40 ddpm-epoch=1399-val-totloss=699.07.ckpt\n",
      "-rw-r--r--  1 guest50 users 163M Jun 29 13:20 ddpm-epoch=1509-val-totloss=702.21.ckpt\n",
      "-rw-r--r--  1 guest50 users 163M Jun 29 13:26 ddpm-epoch=1514-val-totloss=694.66.ckpt\n",
      "-rw-r--r--  1 guest50 users 163M Jun 29 14:43 ddpm-epoch=1568-val-totloss=692.76.ckpt\n",
      "-rw-r--r--  1 guest50 users 163M Jun 29 16:50 ddpm-epoch=1654-val-totloss=700.07.ckpt\n",
      "-rw-r--r--  1 guest50 users 163M Jun 29 21:51 ddpm-epoch=1859-val-totloss=697.37.ckpt\n",
      "-rw-r--r--  1 guest50 users 163M Jun 29 23:43 ddpm-epoch=1938-val-totloss=698.08.ckpt\n",
      "drwxr-xr-x  2 guest50 users 4.0K Jun 29 23:43 .\n",
      "drwxr-xr-x 36 guest50 users 4.0K Jul  2 19:03 ..\n"
     ]
    }
   ],
   "source": [
    "!ls -haltr ./oa_reactdiff/trainer/checkpoint/OAReactDiff-SCAN/6-*"
   ]
  },
  {
   "cell_type": "code",
   "execution_count": 38,
   "id": "c5cfc795-2dd3-44fe-adc1-6f09660764c4",
   "metadata": {},
   "outputs": [
    {
     "name": "stdout",
     "output_type": "stream",
     "text": [
      "./oa_reactdiff/trainer/checkpoint/OAReactDiff-SCAN/7-wo_selfoops-lr2.5e-4-rcmconly_passerini-SCAN-leftnet17383d5f6686:\n",
      "total 1.6G\n",
      "-rw-r--r--  1 guest50 users  29K Jun 28 00:44 leftnet.py\n",
      "-rw-r--r--  1 guest50 users 163M Jun 28 19:31 ddpm-epoch=774-val-totloss=704.94.ckpt\n",
      "-rw-r--r--  1 guest50 users 163M Jun 29 11:11 ddpm-epoch=1421-val-totloss=701.98.ckpt\n",
      "-rw-r--r--  1 guest50 users 163M Jun 29 13:34 ddpm-epoch=1519-val-totloss=707.98.ckpt\n",
      "-rw-r--r--  1 guest50 users 163M Jun 29 15:34 ddpm-epoch=1602-val-totloss=710.39.ckpt\n",
      "-rw-r--r--  1 guest50 users 163M Jun 29 17:50 ddpm-epoch=1697-val-totloss=687.96.ckpt\n",
      "-rw-r--r--  1 guest50 users 163M Jun 29 17:52 ddpm-epoch=1698-val-totloss=703.13.ckpt\n",
      "-rw-r--r--  1 guest50 users 163M Jun 29 20:44 ddpm-epoch=1817-val-totloss=708.96.ckpt\n",
      "-rw-r--r--  1 guest50 users 163M Jun 29 21:53 ddpm-epoch=1864-val-totloss=711.26.ckpt\n",
      "-rw-r--r--  1 guest50 users 163M Jun 29 23:19 ddpm-epoch=1923-val-totloss=704.87.ckpt\n",
      "-rw-r--r--  1 guest50 users 163M Jun 29 23:51 ddpm-epoch=1946-val-totloss=710.76.ckpt\n",
      "drwxr-xr-x  2 guest50 users 4.0K Jun 29 23:51 .\n",
      "drwxr-xr-x 36 guest50 users 4.0K Jul  2 19:03 ..\n",
      "\n",
      "./oa_reactdiff/trainer/checkpoint/OAReactDiff-SCAN/7-wo_selfoops-lr5e-4-rcmconly_passerini-SCAN-leftnet077d7a3ab36c:\n",
      "total 1.6G\n",
      "-rw-r--r--  1 guest50 users  29K Jun 28 00:43 leftnet.py\n",
      "-rw-r--r--  1 guest50 users 163M Jun 28 19:19 ddpm-epoch=774-val-totloss=708.59.ckpt\n",
      "-rw-r--r--  1 guest50 users 163M Jun 29 04:44 ddpm-epoch=1168-val-totloss=713.27.ckpt\n",
      "-rw-r--r--  1 guest50 users 163M Jun 29 10:52 ddpm-epoch=1421-val-totloss=703.96.ckpt\n",
      "-rw-r--r--  1 guest50 users 163M Jun 29 13:14 ddpm-epoch=1519-val-totloss=713.35.ckpt\n",
      "-rw-r--r--  1 guest50 users 163M Jun 29 14:12 ddpm-epoch=1559-val-totloss=682.88.ckpt\n",
      "-rw-r--r--  1 guest50 users 163M Jun 29 17:12 ddpm-epoch=1684-val-totloss=704.44.ckpt\n",
      "-rw-r--r--  1 guest50 users 163M Jun 29 22:00 ddpm-epoch=1885-val-totloss=703.86.ckpt\n",
      "-rw-r--r--  1 guest50 users 163M Jun 29 22:18 ddpm-epoch=1898-val-totloss=705.95.ckpt\n",
      "-rw-r--r--  1 guest50 users 163M Jun 29 23:40 ddpm-epoch=1954-val-totloss=704.12.ckpt\n",
      "-rw-r--r--  1 guest50 users 163M Jun 29 23:55 ddpm-epoch=1965-val-totloss=701.92.ckpt\n",
      "drwxr-xr-x  2 guest50 users 4.0K Jun 29 23:55 .\n",
      "drwxr-xr-x 36 guest50 users 4.0K Jul  2 19:03 ..\n"
     ]
    }
   ],
   "source": [
    "!ls -haltr ./oa_reactdiff/trainer/checkpoint/OAReactDiff-SCAN/7-*"
   ]
  },
  {
   "cell_type": "code",
   "execution_count": 39,
   "id": "f013b8c6-d139-45c7-bbd7-91a9f3f23913",
   "metadata": {},
   "outputs": [
    {
     "name": "stdout",
     "output_type": "stream",
     "text": [
      "./oa_reactdiff/trainer/checkpoint/OAReactDiff-SCAN/8wo-lr2.5e-4-ValFix3-SCAN-leftnetae2ad45e2dd8:\n",
      "total 1.6G\n",
      "-rw-r--r--  1 guest50 users  29K Jul  1 15:33 leftnet.py\n",
      "-rw-r--r--  1 guest50 users 163M Jul  2 10:33 ddpm-epoch=774-val-totloss=764.85.ckpt\n",
      "drwxr-xr-x 36 guest50 users 4.0K Jul  2 19:03 ..\n",
      "-rw-r--r--  1 guest50 users 163M Jul  2 20:11 ddpm-epoch=1168-val-totloss=755.50.ckpt\n",
      "-rw-r--r--  1 guest50 users 163M Jul  2 20:32 ddpm-epoch=1180-val-totloss=771.08.ckpt\n",
      "-rw-r--r--  1 guest50 users 163M Jul  2 22:56 ddpm-epoch=1278-val-totloss=764.75.ckpt\n",
      "-rw-r--r--  1 guest50 users 163M Jul  3 02:30 ddpm-epoch=1421-val-totloss=756.71.ckpt\n",
      "-rw-r--r--  1 guest50 users 163M Jul  3 04:55 ddpm-epoch=1519-val-totloss=768.78.ckpt\n",
      "-rw-r--r--  1 guest50 users 163M Jul  3 08:51 ddpm-epoch=1679-val-totloss=762.24.ckpt\n",
      "-rw-r--r--  1 guest50 users 163M Jul  3 09:15 ddpm-epoch=1697-val-totloss=747.86.ckpt\n",
      "-rw-r--r--  1 guest50 users 163M Jul  3 10:49 ddpm-epoch=1760-val-totloss=767.25.ckpt\n",
      "-rw-r--r--  1 guest50 users 163M Jul  3 12:07 ddpm-epoch=1814-val-totloss=760.52.ckpt\n",
      "drwxr-xr-x  2 guest50 users 4.0K Jul  3 12:07 .\n",
      "\n",
      "./oa_reactdiff/trainer/checkpoint/OAReactDiff-SCAN/8w-lr5e-4-ValFix3-SCAN-leftnetefadd8bd15e7:\n",
      "total 1.6G\n",
      "-rw-r--r--  1 guest50 users  29K Jul  1 15:31 leftnet.py\n",
      "-rw-r--r--  1 guest50 users 163M Jul  2 09:37 ddpm-epoch=774-val-totloss=668.91.ckpt\n",
      "-rw-r--r--  1 guest50 users 163M Jul  2 18:46 ddpm-epoch=1168-val-totloss=666.32.ckpt\n",
      "drwxr-xr-x 36 guest50 users 4.0K Jul  2 19:03 ..\n",
      "-rw-r--r--  1 guest50 users 163M Jul  2 19:04 ddpm-epoch=1180-val-totloss=671.10.ckpt\n",
      "-rw-r--r--  1 guest50 users 163M Jul  3 00:39 ddpm-epoch=1421-val-totloss=660.45.ckpt\n",
      "-rw-r--r--  1 guest50 users 163M Jul  3 00:54 ddpm-epoch=1432-val-totloss=665.86.ckpt\n",
      "-rw-r--r--  1 guest50 users 163M Jul  3 06:38 ddpm-epoch=1679-val-totloss=659.02.ckpt\n",
      "-rw-r--r--  1 guest50 users 163M Jul  3 07:01 ddpm-epoch=1697-val-totloss=655.96.ckpt\n",
      "-rw-r--r--  1 guest50 users 163M Jul  3 07:02 ddpm-epoch=1698-val-totloss=663.60.ckpt\n",
      "-rw-r--r--  1 guest50 users 163M Jul  3 10:53 ddpm-epoch=1864-val-totloss=664.36.ckpt\n",
      "-rw-r--r--  1 guest50 users 163M Jul  3 12:15 ddpm-epoch=1923-val-totloss=663.67.ckpt\n",
      "drwxr-xr-x  2 guest50 users 4.0K Jul  3 12:15 .\n",
      "\n",
      "./oa_reactdiff/trainer/checkpoint/OAReactDiff-SCAN/8wo-lr5e-4-ValFix3-SCAN-leftnet3f50bcab0e5f:\n",
      "total 1.6G\n",
      "-rw-r--r--  1 guest50 users  29K Jul  1 15:32 leftnet.py\n",
      "-rw-r--r--  1 guest50 users 163M Jul  2 18:25 ddpm-epoch=1089-val-totloss=761.92.ckpt\n",
      "drwxr-xr-x 36 guest50 users 4.0K Jul  2 19:03 ..\n",
      "-rw-r--r--  1 guest50 users 163M Jul  2 20:49 ddpm-epoch=1188-val-totloss=771.91.ckpt\n",
      "-rw-r--r--  1 guest50 users 163M Jul  2 22:01 ddpm-epoch=1236-val-totloss=756.50.ckpt\n",
      "-rw-r--r--  1 guest50 users 163M Jul  2 22:23 ddpm-epoch=1249-val-totloss=764.04.ckpt\n",
      "-rw-r--r--  1 guest50 users 163M Jul  2 23:27 ddpm-epoch=1293-val-totloss=753.83.ckpt\n",
      "-rw-r--r--  1 guest50 users 163M Jul  3 01:37 ddpm-epoch=1380-val-totloss=760.11.ckpt\n",
      "-rw-r--r--  1 guest50 users 163M Jul  3 06:56 ddpm-epoch=1598-val-totloss=771.67.ckpt\n",
      "-rw-r--r--  1 guest50 users 163M Jul  3 10:42 ddpm-epoch=1749-val-totloss=762.73.ckpt\n",
      "-rw-r--r--  1 guest50 users 163M Jul  3 11:59 ddpm-epoch=1802-val-totloss=768.32.ckpt\n",
      "-rw-r--r--  1 guest50 users 163M Jul  3 14:16 ddpm-epoch=1895-val-totloss=771.19.ckpt\n",
      "drwxr-xr-x  2 guest50 users 4.0K Jul  3 14:16 .\n",
      "\n",
      "./oa_reactdiff/trainer/checkpoint/OAReactDiff-SCAN/8w-lr2.5e-4-ValFix3-SCAN-leftnet3ccd31ef9ecd:\n",
      "total 1.6G\n",
      "-rw-r--r--  1 guest50 users  29K Jul  1 15:32 leftnet.py\n",
      "-rw-r--r--  1 guest50 users 163M Jul  2 16:37 ddpm-epoch=1056-val-totloss=660.92.ckpt\n",
      "drwxr-xr-x 36 guest50 users 4.0K Jul  2 19:03 ..\n",
      "-rw-r--r--  1 guest50 users 163M Jul  3 02:50 ddpm-epoch=1480-val-totloss=661.06.ckpt\n",
      "-rw-r--r--  1 guest50 users 163M Jul  3 06:56 ddpm-epoch=1653-val-totloss=650.21.ckpt\n",
      "-rw-r--r--  1 guest50 users 163M Jul  3 09:29 ddpm-epoch=1760-val-totloss=658.94.ckpt\n",
      "-rw-r--r--  1 guest50 users 163M Jul  3 12:05 ddpm-epoch=1869-val-totloss=650.12.ckpt\n",
      "-rw-r--r--  1 guest50 users 163M Jul  3 12:09 ddpm-epoch=1872-val-totloss=644.14.ckpt\n",
      "-rw-r--r--  1 guest50 users 163M Jul  3 12:19 ddpm-epoch=1879-val-totloss=664.25.ckpt\n",
      "-rw-r--r--  1 guest50 users 163M Jul  3 13:18 ddpm-epoch=1921-val-totloss=653.45.ckpt\n",
      "-rw-r--r--  1 guest50 users 163M Jul  3 14:01 ddpm-epoch=1951-val-totloss=649.85.ckpt\n",
      "-rw-r--r--  1 guest50 users 163M Jul  3 14:18 ddpm-epoch=1963-val-totloss=655.64.ckpt\n",
      "drwxr-xr-x  2 guest50 users 4.0K Jul  3 14:18 .\n"
     ]
    }
   ],
   "source": [
    "!ls -haltr ./oa_reactdiff/trainer/checkpoint/OAReactDiff-SCAN/8w*\n",
    "#8wo-lr5e-4-ValFix3-SCAN-leftnet3f50bcab0e5f\n",
    "#8wo-lr2.5e-4-ValFix3-SCAN-leftnetae2ad45e2dd8\n",
    "#8w-lr5e-4-ValFix3-SCAN-leftnetefadd8bd15e7\n",
    "#8w-lr2.5e-4-ValFix3-SCAN-leftnet3ccd31ef9ecd"
   ]
  },
  {
   "cell_type": "code",
   "execution_count": 40,
   "id": "68ba0535-b489-4c5f-9e28-48c99252f767",
   "metadata": {},
   "outputs": [],
   "source": [
    "#checkpoints_to_try = [\"./oa_reactdiff/trainer/checkpoint/OAReactDiff-SCAN/leftnet-SCAN-6-w_selfoops-lr2.5e-4-rcmconly_passerini-03516f3022c5/ddpm-epoch=1899-val-totloss=736.23.ckpt\"]"
   ]
  },
  {
   "cell_type": "code",
   "execution_count": 41,
   "id": "94ccb693-5f4b-4f70-85c4-de3928070808",
   "metadata": {},
   "outputs": [],
   "source": [
    "from collections import defaultdict\n",
    "per_checkpoint_ts_rmsds = defaultdict(list)"
   ]
  },
  {
   "cell_type": "code",
   "execution_count": 42,
   "id": "e7035d79-493d-4516-9dc0-7f4b601359a5",
   "metadata": {},
   "outputs": [],
   "source": [
    "from parse import parse"
   ]
  },
  {
   "cell_type": "code",
   "execution_count": 43,
   "id": "5e5284ac-9dff-4f59-93b4-6b839ddaa65f",
   "metadata": {},
   "outputs": [
    {
     "name": "stdout",
     "output_type": "stream",
     "text": [
      "8wo-lr2.5e-4-ValFix3-SCAN-leftnetae2ad45e2dd8\n",
      "['ddpm-epoch=1697-val-totloss=747.86.ckpt', 'ddpm-epoch=1814-val-totloss=760.52.ckpt']\n",
      "2\n",
      "\n",
      "8wo-lr5e-4-ValFix3-SCAN-leftnet3f50bcab0e5f\n",
      "['ddpm-epoch=1293-val-totloss=753.83.ckpt', 'ddpm-epoch=1380-val-totloss=760.11.ckpt', 'ddpm-epoch=1749-val-totloss=762.73.ckpt', 'ddpm-epoch=1802-val-totloss=768.32.ckpt', 'ddpm-epoch=1895-val-totloss=771.19.ckpt']\n",
      "5\n",
      "\n",
      "8w-lr2.5e-4-ValFix3-SCAN-leftnet3ccd31ef9ecd\n",
      "['ddpm-epoch=1872-val-totloss=644.14.ckpt', 'ddpm-epoch=1951-val-totloss=649.85.ckpt', 'ddpm-epoch=1963-val-totloss=655.64.ckpt']\n",
      "3\n",
      "\n",
      "8w-lr5e-4-ValFix3-SCAN-leftnetefadd8bd15e7\n",
      "['ddpm-epoch=1697-val-totloss=655.96.ckpt', 'ddpm-epoch=1698-val-totloss=663.60.ckpt', 'ddpm-epoch=1923-val-totloss=663.67.ckpt']\n",
      "3\n",
      "\n"
     ]
    }
   ],
   "source": [
    "import os\n",
    "basedir = os.path.abspath(\"oa_reactdiff/trainer/checkpoint/OAReactDiff-SCAN\")\n",
    "run_names = [\"8wo-lr2.5e-4-ValFix3-SCAN-leftnetae2ad45e2dd8\", \n",
    "             \"8wo-lr5e-4-ValFix3-SCAN-leftnet3f50bcab0e5f\", \n",
    "             \"8w-lr2.5e-4-ValFix3-SCAN-leftnet3ccd31ef9ecd\", \n",
    "             \"8w-lr5e-4-ValFix3-SCAN-leftnetefadd8bd15e7\"]\n",
    "selected_checkpoint_paths = {}\n",
    "for run_name in run_names:\n",
    "    print(run_name)\n",
    "    runpath = os.path.join(basedir, run_name)\n",
    "    parsed = parse(\"8{self_loops}-{lr}e-4-{etc}\", run_name)\n",
    "    self_loops = parsed[\"self_loops\"]+\"_self_loops\"\n",
    "    lr = parsed[\"lr\"]+\"e-4\"\n",
    " \n",
    "    # Let's select only the latest saved checkpoint and those among the top-k older checkpoints that have better val-totloss.\n",
    "    checkpoints = []\n",
    "    for file in os.listdir(runpath):\n",
    "         if file.endswith(\".ckpt\"):\n",
    "             ckpt_path = os.path.join(runpath, file)\n",
    "             mod_time = os.path.getmtime(ckpt_path)\n",
    "             checkpoints.append(tuple([file, mod_time]))\n",
    "    checkpoints.sort(key=lambda x: x[1], reverse=True) # Most recent first.\n",
    "    \n",
    "    selected_checkpoints = []\n",
    "    seen_val_totloss = set()\n",
    "    for ckpt, _ in checkpoints:\n",
    "        parsed2 = parse(\"ddpm-epoch={epoch}-val-totloss={val-totloss}.ckpt\", ckpt)\n",
    "        val_totloss = float(parsed2[\"val-totloss\"])\n",
    "        epoch = int(parsed2[\"epoch\"])\n",
    "        if all(val_totloss < value for value in seen_val_totloss):\n",
    "            seen_val_totloss.add(val_totloss)\n",
    "            selected_checkpoints.append(ckpt)\n",
    "            ckpt_path = os.path.join(runpath, ckpt)\n",
    "            selected_checkpoint_paths[ckpt_path] = {\"self_loops\":self_loops, \"lr\":lr, \"epoch\":epoch, \"val-totloss\":val_totloss}\n",
    "    print(list(reversed(selected_checkpoints)))\n",
    "    print(len(selected_checkpoints))\n",
    "    print(\"\")"
   ]
  },
  {
   "cell_type": "code",
   "execution_count": 44,
   "id": "419df548-fe7d-4125-bb6b-d9e33e6298f1",
   "metadata": {},
   "outputs": [
    {
     "name": "stdout",
     "output_type": "stream",
     "text": [
      "49742\n",
      "55285\n",
      "WL1-TS784\n",
      "/misc/home/guest50/OAReactDiff/oa_reactdiff/trainer/checkpoint/OAReactDiff-SCAN/8wo-lr2.5e-4-ValFix3-SCAN-leftnetae2ad45e2dd8/ddpm-epoch=1814-val-totloss=760.52.ckpt: 0.9123466581722263\n",
      "/misc/home/guest50/OAReactDiff/oa_reactdiff/trainer/checkpoint/OAReactDiff-SCAN/8wo-lr2.5e-4-ValFix3-SCAN-leftnetae2ad45e2dd8/ddpm-epoch=1697-val-totloss=747.86.ckpt: 0.926495622053253\n",
      "/misc/home/guest50/OAReactDiff/oa_reactdiff/trainer/checkpoint/OAReactDiff-SCAN/8wo-lr5e-4-ValFix3-SCAN-leftnet3f50bcab0e5f/ddpm-epoch=1895-val-totloss=771.19.ckpt: 0.9877012990558813\n",
      "/misc/home/guest50/OAReactDiff/oa_reactdiff/trainer/checkpoint/OAReactDiff-SCAN/8wo-lr5e-4-ValFix3-SCAN-leftnet3f50bcab0e5f/ddpm-epoch=1802-val-totloss=768.32.ckpt: 0.6436422659688241\n",
      "/misc/home/guest50/OAReactDiff/oa_reactdiff/trainer/checkpoint/OAReactDiff-SCAN/8wo-lr5e-4-ValFix3-SCAN-leftnet3f50bcab0e5f/ddpm-epoch=1749-val-totloss=762.73.ckpt: 0.7008328307908044\n",
      "/misc/home/guest50/OAReactDiff/oa_reactdiff/trainer/checkpoint/OAReactDiff-SCAN/8wo-lr5e-4-ValFix3-SCAN-leftnet3f50bcab0e5f/ddpm-epoch=1380-val-totloss=760.11.ckpt: 0.4750486771923935\n",
      "/misc/home/guest50/OAReactDiff/oa_reactdiff/trainer/checkpoint/OAReactDiff-SCAN/8wo-lr5e-4-ValFix3-SCAN-leftnet3f50bcab0e5f/ddpm-epoch=1293-val-totloss=753.83.ckpt: 0.8590164303341229\n",
      "/misc/home/guest50/OAReactDiff/oa_reactdiff/trainer/checkpoint/OAReactDiff-SCAN/8w-lr2.5e-4-ValFix3-SCAN-leftnet3ccd31ef9ecd/ddpm-epoch=1963-val-totloss=655.64.ckpt: 0.4485699158875347\n",
      "/misc/home/guest50/OAReactDiff/oa_reactdiff/trainer/checkpoint/OAReactDiff-SCAN/8w-lr2.5e-4-ValFix3-SCAN-leftnet3ccd31ef9ecd/ddpm-epoch=1951-val-totloss=649.85.ckpt: 0.8499512902146684\n",
      "/misc/home/guest50/OAReactDiff/oa_reactdiff/trainer/checkpoint/OAReactDiff-SCAN/8w-lr2.5e-4-ValFix3-SCAN-leftnet3ccd31ef9ecd/ddpm-epoch=1872-val-totloss=644.14.ckpt: 1.0\n",
      "/misc/home/guest50/OAReactDiff/oa_reactdiff/trainer/checkpoint/OAReactDiff-SCAN/8w-lr5e-4-ValFix3-SCAN-leftnetefadd8bd15e7/ddpm-epoch=1923-val-totloss=663.67.ckpt: 0.8767827285973212\n",
      "/misc/home/guest50/OAReactDiff/oa_reactdiff/trainer/checkpoint/OAReactDiff-SCAN/8w-lr5e-4-ValFix3-SCAN-leftnetefadd8bd15e7/ddpm-epoch=1698-val-totloss=663.60.ckpt: 0.8662880222006089\n",
      "/misc/home/guest50/OAReactDiff/oa_reactdiff/trainer/checkpoint/OAReactDiff-SCAN/8w-lr5e-4-ValFix3-SCAN-leftnetefadd8bd15e7/ddpm-epoch=1697-val-totloss=655.96.ckpt: 0.8867557705724096\n",
      "\n",
      "59140\n",
      "65694\n",
      "WL1-TS11193\n",
      "/misc/home/guest50/OAReactDiff/oa_reactdiff/trainer/checkpoint/OAReactDiff-SCAN/8wo-lr2.5e-4-ValFix3-SCAN-leftnetae2ad45e2dd8/ddpm-epoch=1814-val-totloss=760.52.ckpt: 0.1998258337857885\n",
      "/misc/home/guest50/OAReactDiff/oa_reactdiff/trainer/checkpoint/OAReactDiff-SCAN/8wo-lr2.5e-4-ValFix3-SCAN-leftnetae2ad45e2dd8/ddpm-epoch=1697-val-totloss=747.86.ckpt: 0.6828736260254588\n",
      "/misc/home/guest50/OAReactDiff/oa_reactdiff/trainer/checkpoint/OAReactDiff-SCAN/8wo-lr5e-4-ValFix3-SCAN-leftnet3f50bcab0e5f/ddpm-epoch=1895-val-totloss=771.19.ckpt: 0.3013163222604192\n",
      "/misc/home/guest50/OAReactDiff/oa_reactdiff/trainer/checkpoint/OAReactDiff-SCAN/8wo-lr5e-4-ValFix3-SCAN-leftnet3f50bcab0e5f/ddpm-epoch=1802-val-totloss=768.32.ckpt: 0.30058065618416385\n",
      "/misc/home/guest50/OAReactDiff/oa_reactdiff/trainer/checkpoint/OAReactDiff-SCAN/8wo-lr5e-4-ValFix3-SCAN-leftnet3f50bcab0e5f/ddpm-epoch=1749-val-totloss=762.73.ckpt: 0.3228736831583358\n",
      "/misc/home/guest50/OAReactDiff/oa_reactdiff/trainer/checkpoint/OAReactDiff-SCAN/8wo-lr5e-4-ValFix3-SCAN-leftnet3f50bcab0e5f/ddpm-epoch=1380-val-totloss=760.11.ckpt: 0.4382453110369688\n",
      "/misc/home/guest50/OAReactDiff/oa_reactdiff/trainer/checkpoint/OAReactDiff-SCAN/8wo-lr5e-4-ValFix3-SCAN-leftnet3f50bcab0e5f/ddpm-epoch=1293-val-totloss=753.83.ckpt: 0.396830560967983\n",
      "/misc/home/guest50/OAReactDiff/oa_reactdiff/trainer/checkpoint/OAReactDiff-SCAN/8w-lr2.5e-4-ValFix3-SCAN-leftnet3ccd31ef9ecd/ddpm-epoch=1963-val-totloss=655.64.ckpt: 0.19288929516580056\n",
      "/misc/home/guest50/OAReactDiff/oa_reactdiff/trainer/checkpoint/OAReactDiff-SCAN/8w-lr2.5e-4-ValFix3-SCAN-leftnet3ccd31ef9ecd/ddpm-epoch=1951-val-totloss=649.85.ckpt: 0.13961997995018702\n",
      "/misc/home/guest50/OAReactDiff/oa_reactdiff/trainer/checkpoint/OAReactDiff-SCAN/8w-lr2.5e-4-ValFix3-SCAN-leftnet3ccd31ef9ecd/ddpm-epoch=1872-val-totloss=644.14.ckpt: 0.20750878323198052\n",
      "/misc/home/guest50/OAReactDiff/oa_reactdiff/trainer/checkpoint/OAReactDiff-SCAN/8w-lr5e-4-ValFix3-SCAN-leftnetefadd8bd15e7/ddpm-epoch=1923-val-totloss=663.67.ckpt: 0.26331119740628456\n",
      "/misc/home/guest50/OAReactDiff/oa_reactdiff/trainer/checkpoint/OAReactDiff-SCAN/8w-lr5e-4-ValFix3-SCAN-leftnetefadd8bd15e7/ddpm-epoch=1698-val-totloss=663.60.ckpt: 0.40999188708533657\n",
      "/misc/home/guest50/OAReactDiff/oa_reactdiff/trainer/checkpoint/OAReactDiff-SCAN/8w-lr5e-4-ValFix3-SCAN-leftnetefadd8bd15e7/ddpm-epoch=1697-val-totloss=655.96.ckpt: 0.16464440067190803\n",
      "\n",
      "66248\n",
      "73602\n",
      "rcmconly_passerini-TS1206\n",
      "/misc/home/guest50/OAReactDiff/oa_reactdiff/trainer/checkpoint/OAReactDiff-SCAN/8wo-lr2.5e-4-ValFix3-SCAN-leftnetae2ad45e2dd8/ddpm-epoch=1814-val-totloss=760.52.ckpt: 1.0\n",
      "/misc/home/guest50/OAReactDiff/oa_reactdiff/trainer/checkpoint/OAReactDiff-SCAN/8wo-lr2.5e-4-ValFix3-SCAN-leftnetae2ad45e2dd8/ddpm-epoch=1697-val-totloss=747.86.ckpt: 1.0\n",
      "/misc/home/guest50/OAReactDiff/oa_reactdiff/trainer/checkpoint/OAReactDiff-SCAN/8wo-lr5e-4-ValFix3-SCAN-leftnet3f50bcab0e5f/ddpm-epoch=1895-val-totloss=771.19.ckpt: 1.0\n",
      "/misc/home/guest50/OAReactDiff/oa_reactdiff/trainer/checkpoint/OAReactDiff-SCAN/8wo-lr5e-4-ValFix3-SCAN-leftnet3f50bcab0e5f/ddpm-epoch=1802-val-totloss=768.32.ckpt: 0.901034480310125\n",
      "/misc/home/guest50/OAReactDiff/oa_reactdiff/trainer/checkpoint/OAReactDiff-SCAN/8wo-lr5e-4-ValFix3-SCAN-leftnet3f50bcab0e5f/ddpm-epoch=1749-val-totloss=762.73.ckpt: 0.6495966191234496\n",
      "/misc/home/guest50/OAReactDiff/oa_reactdiff/trainer/checkpoint/OAReactDiff-SCAN/8wo-lr5e-4-ValFix3-SCAN-leftnet3f50bcab0e5f/ddpm-epoch=1380-val-totloss=760.11.ckpt: 1.0\n",
      "/misc/home/guest50/OAReactDiff/oa_reactdiff/trainer/checkpoint/OAReactDiff-SCAN/8wo-lr5e-4-ValFix3-SCAN-leftnet3f50bcab0e5f/ddpm-epoch=1293-val-totloss=753.83.ckpt: 1.0\n",
      "/misc/home/guest50/OAReactDiff/oa_reactdiff/trainer/checkpoint/OAReactDiff-SCAN/8w-lr2.5e-4-ValFix3-SCAN-leftnet3ccd31ef9ecd/ddpm-epoch=1963-val-totloss=655.64.ckpt: 0.4909790167973904\n",
      "/misc/home/guest50/OAReactDiff/oa_reactdiff/trainer/checkpoint/OAReactDiff-SCAN/8w-lr2.5e-4-ValFix3-SCAN-leftnet3ccd31ef9ecd/ddpm-epoch=1951-val-totloss=649.85.ckpt: 0.9989719470423833\n",
      "/misc/home/guest50/OAReactDiff/oa_reactdiff/trainer/checkpoint/OAReactDiff-SCAN/8w-lr2.5e-4-ValFix3-SCAN-leftnet3ccd31ef9ecd/ddpm-epoch=1872-val-totloss=644.14.ckpt: 0.4822543416364692\n",
      "/misc/home/guest50/OAReactDiff/oa_reactdiff/trainer/checkpoint/OAReactDiff-SCAN/8w-lr5e-4-ValFix3-SCAN-leftnetefadd8bd15e7/ddpm-epoch=1923-val-totloss=663.67.ckpt: 0.7096784400001608\n",
      "/misc/home/guest50/OAReactDiff/oa_reactdiff/trainer/checkpoint/OAReactDiff-SCAN/8w-lr5e-4-ValFix3-SCAN-leftnetefadd8bd15e7/ddpm-epoch=1698-val-totloss=663.60.ckpt: 0.4670165764005297\n",
      "/misc/home/guest50/OAReactDiff/oa_reactdiff/trainer/checkpoint/OAReactDiff-SCAN/8w-lr5e-4-ValFix3-SCAN-leftnetefadd8bd15e7/ddpm-epoch=1697-val-totloss=655.96.ckpt: 0.7552316481661131\n",
      "\n",
      "70046\n",
      "77831\n",
      "rcmconly_passerini-TS5435\n",
      "/misc/home/guest50/OAReactDiff/oa_reactdiff/trainer/checkpoint/OAReactDiff-SCAN/8wo-lr2.5e-4-ValFix3-SCAN-leftnetae2ad45e2dd8/ddpm-epoch=1814-val-totloss=760.52.ckpt: 1.0\n",
      "/misc/home/guest50/OAReactDiff/oa_reactdiff/trainer/checkpoint/OAReactDiff-SCAN/8wo-lr2.5e-4-ValFix3-SCAN-leftnetae2ad45e2dd8/ddpm-epoch=1697-val-totloss=747.86.ckpt: 0.37649857735807\n",
      "/misc/home/guest50/OAReactDiff/oa_reactdiff/trainer/checkpoint/OAReactDiff-SCAN/8wo-lr5e-4-ValFix3-SCAN-leftnet3f50bcab0e5f/ddpm-epoch=1895-val-totloss=771.19.ckpt: 0.9255727588538384\n",
      "/misc/home/guest50/OAReactDiff/oa_reactdiff/trainer/checkpoint/OAReactDiff-SCAN/8wo-lr5e-4-ValFix3-SCAN-leftnet3f50bcab0e5f/ddpm-epoch=1802-val-totloss=768.32.ckpt: 0.7981865849342716\n",
      "/misc/home/guest50/OAReactDiff/oa_reactdiff/trainer/checkpoint/OAReactDiff-SCAN/8wo-lr5e-4-ValFix3-SCAN-leftnet3f50bcab0e5f/ddpm-epoch=1749-val-totloss=762.73.ckpt: 0.962005435931042\n",
      "/misc/home/guest50/OAReactDiff/oa_reactdiff/trainer/checkpoint/OAReactDiff-SCAN/8wo-lr5e-4-ValFix3-SCAN-leftnet3f50bcab0e5f/ddpm-epoch=1380-val-totloss=760.11.ckpt: 1.0\n",
      "/misc/home/guest50/OAReactDiff/oa_reactdiff/trainer/checkpoint/OAReactDiff-SCAN/8wo-lr5e-4-ValFix3-SCAN-leftnet3f50bcab0e5f/ddpm-epoch=1293-val-totloss=753.83.ckpt: 1.0\n",
      "/misc/home/guest50/OAReactDiff/oa_reactdiff/trainer/checkpoint/OAReactDiff-SCAN/8w-lr2.5e-4-ValFix3-SCAN-leftnet3ccd31ef9ecd/ddpm-epoch=1963-val-totloss=655.64.ckpt: 0.9046888848774521\n",
      "/misc/home/guest50/OAReactDiff/oa_reactdiff/trainer/checkpoint/OAReactDiff-SCAN/8w-lr2.5e-4-ValFix3-SCAN-leftnet3ccd31ef9ecd/ddpm-epoch=1951-val-totloss=649.85.ckpt: 0.9353030416735013\n",
      "/misc/home/guest50/OAReactDiff/oa_reactdiff/trainer/checkpoint/OAReactDiff-SCAN/8w-lr2.5e-4-ValFix3-SCAN-leftnet3ccd31ef9ecd/ddpm-epoch=1872-val-totloss=644.14.ckpt: 1.0\n",
      "/misc/home/guest50/OAReactDiff/oa_reactdiff/trainer/checkpoint/OAReactDiff-SCAN/8w-lr5e-4-ValFix3-SCAN-leftnetefadd8bd15e7/ddpm-epoch=1923-val-totloss=663.67.ckpt: 1.0\n",
      "/misc/home/guest50/OAReactDiff/oa_reactdiff/trainer/checkpoint/OAReactDiff-SCAN/8w-lr5e-4-ValFix3-SCAN-leftnetefadd8bd15e7/ddpm-epoch=1698-val-totloss=663.60.ckpt: 0.9431889357038463\n",
      "/misc/home/guest50/OAReactDiff/oa_reactdiff/trainer/checkpoint/OAReactDiff-SCAN/8w-lr5e-4-ValFix3-SCAN-leftnetefadd8bd15e7/ddpm-epoch=1697-val-totloss=655.96.ckpt: 0.6932238141670165\n",
      "\n",
      "71810\n",
      "79790\n",
      "rcmconly_passerini-TS7394\n",
      "/misc/home/guest50/OAReactDiff/oa_reactdiff/trainer/checkpoint/OAReactDiff-SCAN/8wo-lr2.5e-4-ValFix3-SCAN-leftnetae2ad45e2dd8/ddpm-epoch=1814-val-totloss=760.52.ckpt: 0.8766908345526713\n",
      "/misc/home/guest50/OAReactDiff/oa_reactdiff/trainer/checkpoint/OAReactDiff-SCAN/8wo-lr2.5e-4-ValFix3-SCAN-leftnetae2ad45e2dd8/ddpm-epoch=1697-val-totloss=747.86.ckpt: 1.0\n",
      "/misc/home/guest50/OAReactDiff/oa_reactdiff/trainer/checkpoint/OAReactDiff-SCAN/8wo-lr5e-4-ValFix3-SCAN-leftnet3f50bcab0e5f/ddpm-epoch=1895-val-totloss=771.19.ckpt: 0.3608534916938118\n",
      "/misc/home/guest50/OAReactDiff/oa_reactdiff/trainer/checkpoint/OAReactDiff-SCAN/8wo-lr5e-4-ValFix3-SCAN-leftnet3f50bcab0e5f/ddpm-epoch=1802-val-totloss=768.32.ckpt: 0.8998599580592465\n",
      "/misc/home/guest50/OAReactDiff/oa_reactdiff/trainer/checkpoint/OAReactDiff-SCAN/8wo-lr5e-4-ValFix3-SCAN-leftnet3f50bcab0e5f/ddpm-epoch=1749-val-totloss=762.73.ckpt: 1.0\n",
      "/misc/home/guest50/OAReactDiff/oa_reactdiff/trainer/checkpoint/OAReactDiff-SCAN/8wo-lr5e-4-ValFix3-SCAN-leftnet3f50bcab0e5f/ddpm-epoch=1380-val-totloss=760.11.ckpt: 1.0\n",
      "/misc/home/guest50/OAReactDiff/oa_reactdiff/trainer/checkpoint/OAReactDiff-SCAN/8wo-lr5e-4-ValFix3-SCAN-leftnet3f50bcab0e5f/ddpm-epoch=1293-val-totloss=753.83.ckpt: 0.7347726434526816\n",
      "/misc/home/guest50/OAReactDiff/oa_reactdiff/trainer/checkpoint/OAReactDiff-SCAN/8w-lr2.5e-4-ValFix3-SCAN-leftnet3ccd31ef9ecd/ddpm-epoch=1963-val-totloss=655.64.ckpt: 0.9332932316436657\n",
      "/misc/home/guest50/OAReactDiff/oa_reactdiff/trainer/checkpoint/OAReactDiff-SCAN/8w-lr2.5e-4-ValFix3-SCAN-leftnet3ccd31ef9ecd/ddpm-epoch=1951-val-totloss=649.85.ckpt: 0.41175523935720193\n",
      "/misc/home/guest50/OAReactDiff/oa_reactdiff/trainer/checkpoint/OAReactDiff-SCAN/8w-lr2.5e-4-ValFix3-SCAN-leftnet3ccd31ef9ecd/ddpm-epoch=1872-val-totloss=644.14.ckpt: 1.0\n",
      "/misc/home/guest50/OAReactDiff/oa_reactdiff/trainer/checkpoint/OAReactDiff-SCAN/8w-lr5e-4-ValFix3-SCAN-leftnetefadd8bd15e7/ddpm-epoch=1923-val-totloss=663.67.ckpt: 0.3847485269976608\n",
      "/misc/home/guest50/OAReactDiff/oa_reactdiff/trainer/checkpoint/OAReactDiff-SCAN/8w-lr5e-4-ValFix3-SCAN-leftnetefadd8bd15e7/ddpm-epoch=1698-val-totloss=663.60.ckpt: 1.0\n",
      "/misc/home/guest50/OAReactDiff/oa_reactdiff/trainer/checkpoint/OAReactDiff-SCAN/8w-lr5e-4-ValFix3-SCAN-leftnetefadd8bd15e7/ddpm-epoch=1697-val-totloss=655.96.ckpt: 1.0\n",
      "\n",
      "77427\n",
      "86001\n",
      "rcmconly_passerini-TS13605\n",
      "/misc/home/guest50/OAReactDiff/oa_reactdiff/trainer/checkpoint/OAReactDiff-SCAN/8wo-lr2.5e-4-ValFix3-SCAN-leftnetae2ad45e2dd8/ddpm-epoch=1814-val-totloss=760.52.ckpt: 0.3738480542565098\n",
      "/misc/home/guest50/OAReactDiff/oa_reactdiff/trainer/checkpoint/OAReactDiff-SCAN/8wo-lr2.5e-4-ValFix3-SCAN-leftnetae2ad45e2dd8/ddpm-epoch=1697-val-totloss=747.86.ckpt: 0.5500003796578697\n",
      "/misc/home/guest50/OAReactDiff/oa_reactdiff/trainer/checkpoint/OAReactDiff-SCAN/8wo-lr5e-4-ValFix3-SCAN-leftnet3f50bcab0e5f/ddpm-epoch=1895-val-totloss=771.19.ckpt: 0.3627251036787272\n",
      "/misc/home/guest50/OAReactDiff/oa_reactdiff/trainer/checkpoint/OAReactDiff-SCAN/8wo-lr5e-4-ValFix3-SCAN-leftnet3f50bcab0e5f/ddpm-epoch=1802-val-totloss=768.32.ckpt: 0.41752253183976157\n",
      "/misc/home/guest50/OAReactDiff/oa_reactdiff/trainer/checkpoint/OAReactDiff-SCAN/8wo-lr5e-4-ValFix3-SCAN-leftnet3f50bcab0e5f/ddpm-epoch=1749-val-totloss=762.73.ckpt: 0.8303195907676335\n",
      "/misc/home/guest50/OAReactDiff/oa_reactdiff/trainer/checkpoint/OAReactDiff-SCAN/8wo-lr5e-4-ValFix3-SCAN-leftnet3f50bcab0e5f/ddpm-epoch=1380-val-totloss=760.11.ckpt: 1.0\n",
      "/misc/home/guest50/OAReactDiff/oa_reactdiff/trainer/checkpoint/OAReactDiff-SCAN/8wo-lr5e-4-ValFix3-SCAN-leftnet3f50bcab0e5f/ddpm-epoch=1293-val-totloss=753.83.ckpt: 0.35740380884574807\n",
      "/misc/home/guest50/OAReactDiff/oa_reactdiff/trainer/checkpoint/OAReactDiff-SCAN/8w-lr2.5e-4-ValFix3-SCAN-leftnet3ccd31ef9ecd/ddpm-epoch=1963-val-totloss=655.64.ckpt: 0.9121783575105306\n",
      "/misc/home/guest50/OAReactDiff/oa_reactdiff/trainer/checkpoint/OAReactDiff-SCAN/8w-lr2.5e-4-ValFix3-SCAN-leftnet3ccd31ef9ecd/ddpm-epoch=1951-val-totloss=649.85.ckpt: 0.39999146744213254\n",
      "/misc/home/guest50/OAReactDiff/oa_reactdiff/trainer/checkpoint/OAReactDiff-SCAN/8w-lr2.5e-4-ValFix3-SCAN-leftnet3ccd31ef9ecd/ddpm-epoch=1872-val-totloss=644.14.ckpt: 0.4863780742493639\n",
      "/misc/home/guest50/OAReactDiff/oa_reactdiff/trainer/checkpoint/OAReactDiff-SCAN/8w-lr5e-4-ValFix3-SCAN-leftnetefadd8bd15e7/ddpm-epoch=1923-val-totloss=663.67.ckpt: 0.4043173969757968\n",
      "/misc/home/guest50/OAReactDiff/oa_reactdiff/trainer/checkpoint/OAReactDiff-SCAN/8w-lr5e-4-ValFix3-SCAN-leftnetefadd8bd15e7/ddpm-epoch=1698-val-totloss=663.60.ckpt: 0.7832158308044054\n",
      "/misc/home/guest50/OAReactDiff/oa_reactdiff/trainer/checkpoint/OAReactDiff-SCAN/8w-lr5e-4-ValFix3-SCAN-leftnetefadd8bd15e7/ddpm-epoch=1697-val-totloss=655.96.ckpt: 0.3438569965970922\n",
      "\n",
      "79554\n",
      "88361\n",
      "rcmconly_passerini-TS15965\n",
      "/misc/home/guest50/OAReactDiff/oa_reactdiff/trainer/checkpoint/OAReactDiff-SCAN/8wo-lr2.5e-4-ValFix3-SCAN-leftnetae2ad45e2dd8/ddpm-epoch=1814-val-totloss=760.52.ckpt: 1.0\n",
      "/misc/home/guest50/OAReactDiff/oa_reactdiff/trainer/checkpoint/OAReactDiff-SCAN/8wo-lr2.5e-4-ValFix3-SCAN-leftnetae2ad45e2dd8/ddpm-epoch=1697-val-totloss=747.86.ckpt: 0.3759251420829533\n",
      "/misc/home/guest50/OAReactDiff/oa_reactdiff/trainer/checkpoint/OAReactDiff-SCAN/8wo-lr5e-4-ValFix3-SCAN-leftnet3f50bcab0e5f/ddpm-epoch=1895-val-totloss=771.19.ckpt: 0.9241657540026706\n",
      "/misc/home/guest50/OAReactDiff/oa_reactdiff/trainer/checkpoint/OAReactDiff-SCAN/8wo-lr5e-4-ValFix3-SCAN-leftnet3f50bcab0e5f/ddpm-epoch=1802-val-totloss=768.32.ckpt: 1.0\n",
      "/misc/home/guest50/OAReactDiff/oa_reactdiff/trainer/checkpoint/OAReactDiff-SCAN/8wo-lr5e-4-ValFix3-SCAN-leftnet3f50bcab0e5f/ddpm-epoch=1749-val-totloss=762.73.ckpt: 0.834146852542724\n",
      "/misc/home/guest50/OAReactDiff/oa_reactdiff/trainer/checkpoint/OAReactDiff-SCAN/8wo-lr5e-4-ValFix3-SCAN-leftnet3f50bcab0e5f/ddpm-epoch=1380-val-totloss=760.11.ckpt: 1.0\n",
      "/misc/home/guest50/OAReactDiff/oa_reactdiff/trainer/checkpoint/OAReactDiff-SCAN/8wo-lr5e-4-ValFix3-SCAN-leftnet3f50bcab0e5f/ddpm-epoch=1293-val-totloss=753.83.ckpt: 1.0\n",
      "/misc/home/guest50/OAReactDiff/oa_reactdiff/trainer/checkpoint/OAReactDiff-SCAN/8w-lr2.5e-4-ValFix3-SCAN-leftnet3ccd31ef9ecd/ddpm-epoch=1963-val-totloss=655.64.ckpt: 0.3378821997667956\n",
      "/misc/home/guest50/OAReactDiff/oa_reactdiff/trainer/checkpoint/OAReactDiff-SCAN/8w-lr2.5e-4-ValFix3-SCAN-leftnet3ccd31ef9ecd/ddpm-epoch=1951-val-totloss=649.85.ckpt: 1.0\n",
      "/misc/home/guest50/OAReactDiff/oa_reactdiff/trainer/checkpoint/OAReactDiff-SCAN/8w-lr2.5e-4-ValFix3-SCAN-leftnet3ccd31ef9ecd/ddpm-epoch=1872-val-totloss=644.14.ckpt: 0.2573863577523198\n",
      "/misc/home/guest50/OAReactDiff/oa_reactdiff/trainer/checkpoint/OAReactDiff-SCAN/8w-lr5e-4-ValFix3-SCAN-leftnetefadd8bd15e7/ddpm-epoch=1923-val-totloss=663.67.ckpt: 0.7245538821649281\n",
      "/misc/home/guest50/OAReactDiff/oa_reactdiff/trainer/checkpoint/OAReactDiff-SCAN/8w-lr5e-4-ValFix3-SCAN-leftnetefadd8bd15e7/ddpm-epoch=1698-val-totloss=663.60.ckpt: 0.7262151651344187\n",
      "/misc/home/guest50/OAReactDiff/oa_reactdiff/trainer/checkpoint/OAReactDiff-SCAN/8w-lr5e-4-ValFix3-SCAN-leftnetefadd8bd15e7/ddpm-epoch=1697-val-totloss=655.96.ckpt: 1.0\n",
      "\n",
      "80785\n",
      "89724\n",
      "rcmconly_passerini-TS17328\n",
      "/misc/home/guest50/OAReactDiff/oa_reactdiff/trainer/checkpoint/OAReactDiff-SCAN/8wo-lr2.5e-4-ValFix3-SCAN-leftnetae2ad45e2dd8/ddpm-epoch=1814-val-totloss=760.52.ckpt: 0.41464846511135095\n",
      "/misc/home/guest50/OAReactDiff/oa_reactdiff/trainer/checkpoint/OAReactDiff-SCAN/8wo-lr2.5e-4-ValFix3-SCAN-leftnetae2ad45e2dd8/ddpm-epoch=1697-val-totloss=747.86.ckpt: 0.8305094273100808\n",
      "/misc/home/guest50/OAReactDiff/oa_reactdiff/trainer/checkpoint/OAReactDiff-SCAN/8wo-lr5e-4-ValFix3-SCAN-leftnet3f50bcab0e5f/ddpm-epoch=1895-val-totloss=771.19.ckpt: 0.351044493812679\n",
      "/misc/home/guest50/OAReactDiff/oa_reactdiff/trainer/checkpoint/OAReactDiff-SCAN/8wo-lr5e-4-ValFix3-SCAN-leftnet3f50bcab0e5f/ddpm-epoch=1802-val-totloss=768.32.ckpt: 0.4598110318546087\n",
      "/misc/home/guest50/OAReactDiff/oa_reactdiff/trainer/checkpoint/OAReactDiff-SCAN/8wo-lr5e-4-ValFix3-SCAN-leftnet3f50bcab0e5f/ddpm-epoch=1749-val-totloss=762.73.ckpt: 0.9019360535670162\n",
      "/misc/home/guest50/OAReactDiff/oa_reactdiff/trainer/checkpoint/OAReactDiff-SCAN/8wo-lr5e-4-ValFix3-SCAN-leftnet3f50bcab0e5f/ddpm-epoch=1380-val-totloss=760.11.ckpt: 1.0\n",
      "/misc/home/guest50/OAReactDiff/oa_reactdiff/trainer/checkpoint/OAReactDiff-SCAN/8wo-lr5e-4-ValFix3-SCAN-leftnet3f50bcab0e5f/ddpm-epoch=1293-val-totloss=753.83.ckpt: 1.0\n",
      "/misc/home/guest50/OAReactDiff/oa_reactdiff/trainer/checkpoint/OAReactDiff-SCAN/8w-lr2.5e-4-ValFix3-SCAN-leftnet3ccd31ef9ecd/ddpm-epoch=1963-val-totloss=655.64.ckpt: 1.0\n",
      "/misc/home/guest50/OAReactDiff/oa_reactdiff/trainer/checkpoint/OAReactDiff-SCAN/8w-lr2.5e-4-ValFix3-SCAN-leftnet3ccd31ef9ecd/ddpm-epoch=1951-val-totloss=649.85.ckpt: 0.9112439007946458\n",
      "/misc/home/guest50/OAReactDiff/oa_reactdiff/trainer/checkpoint/OAReactDiff-SCAN/8w-lr2.5e-4-ValFix3-SCAN-leftnet3ccd31ef9ecd/ddpm-epoch=1872-val-totloss=644.14.ckpt: 0.7019441834652708\n",
      "/misc/home/guest50/OAReactDiff/oa_reactdiff/trainer/checkpoint/OAReactDiff-SCAN/8w-lr5e-4-ValFix3-SCAN-leftnetefadd8bd15e7/ddpm-epoch=1923-val-totloss=663.67.ckpt: 0.8370182435471976\n",
      "/misc/home/guest50/OAReactDiff/oa_reactdiff/trainer/checkpoint/OAReactDiff-SCAN/8w-lr5e-4-ValFix3-SCAN-leftnetefadd8bd15e7/ddpm-epoch=1698-val-totloss=663.60.ckpt: 1.0\n",
      "/misc/home/guest50/OAReactDiff/oa_reactdiff/trainer/checkpoint/OAReactDiff-SCAN/8w-lr5e-4-ValFix3-SCAN-leftnetefadd8bd15e7/ddpm-epoch=1697-val-totloss=655.96.ckpt: 0.43628412365446634\n",
      "\n",
      "81040\n",
      "90001\n",
      "rcmconly_passerini-TS17605\n",
      "/misc/home/guest50/OAReactDiff/oa_reactdiff/trainer/checkpoint/OAReactDiff-SCAN/8wo-lr2.5e-4-ValFix3-SCAN-leftnetae2ad45e2dd8/ddpm-epoch=1814-val-totloss=760.52.ckpt: 0.42148660760474904\n",
      "/misc/home/guest50/OAReactDiff/oa_reactdiff/trainer/checkpoint/OAReactDiff-SCAN/8wo-lr2.5e-4-ValFix3-SCAN-leftnetae2ad45e2dd8/ddpm-epoch=1697-val-totloss=747.86.ckpt: 0.4406079970945829\n",
      "/misc/home/guest50/OAReactDiff/oa_reactdiff/trainer/checkpoint/OAReactDiff-SCAN/8wo-lr5e-4-ValFix3-SCAN-leftnet3f50bcab0e5f/ddpm-epoch=1895-val-totloss=771.19.ckpt: 0.17477027555271343\n",
      "/misc/home/guest50/OAReactDiff/oa_reactdiff/trainer/checkpoint/OAReactDiff-SCAN/8wo-lr5e-4-ValFix3-SCAN-leftnet3f50bcab0e5f/ddpm-epoch=1802-val-totloss=768.32.ckpt: 0.23684806146178855\n",
      "/misc/home/guest50/OAReactDiff/oa_reactdiff/trainer/checkpoint/OAReactDiff-SCAN/8wo-lr5e-4-ValFix3-SCAN-leftnet3f50bcab0e5f/ddpm-epoch=1749-val-totloss=762.73.ckpt: 0.9709907149789083\n",
      "/misc/home/guest50/OAReactDiff/oa_reactdiff/trainer/checkpoint/OAReactDiff-SCAN/8wo-lr5e-4-ValFix3-SCAN-leftnet3f50bcab0e5f/ddpm-epoch=1380-val-totloss=760.11.ckpt: 1.0\n",
      "/misc/home/guest50/OAReactDiff/oa_reactdiff/trainer/checkpoint/OAReactDiff-SCAN/8wo-lr5e-4-ValFix3-SCAN-leftnet3f50bcab0e5f/ddpm-epoch=1293-val-totloss=753.83.ckpt: 0.8549800234783699\n",
      "/misc/home/guest50/OAReactDiff/oa_reactdiff/trainer/checkpoint/OAReactDiff-SCAN/8w-lr2.5e-4-ValFix3-SCAN-leftnet3ccd31ef9ecd/ddpm-epoch=1963-val-totloss=655.64.ckpt: 0.7089648655770607\n",
      "/misc/home/guest50/OAReactDiff/oa_reactdiff/trainer/checkpoint/OAReactDiff-SCAN/8w-lr2.5e-4-ValFix3-SCAN-leftnet3ccd31ef9ecd/ddpm-epoch=1951-val-totloss=649.85.ckpt: 0.5589535025996865\n",
      "/misc/home/guest50/OAReactDiff/oa_reactdiff/trainer/checkpoint/OAReactDiff-SCAN/8w-lr2.5e-4-ValFix3-SCAN-leftnet3ccd31ef9ecd/ddpm-epoch=1872-val-totloss=644.14.ckpt: 0.13286377576929317\n",
      "/misc/home/guest50/OAReactDiff/oa_reactdiff/trainer/checkpoint/OAReactDiff-SCAN/8w-lr5e-4-ValFix3-SCAN-leftnetefadd8bd15e7/ddpm-epoch=1923-val-totloss=663.67.ckpt: 0.45793616882224364\n",
      "/misc/home/guest50/OAReactDiff/oa_reactdiff/trainer/checkpoint/OAReactDiff-SCAN/8w-lr5e-4-ValFix3-SCAN-leftnetefadd8bd15e7/ddpm-epoch=1698-val-totloss=663.60.ckpt: 0.8369468084525569\n",
      "/misc/home/guest50/OAReactDiff/oa_reactdiff/trainer/checkpoint/OAReactDiff-SCAN/8w-lr5e-4-ValFix3-SCAN-leftnetefadd8bd15e7/ddpm-epoch=1697-val-totloss=655.96.ckpt: 1.0\n",
      "\n",
      "85142\n",
      "94576\n",
      "rcmconly_strecker-TS3978\n",
      "/misc/home/guest50/OAReactDiff/oa_reactdiff/trainer/checkpoint/OAReactDiff-SCAN/8wo-lr2.5e-4-ValFix3-SCAN-leftnetae2ad45e2dd8/ddpm-epoch=1814-val-totloss=760.52.ckpt: 0.5290143297574289\n",
      "/misc/home/guest50/OAReactDiff/oa_reactdiff/trainer/checkpoint/OAReactDiff-SCAN/8wo-lr2.5e-4-ValFix3-SCAN-leftnetae2ad45e2dd8/ddpm-epoch=1697-val-totloss=747.86.ckpt: 0.9687088116483304\n",
      "/misc/home/guest50/OAReactDiff/oa_reactdiff/trainer/checkpoint/OAReactDiff-SCAN/8wo-lr5e-4-ValFix3-SCAN-leftnet3f50bcab0e5f/ddpm-epoch=1895-val-totloss=771.19.ckpt: 0.9260621699487775\n",
      "/misc/home/guest50/OAReactDiff/oa_reactdiff/trainer/checkpoint/OAReactDiff-SCAN/8wo-lr5e-4-ValFix3-SCAN-leftnet3f50bcab0e5f/ddpm-epoch=1802-val-totloss=768.32.ckpt: 0.32504551041422397\n",
      "/misc/home/guest50/OAReactDiff/oa_reactdiff/trainer/checkpoint/OAReactDiff-SCAN/8wo-lr5e-4-ValFix3-SCAN-leftnet3f50bcab0e5f/ddpm-epoch=1749-val-totloss=762.73.ckpt: 0.1257143780114122\n",
      "/misc/home/guest50/OAReactDiff/oa_reactdiff/trainer/checkpoint/OAReactDiff-SCAN/8wo-lr5e-4-ValFix3-SCAN-leftnet3f50bcab0e5f/ddpm-epoch=1380-val-totloss=760.11.ckpt: 1.0\n",
      "/misc/home/guest50/OAReactDiff/oa_reactdiff/trainer/checkpoint/OAReactDiff-SCAN/8wo-lr5e-4-ValFix3-SCAN-leftnet3f50bcab0e5f/ddpm-epoch=1293-val-totloss=753.83.ckpt: 0.29758179503766785\n",
      "/misc/home/guest50/OAReactDiff/oa_reactdiff/trainer/checkpoint/OAReactDiff-SCAN/8w-lr2.5e-4-ValFix3-SCAN-leftnet3ccd31ef9ecd/ddpm-epoch=1963-val-totloss=655.64.ckpt: 0.8914318952328981\n",
      "/misc/home/guest50/OAReactDiff/oa_reactdiff/trainer/checkpoint/OAReactDiff-SCAN/8w-lr2.5e-4-ValFix3-SCAN-leftnet3ccd31ef9ecd/ddpm-epoch=1951-val-totloss=649.85.ckpt: 0.8181294906333368\n",
      "/misc/home/guest50/OAReactDiff/oa_reactdiff/trainer/checkpoint/OAReactDiff-SCAN/8w-lr2.5e-4-ValFix3-SCAN-leftnet3ccd31ef9ecd/ddpm-epoch=1872-val-totloss=644.14.ckpt: 1.0\n",
      "/misc/home/guest50/OAReactDiff/oa_reactdiff/trainer/checkpoint/OAReactDiff-SCAN/8w-lr5e-4-ValFix3-SCAN-leftnetefadd8bd15e7/ddpm-epoch=1923-val-totloss=663.67.ckpt: 0.9820817691671239\n",
      "/misc/home/guest50/OAReactDiff/oa_reactdiff/trainer/checkpoint/OAReactDiff-SCAN/8w-lr5e-4-ValFix3-SCAN-leftnetefadd8bd15e7/ddpm-epoch=1698-val-totloss=663.60.ckpt: 0.43710303957936325\n",
      "/misc/home/guest50/OAReactDiff/oa_reactdiff/trainer/checkpoint/OAReactDiff-SCAN/8w-lr5e-4-ValFix3-SCAN-leftnetefadd8bd15e7/ddpm-epoch=1697-val-totloss=655.96.ckpt: 0.4299195561623925\n",
      "\n",
      "86536\n",
      "96126\n",
      "rcmconly_strecker-TS5528\n",
      "/misc/home/guest50/OAReactDiff/oa_reactdiff/trainer/checkpoint/OAReactDiff-SCAN/8wo-lr2.5e-4-ValFix3-SCAN-leftnetae2ad45e2dd8/ddpm-epoch=1814-val-totloss=760.52.ckpt: 1.0\n",
      "/misc/home/guest50/OAReactDiff/oa_reactdiff/trainer/checkpoint/OAReactDiff-SCAN/8wo-lr2.5e-4-ValFix3-SCAN-leftnetae2ad45e2dd8/ddpm-epoch=1697-val-totloss=747.86.ckpt: 0.38905402446572696\n",
      "/misc/home/guest50/OAReactDiff/oa_reactdiff/trainer/checkpoint/OAReactDiff-SCAN/8wo-lr5e-4-ValFix3-SCAN-leftnet3f50bcab0e5f/ddpm-epoch=1895-val-totloss=771.19.ckpt: 0.11492822050012504\n",
      "/misc/home/guest50/OAReactDiff/oa_reactdiff/trainer/checkpoint/OAReactDiff-SCAN/8wo-lr5e-4-ValFix3-SCAN-leftnet3f50bcab0e5f/ddpm-epoch=1802-val-totloss=768.32.ckpt: 0.41077456054011874\n",
      "/misc/home/guest50/OAReactDiff/oa_reactdiff/trainer/checkpoint/OAReactDiff-SCAN/8wo-lr5e-4-ValFix3-SCAN-leftnet3f50bcab0e5f/ddpm-epoch=1749-val-totloss=762.73.ckpt: 0.08624341412933069\n",
      "/misc/home/guest50/OAReactDiff/oa_reactdiff/trainer/checkpoint/OAReactDiff-SCAN/8wo-lr5e-4-ValFix3-SCAN-leftnet3f50bcab0e5f/ddpm-epoch=1380-val-totloss=760.11.ckpt: 0.3306684396018844\n",
      "/misc/home/guest50/OAReactDiff/oa_reactdiff/trainer/checkpoint/OAReactDiff-SCAN/8wo-lr5e-4-ValFix3-SCAN-leftnet3f50bcab0e5f/ddpm-epoch=1293-val-totloss=753.83.ckpt: 0.4774494658340677\n",
      "/misc/home/guest50/OAReactDiff/oa_reactdiff/trainer/checkpoint/OAReactDiff-SCAN/8w-lr2.5e-4-ValFix3-SCAN-leftnet3ccd31ef9ecd/ddpm-epoch=1963-val-totloss=655.64.ckpt: 0.2507313189035865\n",
      "/misc/home/guest50/OAReactDiff/oa_reactdiff/trainer/checkpoint/OAReactDiff-SCAN/8w-lr2.5e-4-ValFix3-SCAN-leftnet3ccd31ef9ecd/ddpm-epoch=1951-val-totloss=649.85.ckpt: 0.20431514334271206\n",
      "/misc/home/guest50/OAReactDiff/oa_reactdiff/trainer/checkpoint/OAReactDiff-SCAN/8w-lr2.5e-4-ValFix3-SCAN-leftnet3ccd31ef9ecd/ddpm-epoch=1872-val-totloss=644.14.ckpt: 0.8879502678004447\n",
      "/misc/home/guest50/OAReactDiff/oa_reactdiff/trainer/checkpoint/OAReactDiff-SCAN/8w-lr5e-4-ValFix3-SCAN-leftnetefadd8bd15e7/ddpm-epoch=1923-val-totloss=663.67.ckpt: 0.29484263668430494\n",
      "/misc/home/guest50/OAReactDiff/oa_reactdiff/trainer/checkpoint/OAReactDiff-SCAN/8w-lr5e-4-ValFix3-SCAN-leftnetefadd8bd15e7/ddpm-epoch=1698-val-totloss=663.60.ckpt: 1.0\n",
      "/misc/home/guest50/OAReactDiff/oa_reactdiff/trainer/checkpoint/OAReactDiff-SCAN/8w-lr5e-4-ValFix3-SCAN-leftnetefadd8bd15e7/ddpm-epoch=1697-val-totloss=655.96.ckpt: 0.22129960697527973\n",
      "\n",
      "88694\n",
      "98548\n",
      "rcmconly_strecker-TS7950\n",
      "/misc/home/guest50/OAReactDiff/oa_reactdiff/trainer/checkpoint/OAReactDiff-SCAN/8wo-lr2.5e-4-ValFix3-SCAN-leftnetae2ad45e2dd8/ddpm-epoch=1814-val-totloss=760.52.ckpt: 0.1030170103072711\n",
      "/misc/home/guest50/OAReactDiff/oa_reactdiff/trainer/checkpoint/OAReactDiff-SCAN/8wo-lr2.5e-4-ValFix3-SCAN-leftnetae2ad45e2dd8/ddpm-epoch=1697-val-totloss=747.86.ckpt: 1.0\n",
      "/misc/home/guest50/OAReactDiff/oa_reactdiff/trainer/checkpoint/OAReactDiff-SCAN/8wo-lr5e-4-ValFix3-SCAN-leftnet3f50bcab0e5f/ddpm-epoch=1895-val-totloss=771.19.ckpt: 0.16874170954539616\n",
      "/misc/home/guest50/OAReactDiff/oa_reactdiff/trainer/checkpoint/OAReactDiff-SCAN/8wo-lr5e-4-ValFix3-SCAN-leftnet3f50bcab0e5f/ddpm-epoch=1802-val-totloss=768.32.ckpt: 0.16105571223903026\n",
      "/misc/home/guest50/OAReactDiff/oa_reactdiff/trainer/checkpoint/OAReactDiff-SCAN/8wo-lr5e-4-ValFix3-SCAN-leftnet3f50bcab0e5f/ddpm-epoch=1749-val-totloss=762.73.ckpt: 1.0\n",
      "/misc/home/guest50/OAReactDiff/oa_reactdiff/trainer/checkpoint/OAReactDiff-SCAN/8wo-lr5e-4-ValFix3-SCAN-leftnet3f50bcab0e5f/ddpm-epoch=1380-val-totloss=760.11.ckpt: 0.928175461688438\n",
      "/misc/home/guest50/OAReactDiff/oa_reactdiff/trainer/checkpoint/OAReactDiff-SCAN/8wo-lr5e-4-ValFix3-SCAN-leftnet3f50bcab0e5f/ddpm-epoch=1293-val-totloss=753.83.ckpt: 0.2649425696071364\n",
      "/misc/home/guest50/OAReactDiff/oa_reactdiff/trainer/checkpoint/OAReactDiff-SCAN/8w-lr2.5e-4-ValFix3-SCAN-leftnet3ccd31ef9ecd/ddpm-epoch=1963-val-totloss=655.64.ckpt: 1.0\n",
      "/misc/home/guest50/OAReactDiff/oa_reactdiff/trainer/checkpoint/OAReactDiff-SCAN/8w-lr2.5e-4-ValFix3-SCAN-leftnet3ccd31ef9ecd/ddpm-epoch=1951-val-totloss=649.85.ckpt: 0.15745215923483136\n",
      "/misc/home/guest50/OAReactDiff/oa_reactdiff/trainer/checkpoint/OAReactDiff-SCAN/8w-lr2.5e-4-ValFix3-SCAN-leftnet3ccd31ef9ecd/ddpm-epoch=1872-val-totloss=644.14.ckpt: 0.6474031693014091\n",
      "/misc/home/guest50/OAReactDiff/oa_reactdiff/trainer/checkpoint/OAReactDiff-SCAN/8w-lr5e-4-ValFix3-SCAN-leftnetefadd8bd15e7/ddpm-epoch=1923-val-totloss=663.67.ckpt: 0.4874376917054513\n",
      "/misc/home/guest50/OAReactDiff/oa_reactdiff/trainer/checkpoint/OAReactDiff-SCAN/8w-lr5e-4-ValFix3-SCAN-leftnetefadd8bd15e7/ddpm-epoch=1698-val-totloss=663.60.ckpt: 0.9853328326773775\n",
      "/misc/home/guest50/OAReactDiff/oa_reactdiff/trainer/checkpoint/OAReactDiff-SCAN/8w-lr5e-4-ValFix3-SCAN-leftnetefadd8bd15e7/ddpm-epoch=1697-val-totloss=655.96.ckpt: 0.3564074376003017\n",
      "\n"
     ]
    }
   ],
   "source": [
    "selected_representation_triples = {}\n",
    "rs_rmsdsx = []\n",
    "ts_rmsdsx = []\n",
    "ps_rmsdsx = []\n",
    "\n",
    "selected_indices = selected_train_indices\n",
    "\n",
    "for i in range(len(dataset)): \n",
    "    representations, res = next(itl)\n",
    "    if i in selected_indices: #random_indices:\n",
    "        xyz_blocks = []\n",
    "        print(i)\n",
    "        train_idx = train_pkl[\"use_ind\"][i]\n",
    "        print(train_idx)\n",
    "        rxn_id = train_pkl[\"reactant\"][\"rxn\"][train_idx]\n",
    "        print(rxn_id)\n",
    "        n_samples = representations[0][\"size\"].size(0)\n",
    "        fragments_nodes = [\n",
    "            repre[\"size\"] for repre in representations\n",
    "        ]\n",
    "        conditions = torch.tensor([[0] for _ in range(n_samples)], device=device)\n",
    "        # skipping permutation of indices in reactant state\n",
    "        xh_fixed = [\n",
    "            torch.cat(\n",
    "                [repre[feature_type] for feature_type in FEATURE_MAPPING],\n",
    "                dim=1,\n",
    "            )\n",
    "            for repre in representations\n",
    "        ]\n",
    "        #print(xh_fixed[2].shape[0])\n",
    "        #print(train_pkl[\"reactant\"]['num_atoms'][train_idx])\n",
    "        assert xh_fixed[2].shape[0] == train_pkl[\"reactant\"]['num_atoms'][train_idx]\n",
    "        #ground_truth_ts = xh_fixed[1]\n",
    "\n",
    "        if output_dir is not None:            \n",
    "            # Now wrap up XYZs into an output file with informative comments.\n",
    "            file_name = f\"{rxn_id}.xyz\"\n",
    "            # Reactant state, two versions\n",
    "            rs_ref_xyz = xyz_block_from_node_features(xh_fixed[0], comment=f\"True/calculated reference reactant state.\")\n",
    "            xyz_blocks.append(rs_ref_xyz)\n",
    "            #rs_rec_xyz = xyz_block_from_node_features(out_samples[0][0], comment=f\"Reconstructed reactant state. RMSD: {str(round(rs_rmsds[0],6))} Å.\")\n",
    "            #xyz_blocks.append(rs_rec_xyz)\n",
    "            \n",
    "            # Transition state, two versions\n",
    "            ts_ref_xyz = xyz_block_from_node_features(xh_fixed[1], comment=f\"True/calculated reference transition state.\")\n",
    "            xyz_blocks.append(ts_ref_xyz)\n",
    "            #ts_gen_xyz = xyz_block_from_node_features(out_samples[0][1], comment=f\"Generated/inpainted transition state. RMSD: {str(round(ts_rmsds[0],6))} Å.\")\n",
    "            #xyz_blocks.append(ts_gen_xyz)\n",
    "    \n",
    "            # Product state, two versions\n",
    "            ps_ref_xyz = xyz_block_from_node_features(xh_fixed[2], comment=f\"True/calculated reference product state.\")\n",
    "            xyz_blocks.append(ps_ref_xyz)\n",
    "            #ps_rec_xyz = xyz_block_from_node_feattotures(out_samples[0][2], comment=f\"Reconstructed product state. RMSD: {str(round(ps_rmsds[0],6))} Å.\")\n",
    "            #xyz_blocks.append(ps_rec_xyz)\n",
    "\n",
    "        for checkpoint_path, ckpt_vals in selected_checkpoint_paths.items():\n",
    "            checkpoint_name = f\"{os.path.dirname(checkpoint_path)}/{os.path.basename(checkpoint_path)}\" \n",
    "            ddpm_trainer = prep_ddpm_trainer(checkpoint_path, device=device)\n",
    "            out_samples, out_masks = ddpm_trainer.ddpm.inpaint(\n",
    "                n_samples=n_samples,\n",
    "                fragments_nodes=fragments_nodes,\n",
    "                conditions=conditions,\n",
    "                return_frames=1,\n",
    "                resamplings=5,\n",
    "                jump_length=5,\n",
    "                timesteps=None,\n",
    "                xh_fixed=xh_fixed,\n",
    "                frag_fixed=[0, 2],\n",
    "            )\n",
    "            \n",
    "            # # reactant state (ts_..):\n",
    "            # rs_rmsds = batch_rmsd(\n",
    "            #     fragments_nodes, \n",
    "            #     out_samples[0],\n",
    "            #     xh_fixed,\n",
    "            #     idx=0,\n",
    "            # )\n",
    "            # print(rs_rmsds)\n",
    "            # rs_rmsdsx.append(rs_rmsds[0])\n",
    "    \n",
    "            # transition state (ts_..):\n",
    "            ts_rmsds = batch_rmsd(\n",
    "                fragments_nodes, \n",
    "                out_samples[0],\n",
    "                xh_fixed,\n",
    "                idx=1,\n",
    "            )\n",
    "            print(f\"{checkpoint_name}: {ts_rmsds[0]}\")\n",
    "            per_checkpoint_ts_rmsds[checkpoint_name].append(ts_rmsds[0])\n",
    "\n",
    "            if output_dir is not None:\n",
    "                ts_gen_xyz = xyz_block_from_node_features(out_samples[0][1], comment=f\"Generated/inpainted transition state. RMSD: {str(round(ts_rmsds[0],6))} Å. By model {checkpoint_name}.\")\n",
    "                xyz_blocks.append(ts_gen_xyz)\n",
    "        \n",
    "            # # product state (ps_..):\n",
    "            # ps_rmsds = batch_rmsd(\n",
    "            #     fragments_nodes, \n",
    "            #     out_samples[0],\n",
    "            #     xh_fixed,\n",
    "            #     idx=2,\n",
    "            # )\n",
    "            # print(ps_rmsds)\n",
    "            # ps_rmsdsx.append(ps_rmsds[0])\n",
    "            #assert len(rmsds) == 1\n",
    "        print(\"\")\n",
    "\n",
    "        if output_dir is not None:\n",
    "            with open(os.path.join(output_dir, file_name), \"w\") as f_out:\n",
    "                f_out.write(\"\\n\".join(xyz_blocks))\n",
    "            \n",
    "        if i == selected_indices[-1]: # no need to keep iterating.\n",
    "            break"
   ]
  },
  {
   "cell_type": "code",
   "execution_count": 45,
   "id": "9ba12d45-a97b-41b3-a0ea-ffa65135447f",
   "metadata": {},
   "outputs": [
    {
     "data": {
      "text/plain": [
       "0.7692307692307692"
      ]
     },
     "execution_count": 45,
     "metadata": {},
     "output_type": "execute_result"
    }
   ],
   "source": [
    "1-3/13"
   ]
  },
  {
   "cell_type": "code",
   "execution_count": 46,
   "id": "ed5c5cdb-c1e6-44d7-b306-68a3860e3c25",
   "metadata": {},
   "outputs": [
    {
     "name": "stdout",
     "output_type": "stream",
     "text": [
      "{55285: 'WL1-TS784',\n",
      " 60530: 'WL1-TS6029',\n",
      " 65694: 'WL1-TS11193',\n",
      " 73602: 'rcmconly_passerini-TS1206',\n",
      " 77831: 'rcmconly_passerini-TS5435',\n",
      " 79790: 'rcmconly_passerini-TS7394',\n",
      " 86001: 'rcmconly_passerini-TS13605',\n",
      " 88361: 'rcmconly_passerini-TS15965',\n",
      " 89724: 'rcmconly_passerini-TS17328',\n",
      " 90001: 'rcmconly_passerini-TS17605',\n",
      " 94576: 'rcmconly_strecker-TS3978',\n",
      " 96126: 'rcmconly_strecker-TS5528',\n",
      " 98548: 'rcmconly_strecker-TS7950'}\n"
     ]
    }
   ],
   "source": [
    "#select_rxns\n",
    "pprint(dict(sorted(selected_rxns_dict.items())))"
   ]
  },
  {
   "cell_type": "code",
   "execution_count": 47,
   "id": "c245a811-c69b-437c-a686-0cd4cfcc4006",
   "metadata": {},
   "outputs": [
    {
     "name": "stdout",
     "output_type": "stream",
     "text": [
      "Transition state inpainting RMSD was mean ± std.dev.: \t\t0.356407 \t± 0.0 Å.\n"
     ]
    }
   ],
   "source": [
    "# Report/analysis of RMSDs seen:\n",
    "\n",
    "#rs_mean = round(np.mean(rs_rmsdsx), 6)\n",
    "#rs_std = round(np.std(rs_rmsdsx), 6)\n",
    "#print(f\"Reactant state reconstruction RMSD was mean ± std.dev.: \\t{rs_mean} \\t± {rs_std} Å.\")\n",
    "ts_mean = round(np.mean(ts_rmsds), 6)\n",
    "ts_std = round(np.std(ts_rmsds), 6)\n",
    "print(f\"Transition state inpainting RMSD was mean ± std.dev.: \\t\\t{ts_mean} \\t± {ts_std} Å.\")\n",
    "#ps_mean = round(np.mean(ps_rmsdsx), 6)\n",
    "#ps_std = round(np.std(ps_rmsdsx), 6)\n",
    "#print(f\"Product state reconstruction RMSD was mean ± std.dev.: \\t\\t{ps_mean} \\t± {ps_std} Å.\")"
   ]
  },
  {
   "cell_type": "markdown",
   "id": "a58b56ff-c9da-4b28-8bbb-26a09bc76bbd",
   "metadata": {},
   "source": [
    "Tried checkpoints, fraction of RMSD==1.0, and mean RMSD:\n",
    "\n",
    "`checkpoint_path=\"./oa_reactdiff/trainer/checkpoint/OAReactDiff-SCAN/leftnet-SCAN-6-w_selfoops-lr2.5e-4-rcmconly_passerini-03516f3022c5/...`\n",
    "\n",
    "`ddpm-epoch=999-val-totloss=770.24.ckpt`: ...    \n",
    "\n",
    "`ddpm-epoch=1799-val-totloss=787.66.ckpt`: 12/20, 0.819974 \t± 0.273995 Å.\n"
   ]
  },
  {
   "cell_type": "code",
   "execution_count": 49,
   "id": "d58d083b-f3b4-44da-8f3d-8c12872ca765",
   "metadata": {},
   "outputs": [
    {
     "name": "stdout",
     "output_type": "stream",
     "text": [
      "/misc/home/guest50/OAReactDiff/oa_reactdiff/trainer/checkpoint/OAReactDiff-SCAN/8wo-lr2.5e-4-ValFix3-SCAN-leftnetae2ad45e2dd8/ddpm-epoch=1814-val-totloss=760.52.ckpt\n",
      "/misc/home/guest50/OAReactDiff/oa_reactdiff/trainer/checkpoint/OAReactDiff-SCAN/8wo-lr2.5e-4-ValFix3-SCAN-leftnetae2ad45e2dd8/ddpm-epoch=1814-val-totloss=760.52.ckpt\n",
      "    Transition state inpainting RMSD was mean ± std.dev.: \t\t0.652573 \t± 0.330465 Å.\n",
      "    Number of 1.0 RMSD indicating complete failure: 4 out of 12.\n",
      "\n",
      "/misc/home/guest50/OAReactDiff/oa_reactdiff/trainer/checkpoint/OAReactDiff-SCAN/8wo-lr2.5e-4-ValFix3-SCAN-leftnetae2ad45e2dd8/ddpm-epoch=1697-val-totloss=747.86.ckpt\n",
      "/misc/home/guest50/OAReactDiff/oa_reactdiff/trainer/checkpoint/OAReactDiff-SCAN/8wo-lr2.5e-4-ValFix3-SCAN-leftnetae2ad45e2dd8/ddpm-epoch=1697-val-totloss=747.86.ckpt\n",
      "    Transition state inpainting RMSD was mean ± std.dev.: \t\t0.711723 \t± 0.259058 Å.\n",
      "    Number of 1.0 RMSD indicating complete failure: 3 out of 12.\n",
      "\n",
      "/misc/home/guest50/OAReactDiff/oa_reactdiff/trainer/checkpoint/OAReactDiff-SCAN/8wo-lr5e-4-ValFix3-SCAN-leftnet3f50bcab0e5f/ddpm-epoch=1895-val-totloss=771.19.ckpt\n",
      "/misc/home/guest50/OAReactDiff/oa_reactdiff/trainer/checkpoint/OAReactDiff-SCAN/8wo-lr5e-4-ValFix3-SCAN-leftnet3f50bcab0e5f/ddpm-epoch=1895-val-totloss=771.19.ckpt\n",
      "    Transition state inpainting RMSD was mean ± std.dev.: \t\t0.549823 \t± 0.349318 Å.\n",
      "    Number of 1.0 RMSD indicating complete failure: 1 out of 12.\n",
      "\n",
      "/misc/home/guest50/OAReactDiff/oa_reactdiff/trainer/checkpoint/OAReactDiff-SCAN/8wo-lr5e-4-ValFix3-SCAN-leftnet3f50bcab0e5f/ddpm-epoch=1802-val-totloss=768.32.ckpt\n",
      "/misc/home/guest50/OAReactDiff/oa_reactdiff/trainer/checkpoint/OAReactDiff-SCAN/8wo-lr5e-4-ValFix3-SCAN-leftnet3f50bcab0e5f/ddpm-epoch=1802-val-totloss=768.32.ckpt\n",
      "    Transition state inpainting RMSD was mean ± std.dev.: \t\t0.546197 \t± 0.27772 Å.\n",
      "    Number of 1.0 RMSD indicating complete failure: 1 out of 12.\n",
      "\n",
      "/misc/home/guest50/OAReactDiff/oa_reactdiff/trainer/checkpoint/OAReactDiff-SCAN/8wo-lr5e-4-ValFix3-SCAN-leftnet3f50bcab0e5f/ddpm-epoch=1749-val-totloss=762.73.ckpt\n",
      "/misc/home/guest50/OAReactDiff/oa_reactdiff/trainer/checkpoint/OAReactDiff-SCAN/8wo-lr5e-4-ValFix3-SCAN-leftnet3f50bcab0e5f/ddpm-epoch=1749-val-totloss=762.73.ckpt\n",
      "    Transition state inpainting RMSD was mean ± std.dev.: \t\t0.698722 \t± 0.322631 Å.\n",
      "    Number of 1.0 RMSD indicating complete failure: 2 out of 12.\n",
      "\n",
      "/misc/home/guest50/OAReactDiff/oa_reactdiff/trainer/checkpoint/OAReactDiff-SCAN/8wo-lr5e-4-ValFix3-SCAN-leftnet3f50bcab0e5f/ddpm-epoch=1380-val-totloss=760.11.ckpt\n",
      "/misc/home/guest50/OAReactDiff/oa_reactdiff/trainer/checkpoint/OAReactDiff-SCAN/8wo-lr5e-4-ValFix3-SCAN-leftnet3f50bcab0e5f/ddpm-epoch=1380-val-totloss=760.11.ckpt\n",
      "    Transition state inpainting RMSD was mean ± std.dev.: \t\t0.847678 \t± 0.252633 Å.\n",
      "    Number of 1.0 RMSD indicating complete failure: 8 out of 12.\n",
      "\n",
      "/misc/home/guest50/OAReactDiff/oa_reactdiff/trainer/checkpoint/OAReactDiff-SCAN/8wo-lr5e-4-ValFix3-SCAN-leftnet3f50bcab0e5f/ddpm-epoch=1293-val-totloss=753.83.ckpt\n",
      "/misc/home/guest50/OAReactDiff/oa_reactdiff/trainer/checkpoint/OAReactDiff-SCAN/8wo-lr5e-4-ValFix3-SCAN-leftnet3f50bcab0e5f/ddpm-epoch=1293-val-totloss=753.83.ckpt\n",
      "    Transition state inpainting RMSD was mean ± std.dev.: \t\t0.686915 \t± 0.291331 Å.\n",
      "    Number of 1.0 RMSD indicating complete failure: 4 out of 12.\n",
      "\n",
      "/misc/home/guest50/OAReactDiff/oa_reactdiff/trainer/checkpoint/OAReactDiff-SCAN/8w-lr2.5e-4-ValFix3-SCAN-leftnet3ccd31ef9ecd/ddpm-epoch=1963-val-totloss=655.64.ckpt\n",
      "/misc/home/guest50/OAReactDiff/oa_reactdiff/trainer/checkpoint/OAReactDiff-SCAN/8w-lr2.5e-4-ValFix3-SCAN-leftnet3ccd31ef9ecd/ddpm-epoch=1963-val-totloss=655.64.ckpt\n",
      "    Transition state inpainting RMSD was mean ± std.dev.: \t\t0.672634 \t± 0.295257 Å.\n",
      "    Number of 1.0 RMSD indicating complete failure: 2 out of 12.\n",
      "\n",
      "/misc/home/guest50/OAReactDiff/oa_reactdiff/trainer/checkpoint/OAReactDiff-SCAN/8w-lr2.5e-4-ValFix3-SCAN-leftnet3ccd31ef9ecd/ddpm-epoch=1951-val-totloss=649.85.ckpt\n",
      "/misc/home/guest50/OAReactDiff/oa_reactdiff/trainer/checkpoint/OAReactDiff-SCAN/8w-lr2.5e-4-ValFix3-SCAN-leftnet3ccd31ef9ecd/ddpm-epoch=1951-val-totloss=649.85.ckpt\n",
      "    Transition state inpainting RMSD was mean ± std.dev.: \t\t0.615474 \t± 0.326235 Å.\n",
      "    Number of 1.0 RMSD indicating complete failure: 1 out of 12.\n",
      "\n",
      "/misc/home/guest50/OAReactDiff/oa_reactdiff/trainer/checkpoint/OAReactDiff-SCAN/8w-lr2.5e-4-ValFix3-SCAN-leftnet3ccd31ef9ecd/ddpm-epoch=1872-val-totloss=644.14.ckpt\n",
      "/misc/home/guest50/OAReactDiff/oa_reactdiff/trainer/checkpoint/OAReactDiff-SCAN/8w-lr2.5e-4-ValFix3-SCAN-leftnet3ccd31ef9ecd/ddpm-epoch=1872-val-totloss=644.14.ckpt\n",
      "    Transition state inpainting RMSD was mean ± std.dev.: \t\t0.650307 \t± 0.319062 Å.\n",
      "    Number of 1.0 RMSD indicating complete failure: 4 out of 12.\n",
      "\n",
      "/misc/home/guest50/OAReactDiff/oa_reactdiff/trainer/checkpoint/OAReactDiff-SCAN/8w-lr5e-4-ValFix3-SCAN-leftnetefadd8bd15e7/ddpm-epoch=1923-val-totloss=663.67.ckpt\n",
      "/misc/home/guest50/OAReactDiff/oa_reactdiff/trainer/checkpoint/OAReactDiff-SCAN/8w-lr5e-4-ValFix3-SCAN-leftnetefadd8bd15e7/ddpm-epoch=1923-val-totloss=663.67.ckpt\n",
      "    Transition state inpainting RMSD was mean ± std.dev.: \t\t0.618559 \t± 0.255953 Å.\n",
      "    Number of 1.0 RMSD indicating complete failure: 1 out of 12.\n",
      "\n",
      "/misc/home/guest50/OAReactDiff/oa_reactdiff/trainer/checkpoint/OAReactDiff-SCAN/8w-lr5e-4-ValFix3-SCAN-leftnetefadd8bd15e7/ddpm-epoch=1698-val-totloss=663.60.ckpt\n",
      "/misc/home/guest50/OAReactDiff/oa_reactdiff/trainer/checkpoint/OAReactDiff-SCAN/8w-lr5e-4-ValFix3-SCAN-leftnetefadd8bd15e7/ddpm-epoch=1698-val-totloss=663.60.ckpt\n",
      "    Transition state inpainting RMSD was mean ± std.dev.: \t\t0.787942 \t± 0.21971 Å.\n",
      "    Number of 1.0 RMSD indicating complete failure: 3 out of 12.\n",
      "\n",
      "/misc/home/guest50/OAReactDiff/oa_reactdiff/trainer/checkpoint/OAReactDiff-SCAN/8w-lr5e-4-ValFix3-SCAN-leftnetefadd8bd15e7/ddpm-epoch=1697-val-totloss=655.96.ckpt\n",
      "/misc/home/guest50/OAReactDiff/oa_reactdiff/trainer/checkpoint/OAReactDiff-SCAN/8w-lr5e-4-ValFix3-SCAN-leftnetefadd8bd15e7/ddpm-epoch=1697-val-totloss=655.96.ckpt\n",
      "    Transition state inpainting RMSD was mean ± std.dev.: \t\t0.607302 \t± 0.303864 Å.\n",
      "    Number of 1.0 RMSD indicating complete failure: 3 out of 12.\n",
      "\n"
     ]
    }
   ],
   "source": [
    "for checkpoint_name, ts_rmsds in per_checkpoint_ts_rmsds.items():\n",
    "    print(checkpoint_name)\n",
    "    ts_mean = round(np.mean(ts_rmsds), 6)\n",
    "    ts_std = round(np.std(ts_rmsds), 6)\n",
    "    failures = len([x for x in ts_rmsds if x == 1.0])\n",
    "    print(checkpoint_name)\n",
    "    print(f\"    Transition state inpainting RMSD was mean ± std.dev.: \\t\\t{ts_mean} \\t± {ts_std} Å.\")\n",
    "    print(f\"    Number of 1.0 RMSD indicating complete failure: {failures} out of {len(ts_rmsds)}.\")\n",
    "    print(\"\")"
   ]
  },
  {
   "cell_type": "code",
   "execution_count": 52,
   "id": "d4762e72-d886-4a70-b926-c5e8c92f321d",
   "metadata": {},
   "outputs": [
    {
     "data": {
      "text/plain": [
       "'/misc/home/guest50/OAReactDiff/results/sample_selected_TS-20250703-SCAN-6_7-w_wo_selfloops-lr2_5_lr5_0e-4-ValFix3'"
      ]
     },
     "execution_count": 52,
     "metadata": {},
     "output_type": "execute_result"
    }
   ],
   "source": [
    "output_dir"
   ]
  },
  {
   "cell_type": "code",
   "execution_count": null,
   "id": "252a6096-fb93-4110-9947-da3bf156a747",
   "metadata": {},
   "outputs": [],
   "source": []
  }
 ],
 "metadata": {
  "kernelspec": {
   "display_name": "Python 3 (ipykernel)",
   "language": "python",
   "name": "python3"
  },
  "language_info": {
   "codemirror_mode": {
    "name": "ipython",
    "version": 3
   },
   "file_extension": ".py",
   "mimetype": "text/x-python",
   "name": "python",
   "nbconvert_exporter": "python",
   "pygments_lexer": "ipython3",
   "version": "3.10.8"
  }
 },
 "nbformat": 4,
 "nbformat_minor": 5
}
