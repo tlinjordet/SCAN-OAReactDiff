{
 "cells": [
  {
   "cell_type": "markdown",
   "id": "77fb1e04-0409-4927-8412-06656d122d74",
   "metadata": {},
   "source": [
    "# Apply this code to sample TS from model."
   ]
  },
  {
   "cell_type": "code",
   "execution_count": 1,
   "id": "__bohr_old_version_cellId_3__",
   "metadata": {
    "ExecuteTime": {
     "end_time": "2023-10-02T19:44:52.843133900Z",
     "start_time": "2023-10-02T19:44:49.803291700Z"
    }
   },
   "outputs": [],
   "source": [
    "# --- Importing and defining some functions ----\n",
    "import os\n",
    "import torch\n",
    "import py3Dmol\n",
    "import numpy as np\n",
    "\n",
    "from typing import Optional\n",
    "from torch import tensor\n",
    "from e3nn import o3\n",
    "from torch_scatter import scatter_mean\n",
    "\n",
    "from oa_reactdiff.model import LEFTNet\n",
    "\n",
    "default_float = torch.float64\n",
    "torch.set_default_dtype(default_float)  # Use double precision for more accurate testing\n",
    "\n",
    "\n",
    "def remove_mean_batch(\n",
    "    x: tensor, \n",
    "    indices: Optional[tensor] = None\n",
    ") -> tensor:\n",
    "    \"\"\"Remove the mean from each batch in x\n",
    "\n",
    "    Args:\n",
    "        x (tensor): input tensor.\n",
    "        indices (Optional[tensor], optional): batch indices. Defaults to None.\n",
    "\n",
    "    Returns:\n",
    "        tensor: output tensor with batch mean as 0.\n",
    "    \"\"\"\n",
    "    if indices == None:\n",
    "         return x - torch.mean(x, dim=0)\n",
    "    mean = scatter_mean(x, indices, dim=0)\n",
    "    x = x - mean[indices]\n",
    "    return x\n",
    "\n",
    "\n",
    "def draw_in_3dmol(mol: str, fmt: str = \"xyz\") -> py3Dmol.view:\n",
    "    \"\"\"Draw the molecule\n",
    "\n",
    "    Args:\n",
    "        mol (str): str content of molecule.\n",
    "        fmt (str, optional): format. Defaults to \"xyz\".\n",
    "\n",
    "    Returns:\n",
    "        py3Dmol.view: output viewer\n",
    "    \"\"\"\n",
    "    viewer = py3Dmol.view(1024, 576)\n",
    "    viewer.addModel(mol, fmt)\n",
    "    viewer.setStyle({'stick': {}, \"sphere\": {\"radius\": 0.36}})\n",
    "    viewer.zoomTo()\n",
    "    return viewer\n",
    "\n",
    "\n",
    "def assemble_xyz(z: list, pos: tensor) -> str:\n",
    "    \"\"\"Assembling atomic numbers and positions into xyz format\n",
    "\n",
    "    Args:\n",
    "        z (list): chemical elements\n",
    "        pos (tensor): 3D coordinates\n",
    "\n",
    "    Returns:\n",
    "        str: xyz string\n",
    "    \"\"\"\n",
    "    natoms =len(z)\n",
    "    xyz = f\"{natoms}\\n\\n\"\n",
    "    for _z, _pos in zip(z, pos.numpy()):\n",
    "        xyz += f\"{_z}\\t\" + \"\\t\".join([str(x) for x in _pos]) + \"\\n\"\n",
    "    return xyz"
   ]
  },
  {
   "cell_type": "markdown",
   "id": "__bohr_old_version_cellId_4__",
   "metadata": {},
   "source": [
    "### Building a LEFTNet model\n",
    "\n",
    "A simple test is performed to verify SE(3) symmetry. The model here is for testing, so we only need to build a very small model.\n",
    "\n",
    "Note: [LEFTNet](https://arxiv.org/abs/2304.04757) is a new SOTA-level SE(3) graph neural network. Although we use LEFTNet here, the properties it exhibits are model-independent (other SE(3) models, such as [EGNN](https://arxiv.org/pdf/2102.09844.pdf), will give the same results)\n",
    "\n",
    "TL: EGNN is not SE$(3)$  equivariant?"
   ]
  },
  {
   "cell_type": "code",
   "execution_count": 2,
   "id": "__bohr_old_version_cellId_5__",
   "metadata": {
    "ExecuteTime": {
     "end_time": "2023-10-02T20:08:08.703724800Z",
     "start_time": "2023-10-02T20:08:08.653181600Z"
    }
   },
   "outputs": [
    {
     "name": "stderr",
     "output_type": "stream",
     "text": [
      "/misc/home/guest50/micromamba/envs/oa_reactdiff_m/lib/python3.10/site-packages/torch_geometric/nn/conv/message_passing.py:972: UserWarning: 'EquiMessage.jittable' is deprecated and a no-op. Please remove its usage.\n",
      "  warnings.warn(f\"'{self.__class__.__name__}.jittable' is deprecated \"\n"
     ]
    },
    {
     "data": {
      "text/plain": [
       "7882"
      ]
     },
     "execution_count": 2,
     "metadata": {},
     "output_type": "execute_result"
    }
   ],
   "source": [
    "num_layers = 2\n",
    "hidden_channels = 8\n",
    "in_hidden_channels = 4\n",
    "num_radial = 4\n",
    "\n",
    "model =  LEFTNet(\n",
    "    num_layers=num_layers,\n",
    "    hidden_channels=hidden_channels,\n",
    "    in_hidden_channels=in_hidden_channels,\n",
    "    num_radial=num_radial,\n",
    "    object_aware=False,\n",
    ")\n",
    "\n",
    "sum(p.numel() for p in model.parameters() if p.requires_grad)"
   ]
  },
  {
   "cell_type": "raw",
   "id": "ed71048b-49d6-4591-b70c-547e351ff6ad",
   "metadata": {
    "ExecuteTime": {
     "end_time": "2023-10-02T20:08:28.715004500Z",
     "start_time": "2023-10-02T20:08:28.630190700Z"
    }
   },
   "source": [
    "xyz = assemble_xyz(z, pos)\n",
    "view = draw_in_3dmol(xyz, \"xyz\")\n",
    "view  # Display Molecules"
   ]
  },
  {
   "cell_type": "markdown",
   "id": "__bohr_old_version_cellId_34__",
   "metadata": {},
   "source": [
    "\n",
    "\n",
    "### Create an \"Object-Aware\" LEFTNet"
   ]
  },
  {
   "cell_type": "raw",
   "id": "5898122e-1a04-40bf-a934-dd837271ee89",
   "metadata": {
    "ExecuteTime": {
     "end_time": "2023-10-02T20:31:35.925564Z",
     "start_time": "2023-10-02T20:31:35.902036100Z"
    }
   },
   "source": [
    "model_oa =  LEFTNet(\n",
    "    num_layers=num_layers,\n",
    "    hidden_channels=hidden_channels,\n",
    "    in_hidden_channels=in_hidden_channels,\n",
    "    num_radial=num_radial,\n",
    "    object_aware=True,  # Using the object-aware model\n",
    ")"
   ]
  },
  {
   "cell_type": "code",
   "execution_count": 3,
   "id": "__bohr_old_version_cellId_46__",
   "metadata": {
    "ExecuteTime": {
     "end_time": "2023-10-02T20:31:55.072136100Z",
     "start_time": "2023-10-02T20:31:55.024148400Z"
    }
   },
   "outputs": [],
   "source": [
    "# --- Importing necessary function ---\n",
    "from torch.utils.data import DataLoader\n",
    "\n",
    "from oa_reactdiff.trainer.pl_trainer import DDPMModule\n",
    "\n",
    "\n",
    "from oa_reactdiff.dataset import ProcessedTS1x, ProcessedSCAN\n",
    "from oa_reactdiff.diffusion._schedule import DiffSchedule, PredefinedNoiseSchedule\n",
    "\n",
    "from oa_reactdiff.diffusion._normalizer import FEATURE_MAPPING\n",
    "from oa_reactdiff.analyze.rmsd import batch_rmsd\n",
    "\n",
    "from oa_reactdiff.utils.sampling_tools import assemble_sample_inputs, write_tmp_xyz"
   ]
  },
  {
   "cell_type": "code",
   "execution_count": 4,
   "id": "96b9d00f-f0fc-42f3-8ebb-255af0c0e491",
   "metadata": {},
   "outputs": [
    {
     "name": "stdout",
     "output_type": "stream",
     "text": [
      "/misc/home/guest50/OAReactDiff\n"
     ]
    }
   ],
   "source": [
    "!pwd"
   ]
  },
  {
   "cell_type": "markdown",
   "id": "__bohr_old_version_cellId_47__",
   "metadata": {},
   "source": [
    "\n",
    "### Import the pre-trained model and redefine the schedule."
   ]
  },
  {
   "cell_type": "code",
   "execution_count": 6,
   "id": "__bohr_old_version_cellId_48__",
   "metadata": {
    "ExecuteTime": {
     "end_time": "2023-10-02T20:31:55.921080700Z",
     "start_time": "2023-10-02T20:31:55.869082Z"
    }
   },
   "outputs": [
    {
     "name": "stdout",
     "output_type": "stream",
     "text": [
      "cuda\n",
      "/misc/home/guest50/OAReactDiff/oa_reactdiff/trainer\n"
     ]
    },
    {
     "name": "stderr",
     "output_type": "stream",
     "text": [
      "/misc/home/guest50/micromamba/envs/oa_reactdiff_m/lib/python3.10/site-packages/torch_geometric/nn/conv/message_passing.py:972: UserWarning: 'EquiMessage.jittable' is deprecated and a no-op. Please remove its usage.\n",
      "  warnings.warn(f\"'{self.__class__.__name__}.jittable' is deprecated \"\n",
      "/misc/home/guest50/micromamba/envs/oa_reactdiff_m/lib/python3.10/site-packages/torchmetrics/utilities/prints.py:43: UserWarning: Metric `SpearmanCorrcoef` will save all targets and predictions in the buffer. For large datasets, this may lead to large memory footprint.\n",
      "  warnings.warn(*args, **kwargs)  # noqa: B028\n"
     ]
    }
   ],
   "source": [
    "# TL fix: {\n",
    "from oa_reactdiff.trainer.pl_trainer import ConfModule, DDPMModule\n",
    "# } fix. Why didn' this carry over from the previous cell import statement?\n",
    "\n",
    "device = torch.device(\"cpu\") if not torch.cuda.is_available() else torch.device(\"cuda\")\n",
    "print(device) # TL\n",
    "\n",
    "tspath = os.path.abspath(os.path.join(os.getcwd(), \"oa_reactdiff\",\"trainer\"))\n",
    "print(tspath)\n",
    "# zenodo_pretrained_ckpt\n",
    "ddpm_trainer = ConfModule.load_from_checkpoint(\n",
    "    checkpoint_path=\"./trained_models/TSDiffusion-TS1x-All-Confidence-epoch1999.ckpt\",\n",
    "    #checkpoint_path=os.path.abspath(\"/misc/home/guest50/OAReactDiff/oa_reactdiff/trainer/checkpoint/OAReactDiff/leftnet-0-84724de349da/ddpm-epoch=1964-val-totloss=510.42.ckpt\"),\n",
    "    #checkpoint_path=os.path.abspath(\"/misc/home/guest50/OAReactDiff/oa_reactdiff/trainer/checkpoint/OAReactDiff/leftnet-0-84724de349da/ddpm-epoch=1999-val-totloss=523.77.ckpt\"),\n",
    "    #checkpoint_path=\"./pretrained-ts1x-diff.ckpt\", # original\n",
    "    #checkpoint_path=f\"{tspath}/checkpoint/OAReactDiff/leftnet-0-f1ff7dc18fa3/ddpm-epoch=1999-val-totloss=509.31.ckpt\", # Our recapitulation\n",
    "    map_location=device,\n",
    ")\n",
    "ddpm_trainer = ddpm_trainer.to(device)"
   ]
  },
  {
   "cell_type": "markdown",
   "id": "993535b3-4151-4855-8521-9cde2476dfa1",
   "metadata": {},
   "source": [
    "# Confidence model cannot do inpainting, why was the official version better?"
   ]
  },
  {
   "cell_type": "code",
   "execution_count": 9,
   "id": "eabc8691-e78d-48a0-b29d-e14763ebbfe5",
   "metadata": {},
   "outputs": [
    {
     "data": {
      "text/plain": [
       "dict_keys(['epoch', 'global_step', 'pytorch-lightning_version', 'state_dict', 'loops', 'callbacks', 'optimizer_states', 'lr_schedulers', 'hparams_name', 'hyper_parameters'])"
      ]
     },
     "execution_count": 9,
     "metadata": {},
     "output_type": "execute_result"
    }
   ],
   "source": [
    "# Tangent: lookk at checkpoint metadata:\n",
    "conf_ckpt = torch.load(\"./trained_models/TSDiffusion-TS1x-All-Confidence-epoch1999.ckpt\", map_location=\"cpu\")\n",
    "conf_ckpt.keys()"
   ]
  },
  {
   "cell_type": "code",
   "execution_count": 10,
   "id": "a1f0f4e3-2223-46bf-93f2-deb8c863aaca",
   "metadata": {},
   "outputs": [
    {
     "data": {
      "text/plain": [
       "1999"
      ]
     },
     "execution_count": 10,
     "metadata": {},
     "output_type": "execute_result"
    }
   ],
   "source": [
    "conf_ckpt[\"epoch\"]"
   ]
  },
  {
   "cell_type": "code",
   "execution_count": 11,
   "id": "54dec741-029a-4c7b-95a5-bf9e26227d09",
   "metadata": {},
   "outputs": [],
   "source": [
    "zenodo_TS1x_pretrain_ckpt = torch.load(\"./trained_models/pretrained-ts1x-diff-zenodo.ckpt\", map_location=\"cpu\")"
   ]
  },
  {
   "cell_type": "code",
   "execution_count": 12,
   "id": "21cf2224-f50a-4704-bcef-721aa2a0f113",
   "metadata": {},
   "outputs": [
    {
     "data": {
      "text/plain": [
       "dict_keys(['epoch', 'global_step', 'pytorch-lightning_version', 'state_dict', 'loops', 'callbacks', 'optimizer_states', 'lr_schedulers', 'hparams_name', 'hyper_parameters'])"
      ]
     },
     "execution_count": 12,
     "metadata": {},
     "output_type": "execute_result"
    }
   ],
   "source": [
    "zenodo_TS1x_pretrain_ckpt.keys()"
   ]
  },
  {
   "cell_type": "code",
   "execution_count": 13,
   "id": "c146c1b2-7ca2-41ee-81eb-8b6c1c7fd95c",
   "metadata": {},
   "outputs": [
    {
     "data": {
      "text/plain": [
       "2075"
      ]
     },
     "execution_count": 13,
     "metadata": {},
     "output_type": "execute_result"
    }
   ],
   "source": [
    "zenodo_TS1x_pretrain_ckpt[\"epoch\"]"
   ]
  },
  {
   "cell_type": "code",
   "execution_count": 14,
   "id": "f29cad89-4508-4fb5-9b1e-63f1962deb87",
   "metadata": {},
   "outputs": [
    {
     "data": {
      "text/plain": [
       "147325"
      ]
     },
     "execution_count": 14,
     "metadata": {},
     "output_type": "execute_result"
    }
   ],
   "source": [
    "zenodo_TS1x_pretrain_ckpt[\"global_step\"]"
   ]
  },
  {
   "cell_type": "code",
   "execution_count": 15,
   "id": "6ff98436-1d56-4fb6-957e-b6a890f3b43f",
   "metadata": {},
   "outputs": [
    {
     "data": {
      "text/plain": [
       "'1.8.6'"
      ]
     },
     "execution_count": 15,
     "metadata": {},
     "output_type": "execute_result"
    }
   ],
   "source": [
    "zenodo_TS1x_pretrain_ckpt[\"pytorch-lightning_version\"]"
   ]
  },
  {
   "cell_type": "code",
   "execution_count": 23,
   "id": "71b2b65a-06ff-4d72-a061-aba5b2680c36",
   "metadata": {},
   "outputs": [
    {
     "data": {
      "text/plain": [
       "['ddpm.dynamics.model.embedding.weight',\n",
       " 'ddpm.dynamics.model.embedding.bias',\n",
       " 'ddpm.dynamics.model.embedding_out.weight',\n",
       " 'ddpm.dynamics.model.embedding_out.bias',\n",
       " 'ddpm.dynamics.model.radial_emb.means',\n",
       " 'ddpm.dynamics.model.radial_emb.betas',\n",
       " 'ddpm.dynamics.model.neighbor_emb.embedding.weight',\n",
       " 'ddpm.dynamics.model.neighbor_emb.embedding.bias',\n",
       " 'ddpm.dynamics.model.s2v.lin1.0.weight',\n",
       " 'ddpm.dynamics.model.s2v.lin1.0.bias']"
      ]
     },
     "execution_count": 23,
     "metadata": {},
     "output_type": "execute_result"
    }
   ],
   "source": [
    "list(zenodo_TS1x_pretrain_ckpt[\"state_dict\"].keys())[:10]"
   ]
  },
  {
   "cell_type": "code",
   "execution_count": 27,
   "id": "f603096f-4e4d-4356-934e-18bebfe47621",
   "metadata": {},
   "outputs": [
    {
     "data": {
      "text/plain": [
       "dict_keys(['fit_loop', 'validate_loop', 'test_loop', 'predict_loop'])"
      ]
     },
     "execution_count": 27,
     "metadata": {},
     "output_type": "execute_result"
    }
   ],
   "source": [
    "zenodo_TS1x_pretrain_ckpt[\"loops\"].keys()"
   ]
  },
  {
   "cell_type": "code",
   "execution_count": 30,
   "id": "cf90602b-91eb-47ef-a009-e3b90fda1745",
   "metadata": {},
   "outputs": [
    {
     "data": {
      "text/plain": [
       "[\"EarlyStopping{'monitor': 'val-totloss', 'mode': 'min'}\",\n",
       " 'EMACallback',\n",
       " \"ModelCheckpoint{'monitor': 'val-totloss', 'mode': 'min', 'every_n_train_steps': 0, 'every_n_epochs': 1, 'train_time_interval': None, 'save_on_train_epoch_end': True}\"]"
      ]
     },
     "execution_count": 30,
     "metadata": {},
     "output_type": "execute_result"
    }
   ],
   "source": [
    "list(zenodo_TS1x_pretrain_ckpt[\"callbacks\"].keys())"
   ]
  },
  {
   "cell_type": "code",
   "execution_count": 33,
   "id": "aa24fb50-97bf-4a1e-9bfb-0f41d7c3a79a",
   "metadata": {},
   "outputs": [
    {
     "data": {
      "text/plain": [
       "dict_keys(['monitor', 'best_model_score', 'best_model_path', 'current_score', 'dirpath', 'best_k_models', 'kth_best_model_path', 'kth_value', 'last_model_path'])"
      ]
     },
     "execution_count": 33,
     "metadata": {},
     "output_type": "execute_result"
    }
   ],
   "source": [
    "zenodo_TS1x_pretrain_ckpt[\"callbacks\"][\"ModelCheckpoint{'monitor': 'val-totloss', 'mode': 'min', 'every_n_train_steps': 0, 'every_n_epochs': 1, 'train_time_interval': None, 'save_on_train_epoch_end': True}\"].keys()"
   ]
  },
  {
   "cell_type": "code",
   "execution_count": 34,
   "id": "1fc352c1-005d-4d5d-9412-c92ae1b8c702",
   "metadata": {},
   "outputs": [
    {
     "data": {
      "text/plain": [
       "{'monitor': 'val-totloss',\n",
       " 'best_model_score': None,\n",
       " 'best_model_path': '',\n",
       " 'current_score': None,\n",
       " 'dirpath': '/home/ubuntu/efs/demo_OA_ReactDiff/oa_reactdiff/trainer/checkpoint/TSDiff/leftnet-10-ca9dab2855a6',\n",
       " 'best_k_models': {},\n",
       " 'kth_best_model_path': '',\n",
       " 'kth_value': tensor(inf, dtype=torch.float32),\n",
       " 'last_model_path': ''}"
      ]
     },
     "execution_count": 34,
     "metadata": {},
     "output_type": "execute_result"
    }
   ],
   "source": [
    "zenodo_TS1x_pretrain_ckpt[\"callbacks\"][\"ModelCheckpoint{'monitor': 'val-totloss', 'mode': 'min', 'every_n_train_steps': 0, 'every_n_epochs': 1, 'train_time_interval': None, 'save_on_train_epoch_end': True}\"]"
   ]
  },
  {
   "cell_type": "code",
   "execution_count": 46,
   "id": "97640ba4-4dba-4478-9c0e-8de3f5917b43",
   "metadata": {},
   "outputs": [
    {
     "data": {
      "text/plain": [
       "1"
      ]
     },
     "execution_count": 46,
     "metadata": {},
     "output_type": "execute_result"
    }
   ],
   "source": [
    "len(zenodo_TS1x_pretrain_ckpt['optimizer_states'])"
   ]
  },
  {
   "cell_type": "code",
   "execution_count": 40,
   "id": "c3c06573-dcb5-4187-aadf-a50c2be0c61b",
   "metadata": {},
   "outputs": [
    {
     "data": {
      "text/plain": [
       "dict_keys(['state', 'param_groups'])"
      ]
     },
     "execution_count": 40,
     "metadata": {},
     "output_type": "execute_result"
    }
   ],
   "source": [
    "zenodo_TS1x_pretrain_ckpt['optimizer_states'][0].keys()"
   ]
  },
  {
   "cell_type": "code",
   "execution_count": 53,
   "id": "e85974f9-ed07-4ea6-b678-1dd1c333923a",
   "metadata": {},
   "outputs": [
    {
     "data": {
      "text/plain": [
       "{'step': torch.Size([]),\n",
       " 'exp_avg': torch.Size([196, 8]),\n",
       " 'exp_avg_sq': torch.Size([196, 8]),\n",
       " 'max_exp_avg_sq': torch.Size([196, 8])}"
      ]
     },
     "execution_count": 53,
     "metadata": {},
     "output_type": "execute_result"
    }
   ],
   "source": [
    "{k: v.shape for k, v in zenodo_TS1x_pretrain_ckpt['optimizer_states'][-1][\"state\"][0].items()}"
   ]
  },
  {
   "cell_type": "code",
   "execution_count": 45,
   "id": "b6e4539a-b7f8-4a4e-b0e3-1e4b6d366607",
   "metadata": {},
   "outputs": [
    {
     "data": {
      "text/plain": [
       "[{'lr': 0.0005,\n",
       "  'betas': [0.9, 0.999],\n",
       "  'eps': 1e-08,\n",
       "  'weight_decay': 0,\n",
       "  'amsgrad': True,\n",
       "  'foreach': None,\n",
       "  'maximize': False,\n",
       "  'capturable': False,\n",
       "  'params': [0,\n",
       "   1,\n",
       "   2,\n",
       "   3,\n",
       "   4,\n",
       "   5,\n",
       "   6,\n",
       "   7,\n",
       "   8,\n",
       "   9,\n",
       "   10,\n",
       "   11,\n",
       "   12,\n",
       "   13,\n",
       "   14,\n",
       "   15,\n",
       "   16,\n",
       "   17,\n",
       "   18,\n",
       "   19,\n",
       "   20,\n",
       "   21,\n",
       "   22,\n",
       "   23,\n",
       "   24,\n",
       "   25,\n",
       "   26,\n",
       "   27,\n",
       "   28,\n",
       "   29,\n",
       "   30,\n",
       "   31,\n",
       "   32,\n",
       "   33,\n",
       "   34,\n",
       "   35,\n",
       "   36,\n",
       "   37,\n",
       "   38,\n",
       "   39,\n",
       "   40,\n",
       "   41,\n",
       "   42,\n",
       "   43,\n",
       "   44,\n",
       "   45,\n",
       "   46,\n",
       "   47,\n",
       "   48,\n",
       "   49,\n",
       "   50,\n",
       "   51,\n",
       "   52,\n",
       "   53,\n",
       "   54,\n",
       "   55,\n",
       "   56,\n",
       "   57,\n",
       "   58,\n",
       "   59,\n",
       "   60,\n",
       "   61,\n",
       "   62,\n",
       "   63,\n",
       "   64,\n",
       "   65,\n",
       "   66,\n",
       "   67,\n",
       "   68,\n",
       "   69,\n",
       "   70,\n",
       "   71,\n",
       "   72,\n",
       "   73,\n",
       "   74,\n",
       "   75,\n",
       "   76,\n",
       "   77,\n",
       "   78,\n",
       "   79,\n",
       "   80,\n",
       "   81,\n",
       "   82,\n",
       "   83,\n",
       "   84,\n",
       "   85,\n",
       "   86,\n",
       "   87,\n",
       "   88,\n",
       "   89,\n",
       "   90,\n",
       "   91,\n",
       "   92,\n",
       "   93,\n",
       "   94,\n",
       "   95,\n",
       "   96,\n",
       "   97,\n",
       "   98,\n",
       "   99,\n",
       "   100,\n",
       "   101,\n",
       "   102,\n",
       "   103,\n",
       "   104,\n",
       "   105,\n",
       "   106,\n",
       "   107,\n",
       "   108,\n",
       "   109,\n",
       "   110,\n",
       "   111,\n",
       "   112,\n",
       "   113,\n",
       "   114,\n",
       "   115,\n",
       "   116,\n",
       "   117,\n",
       "   118,\n",
       "   119,\n",
       "   120,\n",
       "   121,\n",
       "   122,\n",
       "   123,\n",
       "   124,\n",
       "   125,\n",
       "   126,\n",
       "   127,\n",
       "   128,\n",
       "   129,\n",
       "   130,\n",
       "   131,\n",
       "   132,\n",
       "   133,\n",
       "   134,\n",
       "   135,\n",
       "   136,\n",
       "   137,\n",
       "   138,\n",
       "   139,\n",
       "   140,\n",
       "   141,\n",
       "   142,\n",
       "   143,\n",
       "   144,\n",
       "   145,\n",
       "   146,\n",
       "   147,\n",
       "   148,\n",
       "   149,\n",
       "   150,\n",
       "   151,\n",
       "   152,\n",
       "   153,\n",
       "   154,\n",
       "   155,\n",
       "   156,\n",
       "   157,\n",
       "   158,\n",
       "   159,\n",
       "   160,\n",
       "   161,\n",
       "   162,\n",
       "   163,\n",
       "   164,\n",
       "   165,\n",
       "   166,\n",
       "   167,\n",
       "   168,\n",
       "   169,\n",
       "   170,\n",
       "   171,\n",
       "   172,\n",
       "   173,\n",
       "   174,\n",
       "   175,\n",
       "   176,\n",
       "   177,\n",
       "   178,\n",
       "   179,\n",
       "   180,\n",
       "   181,\n",
       "   182,\n",
       "   183,\n",
       "   184,\n",
       "   185,\n",
       "   186,\n",
       "   187,\n",
       "   188,\n",
       "   189,\n",
       "   190,\n",
       "   191,\n",
       "   192,\n",
       "   193,\n",
       "   194,\n",
       "   195,\n",
       "   196,\n",
       "   197,\n",
       "   198,\n",
       "   199,\n",
       "   200,\n",
       "   201,\n",
       "   202,\n",
       "   203,\n",
       "   204,\n",
       "   205,\n",
       "   206,\n",
       "   207,\n",
       "   208,\n",
       "   209,\n",
       "   210,\n",
       "   211,\n",
       "   212,\n",
       "   213,\n",
       "   214,\n",
       "   215,\n",
       "   216,\n",
       "   217,\n",
       "   218,\n",
       "   219,\n",
       "   220,\n",
       "   221,\n",
       "   222,\n",
       "   223,\n",
       "   224,\n",
       "   225,\n",
       "   226,\n",
       "   227,\n",
       "   228,\n",
       "   229,\n",
       "   230,\n",
       "   231,\n",
       "   232,\n",
       "   233,\n",
       "   234,\n",
       "   235,\n",
       "   236,\n",
       "   237,\n",
       "   238,\n",
       "   239,\n",
       "   240,\n",
       "   241,\n",
       "   242,\n",
       "   243,\n",
       "   244]}]"
      ]
     },
     "execution_count": 45,
     "metadata": {},
     "output_type": "execute_result"
    }
   ],
   "source": [
    "zenodo_TS1x_pretrain_ckpt['optimizer_states'][-1][\"param_groups\"]"
   ]
  },
  {
   "cell_type": "code",
   "execution_count": 54,
   "id": "561c9001-6c3a-48aa-ad8b-40fcc91f759b",
   "metadata": {},
   "outputs": [
    {
     "data": {
      "text/plain": [
       "[]"
      ]
     },
     "execution_count": 54,
     "metadata": {},
     "output_type": "execute_result"
    }
   ],
   "source": [
    "zenodo_TS1x_pretrain_ckpt['lr_schedulers']"
   ]
  },
  {
   "cell_type": "code",
   "execution_count": 55,
   "id": "bcd2570a-cf5a-4740-8239-140d9a4e6bc7",
   "metadata": {},
   "outputs": [
    {
     "data": {
      "text/plain": [
       "'kwargs'"
      ]
     },
     "execution_count": 55,
     "metadata": {},
     "output_type": "execute_result"
    }
   ],
   "source": [
    "zenodo_TS1x_pretrain_ckpt['hparams_name']"
   ]
  },
  {
   "cell_type": "code",
   "execution_count": 59,
   "id": "82b8b9c7-b239-4cf6-9723-e59986484415",
   "metadata": {},
   "outputs": [],
   "source": [
    "z_conf = zenodo_TS1x_pretrain_ckpt['hyper_parameters'][\"model_config\"]"
   ]
  },
  {
   "cell_type": "code",
   "execution_count": 57,
   "id": "34190f79-4b8b-41e3-b1af-a77755f126b3",
   "metadata": {},
   "outputs": [],
   "source": [
    "# OK, compare this to what we have done then:"
   ]
  },
  {
   "cell_type": "code",
   "execution_count": 60,
   "id": "2f353f27-b5f2-4126-bc40-2d78f292bc04",
   "metadata": {},
   "outputs": [],
   "source": [
    "fromscratch_TS1x_pretrain_ckpt = torch.load(\"./trained_models/pretrained-ts1x-diff-from-scratch.ckpt\", map_location=\"cpu\")\n",
    "fs_conf = fromscratch_TS1x_pretrain_ckpt[\"hyper_parameters\"][\"model_config\"]"
   ]
  },
  {
   "cell_type": "code",
   "execution_count": 62,
   "id": "04aa3482-15b2-4f65-9851-b84957e51b17",
   "metadata": {},
   "outputs": [],
   "source": [
    "for i, (zkv, fskv) in enumerate(zip(z_conf.items(), fs_conf.items())):\n",
    "    zk, zv = zkv\n",
    "    fsk, fsv = fskv\n",
    "    assert zk == fsk\n",
    "    if zv != fsv:\n",
    "        print(f\"Difference found in {zk}: {zv} vs {fsv}.\")"
   ]
  },
  {
   "cell_type": "code",
   "execution_count": 78,
   "id": "101849fc-b3b1-41f4-b7b8-fc22321b4b90",
   "metadata": {},
   "outputs": [],
   "source": [
    "fs_opt_pgroups = fromscratch_TS1x_pretrain_ckpt['optimizer_states'][0][\"param_groups\"][0]"
   ]
  },
  {
   "cell_type": "code",
   "execution_count": 79,
   "id": "24bb9af3-9d4a-4417-876c-d10021f90df8",
   "metadata": {},
   "outputs": [],
   "source": [
    "z_opt_pgroups = zenodo_TS1x_pretrain_ckpt[\"optimizer_states\"][0][\"param_groups\"][0]"
   ]
  },
  {
   "cell_type": "code",
   "execution_count": 80,
   "id": "a508788f-f3c3-4416-825c-d42bf3ac97f2",
   "metadata": {},
   "outputs": [
    {
     "data": {
      "text/plain": [
       "{'lr': 0.0005,\n",
       " 'betas': [0.9, 0.999],\n",
       " 'eps': 1e-08,\n",
       " 'weight_decay': 0,\n",
       " 'amsgrad': True,\n",
       " 'foreach': None,\n",
       " 'maximize': False,\n",
       " 'capturable': False,\n",
       " 'params': [0,\n",
       "  1,\n",
       "  2,\n",
       "  3,\n",
       "  4,\n",
       "  5,\n",
       "  6,\n",
       "  7,\n",
       "  8,\n",
       "  9,\n",
       "  10,\n",
       "  11,\n",
       "  12,\n",
       "  13,\n",
       "  14,\n",
       "  15,\n",
       "  16,\n",
       "  17,\n",
       "  18,\n",
       "  19,\n",
       "  20,\n",
       "  21,\n",
       "  22,\n",
       "  23,\n",
       "  24,\n",
       "  25,\n",
       "  26,\n",
       "  27,\n",
       "  28,\n",
       "  29,\n",
       "  30,\n",
       "  31,\n",
       "  32,\n",
       "  33,\n",
       "  34,\n",
       "  35,\n",
       "  36,\n",
       "  37,\n",
       "  38,\n",
       "  39,\n",
       "  40,\n",
       "  41,\n",
       "  42,\n",
       "  43,\n",
       "  44,\n",
       "  45,\n",
       "  46,\n",
       "  47,\n",
       "  48,\n",
       "  49,\n",
       "  50,\n",
       "  51,\n",
       "  52,\n",
       "  53,\n",
       "  54,\n",
       "  55,\n",
       "  56,\n",
       "  57,\n",
       "  58,\n",
       "  59,\n",
       "  60,\n",
       "  61,\n",
       "  62,\n",
       "  63,\n",
       "  64,\n",
       "  65,\n",
       "  66,\n",
       "  67,\n",
       "  68,\n",
       "  69,\n",
       "  70,\n",
       "  71,\n",
       "  72,\n",
       "  73,\n",
       "  74,\n",
       "  75,\n",
       "  76,\n",
       "  77,\n",
       "  78,\n",
       "  79,\n",
       "  80,\n",
       "  81,\n",
       "  82,\n",
       "  83,\n",
       "  84,\n",
       "  85,\n",
       "  86,\n",
       "  87,\n",
       "  88,\n",
       "  89,\n",
       "  90,\n",
       "  91,\n",
       "  92,\n",
       "  93,\n",
       "  94,\n",
       "  95,\n",
       "  96,\n",
       "  97,\n",
       "  98,\n",
       "  99,\n",
       "  100,\n",
       "  101,\n",
       "  102,\n",
       "  103,\n",
       "  104,\n",
       "  105,\n",
       "  106,\n",
       "  107,\n",
       "  108,\n",
       "  109,\n",
       "  110,\n",
       "  111,\n",
       "  112,\n",
       "  113,\n",
       "  114,\n",
       "  115,\n",
       "  116,\n",
       "  117,\n",
       "  118,\n",
       "  119,\n",
       "  120,\n",
       "  121,\n",
       "  122,\n",
       "  123,\n",
       "  124,\n",
       "  125,\n",
       "  126,\n",
       "  127,\n",
       "  128,\n",
       "  129,\n",
       "  130,\n",
       "  131,\n",
       "  132,\n",
       "  133,\n",
       "  134,\n",
       "  135,\n",
       "  136,\n",
       "  137,\n",
       "  138,\n",
       "  139,\n",
       "  140,\n",
       "  141,\n",
       "  142,\n",
       "  143,\n",
       "  144,\n",
       "  145,\n",
       "  146,\n",
       "  147,\n",
       "  148,\n",
       "  149,\n",
       "  150,\n",
       "  151,\n",
       "  152,\n",
       "  153,\n",
       "  154,\n",
       "  155,\n",
       "  156,\n",
       "  157,\n",
       "  158,\n",
       "  159,\n",
       "  160,\n",
       "  161,\n",
       "  162,\n",
       "  163,\n",
       "  164,\n",
       "  165,\n",
       "  166,\n",
       "  167,\n",
       "  168,\n",
       "  169,\n",
       "  170,\n",
       "  171,\n",
       "  172,\n",
       "  173,\n",
       "  174,\n",
       "  175,\n",
       "  176,\n",
       "  177,\n",
       "  178,\n",
       "  179,\n",
       "  180,\n",
       "  181,\n",
       "  182,\n",
       "  183,\n",
       "  184,\n",
       "  185,\n",
       "  186,\n",
       "  187,\n",
       "  188,\n",
       "  189,\n",
       "  190,\n",
       "  191,\n",
       "  192,\n",
       "  193,\n",
       "  194,\n",
       "  195,\n",
       "  196,\n",
       "  197,\n",
       "  198,\n",
       "  199,\n",
       "  200,\n",
       "  201,\n",
       "  202,\n",
       "  203,\n",
       "  204,\n",
       "  205,\n",
       "  206,\n",
       "  207,\n",
       "  208,\n",
       "  209,\n",
       "  210,\n",
       "  211,\n",
       "  212,\n",
       "  213,\n",
       "  214,\n",
       "  215,\n",
       "  216,\n",
       "  217,\n",
       "  218,\n",
       "  219,\n",
       "  220,\n",
       "  221,\n",
       "  222,\n",
       "  223,\n",
       "  224,\n",
       "  225,\n",
       "  226,\n",
       "  227,\n",
       "  228,\n",
       "  229,\n",
       "  230,\n",
       "  231,\n",
       "  232,\n",
       "  233,\n",
       "  234,\n",
       "  235,\n",
       "  236,\n",
       "  237,\n",
       "  238,\n",
       "  239,\n",
       "  240,\n",
       "  241,\n",
       "  242,\n",
       "  243,\n",
       "  244]}"
      ]
     },
     "execution_count": 80,
     "metadata": {},
     "output_type": "execute_result"
    }
   ],
   "source": [
    "z_opt_pgroups"
   ]
  },
  {
   "cell_type": "code",
   "execution_count": 81,
   "id": "1f7fb454-3ae5-42d8-8161-2389bb7d1503",
   "metadata": {},
   "outputs": [
    {
     "name": "stdout",
     "output_type": "stream",
     "text": [
      "Difference found in lr: 0.0005 vs 0.00025.\n"
     ]
    }
   ],
   "source": [
    "for i, (zkv, fskv) in enumerate(zip(z_opt_pgroups.items(), fs_opt_pgroups.items())):\n",
    "    zk, zv = zkv\n",
    "    fsk, fsv = fskv\n",
    "    assert zk == fsk\n",
    "    if zv != fsv:\n",
    "        print(f\"Difference found in {zk}: {zv} vs {fsv}.\")"
   ]
  },
  {
   "cell_type": "code",
   "execution_count": null,
   "id": "8d3fc5f4-f815-4091-bb6d-b763411318c8",
   "metadata": {},
   "outputs": [],
   "source": [
    "zenodo_TS1x_pretrain_ckpt['optimizer_states'][-1][\"param_groups\"]"
   ]
  },
  {
   "cell_type": "markdown",
   "id": "9950bce4-c684-4969-a470-a93db50de7ea",
   "metadata": {},
   "source": [
    "# Resume pre-train sampling workflow:"
   ]
  },
  {
   "cell_type": "raw",
   "id": "0bc9580c-aca8-4a80-85ea-573c67647838",
   "metadata": {},
   "source": [
    "loaded_from_scratch_ckpt = torch.load(\"./trained_models/pretrained-ts1x-diff-from-scratch.ckpt\")\n",
    "loaded_from_scratch_ckpt"
   ]
  },
  {
   "cell_type": "raw",
   "id": "a92fc9c4-5c7b-401b-afd7-5e5b06d6689f",
   "metadata": {},
   "source": [
    "loaded_zenodo_ckpt = torch.load(\"./trained_models/pretrained-ts1x-diff-zenodo.ckpt\")\n",
    "loaded_zenodo_ckpt"
   ]
  },
  {
   "cell_type": "code",
   "execution_count": 7,
   "id": "__bohr_old_version_cellId_50__",
   "metadata": {
    "ExecuteTime": {
     "end_time": "2023-10-02T20:31:56.986652100Z",
     "start_time": "2023-10-02T20:31:56.909147700Z"
    }
   },
   "outputs": [
    {
     "ename": "AttributeError",
     "evalue": "'ConfModule' object has no attribute 'ddpm'",
     "output_type": "error",
     "traceback": [
      "\u001b[0;31m---------------------------------------------------------------------------\u001b[0m",
      "\u001b[0;31mAttributeError\u001b[0m                            Traceback (most recent call last)",
      "Cell \u001b[0;32mIn[7], line 12\u001b[0m\n\u001b[1;32m      3\u001b[0m precision: \u001b[38;5;28mfloat\u001b[39m \u001b[38;5;241m=\u001b[39m \u001b[38;5;241m1e-5\u001b[39m\n\u001b[1;32m      5\u001b[0m gamma_module \u001b[38;5;241m=\u001b[39m PredefinedNoiseSchedule(\n\u001b[1;32m      6\u001b[0m             noise_schedule\u001b[38;5;241m=\u001b[39mnoise_schedule,\n\u001b[1;32m      7\u001b[0m             timesteps\u001b[38;5;241m=\u001b[39mtimesteps,\n\u001b[1;32m      8\u001b[0m             precision\u001b[38;5;241m=\u001b[39mprecision,\n\u001b[1;32m      9\u001b[0m         )\n\u001b[1;32m     10\u001b[0m schedule \u001b[38;5;241m=\u001b[39m DiffSchedule(\n\u001b[1;32m     11\u001b[0m     gamma_module\u001b[38;5;241m=\u001b[39mgamma_module,\n\u001b[0;32m---> 12\u001b[0m     norm_values\u001b[38;5;241m=\u001b[39m\u001b[43mddpm_trainer\u001b[49m\u001b[38;5;241;43m.\u001b[39;49m\u001b[43mddpm\u001b[49m\u001b[38;5;241m.\u001b[39mnorm_values\n\u001b[1;32m     13\u001b[0m )\n\u001b[1;32m     14\u001b[0m ddpm_trainer\u001b[38;5;241m.\u001b[39mddpm\u001b[38;5;241m.\u001b[39mschedule \u001b[38;5;241m=\u001b[39m schedule\n\u001b[1;32m     15\u001b[0m ddpm_trainer\u001b[38;5;241m.\u001b[39mddpm\u001b[38;5;241m.\u001b[39mT \u001b[38;5;241m=\u001b[39m timesteps\n",
      "File \u001b[0;32m/misc/home/guest50/micromamba/envs/oa_reactdiff_m/lib/python3.10/site-packages/torch/nn/modules/module.py:1207\u001b[0m, in \u001b[0;36mModule.__getattr__\u001b[0;34m(self, name)\u001b[0m\n\u001b[1;32m   1205\u001b[0m     \u001b[38;5;28;01mif\u001b[39;00m name \u001b[38;5;129;01min\u001b[39;00m modules:\n\u001b[1;32m   1206\u001b[0m         \u001b[38;5;28;01mreturn\u001b[39;00m modules[name]\n\u001b[0;32m-> 1207\u001b[0m \u001b[38;5;28;01mraise\u001b[39;00m \u001b[38;5;167;01mAttributeError\u001b[39;00m(\u001b[38;5;124m\"\u001b[39m\u001b[38;5;124m'\u001b[39m\u001b[38;5;132;01m{}\u001b[39;00m\u001b[38;5;124m'\u001b[39m\u001b[38;5;124m object has no attribute \u001b[39m\u001b[38;5;124m'\u001b[39m\u001b[38;5;132;01m{}\u001b[39;00m\u001b[38;5;124m'\u001b[39m\u001b[38;5;124m\"\u001b[39m\u001b[38;5;241m.\u001b[39mformat(\n\u001b[1;32m   1208\u001b[0m     \u001b[38;5;28mtype\u001b[39m(\u001b[38;5;28mself\u001b[39m)\u001b[38;5;241m.\u001b[39m\u001b[38;5;18m__name__\u001b[39m, name))\n",
      "\u001b[0;31mAttributeError\u001b[0m: 'ConfModule' object has no attribute 'ddpm'"
     ]
    }
   ],
   "source": [
    "noise_schedule: str = \"polynomial_2\"\n",
    "timesteps: int = 150\n",
    "precision: float = 1e-5\n",
    "\n",
    "gamma_module = PredefinedNoiseSchedule(\n",
    "            noise_schedule=noise_schedule,\n",
    "            timesteps=timesteps,\n",
    "            precision=precision,\n",
    "        )\n",
    "schedule = DiffSchedule(\n",
    "    gamma_module=gamma_module,\n",
    "    norm_values=ddpm_trainer.ddpm.norm_values\n",
    ")\n",
    "ddpm_trainer.ddpm.schedule = schedule\n",
    "ddpm_trainer.ddpm.T = timesteps\n",
    "ddpm_trainer = ddpm_trainer.to(device)"
   ]
  },
  {
   "cell_type": "markdown",
   "id": "__bohr_old_version_cellId_51__",
   "metadata": {},
   "source": [
    "\n",
    "### Prepare dataset and data loader and select a reaction involving multiple molecules"
   ]
  },
  {
   "cell_type": "code",
   "execution_count": null,
   "id": "df24046a-94b7-4f50-92a7-512bfe4bef9a",
   "metadata": {},
   "outputs": [],
   "source": [
    "import pickle\n",
    "\n",
    "npz_path = \"./oa_reactdiff/data/transition1x/train_addprop.pkl\" # w/o self-loops after Angstrom correction\n",
    "\n",
    "train_pkl = pickle.load(open(npz_path, \"rb\"))"
   ]
  },
  {
   "cell_type": "code",
   "execution_count": null,
   "id": "4dd6c917-8227-439d-8cfe-43185f391bf3",
   "metadata": {},
   "outputs": [],
   "source": [
    "train_pkl[\"use_ind\"][:10]"
   ]
  },
  {
   "cell_type": "code",
   "execution_count": null,
   "id": "22649884-6690-47df-b790-c6e2d8d880c0",
   "metadata": {},
   "outputs": [],
   "source": [
    "train_pkl[\"reactant\"][\"rxn\"][177]"
   ]
  },
  {
   "cell_type": "code",
   "execution_count": null,
   "id": "224f8233-6524-49d2-bfff-bccf895fac49",
   "metadata": {},
   "outputs": [],
   "source": [
    "train_pkl[\"reactant\"]['num_atoms'][177]"
   ]
  },
  {
   "cell_type": "code",
   "execution_count": null,
   "id": "__bohr_old_version_cellId_52__",
   "metadata": {
    "ExecuteTime": {
     "end_time": "2023-10-02T20:31:57.929560300Z",
     "start_time": "2023-10-02T20:31:57.861384500Z"
    }
   },
   "outputs": [],
   "source": [
    "dataset = ProcessedTS1x(\n",
    "    npz_path=npz_path,\n",
    "    center=True,\n",
    "    pad_fragments=0,\n",
    "    device=device,\n",
    "    zero_charge=False,\n",
    "    remove_h=False,\n",
    "    single_frag_only=False,\n",
    "    swapping_react_prod=False,\n",
    "    use_by_ind=True,\n",
    ")\n",
    "loader = DataLoader(\n",
    "    dataset, \n",
    "    batch_size=1,\n",
    "    shuffle=False,\n",
    "    num_workers=0,\n",
    "    collate_fn=dataset.collate_fn\n",
    ")\n",
    "itl = iter(loader)\n",
    "idx = -1 # TL: why?\n",
    "\n",
    "len(dataset)"
   ]
  },
  {
   "cell_type": "code",
   "execution_count": null,
   "id": "653bcb6a-252f-4278-8182-79f9e89da318",
   "metadata": {},
   "outputs": [],
   "source": [
    "num_indices_to_select = 20\n",
    "SEED = 747\n",
    "np.random.default_rng(seed=SEED)\n",
    "np.random.seed(SEED)\n",
    "random_indices = np.random.choice(len(dataset), size=num_indices_to_select, replace=False)\n",
    "random_indices = sorted(random_indices)\n",
    "random_indices"
   ]
  },
  {
   "cell_type": "code",
   "execution_count": null,
   "id": "e95cf915-a208-43ef-afd7-33ccdff632cb",
   "metadata": {},
   "outputs": [],
   "source": [
    "train_indices = [train_pkl[\"use_ind\"][x] for x in random_indices]\n",
    "train_indices"
   ]
  },
  {
   "cell_type": "raw",
   "id": "d84dc843-d6f6-47ea-b3dc-c622e84cac96",
   "metadata": {},
   "source": [
    "for _ in range(4):  # The 4th sample happens to be a multimolecular reaction\n",
    "    representations, res = next(itl)\n",
    "idx += 1\n",
    "n_samples = representations[0][\"size\"].size(0)\n",
    "if n_samples != 1: #\n",
    "    print(n_samples)#\n",
    "fragments_nodes = [\n",
    "    repre[\"size\"] for repre in representations\n",
    "]\n",
    "conditions = torch.tensor([[0] for _ in range(n_samples)], device=device)"
   ]
  },
  {
   "cell_type": "code",
   "execution_count": null,
   "id": "d7d259d1-ec65-4a15-a66e-1ea625469ed7",
   "metadata": {},
   "outputs": [],
   "source": [
    "# TL visualize each state:\n",
    "atomic_num2sym = {\n",
    "    1: 'H',    2: 'He',   3: 'Li',   4: 'Be',   5: 'B',    6: 'C',    7: 'N',    8: 'O',    9: 'F',    10: 'Ne',\n",
    "    11: 'Na',  12: 'Mg',  13: 'Al',  14: 'Si',  15: 'P',   16: 'S',   17: 'Cl',  18: 'Ar',  19: 'K',   20: 'Ca',\n",
    "    21: 'Sc',  22: 'Ti',  23: 'V',   24: 'Cr',  25: 'Mn',  26: 'Fe',  27: 'Co',  28: 'Ni',  29: 'Cu',  30: 'Zn',\n",
    "    31: 'Ga',  32: 'Ge',  33: 'As',  34: 'Se',  35: 'Br',  36: 'Kr',  37: 'Rb',  38: 'Sr',  39: 'Y',   40: 'Zr',\n",
    "    41: 'Nb',  42: 'Mo',  43: 'Tc',  44: 'Ru',  45: 'Rh',  46: 'Pd',  47: 'Ag',  48: 'Cd',  49: 'In',  50: 'Sn',\n",
    "    51: 'Sb',  52: 'Te',  53: 'I',   54: 'Xe',  55: 'Cs',  56: 'Ba',  57: 'La',  58: 'Ce',  59: 'Pr',  60: 'Nd',\n",
    "    61: 'Pm',  62: 'Sm',  63: 'Eu',  64: 'Gd', 65: 'Tb',  66: 'Dy',  67: 'Ho',  68: 'Er',  69: 'Tm',  70: 'Yb',\n",
    "    71: 'Lu',  72: 'Hf',  73: 'Ta',  74: 'W',   75: 'Re',  76: 'Os',  77: 'Ir',  78: 'Pt',  79: 'Au',  80: 'Hg',\n",
    "    81: 'Tl',  82: 'Pb',  83: 'Bi',  84: 'Po',  85: 'At',  86: 'Rn',  87: 'Fr',  88: 'Ra',  89: 'Ac',  90: 'Th',\n",
    "    91: 'Pa',  92: 'U',   93: 'Np',  94: 'Pu',  95: 'Am',  96: 'Cm',  97: 'Bk',  98: 'Cf',  99: 'Es', 100: 'Fm',\n",
    "    101: 'Md', 102: 'No', 103: 'Lr', 104: 'Rf', 105: 'Db', 106: 'Sg', 107: 'Bh', 108: 'Hs', 109: 'Mt', 110: 'Ds',\n",
    "    111: 'Rg', 112: 'Cn', 113: 'Nh', 114: 'Fl', 115: 'Mc', 116: 'Lv', 117: 'Ts', 118: 'Og'\n",
    "}"
   ]
  },
  {
   "cell_type": "code",
   "execution_count": null,
   "id": "3ae13543-bfea-4ae1-ae65-48dd8d239c03",
   "metadata": {},
   "outputs": [],
   "source": [
    "def xyz_block_from_node_features(xh: torch.tensor, comment: str=\"\", c2a: dict=atomic_num2sym) -> str:\n",
    "    num_atoms = xh.shape[0]\n",
    "    xyz_lines = [str(num_atoms), comment]\n",
    "    for row in xh:\n",
    "        position = row[:3].cpu().numpy()\n",
    "        z = c2a[row[-1].long().item()]\n",
    "        xyz_lines.append(f\"{z}\\t\" + \"\\t\".join([str(x) for x in position]))\n",
    "    return \"\\n\".join(xyz_lines)"
   ]
  },
  {
   "cell_type": "raw",
   "id": "ce942f97-a363-428e-bd13-44cbae31e734",
   "metadata": {},
   "source": [
    "#!mkdir my_results\n",
    "!mkdir results/sample_20_TS-20250617-TS1x-from_scratch_confidence-epoch1999_ckpt"
   ]
  },
  {
   "cell_type": "code",
   "execution_count": null,
   "id": "b80d9ba7-e799-4ffa-8484-5be3cf9de7ab",
   "metadata": {},
   "outputs": [],
   "source": [
    "!ls -haltr results"
   ]
  },
  {
   "cell_type": "code",
   "execution_count": null,
   "id": "6ecacd61-3e7e-4025-9430-b11ce63445a6",
   "metadata": {},
   "outputs": [],
   "source": [
    "output_dir = os.path.abspath(\"results/sample_20_TS-20250617-TS1x-from_scratch_confidence-epoch1999_ckpt\")\n",
    "#output_dir = None"
   ]
  },
  {
   "cell_type": "code",
   "execution_count": null,
   "id": "419df548-fe7d-4125-bb6b-d9e33e6298f1",
   "metadata": {},
   "outputs": [],
   "source": [
    "selected_representation_triples = {}\n",
    "rs_rmsdsx = []\n",
    "ts_rmsdsx = []\n",
    "ps_rmsdsx = []\n",
    "\n",
    "for i in range(len(dataset)): \n",
    "    representations, res = next(itl)\n",
    "    if i in random_indices:\n",
    "        xyz_blocks = []\n",
    "        print(i)\n",
    "        train_idx = train_pkl[\"use_ind\"][i]\n",
    "        print(train_idx)\n",
    "        rxn_id = train_pkl[\"reactant\"][\"rxn\"][train_idx]\n",
    "        n_samples = representations[0][\"size\"].size(0)\n",
    "        fragments_nodes = [\n",
    "            repre[\"size\"] for repre in representations\n",
    "        ]\n",
    "        conditions = torch.tensor([[0] for _ in range(n_samples)], device=device)\n",
    "        # skipping permutation of indices in reactant state\n",
    "        xh_fixed = [\n",
    "            torch.cat(\n",
    "                [repre[feature_type] for feature_type in FEATURE_MAPPING],\n",
    "                dim=1,\n",
    "            )\n",
    "            for repre in representations\n",
    "        ]\n",
    "        print(xh_fixed[2].shape[0])\n",
    "        print(train_pkl[\"reactant\"]['num_atoms'][train_idx])\n",
    "        #ground_truth_ts = xh_fixed[1]\n",
    "        out_samples, out_masks = ddpm_trainer.ddpm.inpaint(\n",
    "            n_samples=n_samples,\n",
    "            fragments_nodes=fragments_nodes,\n",
    "            conditions=conditions,\n",
    "            return_frames=1,\n",
    "            resamplings=5,\n",
    "            jump_length=5,\n",
    "            timesteps=None,\n",
    "            xh_fixed=xh_fixed,\n",
    "            frag_fixed=[0, 2],\n",
    "        )\n",
    "        \n",
    "        # Confirm unchanged reactant state: torch.allclose causing segmentation fault?\n",
    "        #reactant_diff = torch.allclose(out_samples[0][0] - xh_fixed[0]) #= torch.max(torch.abs(out_samples[0][0] - xh_fixed[0]))\n",
    "        #print(reactant_diff)\n",
    "        #assert out_samples[0][0] == xh_fixed[0]\n",
    "        # Confirm unchanged product state:\n",
    "        #assert out_samples[0][2] == xh_fixed[2]\n",
    "        # reactant state (rs_..):\n",
    "        rs_rmsds = batch_rmsd(\n",
    "            fragments_nodes, \n",
    "            out_samples[0],\n",
    "            xh_fixed,\n",
    "            idx=0,\n",
    "        )\n",
    "        print(rs_rmsds)\n",
    "        rs_rmsdsx.append(rs_rmsds[0])\n",
    "\n",
    "        # transition state (ts_..):\n",
    "        ts_rmsds = batch_rmsd(\n",
    "            fragments_nodes, \n",
    "            out_samples[0],\n",
    "            xh_fixed,\n",
    "            idx=1,\n",
    "        )\n",
    "        print(ts_rmsds)\n",
    "        ts_rmsdsx.append(ts_rmsds[0])\n",
    "        \n",
    "        # product state (ps_..):\n",
    "        ps_rmsds = batch_rmsd(\n",
    "            fragments_nodes, \n",
    "            out_samples[0],\n",
    "            xh_fixed,\n",
    "            idx=2,\n",
    "        )\n",
    "        print(ps_rmsds)\n",
    "        ps_rmsdsx.append(ps_rmsds[0])\n",
    "        #assert len(rmsds) == 1\n",
    "        print(\"\")\n",
    "\n",
    "        if output_dir == None:\n",
    "            continue # skip preparing strings for file output\n",
    "\n",
    "        # Now wrap up XYZs into an output file with informative comments.\n",
    "        file_name = f\"{rxn_id}.xyz\"\n",
    "        # Reactant state, two versions\n",
    "        rs_ref_xyz = xyz_block_from_node_features(xh_fixed[0], comment=f\"True/calculated reference reactant state.\")\n",
    "        xyz_blocks.append(rs_ref_xyz)\n",
    "        rs_rec_xyz = xyz_block_from_node_features(out_samples[0][0], comment=f\"Reconstructed reactant state. RMSD: {str(round(rs_rmsds[0],6))} Å.\")\n",
    "        xyz_blocks.append(rs_rec_xyz)\n",
    "        \n",
    "        # Transition state, two versions\n",
    "        ts_ref_xyz = xyz_block_from_node_features(xh_fixed[1], comment=f\"True/calculated reference transition state.\")\n",
    "        xyz_blocks.append(ts_ref_xyz)\n",
    "        ts_gen_xyz = xyz_block_from_node_features(out_samples[0][1], comment=f\"Generated/inpainted transition state. RMSD: {str(round(ts_rmsds[0],6))} Å.\")\n",
    "        xyz_blocks.append(ts_gen_xyz)\n",
    "\n",
    "        # Product state, two versions\n",
    "        ps_ref_xyz = xyz_block_from_node_features(xh_fixed[2], comment=f\"True/calculated reference product state.\")\n",
    "        xyz_blocks.append(ps_ref_xyz)\n",
    "        ps_rec_xyz = xyz_block_from_node_features(out_samples[0][2], comment=f\"Reconstructed product state. RMSD: {str(round(ps_rmsds[0],6))} Å.\")\n",
    "        xyz_blocks.append(ps_rec_xyz)\n",
    "\n",
    "        with open(os.path.join(output_dir, file_name), \"w\") as f_out:\n",
    "            f_out.write(\"\\n\".join(xyz_blocks))\n",
    "        \n",
    "        if i == random_indices[-1]: # no need to keep iterating.\n",
    "            break"
   ]
  },
  {
   "cell_type": "code",
   "execution_count": null,
   "id": "c245a811-c69b-437c-a686-0cd4cfcc4006",
   "metadata": {},
   "outputs": [],
   "source": [
    "# Report/analysis of RMSDs seen:\n",
    "\n",
    "rs_mean = round(np.mean(rs_rmsdsx), 6)\n",
    "rs_std = round(np.std(rs_rmsdsx), 6)\n",
    "print(f\"Reactant state reconstruction RMSD was mean ± std.dev.: \\t{rs_mean} \\t± {rs_std} Å.\")\n",
    "ts_mean = round(np.mean(ts_rmsdsx), 6)\n",
    "ts_std = round(np.std(ts_rmsdsx), 6)\n",
    "print(f\"Transition state inpainting RMSD was mean ± std.dev.: \\t\\t{ts_mean} \\t± {ts_std} Å.\")\n",
    "ps_mean = round(np.mean(ps_rmsdsx), 6)\n",
    "ps_std = round(np.std(ps_rmsdsx), 6)\n",
    "print(f\"Product state reconstruction RMSD was mean ± std.dev.: \\t\\t{ps_mean} \\t± {ps_std} Å.\")"
   ]
  }
 ],
 "metadata": {
  "kernelspec": {
   "display_name": "Python 3 (ipykernel)",
   "language": "python",
   "name": "python3"
  },
  "language_info": {
   "codemirror_mode": {
    "name": "ipython",
    "version": 3
   },
   "file_extension": ".py",
   "mimetype": "text/x-python",
   "name": "python",
   "nbconvert_exporter": "python",
   "pygments_lexer": "ipython3",
   "version": "3.10.4"
  }
 },
 "nbformat": 4,
 "nbformat_minor": 5
}
