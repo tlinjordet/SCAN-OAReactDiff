{
 "cells": [
  {
   "cell_type": "code",
   "execution_count": 1,
   "id": "51c3e08e-2f75-47b3-97a6-17796262209e",
   "metadata": {},
   "outputs": [],
   "source": [
    "import ase"
   ]
  },
  {
   "cell_type": "code",
   "execution_count": 2,
   "id": "edd240c3-46e8-42e1-9ead-8ed6a5fd1007",
   "metadata": {},
   "outputs": [
    {
     "data": {
      "text/plain": [
       "Atom('K', [0.0, 0.0, 0.0])"
      ]
     },
     "execution_count": 2,
     "metadata": {},
     "output_type": "execute_result"
    }
   ],
   "source": [
    "ase.Atom(\"K\")"
   ]
  },
  {
   "cell_type": "code",
   "execution_count": 3,
   "id": "f6eef9c5-7226-429b-b8df-0dbe148f552b",
   "metadata": {},
   "outputs": [],
   "source": [
    "from ase.calculators.gaussian import Gaussian\n",
    "import ase.build\n",
    "atoms = ase.build.molecule('H2O')"
   ]
  },
  {
   "cell_type": "code",
   "execution_count": 4,
   "id": "a5d395e4-70c6-40e7-8727-6b69422377c0",
   "metadata": {},
   "outputs": [
    {
     "data": {
      "text/plain": [
       "Atoms(symbols='OH2', pbc=False)"
      ]
     },
     "execution_count": 4,
     "metadata": {},
     "output_type": "execute_result"
    }
   ],
   "source": [
    "atoms"
   ]
  },
  {
   "cell_type": "code",
   "execution_count": 5,
   "id": "6b358a7f-cdce-4c11-9876-b67cc83ce33e",
   "metadata": {},
   "outputs": [],
   "source": [
    "calc = Gaussian(method='wB97XD', basis='Def2SVP', scrf=['SMD', \"Solvent=THF\"], int=['Grid=FineGrid'])"
   ]
  },
  {
   "cell_type": "code",
   "execution_count": 6,
   "id": "e2fb61c0-8be8-45cb-9fa8-3cae410f2a4c",
   "metadata": {},
   "outputs": [],
   "source": [
    "atoms.calc = calc # set the calculator"
   ]
  },
  {
   "cell_type": "code",
   "execution_count": 10,
   "id": "26cd0fcf-4354-4546-9cc8-4205d268b2b8",
   "metadata": {},
   "outputs": [
    {
     "data": {
      "text/plain": [
       "-2077.4014273440043"
      ]
     },
     "execution_count": 10,
     "metadata": {},
     "output_type": "execute_result"
    }
   ],
   "source": [
    "atoms.get_potential_energy() # do the calculation"
   ]
  },
  {
   "cell_type": "code",
   "execution_count": 12,
   "id": "55315988-5411-4137-ac7d-dbba43c6b613",
   "metadata": {},
   "outputs": [
    {
     "name": "stdout",
     "output_type": "stream",
     "text": [
      "total 363M\n",
      "-rw-r--r--  1 guest50 users   43 May  2 16:18 .gitattributes\n",
      "drwxr-xr-x  3 guest50 users   94 May  2 16:18 .github\n",
      "-rw-r--r--  1 guest50 users   70 May  2 16:18 MANIFEST.in\n",
      "-rw-r--r--  1 guest50 users 1.1K May  2 16:18 LICENSE\n",
      "-rw-r--r--  1 guest50 users 3.6K May  2 16:18 CODE_OF_CONDUCT.md\n",
      "-rw-r--r--  1 guest50 users  15K May  2 16:18 demo.py\n",
      "-rw-r--r--  1 guest50 users 5.0K May  2 16:18 README.md\n",
      "drwxr-xr-x  2 guest50 users  126 May  2 16:18 figures\n",
      "-rw-r--r--  1 guest50 users 3.1K May  2 16:18 pyproject.toml\n",
      "-rw-r--r--  1 guest50 users  423 May  2 16:18 setup.cfg\n",
      "drwxr-xr-x 14 guest50 users  304 May  2 16:32 oa_reactdiff\n",
      "drwxr-xr-x  3 guest50 users   90 May  2 16:32 .pytest_cache\n",
      "-rw-r--r--  1 guest50 users  758 May  2 17:00 env.yaml\n",
      "drwxr-xr-x  2 guest50 users  158 May  2 19:20 oa_reactdiff.egg-info\n",
      "-rw-r--r--  1 guest50 users 204M May  2 20:28 pretrained-ts1x-diff.ckpt\n",
      "-rw-r--r--  1 guest50 users 2.8K May  7 13:32 20250507-basic-oareactdiff-notebook-understanding.out\n",
      "-rw-r--r--  1 guest50 users 9.4M May 14 19:29 OA-ReactDiff.ipynb\n",
      "-rw-r--r--  1 guest50 users    0 May 19 13:15 __init__.py\n",
      "-rw-r--r--  1 guest50 users 128K May 20 13:07 OA-ReactDiff-modify_and_explore-20250514.ipynb\n",
      "-rw-r--r--  1 guest50 users 9.6M May 23 20:25 OA-ReactDiff-modify_and_explore-20250520.ipynb\n",
      "-rw-r--r--  1 guest50 users 9.9M May 29 22:22 OA-ReactDiff-modify_and_explore-20250529.ipynb\n",
      "drwxr-xr-x  6 guest50 users  251 Jun  4 21:34 wandb\n",
      "drwxr-xr-x  5 guest50 users  104 Jun  4 21:35 checkpoint\n",
      "-rw-r--r--  1 guest50 users 2.8K Jun  4 21:35 log-train_SCAN_v001-20250604.out\n",
      "-rw-r--r--  1 guest50 users 9.4M Jun  5 13:24 OA-ReactDiff-work_on_SCAN_dataset-20250605.ipynb\n",
      "-rw-r--r--  1 guest50 users  10M Jun  5 15:09 OA-ReactDiff-modify_and_explore-20250604.ipynb\n",
      "-rw-r--r--  1 guest50 users  38K Jun  5 15:09 dataset_bridging-Transition1x-SCAN-20250604.ipynb\n",
      "drwxr-xr-x  7 guest50 users  112 Jun  5 15:14 demo\n",
      "-rw-r--r--  1 guest50 users 9.4M Jun  5 16:01 OA-ReactDiff-20250605-visualize-select-TS.ipynb\n",
      "drwxr-xr-x  3 guest50 users   29 Jun  7 15:54 notebooks\n",
      "-rw-r--r--  1 guest50 users 1.5K Jun  7 15:55 .gitignore\n",
      "-rw-r--r--  1 guest50 users 9.4M Jun 11 13:03 OA-ReactDiff-20250610-visualize-select-TS.ipynb\n",
      "-rw-r--r--  1 guest50 users  29K Jun 11 16:40 OA-ReactDiff-20250611-visualize-select-TS-TS1x-orig_ckpt.ipynb\n",
      "drwxr-xr-x  9 guest50 users  226 Jun 11 17:20 .git\n",
      "-rw-r--r--  1 guest50 users  29K Jun 11 17:52 OA-ReactDiff-20250611-visualize-select-TS-TS1x-from_scratch_pretrained_ckpt.ipynb\n",
      "-rw-r--r--  1 guest50 users  29K Jun 11 18:09 OA-ReactDiff-20250611-visualize-select-TS-TS1x-zenodo_pretrained_ckpt.ipynb\n",
      "-rw-r--r--  1 guest50 users  32K Jun 12 15:23 OA-ReactDiff-20250611-visualize-select-TS-SCAN_w_self-loops-from_scratch_pretrained_ckpt.ipynb\n",
      "-rw-r--r--  1 guest50 users  30K Jun 17 18:36 OA-ReactDiff-20250616-select-TS-SCAN_wo_self-loops-from_scratch_pretrained_ckpt.ipynb\n",
      "-rw-r--r--  1 guest50 users 1.3K Jun 18 13:23 find_best_checkpoint.py\n",
      "drwxr-xr-x  2 guest50 users  302 Jun 18 13:30 trained_models\n",
      "-rw-r--r--  1 guest50 users  30K Jun 18 13:31 OA-ReactDiff-20250616-select-TS-SCAN_w_self-loops-from_scratch_pretrained_ckpt.ipynb\n",
      "-rw-r--r--  1 guest50 users  49K Jun 18 15:49 OA-ReactDiff-20250617-select-TS-TS1x-from_scratch_confidence-epoch1999_ckpt.ipynb\n",
      "-rw-r--r--  1 guest50 users  34K Jun 18 16:25 OA-ReactDiff-20250612-select-TS-TS1x-zenodo_pretrained_ckpt--visualize-Copy1.ipynb\n",
      "-rw-r--r--  1 guest50 users  30K Jun 18 17:13 OA-ReactDiff-20250618-select-TS-SCAN_w_self-loops-from_scratch_pretrained_ckpt-chosen_9_passerini.ipynb\n",
      "-rw-r--r--  1 guest50 users  34K Jun 19 16:33 OA-ReactDiff-20250612-select-TS-TS1x-zenodo_pretrained_ckpt--visualize.ipynb\n",
      "-rw-r--r--  1 guest50 users  92M Jun 22 07:48 log-train_confidence_ts1x_py-as_is-20250519.out\n",
      "drwx------ 22 guest50 users 4.0K Jun 25 14:36 ..\n",
      "drwxr-xr-x  8 guest50 users 4.0K Jun 25 15:35 results\n",
      "-rw-r--r--  1 guest50 users  31K Jun 25 16:06 OA-ReactDiff-select-TS-SCAN_w_self-loops-check_chosen_passerini_edges-20250625.ipynb\n",
      "drwxr-xr-x  2 guest50 users 4.0K Jun 25 17:17 .ipynb_checkpoints\n",
      "-rw-r--r--  1 guest50 users  348 Jun 25 17:25 Gaussian.com\n",
      "-rw-r--r--  1 guest50 users    0 Jun 25 17:25 ['Grid=FineGrid'].int\n",
      "-rw-r--r--  1 guest50 users  386 Jun 25 17:25 fort.7\n",
      "-rw-r--r--  1 guest50 users  25K Jun 25 17:25 Gaussian.log\n",
      "-rw-r--r--  1 guest50 users 2.7K Jun 25  2025 energy_calculation_for_SCANlike_data-20250625.ipynb\n",
      "drwxr-xr-x 15 guest50 users 4.0K Jun 25  2025 .\n",
      "-rw-------  1 guest50 users 163K Jun 25  2025 nohup.out\n"
     ]
    }
   ],
   "source": [
    "!ls -haltr"
   ]
  },
  {
   "cell_type": "code",
   "execution_count": 13,
   "id": "0898a4b8-69c9-451b-88c4-69bf47b0f776",
   "metadata": {},
   "outputs": [
    {
     "name": "stdout",
     "output_type": "stream",
     "text": [
      "%int=['Grid=FineGrid']\n",
      "#P wB97XD/Def2SVP ! ASE formatted method and basis\n",
      "scrf(SMD,Solvent=THF)\n",
      "\n",
      "Gaussian input prepared by ASE\n",
      "\n",
      "0 1\n",
      "O                 0.0000000000        0.0000000000        0.1192620000\n",
      "H                 0.0000000000        0.7632390000       -0.4770470000\n",
      "H                 0.0000000000       -0.7632390000       -0.4770470000\n",
      "\n",
      "\n"
     ]
    }
   ],
   "source": [
    "!cat Gaussian.com"
   ]
  },
  {
   "cell_type": "code",
   "execution_count": 19,
   "id": "a0000bf5-fef5-4075-93ae-1ad7b105ab8f",
   "metadata": {},
   "outputs": [
    {
     "data": {
      "text/plain": [
       "-2077.401501195706"
      ]
     },
     "execution_count": 19,
     "metadata": {},
     "output_type": "execute_result"
    }
   ],
   "source": [
    "#calc = Gaussian(method='wB97XD', basis='Def2SVP', scrf=['SMD', \"Solvent=THF\"], int=['Grid=FineGrid'])\n",
    "calc = Gaussian(method='wB97XD', basis='Def2SVP scrf(SMD,Solvent=THF) Int(Grid=FineGrid)')\n",
    "atoms.calc = calc\n",
    "atoms.get_potential_energy()"
   ]
  },
  {
   "cell_type": "code",
   "execution_count": 20,
   "id": "cac69db7-a186-4113-b7dd-7b8126d7f46e",
   "metadata": {},
   "outputs": [
    {
     "data": {
      "text/plain": [
       "array([[-0.        , -0.        , -0.18228089],\n",
       "       [ 0.        , -0.28396644,  0.09114042],\n",
       "       [ 0.        ,  0.28396644,  0.09114042]])"
      ]
     },
     "execution_count": 20,
     "metadata": {},
     "output_type": "execute_result"
    }
   ],
   "source": [
    "atoms.get_forces()"
   ]
  },
  {
   "cell_type": "code",
   "execution_count": 21,
   "id": "f00becb8-d6ac-4199-b160-446c3f8cd022",
   "metadata": {},
   "outputs": [
    {
     "name": "stdout",
     "output_type": "stream",
     "text": [
      "#P wB97XD/Def2SVP scrf(SMD,Solvent=THF) Int(Grid=FineGrid) ! ASE formatted method and basis\n",
      "force\n",
      "\n",
      "Gaussian input prepared by ASE\n",
      "\n",
      "0 1\n",
      "O                 0.0000000000        0.0000000000        0.1192620000\n",
      "H                 0.0000000000        0.7632390000       -0.4770470000\n",
      "H                 0.0000000000       -0.7632390000       -0.4770470000\n",
      "\n",
      "\n"
     ]
    }
   ],
   "source": [
    "!cat Gaussian.com"
   ]
  },
  {
   "cell_type": "code",
   "execution_count": 22,
   "id": "6b4a9fcf-abb0-4cbd-aaa4-252c600d7988",
   "metadata": {},
   "outputs": [],
   "source": [
    "# Now let's see if it makes sense"
   ]
  },
  {
   "cell_type": "code",
   "execution_count": 24,
   "id": "60c30588-e3d6-46a9-a66b-835bbeda0225",
   "metadata": {},
   "outputs": [],
   "source": [
    "import pickle\n",
    "train_pkl = pickle.load(open(\"./oa_reactdiff/data/SCAN-4/train.pkl\", \"rb\"))"
   ]
  },
  {
   "cell_type": "code",
   "execution_count": 26,
   "id": "317ad2a6-9afc-473c-b48a-fba5612d6f26",
   "metadata": {},
   "outputs": [
    {
     "data": {
      "text/plain": [
       "-545.323204633867"
      ]
     },
     "execution_count": 26,
     "metadata": {},
     "output_type": "execute_result"
    }
   ],
   "source": [
    "train_pkl[\"transition_state\"][\"energy\"][666]"
   ]
  },
  {
   "cell_type": "code",
   "execution_count": 27,
   "id": "416c42e2-5b28-460c-a627-8709aa51baf1",
   "metadata": {},
   "outputs": [
    {
     "data": {
      "text/plain": [
       "dict_keys(['num_atoms', 'charges', 'positions', 'rxn', 'energy'])"
      ]
     },
     "execution_count": 27,
     "metadata": {},
     "output_type": "execute_result"
    }
   ],
   "source": [
    "train_pkl[\"transition_state\"].keys()"
   ]
  },
  {
   "cell_type": "code",
   "execution_count": 35,
   "id": "e55736de-cab5-4e8e-95ca-49051aca273c",
   "metadata": {},
   "outputs": [],
   "source": [
    "charges = train_pkl[\"transition_state\"][\"charges\"][666]"
   ]
  },
  {
   "cell_type": "code",
   "execution_count": 37,
   "id": "53dee5de-2159-4f86-9965-3f1786c48776",
   "metadata": {},
   "outputs": [],
   "source": [
    "positions = train_pkl[\"transition_state\"][\"positions\"][666]"
   ]
  },
  {
   "cell_type": "code",
   "execution_count": 38,
   "id": "1aae4d8e-1f02-4419-8ea6-4163d05174d4",
   "metadata": {},
   "outputs": [],
   "source": [
    "# TL visualize each state:\n",
    "atomic_num2sym = {\n",
    "    1: 'H',    2: 'He',   3: 'Li',   4: 'Be',   5: 'B',    6: 'C',    7: 'N',    8: 'O',    9: 'F',    10: 'Ne',\n",
    "    11: 'Na',  12: 'Mg',  13: 'Al',  14: 'Si',  15: 'P',   16: 'S',   17: 'Cl',  18: 'Ar',  19: 'K',   20: 'Ca',\n",
    "    21: 'Sc',  22: 'Ti',  23: 'V',   24: 'Cr',  25: 'Mn',  26: 'Fe',  27: 'Co',  28: 'Ni',  29: 'Cu',  30: 'Zn',\n",
    "    31: 'Ga',  32: 'Ge',  33: 'As',  34: 'Se',  35: 'Br',  36: 'Kr',  37: 'Rb',  38: 'Sr',  39: 'Y',   40: 'Zr',\n",
    "    41: 'Nb',  42: 'Mo',  43: 'Tc',  44: 'Ru',  45: 'Rh',  46: 'Pd',  47: 'Ag',  48: 'Cd',  49: 'In',  50: 'Sn',\n",
    "    51: 'Sb',  52: 'Te',  53: 'I',   54: 'Xe',  55: 'Cs',  56: 'Ba',  57: 'La',  58: 'Ce',  59: 'Pr',  60: 'Nd',\n",
    "    61: 'Pm',  62: 'Sm',  63: 'Eu',  64: 'Gd', 65: 'Tb',  66: 'Dy',  67: 'Ho',  68: 'Er',  69: 'Tm',  70: 'Yb',\n",
    "    71: 'Lu',  72: 'Hf',  73: 'Ta',  74: 'W',   75: 'Re',  76: 'Os',  77: 'Ir',  78: 'Pt',  79: 'Au',  80: 'Hg',\n",
    "    81: 'Tl',  82: 'Pb',  83: 'Bi',  84: 'Po',  85: 'At',  86: 'Rn',  87: 'Fr',  88: 'Ra',  89: 'Ac',  90: 'Th',\n",
    "    91: 'Pa',  92: 'U',   93: 'Np',  94: 'Pu',  95: 'Am',  96: 'Cm',  97: 'Bk',  98: 'Cf',  99: 'Es', 100: 'Fm',\n",
    "    101: 'Md', 102: 'No', 103: 'Lr', 104: 'Rf', 105: 'Db', 106: 'Sg', 107: 'Bh', 108: 'Hs', 109: 'Mt', 110: 'Ds',\n",
    "    111: 'Rg', 112: 'Cn', 113: 'Nh', 114: 'Fl', 115: 'Mc', 116: 'Lv', 117: 'Ts', 118: 'Og'\n",
    "}"
   ]
  },
  {
   "cell_type": "code",
   "execution_count": 39,
   "id": "6024986b-cef7-4e2b-9981-fc52c5479258",
   "metadata": {},
   "outputs": [],
   "source": [
    "import torch"
   ]
  },
  {
   "cell_type": "code",
   "execution_count": 40,
   "id": "4ec8c6a2-c261-4958-8853-a3873e7ef259",
   "metadata": {},
   "outputs": [],
   "source": [
    "def assemble_xyz(z: list, pos: torch.tensor) -> str:\n",
    "    \"\"\"Assembling atomic numbers and positions into xyz format\n",
    "\n",
    "    Args:\n",
    "        z (list): chemical elements\n",
    "        pos (tensor): 3D coordinates\n",
    "\n",
    "    Returns:\n",
    "        str: xyz string\n",
    "    \"\"\"\n",
    "    natoms =len(z)\n",
    "    xyz = f\"{natoms}\\n\\n\"\n",
    "    for _z, _pos in zip(z, pos.numpy()):\n",
    "        xyz += f\"{_z}\\t\" + \"\\t\".join([str(x) for x in _pos]) + \"\\n\"\n",
    "    return xyz"
   ]
  },
  {
   "cell_type": "code",
   "execution_count": 42,
   "id": "98dca551-447e-4fe2-af24-710b041c8a8b",
   "metadata": {},
   "outputs": [
    {
     "name": "stdout",
     "output_type": "stream",
     "text": [
      "17\n",
      "\n",
      "C\t0.32042092558599994\t-2.3555994396279996\t0.9024602837870002\n",
      "O\t-1.233633569312\t-1.3817001798739998\t-2.011116763472\n",
      "H\t0.723350965132\t-3.279455701376\t1.3446898691649998\n",
      "H\t-0.960028062364\t-1.7420866128600003\t0.708161486803\n",
      "C\t0.487883152983\t0.061950585976\t0.551689197886\n",
      "O\t-1.6140139239099998\t-0.792912669209\t0.905212503028\n",
      "C\t1.032312229503\t-1.220638684216\t1.1048741252749998\n",
      "H\t-1.754817373018\t-1.8670114753569997\t-1.356984594353\n",
      "H\t-0.981010938149\t-0.509868349436\t-1.609414853529\n",
      "H\t1.9338044237779999\t-1.113720638013\t1.729618941304\n",
      "C\t0.29232667811699997\t1.201427958545\t1.492998216475\n",
      "H\t-0.39198925519499994\t1.937405251708\t1.0514747373279998\n",
      "H\t-0.108131940954\t0.835882258631\t2.4470288730950003\n",
      "H\t1.277038895875\t1.676229156904\t1.6602532439909998\n",
      "O\t0.45514869911299993\t0.22999991158399996\t-0.7053760586320001\n",
      "H\t-2.221498309999\t-0.432116771915\t0.225974101722\n",
      "Na\t0.8900401406359999\t-1.873614415384\t-1.547283599444\n",
      "\n"
     ]
    }
   ],
   "source": [
    "xyz_str = assemble_xyz([atomic_num2sym[x] for x in charges], torch.tensor(positions))\n",
    "print(xyz_str)"
   ]
  },
  {
   "cell_type": "code",
   "execution_count": 43,
   "id": "c996871c-cbdc-4cdf-8f67-97b9b95226de",
   "metadata": {},
   "outputs": [],
   "source": [
    "# ase.Atoms(numbers=z, positions=pos).write('/path/to/file.xyz')"
   ]
  },
  {
   "cell_type": "code",
   "execution_count": 44,
   "id": "0e18f857-336e-479b-8e3f-4193a0f75e7d",
   "metadata": {},
   "outputs": [],
   "source": [
    "atoms = ase.Atoms(numbers=charges, positions=positions)"
   ]
  },
  {
   "cell_type": "code",
   "execution_count": 47,
   "id": "e1901997-5872-499f-b86c-bf14e3612910",
   "metadata": {},
   "outputs": [],
   "source": [
    "atoms.calc = calc"
   ]
  },
  {
   "cell_type": "code",
   "execution_count": 48,
   "id": "a188a9b7-30b4-4dec-b34a-81d8674c6226",
   "metadata": {},
   "outputs": [
    {
     "data": {
      "text/plain": [
       "-14838.698901962369"
      ]
     },
     "execution_count": 48,
     "metadata": {},
     "output_type": "execute_result"
    }
   ],
   "source": [
    "atoms.get_potential_energy()"
   ]
  },
  {
   "cell_type": "code",
   "execution_count": 49,
   "id": "597194f4-a3b1-4d8b-a8c1-2143463af5ed",
   "metadata": {},
   "outputs": [],
   "source": [
    "from scipy import constants"
   ]
  },
  {
   "cell_type": "markdown",
   "id": "6d4965e7-82ee-4287-b7f5-4980a34f05b1",
   "metadata": {},
   "source": [
    "#Hartree_to_ev"
   ]
  },
  {
   "cell_type": "code",
   "execution_count": 50,
   "id": "39b14330-c59c-49a4-9da5-664c18b6e47f",
   "metadata": {},
   "outputs": [],
   "source": [
    "from ase.units import Hartree"
   ]
  },
  {
   "cell_type": "code",
   "execution_count": 51,
   "id": "73cc2598-96b7-4e08-87c0-c873d4e78338",
   "metadata": {},
   "outputs": [
    {
     "data": {
      "text/plain": [
       "-545.312131057"
      ]
     },
     "execution_count": 51,
     "metadata": {},
     "output_type": "execute_result"
    }
   ],
   "source": [
    "-14838.698901962369/Hartree"
   ]
  },
  {
   "cell_type": "code",
   "execution_count": 52,
   "id": "7f4a8429-5d74-4572-aea2-60a119ee4754",
   "metadata": {},
   "outputs": [
    {
     "data": {
      "text/plain": [
       "-545.323204633867"
      ]
     },
     "execution_count": 52,
     "metadata": {},
     "output_type": "execute_result"
    }
   ],
   "source": [
    "train_pkl[\"transition_state\"][\"energy\"][666]"
   ]
  },
  {
   "cell_type": "code",
   "execution_count": 54,
   "id": "977ae203-d649-4484-9898-8746b4fc5831",
   "metadata": {},
   "outputs": [
    {
     "data": {
      "text/plain": [
       "['num_atoms', 'charges', 'positions', 'rxn', 'energy']"
      ]
     },
     "execution_count": 54,
     "metadata": {},
     "output_type": "execute_result"
    }
   ],
   "source": [
    "list(train_pkl[\"transition_state\"].keys())"
   ]
  },
  {
   "cell_type": "code",
   "execution_count": 55,
   "id": "92e3f88f-e3e6-43ff-947e-4f9ebdaca617",
   "metadata": {},
   "outputs": [
    {
     "data": {
      "text/plain": [
       "'ALD1-TS666'"
      ]
     },
     "execution_count": 55,
     "metadata": {},
     "output_type": "execute_result"
    }
   ],
   "source": [
    "train_pkl[\"transition_state\"][\"rxn\"][666]"
   ]
  },
  {
   "cell_type": "code",
   "execution_count": 57,
   "id": "8b26a772-cd5f-49b4-8027-0b7fef30a65a",
   "metadata": {},
   "outputs": [
    {
     "name": "stdout",
     "output_type": "stream",
     "text": [
      "rcmconly_passerini-TS12106\n",
      "84502\n"
     ]
    }
   ],
   "source": [
    "for i, rxn in enumerate(train_pkl[\"transition_state\"][\"rxn\"]):\n",
    "    if \"asserini-TS12106\" in rxn:\n",
    "        print(rxn)\n",
    "        print(i)\n",
    "        break"
   ]
  },
  {
   "cell_type": "code",
   "execution_count": 58,
   "id": "5218bdda-be77-43fd-8ce1-6765bf9cea84",
   "metadata": {},
   "outputs": [
    {
     "data": {
      "text/plain": [
       "-626.144728722134"
      ]
     },
     "execution_count": 58,
     "metadata": {},
     "output_type": "execute_result"
    }
   ],
   "source": [
    "train_pkl[\"transition_state\"][\"energy\"][84502]"
   ]
  },
  {
   "cell_type": "code",
   "execution_count": 59,
   "id": "6b2ed456-83b8-41f7-8c1e-bdf34be9ab19",
   "metadata": {},
   "outputs": [],
   "source": [
    "charges = train_pkl[\"transition_state\"][\"charges\"][84502]"
   ]
  },
  {
   "cell_type": "code",
   "execution_count": 60,
   "id": "611927aa-a4bc-4539-9f72-fa102d88b0c4",
   "metadata": {},
   "outputs": [],
   "source": [
    "positions = train_pkl[\"transition_state\"][\"positions\"][84502]"
   ]
  },
  {
   "cell_type": "code",
   "execution_count": 61,
   "id": "caf20351-2d87-4f0c-9ff3-edaaff2da98d",
   "metadata": {},
   "outputs": [
    {
     "name": "stdout",
     "output_type": "stream",
     "text": [
      "-626.144698569\n"
     ]
    }
   ],
   "source": [
    "atoms = ase.Atoms(numbers=charges, positions=positions)\n",
    "calc = calc = Gaussian(method='wB97XD', basis='Def2SVP scrf(SMD,Solvent=THF) Int(Grid=FineGrid)')\n",
    "atoms.calc = calc\n",
    "recalculated_energy = atoms.get_potential_energy()\n",
    "print(recalculated_energy/Hartree)"
   ]
  },
  {
   "cell_type": "code",
   "execution_count": 62,
   "id": "dcf124ae-3276-458c-8145-226717830888",
   "metadata": {},
   "outputs": [
    {
     "data": {
      "text/plain": [
       "3.015313404830522e-05"
      ]
     },
     "execution_count": 62,
     "metadata": {},
     "output_type": "execute_result"
    }
   ],
   "source": [
    "recalculated_energy/Hartree-train_pkl[\"transition_state\"][\"energy\"][84502]"
   ]
  },
  {
   "cell_type": "code",
   "execution_count": 64,
   "id": "f661a9f5-8a74-4667-b652-fa4ff38de11a",
   "metadata": {},
   "outputs": [],
   "source": [
    "# That's like 0.08 kJ per mol"
   ]
  },
  {
   "cell_type": "code",
   "execution_count": null,
   "id": "1473fa78-9faa-4194-935b-1c61edd94425",
   "metadata": {},
   "outputs": [],
   "source": []
  }
 ],
 "metadata": {
  "kernelspec": {
   "display_name": "Python 3 (ipykernel)",
   "language": "python",
   "name": "python3"
  },
  "language_info": {
   "codemirror_mode": {
    "name": "ipython",
    "version": 3
   },
   "file_extension": ".py",
   "mimetype": "text/x-python",
   "name": "python",
   "nbconvert_exporter": "python",
   "pygments_lexer": "ipython3",
   "version": "3.10.4"
  }
 },
 "nbformat": 4,
 "nbformat_minor": 5
}
