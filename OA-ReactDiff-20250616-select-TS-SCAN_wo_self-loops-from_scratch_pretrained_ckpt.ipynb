{
 "cells": [
  {
   "cell_type": "markdown",
   "id": "77fb1e04-0409-4927-8412-06656d122d74",
   "metadata": {},
   "source": [
    "# Apply this code to sample TS from model."
   ]
  },
  {
   "cell_type": "code",
   "execution_count": 1,
   "id": "__bohr_old_version_cellId_3__",
   "metadata": {
    "ExecuteTime": {
     "end_time": "2023-10-02T19:44:52.843133900Z",
     "start_time": "2023-10-02T19:44:49.803291700Z"
    }
   },
   "outputs": [],
   "source": [
    "# --- Importing and defining some functions ----\n",
    "import os\n",
    "import torch\n",
    "import py3Dmol\n",
    "import numpy as np\n",
    "\n",
    "from typing import Optional\n",
    "from torch import tensor\n",
    "from e3nn import o3\n",
    "from torch_scatter import scatter_mean\n",
    "\n",
    "from oa_reactdiff.model import LEFTNet\n",
    "\n",
    "default_float = torch.float64\n",
    "torch.set_default_dtype(default_float)  # Use double precision for more accurate testing\n",
    "\n",
    "\n",
    "def remove_mean_batch(\n",
    "    x: tensor, \n",
    "    indices: Optional[tensor] = None\n",
    ") -> tensor:\n",
    "    \"\"\"Remove the mean from each batch in x\n",
    "\n",
    "    Args:\n",
    "        x (tensor): input tensor.\n",
    "        indices (Optional[tensor], optional): batch indices. Defaults to None.\n",
    "\n",
    "    Returns:\n",
    "        tensor: output tensor with batch mean as 0.\n",
    "    \"\"\"\n",
    "    if indices == None:\n",
    "         return x - torch.mean(x, dim=0)\n",
    "    mean = scatter_mean(x, indices, dim=0)\n",
    "    x = x - mean[indices]\n",
    "    return x\n",
    "\n",
    "\n",
    "def draw_in_3dmol(mol: str, fmt: str = \"xyz\") -> py3Dmol.view:\n",
    "    \"\"\"Draw the molecule\n",
    "\n",
    "    Args:\n",
    "        mol (str): str content of molecule.\n",
    "        fmt (str, optional): format. Defaults to \"xyz\".\n",
    "\n",
    "    Returns:\n",
    "        py3Dmol.view: output viewer\n",
    "    \"\"\"\n",
    "    viewer = py3Dmol.view(1024, 576)\n",
    "    viewer.addModel(mol, fmt)\n",
    "    viewer.setStyle({'stick': {}, \"sphere\": {\"radius\": 0.36}})\n",
    "    viewer.zoomTo()\n",
    "    return viewer\n",
    "\n",
    "\n",
    "def assemble_xyz(z: list, pos: tensor) -> str:\n",
    "    \"\"\"Assembling atomic numbers and positions into xyz format\n",
    "\n",
    "    Args:\n",
    "        z (list): chemical elements\n",
    "        pos (tensor): 3D coordinates\n",
    "\n",
    "    Returns:\n",
    "        str: xyz string\n",
    "    \"\"\"\n",
    "    natoms =len(z)\n",
    "    xyz = f\"{natoms}\\n\\n\"\n",
    "    for _z, _pos in zip(z, pos.numpy()):\n",
    "        xyz += f\"{_z}\\t\" + \"\\t\".join([str(x) for x in _pos]) + \"\\n\"\n",
    "    return xyz"
   ]
  },
  {
   "cell_type": "markdown",
   "id": "__bohr_old_version_cellId_4__",
   "metadata": {},
   "source": [
    "### Building a LEFTNet model\n",
    "\n",
    "A simple test is performed to verify SE(3) symmetry. The model here is for testing, so we only need to build a very small model.\n",
    "\n",
    "Note: [LEFTNet](https://arxiv.org/abs/2304.04757) is a new SOTA-level SE(3) graph neural network. Although we use LEFTNet here, the properties it exhibits are model-independent (other SE(3) models, such as [EGNN](https://arxiv.org/pdf/2102.09844.pdf), will give the same results)\n",
    "\n",
    "TL: EGNN is not SE$(3)$  equivariant?"
   ]
  },
  {
   "cell_type": "code",
   "execution_count": 2,
   "id": "__bohr_old_version_cellId_5__",
   "metadata": {
    "ExecuteTime": {
     "end_time": "2023-10-02T20:08:08.703724800Z",
     "start_time": "2023-10-02T20:08:08.653181600Z"
    }
   },
   "outputs": [
    {
     "name": "stderr",
     "output_type": "stream",
     "text": [
      "/misc/home/guest50/micromamba/envs/oa_reactdiff_m/lib/python3.10/site-packages/torch_geometric/nn/conv/message_passing.py:972: UserWarning: 'EquiMessage.jittable' is deprecated and a no-op. Please remove its usage.\n",
      "  warnings.warn(f\"'{self.__class__.__name__}.jittable' is deprecated \"\n"
     ]
    },
    {
     "data": {
      "text/plain": [
       "7882"
      ]
     },
     "execution_count": 2,
     "metadata": {},
     "output_type": "execute_result"
    }
   ],
   "source": [
    "num_layers = 2\n",
    "hidden_channels = 8\n",
    "in_hidden_channels = 4\n",
    "num_radial = 4\n",
    "\n",
    "model =  LEFTNet(\n",
    "    num_layers=num_layers,\n",
    "    hidden_channels=hidden_channels,\n",
    "    in_hidden_channels=in_hidden_channels,\n",
    "    num_radial=num_radial,\n",
    "    object_aware=False,\n",
    ")\n",
    "\n",
    "sum(p.numel() for p in model.parameters() if p.requires_grad)"
   ]
  },
  {
   "cell_type": "raw",
   "id": "ed71048b-49d6-4591-b70c-547e351ff6ad",
   "metadata": {
    "ExecuteTime": {
     "end_time": "2023-10-02T20:08:28.715004500Z",
     "start_time": "2023-10-02T20:08:28.630190700Z"
    }
   },
   "source": [
    "xyz = assemble_xyz(z, pos)\n",
    "view = draw_in_3dmol(xyz, \"xyz\")\n",
    "view  # Display Molecules"
   ]
  },
  {
   "cell_type": "markdown",
   "id": "__bohr_old_version_cellId_34__",
   "metadata": {},
   "source": [
    "\n",
    "\n",
    "### Create an \"Object-Aware\" LEFTNet"
   ]
  },
  {
   "cell_type": "raw",
   "id": "5898122e-1a04-40bf-a934-dd837271ee89",
   "metadata": {
    "ExecuteTime": {
     "end_time": "2023-10-02T20:31:35.925564Z",
     "start_time": "2023-10-02T20:31:35.902036100Z"
    }
   },
   "source": [
    "model_oa =  LEFTNet(\n",
    "    num_layers=num_layers,\n",
    "    hidden_channels=hidden_channels,\n",
    "    in_hidden_channels=in_hidden_channels,\n",
    "    num_radial=num_radial,\n",
    "    object_aware=True,  # Using the object-aware model\n",
    ")"
   ]
  },
  {
   "cell_type": "code",
   "execution_count": 3,
   "id": "__bohr_old_version_cellId_46__",
   "metadata": {
    "ExecuteTime": {
     "end_time": "2023-10-02T20:31:55.072136100Z",
     "start_time": "2023-10-02T20:31:55.024148400Z"
    }
   },
   "outputs": [],
   "source": [
    "# --- Importing necessary function ---\n",
    "from torch.utils.data import DataLoader\n",
    "\n",
    "from oa_reactdiff.trainer.pl_trainer import DDPMModule\n",
    "\n",
    "\n",
    "from oa_reactdiff.dataset import ProcessedTS1x, ProcessedSCAN\n",
    "from oa_reactdiff.diffusion._schedule import DiffSchedule, PredefinedNoiseSchedule\n",
    "\n",
    "from oa_reactdiff.diffusion._normalizer import FEATURE_MAPPING\n",
    "from oa_reactdiff.analyze.rmsd import batch_rmsd\n",
    "\n",
    "from oa_reactdiff.utils.sampling_tools import assemble_sample_inputs, write_tmp_xyz"
   ]
  },
  {
   "cell_type": "code",
   "execution_count": 4,
   "id": "96b9d00f-f0fc-42f3-8ebb-255af0c0e491",
   "metadata": {},
   "outputs": [
    {
     "name": "stdout",
     "output_type": "stream",
     "text": [
      "/misc/home/guest50/OAReactDiff\n"
     ]
    }
   ],
   "source": [
    "!pwd"
   ]
  },
  {
   "cell_type": "markdown",
   "id": "__bohr_old_version_cellId_47__",
   "metadata": {},
   "source": [
    "\n",
    "### Import the pre-trained model and redefine the schedule."
   ]
  },
  {
   "cell_type": "code",
   "execution_count": 5,
   "id": "__bohr_old_version_cellId_48__",
   "metadata": {
    "ExecuteTime": {
     "end_time": "2023-10-02T20:31:55.921080700Z",
     "start_time": "2023-10-02T20:31:55.869082Z"
    }
   },
   "outputs": [
    {
     "name": "stdout",
     "output_type": "stream",
     "text": [
      "cuda\n",
      "/misc/home/guest50/OAReactDiff/oa_reactdiff/trainer\n"
     ]
    },
    {
     "name": "stderr",
     "output_type": "stream",
     "text": [
      "/misc/home/guest50/micromamba/envs/oa_reactdiff_m/lib/python3.10/site-packages/torch_geometric/nn/conv/message_passing.py:972: UserWarning: 'EquiMessage.jittable' is deprecated and a no-op. Please remove its usage.\n",
      "  warnings.warn(f\"'{self.__class__.__name__}.jittable' is deprecated \"\n"
     ]
    }
   ],
   "source": [
    "# TL fix: {\n",
    "from oa_reactdiff.trainer.pl_trainer import DDPMModule\n",
    "# } fix. Why didn' this carry over from the previous cell import statement?\n",
    "\n",
    "device = torch.device(\"cpu\") if not torch.cuda.is_available() else torch.device(\"cuda\")\n",
    "print(device) # TL\n",
    "\n",
    "tspath = os.path.abspath(os.path.join(os.getcwd(), \"oa_reactdiff\",\"trainer\"))\n",
    "print(tspath)\n",
    "# zenodo_pretrained_ckpt\n",
    "ddpm_trainer = DDPMModule.load_from_checkpoint(\n",
    "    checkpoint_path=\"./trained_models/pretrained-SCAN-diff-2-wo_selfloops.ckpt\",\n",
    "    #checkpoint_path=os.path.abspath(\"/misc/home/guest50/OAReactDiff/oa_reactdiff/trainer/checkpoint/OAReactDiff/leftnet-0-84724de349da/ddpm-epoch=1964-val-totloss=510.42.ckpt\"),\n",
    "    #checkpoint_path=os.path.abspath(\"/misc/home/guest50/OAReactDiff/oa_reactdiff/trainer/checkpoint/OAReactDiff/leftnet-0-84724de349da/ddpm-epoch=1999-val-totloss=523.77.ckpt\"),\n",
    "    #checkpoint_path=\"./pretrained-ts1x-diff.ckpt\", # original\n",
    "    #checkpoint_path=f\"{tspath}/checkpoint/OAReactDiff/leftnet-0-f1ff7dc18fa3/ddpm-epoch=1999-val-totloss=509.31.ckpt\", # Our recapitulation\n",
    "    map_location=device,\n",
    ")\n",
    "ddpm_trainer = ddpm_trainer.to(device)"
   ]
  },
  {
   "cell_type": "raw",
   "id": "0bc9580c-aca8-4a80-85ea-573c67647838",
   "metadata": {},
   "source": [
    "loaded_from_scratch_ckpt = torch.load(\"./trained_models/pretrained-ts1x-diff-from-scratch.ckpt\")\n",
    "loaded_from_scratch_ckpt"
   ]
  },
  {
   "cell_type": "raw",
   "id": "a92fc9c4-5c7b-401b-afd7-5e5b06d6689f",
   "metadata": {},
   "source": [
    "loaded_zenodo_ckpt = torch.load(\"./trained_models/pretrained-ts1x-diff-zenodo.ckpt\")\n",
    "loaded_zenodo_ckpt"
   ]
  },
  {
   "cell_type": "code",
   "execution_count": 6,
   "id": "__bohr_old_version_cellId_50__",
   "metadata": {
    "ExecuteTime": {
     "end_time": "2023-10-02T20:31:56.986652100Z",
     "start_time": "2023-10-02T20:31:56.909147700Z"
    }
   },
   "outputs": [],
   "source": [
    "noise_schedule: str = \"polynomial_2\"\n",
    "timesteps: int = 150\n",
    "precision: float = 1e-5\n",
    "\n",
    "gamma_module = PredefinedNoiseSchedule(\n",
    "            noise_schedule=noise_schedule,\n",
    "            timesteps=timesteps,\n",
    "            precision=precision,\n",
    "        )\n",
    "schedule = DiffSchedule(\n",
    "    gamma_module=gamma_module,\n",
    "    norm_values=ddpm_trainer.ddpm.norm_values\n",
    ")\n",
    "ddpm_trainer.ddpm.schedule = schedule\n",
    "ddpm_trainer.ddpm.T = timesteps\n",
    "ddpm_trainer = ddpm_trainer.to(device)"
   ]
  },
  {
   "cell_type": "markdown",
   "id": "__bohr_old_version_cellId_51__",
   "metadata": {},
   "source": [
    "\n",
    "### Prepare dataset and data loader and select a reaction involving multiple molecules"
   ]
  },
  {
   "cell_type": "code",
   "execution_count": 7,
   "id": "df24046a-94b7-4f50-92a7-512bfe4bef9a",
   "metadata": {},
   "outputs": [],
   "source": [
    "import pickle\n",
    "\n",
    "npz_path = \"./oa_reactdiff/data/SCAN-third/train.pkl\" # w/o self-loops after Angstrom correction\n",
    "\n",
    "train_pkl = pickle.load(open(npz_path, \"rb\"))"
   ]
  },
  {
   "cell_type": "code",
   "execution_count": 8,
   "id": "4dd6c917-8227-439d-8cfe-43185f391bf3",
   "metadata": {},
   "outputs": [
    {
     "data": {
      "text/plain": [
       "[0, 1, 2, 3, 4, 5, 6, 7, 8, 9]"
      ]
     },
     "execution_count": 8,
     "metadata": {},
     "output_type": "execute_result"
    }
   ],
   "source": [
    "train_pkl[\"use_ind\"][:10]"
   ]
  },
  {
   "cell_type": "code",
   "execution_count": 9,
   "id": "22649884-6690-47df-b790-c6e2d8d880c0",
   "metadata": {},
   "outputs": [
    {
     "data": {
      "text/plain": [
       "'ALD1-TS196'"
      ]
     },
     "execution_count": 9,
     "metadata": {},
     "output_type": "execute_result"
    }
   ],
   "source": [
    "train_pkl[\"reactant\"][\"rxn\"][177]"
   ]
  },
  {
   "cell_type": "code",
   "execution_count": 10,
   "id": "224f8233-6524-49d2-bfff-bccf895fac49",
   "metadata": {},
   "outputs": [
    {
     "data": {
      "text/plain": [
       "17"
      ]
     },
     "execution_count": 10,
     "metadata": {},
     "output_type": "execute_result"
    }
   ],
   "source": [
    "train_pkl[\"reactant\"]['num_atoms'][177]"
   ]
  },
  {
   "cell_type": "code",
   "execution_count": 11,
   "id": "__bohr_old_version_cellId_52__",
   "metadata": {
    "ExecuteTime": {
     "end_time": "2023-10-02T20:31:57.929560300Z",
     "start_time": "2023-10-02T20:31:57.861384500Z"
    }
   },
   "outputs": [
    {
     "data": {
      "text/plain": [
       "87738"
      ]
     },
     "execution_count": 11,
     "metadata": {},
     "output_type": "execute_result"
    }
   ],
   "source": [
    "dataset = ProcessedSCAN(\n",
    "    npz_path=npz_path,\n",
    "    center=True,\n",
    "    pad_fragments=0,\n",
    "    device=device,\n",
    "    zero_charge=False,\n",
    "    remove_h=False,\n",
    "    single_frag_only=False,\n",
    "    swapping_react_prod=False,\n",
    "    use_by_ind=True,\n",
    ")\n",
    "loader = DataLoader(\n",
    "    dataset, \n",
    "    batch_size=1,\n",
    "    shuffle=False,\n",
    "    num_workers=0,\n",
    "    collate_fn=dataset.collate_fn\n",
    ")\n",
    "itl = iter(loader)\n",
    "idx = -1 # TL: why?\n",
    "\n",
    "len(dataset)"
   ]
  },
  {
   "cell_type": "code",
   "execution_count": 12,
   "id": "653bcb6a-252f-4278-8182-79f9e89da318",
   "metadata": {},
   "outputs": [
    {
     "data": {
      "text/plain": [
       "[85,\n",
       " 582,\n",
       " 1030,\n",
       " 14456,\n",
       " 18657,\n",
       " 19738,\n",
       " 21233,\n",
       " 27343,\n",
       " 27677,\n",
       " 32299,\n",
       " 37392,\n",
       " 41209,\n",
       " 42208,\n",
       " 51709,\n",
       " 53554,\n",
       " 57756,\n",
       " 64958,\n",
       " 65787,\n",
       " 80489,\n",
       " 87011]"
      ]
     },
     "execution_count": 12,
     "metadata": {},
     "output_type": "execute_result"
    }
   ],
   "source": [
    "num_indices_to_select = 20\n",
    "SEED = 747\n",
    "np.random.default_rng(seed=SEED)\n",
    "np.random.seed(SEED)\n",
    "random_indices = np.random.choice(len(dataset), size=num_indices_to_select, replace=False)\n",
    "random_indices = sorted(random_indices)\n",
    "random_indices"
   ]
  },
  {
   "cell_type": "code",
   "execution_count": 13,
   "id": "e95cf915-a208-43ef-afd7-33ccdff632cb",
   "metadata": {},
   "outputs": [
    {
     "data": {
      "text/plain": [
       "[92,\n",
       " 636,\n",
       " 1131,\n",
       " 16119,\n",
       " 20816,\n",
       " 22024,\n",
       " 23683,\n",
       " 30463,\n",
       " 30832,\n",
       " 35956,\n",
       " 41618,\n",
       " 45847,\n",
       " 46957,\n",
       " 57472,\n",
       " 59519,\n",
       " 64145,\n",
       " 72169,\n",
       " 73095,\n",
       " 89393,\n",
       " 96696]"
      ]
     },
     "execution_count": 13,
     "metadata": {},
     "output_type": "execute_result"
    }
   ],
   "source": [
    "train_indices = [train_pkl[\"use_ind\"][x] for x in random_indices]\n",
    "train_indices"
   ]
  },
  {
   "cell_type": "raw",
   "id": "d84dc843-d6f6-47ea-b3dc-c622e84cac96",
   "metadata": {},
   "source": [
    "for _ in range(4):  # The 4th sample happens to be a multimolecular reaction\n",
    "    representations, res = next(itl)\n",
    "idx += 1\n",
    "n_samples = representations[0][\"size\"].size(0)\n",
    "if n_samples != 1: #\n",
    "    print(n_samples)#\n",
    "fragments_nodes = [\n",
    "    repre[\"size\"] for repre in representations\n",
    "]\n",
    "conditions = torch.tensor([[0] for _ in range(n_samples)], device=device)"
   ]
  },
  {
   "cell_type": "code",
   "execution_count": 14,
   "id": "d7d259d1-ec65-4a15-a66e-1ea625469ed7",
   "metadata": {},
   "outputs": [],
   "source": [
    "# TL visualize each state:\n",
    "atomic_num2sym = {\n",
    "    1: 'H',    2: 'He',   3: 'Li',   4: 'Be',   5: 'B',    6: 'C',    7: 'N',    8: 'O',    9: 'F',    10: 'Ne',\n",
    "    11: 'Na',  12: 'Mg',  13: 'Al',  14: 'Si',  15: 'P',   16: 'S',   17: 'Cl',  18: 'Ar',  19: 'K',   20: 'Ca',\n",
    "    21: 'Sc',  22: 'Ti',  23: 'V',   24: 'Cr',  25: 'Mn',  26: 'Fe',  27: 'Co',  28: 'Ni',  29: 'Cu',  30: 'Zn',\n",
    "    31: 'Ga',  32: 'Ge',  33: 'As',  34: 'Se',  35: 'Br',  36: 'Kr',  37: 'Rb',  38: 'Sr',  39: 'Y',   40: 'Zr',\n",
    "    41: 'Nb',  42: 'Mo',  43: 'Tc',  44: 'Ru',  45: 'Rh',  46: 'Pd',  47: 'Ag',  48: 'Cd',  49: 'In',  50: 'Sn',\n",
    "    51: 'Sb',  52: 'Te',  53: 'I',   54: 'Xe',  55: 'Cs',  56: 'Ba',  57: 'La',  58: 'Ce',  59: 'Pr',  60: 'Nd',\n",
    "    61: 'Pm',  62: 'Sm',  63: 'Eu',  64: 'Gd', 65: 'Tb',  66: 'Dy',  67: 'Ho',  68: 'Er',  69: 'Tm',  70: 'Yb',\n",
    "    71: 'Lu',  72: 'Hf',  73: 'Ta',  74: 'W',   75: 'Re',  76: 'Os',  77: 'Ir',  78: 'Pt',  79: 'Au',  80: 'Hg',\n",
    "    81: 'Tl',  82: 'Pb',  83: 'Bi',  84: 'Po',  85: 'At',  86: 'Rn',  87: 'Fr',  88: 'Ra',  89: 'Ac',  90: 'Th',\n",
    "    91: 'Pa',  92: 'U',   93: 'Np',  94: 'Pu',  95: 'Am',  96: 'Cm',  97: 'Bk',  98: 'Cf',  99: 'Es', 100: 'Fm',\n",
    "    101: 'Md', 102: 'No', 103: 'Lr', 104: 'Rf', 105: 'Db', 106: 'Sg', 107: 'Bh', 108: 'Hs', 109: 'Mt', 110: 'Ds',\n",
    "    111: 'Rg', 112: 'Cn', 113: 'Nh', 114: 'Fl', 115: 'Mc', 116: 'Lv', 117: 'Ts', 118: 'Og'\n",
    "}"
   ]
  },
  {
   "cell_type": "code",
   "execution_count": 15,
   "id": "3ae13543-bfea-4ae1-ae65-48dd8d239c03",
   "metadata": {},
   "outputs": [],
   "source": [
    "def xyz_block_from_node_features(xh: torch.tensor, comment: str=\"\", c2a: dict=atomic_num2sym) -> str:\n",
    "    num_atoms = xh.shape[0]\n",
    "    xyz_lines = [str(num_atoms), comment]\n",
    "    for row in xh:\n",
    "        position = row[:3].cpu().numpy()\n",
    "        z = c2a[row[-1].long().item()]\n",
    "        xyz_lines.append(f\"{z}\\t\" + \"\\t\".join([str(x) for x in position]))\n",
    "    return \"\\n\".join(xyz_lines)"
   ]
  },
  {
   "cell_type": "raw",
   "id": "ce942f97-a363-428e-bd13-44cbae31e734",
   "metadata": {},
   "source": [
    "#!mkdir my_results\n",
    "!mkdir results/sample_20_TS-20250616-SCAN-wo_selfloops-from_scratch_pretrained_ckpt"
   ]
  },
  {
   "cell_type": "code",
   "execution_count": 16,
   "id": "b80d9ba7-e799-4ffa-8484-5be3cf9de7ab",
   "metadata": {},
   "outputs": [
    {
     "name": "stdout",
     "output_type": "stream",
     "text": [
      "total 24K\n",
      "drwxr-xr-x  2 guest50 users 4.0K Jun 11 17:49 sample_20_TS-20250611-Tr1x-from_scratch_pretrained_ckpt\n",
      "drwxr-xr-x  2 guest50 users 4.0K Jun 11 18:05 sample_20_TS-20250611-Tr1x-zenodo_pretrained_ckpt\n",
      "drwxr-xr-x  2 guest50 users 4.0K Jun 11 18:57 sample_20_TS-20250611-SCAN-from_scratch_pretrained_ckpt\n",
      "drwxr-xr-x  2 guest50 users 4.0K Jun 17 18:13 sample_20_TS-20250616-SCAN-w_selfloops-from_scratch_pretrained_ckpt\n",
      "drwxr-xr-x  2 guest50 users   10 Jun 17 18:20 sample_20_TS-20250616-SCAN-wo_selfloops-from_scratch_pretrained_ckpt\n",
      "drwxr-xr-x  7 guest50 users 4.0K Jun 17 18:20 .\n",
      "drwxr-xr-x 15 guest50 users 4.0K Jun 17  2025 ..\n"
     ]
    }
   ],
   "source": [
    "!ls -haltr results"
   ]
  },
  {
   "cell_type": "code",
   "execution_count": 17,
   "id": "6ecacd61-3e7e-4025-9430-b11ce63445a6",
   "metadata": {},
   "outputs": [],
   "source": [
    "output_dir = os.path.abspath(\"results/sample_20_TS-20250616-SCAN-wo_selfloops-from_scratch_pretrained_ckpt\")\n",
    "#output_dir = None"
   ]
  },
  {
   "cell_type": "code",
   "execution_count": 18,
   "id": "419df548-fe7d-4125-bb6b-d9e33e6298f1",
   "metadata": {},
   "outputs": [
    {
     "name": "stdout",
     "output_type": "stream",
     "text": [
      "85\n",
      "92\n",
      "17\n",
      "17\n",
      "[0.0036726165953351302]\n",
      "[1.0]\n",
      "[0.004141452406448662]\n",
      "\n",
      "582\n",
      "636\n",
      "17\n",
      "17\n",
      "[0.0037444728856587495]\n",
      "[0.9013558964049089]\n",
      "[0.003738806495299176]\n",
      "\n",
      "1030\n",
      "1131\n",
      "17\n",
      "17\n",
      "[0.003894059423931387]\n",
      "[0.9174160728493954]\n",
      "[0.003365289108591928]\n",
      "\n",
      "14456\n",
      "16119\n",
      "17\n",
      "17\n",
      "[0.00357805657240741]\n",
      "[1.0]\n",
      "[0.0038979561222473235]\n",
      "\n",
      "18657\n",
      "20816\n",
      "17\n",
      "17\n",
      "[0.0038386456999949083]\n",
      "[0.923866825711946]\n",
      "[0.0034724057271170714]\n",
      "\n",
      "19738\n",
      "22024\n",
      "17\n",
      "17\n",
      "[0.004343188175423531]\n",
      "[1.0]\n",
      "[0.004071440753370902]\n",
      "\n",
      "21233\n",
      "23683\n",
      "17\n",
      "17\n",
      "[0.003649128975228569]\n",
      "[0.8587585913218475]\n",
      "[0.0046354548250903795]\n",
      "\n",
      "27343\n",
      "30463\n",
      "17\n",
      "17\n",
      "[0.0037816763034445575]\n",
      "[0.20740817855070914]\n",
      "[0.004347285023186276]\n",
      "\n",
      "27677\n",
      "30832\n",
      "18\n",
      "18\n",
      "[0.0040687243405626025]\n",
      "[1.0]\n",
      "[0.0040650315550623374]\n",
      "\n",
      "32299\n",
      "35956\n",
      "18\n",
      "18\n",
      "[0.004262057264482316]\n",
      "[0.46223889155463793]\n",
      "[0.003767157551638431]\n",
      "\n",
      "37392\n",
      "41618\n",
      "18\n",
      "18\n",
      "[0.003812873199168739]\n",
      "[0.8136124039872683]\n",
      "[0.005068391659361974]\n",
      "\n",
      "41209\n",
      "45847\n",
      "18\n",
      "18\n",
      "[0.0033119217241261907]\n",
      "[0.19203698038094302]\n",
      "[0.0038316777724087163]\n",
      "\n",
      "42208\n",
      "46957\n",
      "18\n",
      "18\n",
      "[0.0032548280401220233]\n",
      "[0.14897007504934068]\n",
      "[0.003977183938256815]\n",
      "\n",
      "51709\n",
      "57472\n",
      "14\n",
      "14\n",
      "[0.0038797442622109657]\n",
      "[0.3171829937235207]\n",
      "[0.003384589630792103]\n",
      "\n",
      "53554\n",
      "59519\n",
      "10\n",
      "10\n",
      "[0.0037375562258755404]\n",
      "[0.6466830022030251]\n",
      "[0.003952959892059568]\n",
      "\n",
      "57756\n",
      "64145\n",
      "10\n",
      "10\n",
      "[0.0033761265174233708]\n",
      "[0.2930948884138706]\n",
      "[0.004516324004068317]\n",
      "\n",
      "64958\n",
      "72169\n",
      "20\n",
      "20\n",
      "[0.004049903329770261]\n",
      "[1.0]\n",
      "[0.0038834997938149082]\n",
      "\n",
      "65787\n",
      "73095\n",
      "20\n",
      "20\n",
      "[0.0040700709953910095]\n",
      "[1.0]\n",
      "[0.00370381216588811]\n",
      "\n",
      "80489\n",
      "89393\n",
      "19\n",
      "19\n",
      "[0.00235480917251389]\n",
      "[1.0]\n",
      "[0.003957933924605132]\n",
      "\n",
      "87011\n",
      "96696\n",
      "19\n",
      "19\n",
      "[0.004406043669059517]\n",
      "[0.9563041193536563]\n",
      "[0.004794833039038897]\n",
      "\n"
     ]
    }
   ],
   "source": [
    "selected_representation_triples = {}\n",
    "rs_rmsdsx = []\n",
    "ts_rmsdsx = []\n",
    "ps_rmsdsx = []\n",
    "\n",
    "for i in range(len(dataset)): \n",
    "    representations, res = next(itl)\n",
    "    if i in random_indices:\n",
    "        xyz_blocks = []\n",
    "        print(i)\n",
    "        train_idx = train_pkl[\"use_ind\"][i]\n",
    "        print(train_idx)\n",
    "        rxn_id = train_pkl[\"reactant\"][\"rxn\"][train_idx]\n",
    "        n_samples = representations[0][\"size\"].size(0)\n",
    "        fragments_nodes = [\n",
    "            repre[\"size\"] for repre in representations\n",
    "        ]\n",
    "        conditions = torch.tensor([[0] for _ in range(n_samples)], device=device)\n",
    "        # skipping permutation of indices in reactant state\n",
    "        xh_fixed = [\n",
    "            torch.cat(\n",
    "                [repre[feature_type] for feature_type in FEATURE_MAPPING],\n",
    "                dim=1,\n",
    "            )\n",
    "            for repre in representations\n",
    "        ]\n",
    "        print(xh_fixed[2].shape[0])\n",
    "        print(train_pkl[\"reactant\"]['num_atoms'][train_idx])\n",
    "        #ground_truth_ts = xh_fixed[1]\n",
    "        out_samples, out_masks = ddpm_trainer.ddpm.inpaint(\n",
    "            n_samples=n_samples,\n",
    "            fragments_nodes=fragments_nodes,\n",
    "            conditions=conditions,\n",
    "            return_frames=1,\n",
    "            resamplings=5,\n",
    "            jump_length=5,\n",
    "            timesteps=None,\n",
    "            xh_fixed=xh_fixed,\n",
    "            frag_fixed=[0, 2],\n",
    "        )\n",
    "        \n",
    "        # Confirm unchanged reactant state: torch.allclose causing segmentation fault?\n",
    "        #reactant_diff = torch.allclose(out_samples[0][0] - xh_fixed[0]) #= torch.max(torch.abs(out_samples[0][0] - xh_fixed[0]))\n",
    "        #print(reactant_diff)\n",
    "        #assert out_samples[0][0] == xh_fixed[0]\n",
    "        # Confirm unchanged product state:\n",
    "        #assert out_samples[0][2] == xh_fixed[2]\n",
    "        # reactant state (rs_..):\n",
    "        rs_rmsds = batch_rmsd(\n",
    "            fragments_nodes, \n",
    "            out_samples[0],\n",
    "            xh_fixed,\n",
    "            idx=0,\n",
    "        )\n",
    "        print(rs_rmsds)\n",
    "        rs_rmsdsx.append(rs_rmsds[0])\n",
    "\n",
    "        # transition state (ts_..):\n",
    "        ts_rmsds = batch_rmsd(\n",
    "            fragments_nodes, \n",
    "            out_samples[0],\n",
    "            xh_fixed,\n",
    "            idx=1,\n",
    "        )\n",
    "        print(ts_rmsds)\n",
    "        ts_rmsdsx.append(ts_rmsds[0])\n",
    "        \n",
    "        # product state (ps_..):\n",
    "        ps_rmsds = batch_rmsd(\n",
    "            fragments_nodes, \n",
    "            out_samples[0],\n",
    "            xh_fixed,\n",
    "            idx=2,\n",
    "        )\n",
    "        print(ps_rmsds)\n",
    "        ps_rmsdsx.append(ps_rmsds[0])\n",
    "        #assert len(rmsds) == 1\n",
    "        print(\"\")\n",
    "\n",
    "        if output_dir == None:\n",
    "            continue # skip preparing strings for file output\n",
    "\n",
    "        # Now wrap up XYZs into an output file with informative comments.\n",
    "        file_name = f\"{rxn_id}.xyz\"\n",
    "        # Reactant state, two versions\n",
    "        rs_ref_xyz = xyz_block_from_node_features(xh_fixed[0], comment=f\"True/calculated reference reactant state.\")\n",
    "        xyz_blocks.append(rs_ref_xyz)\n",
    "        rs_rec_xyz = xyz_block_from_node_features(out_samples[0][0], comment=f\"Reconstructed reactant state. RMSD: {str(round(rs_rmsds[0],6))} Å.\")\n",
    "        xyz_blocks.append(rs_rec_xyz)\n",
    "        \n",
    "        # Transition state, two versions\n",
    "        ts_ref_xyz = xyz_block_from_node_features(xh_fixed[1], comment=f\"True/calculated reference transition state.\")\n",
    "        xyz_blocks.append(ts_ref_xyz)\n",
    "        ts_gen_xyz = xyz_block_from_node_features(out_samples[0][1], comment=f\"Generated/inpainted transition state. RMSD: {str(round(ts_rmsds[0],6))} Å.\")\n",
    "        xyz_blocks.append(ts_gen_xyz)\n",
    "\n",
    "        # Product state, two versions\n",
    "        ps_ref_xyz = xyz_block_from_node_features(xh_fixed[2], comment=f\"True/calculated reference product state.\")\n",
    "        xyz_blocks.append(ps_ref_xyz)\n",
    "        ps_rec_xyz = xyz_block_from_node_features(out_samples[0][2], comment=f\"Reconstructed product state. RMSD: {str(round(ps_rmsds[0],6))} Å.\")\n",
    "        xyz_blocks.append(ps_rec_xyz)\n",
    "\n",
    "        with open(os.path.join(output_dir, file_name), \"w\") as f_out:\n",
    "            f_out.write(\"\\n\".join(xyz_blocks))\n",
    "        \n",
    "        if i == random_indices[-1]: # no need to keep iterating.\n",
    "            break"
   ]
  },
  {
   "cell_type": "code",
   "execution_count": 19,
   "id": "c245a811-c69b-437c-a686-0cd4cfcc4006",
   "metadata": {},
   "outputs": [
    {
     "name": "stdout",
     "output_type": "stream",
     "text": [
      "Reactant state reconstruction RMSD was mean ± std.dev.: \t0.003754 \t± 0.000445 Å.\n",
      "Transition state inpainting RMSD was mean ± std.dev.: \t\t0.731946 \t± 0.318365 Å.\n",
      "Product state reconstruction RMSD was mean ± std.dev.: \t\t0.004029 \t± 0.000442 Å.\n"
     ]
    }
   ],
   "source": [
    "# Report/analysis of RMSDs seen:\n",
    "\n",
    "rs_mean = round(np.mean(rs_rmsdsx), 6)\n",
    "rs_std = round(np.std(rs_rmsdsx), 6)\n",
    "print(f\"Reactant state reconstruction RMSD was mean ± std.dev.: \\t{rs_mean} \\t± {rs_std} Å.\")\n",
    "ts_mean = round(np.mean(ts_rmsdsx), 6)\n",
    "ts_std = round(np.std(ts_rmsdsx), 6)\n",
    "print(f\"Transition state inpainting RMSD was mean ± std.dev.: \\t\\t{ts_mean} \\t± {ts_std} Å.\")\n",
    "ps_mean = round(np.mean(ps_rmsdsx), 6)\n",
    "ps_std = round(np.std(ps_rmsdsx), 6)\n",
    "print(f\"Product state reconstruction RMSD was mean ± std.dev.: \\t\\t{ps_mean} \\t± {ps_std} Å.\")"
   ]
  }
 ],
 "metadata": {
  "kernelspec": {
   "display_name": "Python 3 (ipykernel)",
   "language": "python",
   "name": "python3"
  },
  "language_info": {
   "codemirror_mode": {
    "name": "ipython",
    "version": 3
   },
   "file_extension": ".py",
   "mimetype": "text/x-python",
   "name": "python",
   "nbconvert_exporter": "python",
   "pygments_lexer": "ipython3",
   "version": "3.10.4"
  }
 },
 "nbformat": 4,
 "nbformat_minor": 5
}
