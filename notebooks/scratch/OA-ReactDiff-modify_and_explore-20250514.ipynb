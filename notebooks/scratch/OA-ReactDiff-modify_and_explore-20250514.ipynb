{
 "cells": [
  {
   "cell_type": "code",
   "execution_count": 1,
   "id": "2d7a5894-d3c4-4c6f-81e3-676fe2b88475",
   "metadata": {},
   "outputs": [],
   "source": [
    "import os\n",
    "os.environ[\"CUDA_DEVICE_ORDER\"]=\"PCI_BUS_ID\"   # see issue #152\n",
    "os.environ[\"CUDA_VISIBLE_DEVICES\"]=\"0\""
   ]
  },
  {
   "cell_type": "markdown",
   "id": "05b1e33b-2a64-4586-9ff3-58baacb5198c",
   "metadata": {},
   "source": [
    "<p style=\"color:purple; font-weight:bold\">\n",
    "[OA-ReactDiff] is the first diffusion-based generative model for generating  <U>3D chemical reactions</U>, which not only accelerates the search for 3D structures in chemical reactions by a factor of 1000, but also generates and explores <U>new and unknown</U> chemical reactions.\n",
    "</p>\n",
    "\n",
    "After completing this tutorial, you will be able to:\n",
    "\n",
    "* Learn some of the applications and potential difficulties of diffusion model in chemistry and materials\n",
    "\n",
    "* Understand the principles of running [OA-ReactDiff] and apply them to your projects\n",
    "\n",
    "**It will take [at most] 20 minutes to read and run through the tutorial, so let's get started!**\n",
    "\n",
    "Link to article 👉 [OA-ReactDiff](https://arxiv.org/abs/2304.06174)\n",
    "\n",
    "<p style=\"color:blue; font-weight:bold\">\n",
    "If you have any ideas about applying OA-ReactDiff to your own work, but are not sure if it's entirely appropriate or you don't know how to get started, please feel free to contact the author, Chenru Duan, via email: duanchenru@gmail.com\n",
    "</p>\n",
    "\n",
    "<div>\n",
    "    <img src=\"https://bohrium.oss-cn-zhangjiakou.aliyuncs.com/article/20204/4af440e9b48747388fbd9ec9533b482a/mGNnjUDyymMo9ML3xOiF1Q.png\" alt=\"cover_art\" width=\"500\" title=\"cover_art\">\n",
    "</div>"
   ]
  },
  {
   "cell_type": "markdown",
   "id": "5e701ec4-2d70-41a9-a834-8789897c4257",
   "metadata": {},
   "source": [
    "# Table of Content\n",
    "\n",
    "* [Introduction to the Denoising Diffusion Probabilistic Models](#ddpm)\n",
    "* [Generating a molecule](#single-molecule)\n",
    "* [How about generating a chemical reaction?](#reaction)\n",
    "* [OA-ReactDiff usage scenarios](#application)\n",
    "    * [1. No preprocessing required, generation is so simple](#no-preprocessing)\n",
    "    * [2. The gift of stochastic processes to compensate for chemical intuition.](#stochasticity)\n",
    "    * [3. Give me some atoms and I'll generate all the reactions.](#exploration)\n",
    "* [The future lies in generative AI](#outlook)\n"
   ]
  },
  {
   "cell_type": "markdown",
   "id": "__bohr_old_version_cellId_0__",
   "metadata": {},
   "source": [
    "# A brief introduction to Denoising Diffusion Probabilistic Models (DDPM) <a id ='ddpm'></a>\n",
    "\n",
    "DDPM is a diffusion model based on probabilistic statistical generation and random noise generation of data. It transforms noisy data into clean data samples by modeling a diffusion process.\n",
    "\n",
    "These models focus on modeling the distribution of the data and simulate a gradual evolution from a simple distribution to a more complex distribution. The basic concept of a diffusion model is to transform a simple and easily sampled distribution, usually a normal distribution, into a more complex data distribution. This transformation is achieved through a series of reversible operations. Once the model has learned the transformation process, it can generate new samples by starting from a point in the simple distribution and gradually \"denoising\" to the desired complex data distribution.\n",
    "\n",
    "The training of the DDPM model requires knowledge of the parameters of the diffusion process to effectively capture the relationship between clean and noisy data at each transformation step. In the generation process, DDPM starts with noisy data (e.g., noisy images) and iteratively applies the learned transformations in reverse to obtain denoised and realistic data samples.\n",
    "\n",
    "<div>\n",
    "    <img src=\"https://bohrium.oss-cn-zhangjiakou.aliyuncs.com/article/20204/bcae8391a60845f990e6387bb4ac3977/ox_I-p5BPAeFzFg3Ojh8eQ.png\" alt=\"image_diffusion\" width=\"850\" title=\"image_diffusion\">\n",
    "    <p style='font-size:0.8rem; font-weight:bold'>Figure 1｜Diffusion generation model in generating images</p>\n",
    "</div>\n",
    "\n",
    "Supplemental Reading 🔽\n",
    "\n",
    "[An Introduction to Diffusion Models for Machine Learning](https://encord.com/blog/diffusion-models/#:~:text=Diffusion%20models%20are%20a%20class%20of%20generative%20models%20that%20simulate,a%20sequence%20of%20invertible%20operations.)\n",
    "\n",
    "[Diffusion Models: A Comprehensive Survey of Methods and Applications](https://arxiv.org/pdf/2209.00796.pdf)\n",
    "\n",
    "For those who want to play with DDPM image generation and read Chinese, please refer to this notebook tutorial: [Diffusion Models: You still don't understand the basics of diffusion modeling?](https://nb.bohrium.dp.tech/detail/2412844875)"
   ]
  },
  {
   "cell_type": "markdown",
   "id": "__bohr_old_version_cellId_1__",
   "metadata": {},
   "source": [
    "# Tired with images, how about generating molecules?<a id ='single-molecule'></a>\n",
    "\n",
    "Recently, the framework of DDPM has been progressively applied to tasks related to chemical molecules. Examples include generating [3D structures of organic small molecules](https://arxiv.org/abs/2203.17003), [protein-small molecule docking](https://arxiv.org/abs/2210.01776), and [protein structure-based drug design](https://arxiv.org/abs/2210.13695).\n",
    "\n",
    "The core difference between the generation of molecules and the image generation above is their <span style=\"color: orange;\">**representation and symmetry**</span>:\n",
    "\n",
    "* <span style=\"color: orange;\">*Representation*</span>: for a color image of NxN pixels, we generally represent it as a (N, N, 3) tensor, where the last 3 denotes the three primary RGB colors. And for a molecule, we need to use (atomic categories, coordinate information) to represent each atom.\n",
    "\n",
    "* <span style=\"color: orange;\">*Symmetry*</span>: In images, we generally do not require strict symmetry. It is common to use augmentation to make the model \"remember\" that the object is not distorted with respect to the 2D rotation. But in molecules, because we learn 3D objects directly and require high accuracy, augmentation is often too expensive and not accurate enough. Thus, we need to embed symmetry into the model.\n",
    "\n",
    "<div>\n",
    "    <img src=\"https://bohrium.oss-cn-zhangjiakou.aliyuncs.com/article/20204/bcae8391a60845f990e6387bb4ac3977/1FzbkAcENo9bPWbm1xJHOQ.png\", alt=\"mol_diffusion\" width=\"850\" title=\"mol_diffusion\">\n",
    "    <p style='font-size:0.8rem; font-weight:bold'>Figure 2｜Diffusion Generation Modeling of a Single Molecule</p>\n",
    "</div>"
   ]
  },
  {
   "cell_type": "markdown",
   "id": "__bohr_old_version_cellId_2__",
   "metadata": {},
   "source": [
    "## SE(3) symmetry is indispensable for generating molecular time models\n",
    "\n",
    "While we are generating 3D molecules, the symmetry of the physics on the molecule is needed to be maintained. One way to do this is to use graph network models with SE(3) symmetry. A simple way to understand this is that for a molecule, we get the same result by rotating the molecule (D(g)) and then using the model prediction (f) as we do by using the model prediction and then rotating it, i.e., $D(g) \\circ f = f \\circ D'(g)$\n",
    " \n",
    "A previous notebook written by Siyuan has a [detailed introduction to SE(3) symmetry](https://nb.bohrium.dp.tech/detail/9619364424). Those who would like to dig deeper can supplement their studies 📚. We will only give one example here for visualization experience."
   ]
  },
  {
   "cell_type": "code",
   "execution_count": 2,
   "id": "__bohr_old_version_cellId_3__",
   "metadata": {
    "ExecuteTime": {
     "end_time": "2023-10-02T19:44:52.843133900Z",
     "start_time": "2023-10-02T19:44:49.803291700Z"
    }
   },
   "outputs": [],
   "source": [
    "# --- Importing and defining some functions ----\n",
    "import torch\n",
    "import py3Dmol\n",
    "import numpy as np\n",
    "\n",
    "from typing import Optional\n",
    "from torch import tensor\n",
    "from e3nn import o3\n",
    "from torch_scatter import scatter_mean\n",
    "\n",
    "from oa_reactdiff.model import LEFTNet\n",
    "\n",
    "default_float = torch.float64\n",
    "torch.set_default_dtype(default_float)  # Use double precision for more accurate testing\n",
    "\n",
    "\n",
    "def remove_mean_batch(\n",
    "    x: tensor, \n",
    "    indices: Optional[tensor] = None\n",
    ") -> tensor:\n",
    "    \"\"\"Remove the mean from each batch in x\n",
    "\n",
    "    Args:\n",
    "        x (tensor): input tensor.\n",
    "        indices (Optional[tensor], optional): batch indices. Defaults to None.\n",
    "\n",
    "    Returns:\n",
    "        tensor: output tensor with batch mean as 0.\n",
    "    \"\"\"\n",
    "    if indices == None:\n",
    "         return x - torch.mean(x, dim=0)\n",
    "    mean = scatter_mean(x, indices, dim=0)\n",
    "    x = x - mean[indices]\n",
    "    return x\n",
    "\n",
    "\n",
    "def draw_in_3dmol(mol: str, fmt: str = \"xyz\") -> py3Dmol.view:\n",
    "    \"\"\"Draw the molecule\n",
    "\n",
    "    Args:\n",
    "        mol (str): str content of molecule.\n",
    "        fmt (str, optional): format. Defaults to \"xyz\".\n",
    "\n",
    "    Returns:\n",
    "        py3Dmol.view: output viewer\n",
    "    \"\"\"\n",
    "    viewer = py3Dmol.view(1024, 576)\n",
    "    viewer.addModel(mol, fmt)\n",
    "    viewer.setStyle({'stick': {}, \"sphere\": {\"radius\": 0.36}})\n",
    "    viewer.zoomTo()\n",
    "    return viewer\n",
    "\n",
    "\n",
    "def assemble_xyz(z: list, pos: tensor) -> str:\n",
    "    \"\"\"Assembling atomic numbers and positions into xyz format\n",
    "\n",
    "    Args:\n",
    "        z (list): chemical elements\n",
    "        pos (tensor): 3D coordinates\n",
    "\n",
    "    Returns:\n",
    "        str: xyz string\n",
    "    \"\"\"\n",
    "    natoms =len(z)\n",
    "    xyz = f\"{natoms}\\n\\n\"\n",
    "    for _z, _pos in zip(z, pos.numpy()):\n",
    "        xyz += f\"{_z}\\t\" + \"\\t\".join([str(x) for x in _pos]) + \"\\n\"\n",
    "    return xyz"
   ]
  },
  {
   "cell_type": "markdown",
   "id": "__bohr_old_version_cellId_4__",
   "metadata": {},
   "source": [
    "### Building a LEFTNet model\n",
    "\n",
    "A simple test is performed to verify SE(3) symmetry. The model here is for testing, so we only need to build a very small model.\n",
    "\n",
    "Note: [LEFTNet](https://arxiv.org/abs/2304.04757) is a new SOTA-level SE(3) graph neural network. Although we use LEFTNet here, the properties it exhibits are model-independent (other SE(3) models, such as [EGNN](https://arxiv.org/pdf/2102.09844.pdf), will give the same results)\n",
    "\n",
    "TL: EGNN is not SE$(3)$  equivariant?"
   ]
  },
  {
   "cell_type": "code",
   "execution_count": 3,
   "id": "__bohr_old_version_cellId_5__",
   "metadata": {
    "ExecuteTime": {
     "end_time": "2023-10-02T20:08:08.703724800Z",
     "start_time": "2023-10-02T20:08:08.653181600Z"
    }
   },
   "outputs": [
    {
     "name": "stderr",
     "output_type": "stream",
     "text": [
      "/misc/home/guest50/micromamba/envs/oa_reactdiff_m/lib/python3.10/site-packages/torch_geometric/nn/conv/message_passing.py:972: UserWarning: 'EquiMessage.jittable' is deprecated and a no-op. Please remove its usage.\n",
      "  warnings.warn(f\"'{self.__class__.__name__}.jittable' is deprecated \"\n"
     ]
    },
    {
     "data": {
      "text/plain": [
       "7882"
      ]
     },
     "execution_count": 3,
     "metadata": {},
     "output_type": "execute_result"
    }
   ],
   "source": [
    "num_layers = 2\n",
    "hidden_channels = 8\n",
    "in_hidden_channels = 4\n",
    "num_radial = 4\n",
    "\n",
    "model =  LEFTNet(\n",
    "    num_layers=num_layers,\n",
    "    hidden_channels=hidden_channels,\n",
    "    in_hidden_channels=in_hidden_channels,\n",
    "    num_radial=num_radial,\n",
    "    object_aware=False,\n",
    ")\n",
    "\n",
    "sum(p.numel() for p in model.parameters() if p.requires_grad)"
   ]
  },
  {
   "cell_type": "markdown",
   "id": "__bohr_old_version_cellId_6__",
   "metadata": {},
   "source": [
    "\n",
    "### Creating a water molecule as a test system"
   ]
  },
  {
   "cell_type": "code",
   "execution_count": 4,
   "id": "__bohr_old_version_cellId_7__",
   "metadata": {
    "ExecuteTime": {
     "end_time": "2023-10-02T20:08:24.601448800Z",
     "start_time": "2023-10-02T20:08:24.540676400Z"
    }
   },
   "outputs": [],
   "source": [
    "h = torch.rand(3, in_hidden_channels)\n",
    "z = [\"O\", \"H\", \"H\"]\n",
    "pos = tensor([\n",
    "    [0, 0, 0],\n",
    "    [1, 0, 0],\n",
    "    [0, 1, 0],\n",
    "]).double()  # For convenience, we'll set the H-O-H angle here to 90 degrees\n",
    "edge_index = tensor([\n",
    "    [0, 0, 1, 1, 2, 2],\n",
    "    [1, 2, 0, 2, 0, 1]\n",
    "]).long()  # Using the fully-connected approach, here the edges are undirected"
   ]
  },
  {
   "cell_type": "code",
   "execution_count": 5,
   "id": "d07d4ef2-9163-42cd-af65-fa49aec4e551",
   "metadata": {},
   "outputs": [
    {
     "data": {
      "text/plain": [
       "tensor([[0.1913, 0.7247, 0.2491, 0.3370],\n",
       "        [0.8771, 0.7150, 0.3536, 0.8162],\n",
       "        [0.4892, 0.7453, 0.8509, 0.2172]])"
      ]
     },
     "execution_count": 5,
     "metadata": {},
     "output_type": "execute_result"
    }
   ],
   "source": [
    "h"
   ]
  },
  {
   "cell_type": "code",
   "execution_count": 6,
   "id": "__bohr_old_version_cellId_8__",
   "metadata": {
    "ExecuteTime": {
     "end_time": "2023-10-02T20:08:28.715004500Z",
     "start_time": "2023-10-02T20:08:28.630190700Z"
    }
   },
   "outputs": [
    {
     "data": {
      "application/3dmoljs_load.v0": "<div id=\"3dmolviewer_17477139455958676\"  style=\"position: relative; width: 576px; height: 480px;\">\n        <p id=\"3dmolwarning_17477139455958676\" style=\"background-color:#ffcccc;color:black\">3Dmol.js failed to load for some reason.  Please check your browser console for error messages.<br></p>\n        </div>\n<script>\n\nvar loadScriptAsync = function(uri){\n  return new Promise((resolve, reject) => {\n    //this is to ignore the existence of requirejs amd\n    var savedexports, savedmodule;\n    if (typeof exports !== 'undefined') savedexports = exports;\n    else exports = {}\n    if (typeof module !== 'undefined') savedmodule = module;\n    else module = {}\n\n    var tag = document.createElement('script');\n    tag.src = uri;\n    tag.async = true;\n    tag.onload = () => {\n        exports = savedexports;\n        module = savedmodule;\n        resolve();\n    };\n  var firstScriptTag = document.getElementsByTagName('script')[0];\n  firstScriptTag.parentNode.insertBefore(tag, firstScriptTag);\n});\n};\n\nif(typeof $3Dmolpromise === 'undefined') {\n$3Dmolpromise = null;\n  $3Dmolpromise = loadScriptAsync('https://cdnjs.cloudflare.com/ajax/libs/3Dmol/2.4.2/3Dmol-min.js');\n}\n\nvar viewer_17477139455958676 = null;\nvar warn = document.getElementById(\"3dmolwarning_17477139455958676\");\nif(warn) {\n    warn.parentNode.removeChild(warn);\n}\n$3Dmolpromise.then(function() {\nviewer_17477139455958676 = $3Dmol.createViewer(document.getElementById(\"3dmolviewer_17477139455958676\"),{backgroundColor:\"white\"});\n$3Dmol.download(\"1024\", viewer_17477139455958676, {}, function() {\nviewer_17477139455958676.zoomTo();\n\tviewer_17477139455958676.addModel(\"3\\n\\nO\\t0.0\\t0.0\\t0.0\\nH\\t1.0\\t0.0\\t0.0\\nH\\t0.0\\t1.0\\t0.0\\n\",\"xyz\");\n\tviewer_17477139455958676.setStyle({\"stick\": {}, \"sphere\": {\"radius\": 0.36}});\n\tviewer_17477139455958676.zoomTo();\nviewer_17477139455958676.render();\n})\n});\n</script>",
      "text/html": [
       "<div id=\"3dmolviewer_17477139455958676\"  style=\"position: relative; width: 576px; height: 480px;\">\n",
       "        <p id=\"3dmolwarning_17477139455958676\" style=\"background-color:#ffcccc;color:black\">3Dmol.js failed to load for some reason.  Please check your browser console for error messages.<br></p>\n",
       "        </div>\n",
       "<script>\n",
       "\n",
       "var loadScriptAsync = function(uri){\n",
       "  return new Promise((resolve, reject) => {\n",
       "    //this is to ignore the existence of requirejs amd\n",
       "    var savedexports, savedmodule;\n",
       "    if (typeof exports !== 'undefined') savedexports = exports;\n",
       "    else exports = {}\n",
       "    if (typeof module !== 'undefined') savedmodule = module;\n",
       "    else module = {}\n",
       "\n",
       "    var tag = document.createElement('script');\n",
       "    tag.src = uri;\n",
       "    tag.async = true;\n",
       "    tag.onload = () => {\n",
       "        exports = savedexports;\n",
       "        module = savedmodule;\n",
       "        resolve();\n",
       "    };\n",
       "  var firstScriptTag = document.getElementsByTagName('script')[0];\n",
       "  firstScriptTag.parentNode.insertBefore(tag, firstScriptTag);\n",
       "});\n",
       "};\n",
       "\n",
       "if(typeof $3Dmolpromise === 'undefined') {\n",
       "$3Dmolpromise = null;\n",
       "  $3Dmolpromise = loadScriptAsync('https://cdnjs.cloudflare.com/ajax/libs/3Dmol/2.4.2/3Dmol-min.js');\n",
       "}\n",
       "\n",
       "var viewer_17477139455958676 = null;\n",
       "var warn = document.getElementById(\"3dmolwarning_17477139455958676\");\n",
       "if(warn) {\n",
       "    warn.parentNode.removeChild(warn);\n",
       "}\n",
       "$3Dmolpromise.then(function() {\n",
       "viewer_17477139455958676 = $3Dmol.createViewer(document.getElementById(\"3dmolviewer_17477139455958676\"),{backgroundColor:\"white\"});\n",
       "$3Dmol.download(\"1024\", viewer_17477139455958676, {}, function() {\n",
       "viewer_17477139455958676.zoomTo();\n",
       "\tviewer_17477139455958676.addModel(\"3\\n\\nO\\t0.0\\t0.0\\t0.0\\nH\\t1.0\\t0.0\\t0.0\\nH\\t0.0\\t1.0\\t0.0\\n\",\"xyz\");\n",
       "\tviewer_17477139455958676.setStyle({\"stick\": {}, \"sphere\": {\"radius\": 0.36}});\n",
       "\tviewer_17477139455958676.zoomTo();\n",
       "viewer_17477139455958676.render();\n",
       "})\n",
       "});\n",
       "</script>"
      ]
     },
     "metadata": {},
     "output_type": "display_data"
    },
    {
     "data": {
      "text/plain": [
       "<py3Dmol.view at 0x2ad7c15318a0>"
      ]
     },
     "execution_count": 6,
     "metadata": {},
     "output_type": "execute_result"
    }
   ],
   "source": [
    "xyz = assemble_xyz(z, pos)\n",
    "view = draw_in_3dmol(xyz, \"xyz\")\n",
    "\n",
    "view  # Display Molecules"
   ]
  },
  {
   "cell_type": "markdown",
   "id": "__bohr_old_version_cellId_9__",
   "metadata": {},
   "source": [
    "### Forward prediction of a scalar and vector using LEFTNet"
   ]
  },
  {
   "cell_type": "code",
   "execution_count": 7,
   "id": "__bohr_old_version_cellId_10__",
   "metadata": {
    "ExecuteTime": {
     "end_time": "2023-10-02T20:08:32.654232400Z",
     "start_time": "2023-10-02T20:08:32.625207300Z"
    }
   },
   "outputs": [],
   "source": [
    "_h, _pos, __ = model.forward(\n",
    "    h=h,\n",
    "    pos=remove_mean_batch(pos),\n",
    "    edge_index=edge_index,\n",
    ")  # _h is the output feature, _pos is the output position, the former is a scalar (TL !?), the latter is a vector"
   ]
  },
  {
   "cell_type": "code",
   "execution_count": 8,
   "id": "8659332a-e579-4f21-815c-6e440f8fb2e1",
   "metadata": {},
   "outputs": [
    {
     "data": {
      "text/plain": [
       "tensor([[-0.6965, -0.8421,  0.0524, -1.0898],\n",
       "        [-0.8283, -0.9152,  0.1776, -1.0493],\n",
       "        [-0.6482, -0.8631,  0.1487, -1.1045]], grad_fn=<AddmmBackward0>)"
      ]
     },
     "execution_count": 8,
     "metadata": {},
     "output_type": "execute_result"
    }
   ],
   "source": [
    "_h"
   ]
  },
  {
   "cell_type": "code",
   "execution_count": 9,
   "id": "8e3ea3b9-dad7-45f4-b3b6-8501bfc0baad",
   "metadata": {},
   "outputs": [
    {
     "data": {
      "text/plain": [
       "tensor([[-0.3333, -0.3337,  0.0000],\n",
       "        [ 0.6674, -0.3332,  0.0000],\n",
       "        [-0.3329,  0.6671,  0.0000]], grad_fn=<AddBackward0>)"
      ]
     },
     "execution_count": 9,
     "metadata": {},
     "output_type": "execute_result"
    }
   ],
   "source": [
    "_pos"
   ]
  },
  {
   "cell_type": "markdown",
   "id": "__bohr_old_version_cellId_11__",
   "metadata": {},
   "source": [
    "### Random rotation of our water molecule and run it through LEFTNet again"
   ]
  },
  {
   "cell_type": "code",
   "execution_count": 10,
   "id": "__bohr_old_version_cellId_12__",
   "metadata": {
    "ExecuteTime": {
     "end_time": "2023-10-02T20:08:34.788433100Z",
     "start_time": "2023-10-02T20:08:34.707364700Z"
    }
   },
   "outputs": [],
   "source": [
    "rot = o3.rand_matrix()\n",
    "pos_rot = torch.matmul(pos, rot).double()\n",
    "\n",
    "_h_rot, _pos_rot, __ = model.forward(\n",
    "    h=h,\n",
    "    pos=remove_mean_batch(pos_rot),\n",
    "    edge_index=edge_index,\n",
    ")"
   ]
  },
  {
   "cell_type": "markdown",
   "id": "__bohr_old_version_cellId_13__",
   "metadata": {},
   "source": [
    "### It doesn't matter if it's a scalar or a vector, the result is always equivariant."
   ]
  },
  {
   "cell_type": "code",
   "execution_count": 11,
   "id": "__bohr_old_version_cellId_14__",
   "metadata": {
    "ExecuteTime": {
     "end_time": "2023-10-02T20:08:38.943501300Z",
     "start_time": "2023-10-02T20:08:38.876443700Z"
    }
   },
   "outputs": [
    {
     "data": {
      "text/plain": [
       "tensor(1.5190e-12, grad_fn=<MaxBackward1>)"
      ]
     },
     "execution_count": 11,
     "metadata": {},
     "output_type": "execute_result"
    }
   ],
   "source": [
    "torch.max(\n",
    "    torch.abs(\n",
    "        _h - _h_rot\n",
    "    )\n",
    ")  # The h should remain the same after rotation"
   ]
  },
  {
   "cell_type": "code",
   "execution_count": 12,
   "id": "__bohr_old_version_cellId_15__",
   "metadata": {
    "ExecuteTime": {
     "end_time": "2023-10-02T20:08:43.438668500Z",
     "start_time": "2023-10-02T20:08:43.407636500Z"
    }
   },
   "outputs": [
    {
     "data": {
      "text/plain": [
       "tensor(8.7708e-15, grad_fn=<MaxBackward1>)"
      ]
     },
     "execution_count": 12,
     "metadata": {},
     "output_type": "execute_result"
    }
   ],
   "source": [
    "torch.max(\n",
    "    torch.abs(\n",
    "        torch.matmul(_pos, rot).double() - _pos_rot\n",
    "    )\n",
    ")  # The rotated pos should rotate"
   ]
  },
  {
   "cell_type": "markdown",
   "id": "__bohr_old_version_cellId_16__",
   "metadata": {},
   "source": [
    "# The core of chemistry are reactions from the age of alchemy. How about direct generation of chemical reactions?<a id ='reaction'></a>\n",
    "\n",
    "Since the ancient days of alchemy, chemistry has been a discipline of <span style=\"color: orange;\">**studying and controlling how substances react with each other**</span>. Now that we have succeeded in generating a single molecule, why don't we extend the current diffusion generation model to <span style=\"color: orange;\">**generating a group of molecules**</span>, such as the \"reactants, transition states, generators\" that is of interest to everyone in chemistry?\n",
    "\n",
    "<div>\n",
    "    <img src=\"https://bohrium.oss-cn-zhangjiakou.aliyuncs.com/article/20204/cc00542f53e6459e90e866f6c009e25e/2voIGX7BDbS6pZAOIqRohw.png\", alt=\"reaction_diffusion\" width=\"350\" title=\"reaction_diffusion\">\n",
    "    <p style='font-size:0.8rem; font-weight:bold'>Figure 3: Illustration of a chemical reaction. The black line is the energy curve, \"reactants, products\" corresponds to the poles, and \"transition state\" corresponds to the saddle point.</p>\n",
    "</div>\n",
    "\n",
    "\n",
    "With this in mind, we generalize diffusion generation to multi-system generation. For training, we simultaneously add noise to \"reactants (blue), transition states (yellow), and products (red)\", and use a graph neural network model with special symmetry (described in detail later) to predict the three added noises. Two models were developed for generation.\n",
    "\n",
    "1. <span style=\"color: orange;\">*Random generation*</span>. In this case, we generate a new chemical reaction directly from the three Gaussian distributions, i.e., the **new \"unknown\"** \"reactant, transition state, product\".\n",
    "2. <span style=\"color: orange;\">*Conditional Generation*</span>. In chemical reactions, we usually know part of the information. Here we can use inpainting for conditional generation, e.g. given reactants and products, we can directly generate transition states. In this process, we add fixed noise to \"reactants, products\" at each step and combine them with the transition states predicted by the graph neural network model. Step by step, we iterate until we generate \"reactants (\"known\"), transition states (\"unknown\"), generators (\"known\")\".\n",
    "<div>\n",
    "    <img src=\"https://bohrium.oss-cn-zhangjiakou.aliyuncs.com/article/20204/bcae8391a60845f990e6387bb4ac3977/OnS4d6hjIcgEaIZcsyKxbQ.png\", alt=\"reaction_diffusion\" width=\"850\" title=\"reaction_diffusion\">>\n",
    "    <p style='font-size:0.8rem; font-weight:bold'>Figure 4｜Detailed Process of Chemical Reaction Generated by Diffusion Generation Model</p>\n",
    "</div>"
   ]
  },
  {
   "cell_type": "markdown",
   "id": "__bohr_old_version_cellId_17__",
   "metadata": {},
   "source": [
    "\n",
    "## When we rotate any molecule of a chemical reaction, does that reaction change?\n",
    "When generating a single molecule or a large multi-molecular system, we generally only need to satisfy the corresponding shift in the output of the model after a change in the SE(3) of the whole system (e.g., rotation of the whole) (second row of the figure below).\n",
    "\n",
    "In chemical reactions, however, this symmetry is **not strong enough**. In reactions, we also require **SE(3) symmetry with respect to each single object** (third row of the figure below). A simple example is that when we rotate a reactant, the output of the model should only rotate the reactant and the rest of the reaction should remain unchanged, rather than treating it as a \"brand new\" reaction.\n",
    "\n",
    "<div>\n",
    "    <img src=\"https://bohrium.oss-cn-zhangjiakou.aliyuncs.com/article/20204/bcae8391a60845f990e6387bb4ac3977/7R-rKlaPFQvpW5rVdQbvIw.png\", alt=\"reaction_symmetry\" width=\"350\" title=\"reaction_symmetry\">\n",
    "    <p style='font-size:0.8rem; font-weight:bold'>Figure 5｜Behavior of chemical reactions under different symmetries (top) after different transformations (left)</p>\n",
    "</div>"
   ]
  },
  {
   "cell_type": "markdown",
   "id": "__bohr_old_version_cellId_18__",
   "metadata": {},
   "source": [
    "## Failure in system-wide SE(3) for maintaining symmetry of individual objects in reactions"
   ]
  },
  {
   "cell_type": "markdown",
   "id": "__bohr_old_version_cellId_19__",
   "metadata": {},
   "source": [
    "\n",
    "### Consider a hypothetical \"electrolysis of water\" reaction, H2O -> H2 + O.\n",
    "Note: This reaction process is *purely fictitious* and is only a simplified model to help us understand the symmetry required in the reaction. Also, we have omitted the transition state structure and only considered the symmetry relationship of 'reactants, products'. The inclusion of transition states does not influence the conclusion."
   ]
  },
  {
   "cell_type": "code",
   "execution_count": 13,
   "id": "87e47bd0-d47e-418c-9d31-63e1866ca29c",
   "metadata": {},
   "outputs": [
    {
     "data": {
      "text/plain": [
       "[3, 2, 1]"
      ]
     },
     "execution_count": 13,
     "metadata": {},
     "output_type": "execute_result"
    }
   ],
   "source": [
    "# TL:\n",
    "ns = [3, ] + [2, 1]\n",
    "ns"
   ]
  },
  {
   "cell_type": "code",
   "execution_count": 14,
   "id": "__bohr_old_version_cellId_20__",
   "metadata": {
    "ExecuteTime": {
     "end_time": "2023-10-02T20:20:14.920273300Z",
     "start_time": "2023-10-02T20:20:14.867544Z"
    }
   },
   "outputs": [],
   "source": [
    "ns = [3, ] + [2, 1]  # reactant 3 atoms (H2O), product 2 atoms (H2), 1 atom (O radical)\n",
    "ntot = np.sum(ns) # TL: total number of objects across all states?\n",
    "mask = tensor([0, 0, 0, 1, 1, 1])  # To distinguish between reactants and products\n",
    "z = [\"O\", \"H\", \"H\"] +  [\"H\", \"H\", \"O\"]\n",
    "pos_react = tensor([\n",
    "    [0, 0, 0],\n",
    "    [1, 0, 0],\n",
    "    [0, 1, 0],\n",
    "]).double()  # For convenience, we'll set the H-O-H angle here to 90 degrees\n",
    "pos_prod = tensor([\n",
    "    [0, 3, -0.4],\n",
    "    [0, 3, 0.4],\n",
    "    [0, -3, 0],\n",
    "])  # Separating the H2 and O radicals\n",
    "pos = torch.cat(\n",
    "    [pos_react, pos_prod],\n",
    "    dim=0,\n",
    ")  # 拼接 # TL: 拼接 ~= \"concatenate\"\n",
    "h  = torch.rand(ntot, in_hidden_channels)"
   ]
  },
  {
   "cell_type": "code",
   "execution_count": 15,
   "id": "e0a18505-2726-468d-91a9-a4015406e4cd",
   "metadata": {},
   "outputs": [
    {
     "data": {
      "text/plain": [
       "tensor([[ 0.0000,  0.0000,  0.0000],\n",
       "        [ 1.0000,  0.0000,  0.0000],\n",
       "        [ 0.0000,  1.0000,  0.0000],\n",
       "        [ 0.0000,  3.0000, -0.4000],\n",
       "        [ 0.0000,  3.0000,  0.4000],\n",
       "        [ 0.0000, -3.0000,  0.0000]])"
      ]
     },
     "execution_count": 15,
     "metadata": {},
     "output_type": "execute_result"
    }
   ],
   "source": [
    "pos"
   ]
  },
  {
   "cell_type": "code",
   "execution_count": 16,
   "id": "8c0fb210-adcf-4eb8-a885-5ea5859deec9",
   "metadata": {},
   "outputs": [
    {
     "data": {
      "text/plain": [
       "tensor([[0.5860, 0.3469, 0.9190, 0.2229],\n",
       "        [0.1671, 0.5135, 0.3136, 0.8096],\n",
       "        [0.9904, 0.2575, 0.7585, 0.9721],\n",
       "        [0.4342, 0.7330, 0.1633, 0.9540],\n",
       "        [0.1711, 0.0293, 0.3755, 0.4502],\n",
       "        [0.3509, 0.8997, 0.2304, 0.7495]])"
      ]
     },
     "execution_count": 16,
     "metadata": {},
     "output_type": "execute_result"
    }
   ],
   "source": [
    "h"
   ]
  },
  {
   "cell_type": "code",
   "execution_count": 17,
   "id": "__bohr_old_version_cellId_21__",
   "metadata": {
    "ExecuteTime": {
     "end_time": "2023-10-02T20:20:16.559404600Z",
     "start_time": "2023-10-02T20:20:16.479872Z"
    }
   },
   "outputs": [
    {
     "data": {
      "application/3dmoljs_load.v0": "<div id=\"3dmolviewer_1747713945680799\"  style=\"position: relative; width: 576px; height: 480px;\">\n        <p id=\"3dmolwarning_1747713945680799\" style=\"background-color:#ffcccc;color:black\">3Dmol.js failed to load for some reason.  Please check your browser console for error messages.<br></p>\n        </div>\n<script>\n\nvar loadScriptAsync = function(uri){\n  return new Promise((resolve, reject) => {\n    //this is to ignore the existence of requirejs amd\n    var savedexports, savedmodule;\n    if (typeof exports !== 'undefined') savedexports = exports;\n    else exports = {}\n    if (typeof module !== 'undefined') savedmodule = module;\n    else module = {}\n\n    var tag = document.createElement('script');\n    tag.src = uri;\n    tag.async = true;\n    tag.onload = () => {\n        exports = savedexports;\n        module = savedmodule;\n        resolve();\n    };\n  var firstScriptTag = document.getElementsByTagName('script')[0];\n  firstScriptTag.parentNode.insertBefore(tag, firstScriptTag);\n});\n};\n\nif(typeof $3Dmolpromise === 'undefined') {\n$3Dmolpromise = null;\n  $3Dmolpromise = loadScriptAsync('https://cdnjs.cloudflare.com/ajax/libs/3Dmol/2.4.2/3Dmol-min.js');\n}\n\nvar viewer_1747713945680799 = null;\nvar warn = document.getElementById(\"3dmolwarning_1747713945680799\");\nif(warn) {\n    warn.parentNode.removeChild(warn);\n}\n$3Dmolpromise.then(function() {\nviewer_1747713945680799 = $3Dmol.createViewer(document.getElementById(\"3dmolviewer_1747713945680799\"),{backgroundColor:\"white\"});\n$3Dmol.download(\"1024\", viewer_1747713945680799, {}, function() {\nviewer_1747713945680799.zoomTo();\n\tviewer_1747713945680799.addModel(\"6\\n\\nO\\t0.0\\t0.0\\t0.0\\nH\\t1.0\\t0.0\\t0.0\\nH\\t0.0\\t1.0\\t0.0\\nH\\t0.0\\t3.0\\t-0.4\\nH\\t0.0\\t3.0\\t0.4\\nO\\t0.0\\t-3.0\\t0.0\\n\",\"xyz\");\n\tviewer_1747713945680799.setStyle({\"stick\": {}, \"sphere\": {\"radius\": 0.36}});\n\tviewer_1747713945680799.zoomTo();\nviewer_1747713945680799.render();\n})\n});\n</script>",
      "text/html": [
       "<div id=\"3dmolviewer_1747713945680799\"  style=\"position: relative; width: 576px; height: 480px;\">\n",
       "        <p id=\"3dmolwarning_1747713945680799\" style=\"background-color:#ffcccc;color:black\">3Dmol.js failed to load for some reason.  Please check your browser console for error messages.<br></p>\n",
       "        </div>\n",
       "<script>\n",
       "\n",
       "var loadScriptAsync = function(uri){\n",
       "  return new Promise((resolve, reject) => {\n",
       "    //this is to ignore the existence of requirejs amd\n",
       "    var savedexports, savedmodule;\n",
       "    if (typeof exports !== 'undefined') savedexports = exports;\n",
       "    else exports = {}\n",
       "    if (typeof module !== 'undefined') savedmodule = module;\n",
       "    else module = {}\n",
       "\n",
       "    var tag = document.createElement('script');\n",
       "    tag.src = uri;\n",
       "    tag.async = true;\n",
       "    tag.onload = () => {\n",
       "        exports = savedexports;\n",
       "        module = savedmodule;\n",
       "        resolve();\n",
       "    };\n",
       "  var firstScriptTag = document.getElementsByTagName('script')[0];\n",
       "  firstScriptTag.parentNode.insertBefore(tag, firstScriptTag);\n",
       "});\n",
       "};\n",
       "\n",
       "if(typeof $3Dmolpromise === 'undefined') {\n",
       "$3Dmolpromise = null;\n",
       "  $3Dmolpromise = loadScriptAsync('https://cdnjs.cloudflare.com/ajax/libs/3Dmol/2.4.2/3Dmol-min.js');\n",
       "}\n",
       "\n",
       "var viewer_1747713945680799 = null;\n",
       "var warn = document.getElementById(\"3dmolwarning_1747713945680799\");\n",
       "if(warn) {\n",
       "    warn.parentNode.removeChild(warn);\n",
       "}\n",
       "$3Dmolpromise.then(function() {\n",
       "viewer_1747713945680799 = $3Dmol.createViewer(document.getElementById(\"3dmolviewer_1747713945680799\"),{backgroundColor:\"white\"});\n",
       "$3Dmol.download(\"1024\", viewer_1747713945680799, {}, function() {\n",
       "viewer_1747713945680799.zoomTo();\n",
       "\tviewer_1747713945680799.addModel(\"6\\n\\nO\\t0.0\\t0.0\\t0.0\\nH\\t1.0\\t0.0\\t0.0\\nH\\t0.0\\t1.0\\t0.0\\nH\\t0.0\\t3.0\\t-0.4\\nH\\t0.0\\t3.0\\t0.4\\nO\\t0.0\\t-3.0\\t0.0\\n\",\"xyz\");\n",
       "\tviewer_1747713945680799.setStyle({\"stick\": {}, \"sphere\": {\"radius\": 0.36}});\n",
       "\tviewer_1747713945680799.zoomTo();\n",
       "viewer_1747713945680799.render();\n",
       "})\n",
       "});\n",
       "</script>"
      ]
     },
     "metadata": {},
     "output_type": "display_data"
    },
    {
     "data": {
      "text/plain": [
       "<py3Dmol.view at 0x2ad8732dee30>"
      ]
     },
     "execution_count": 17,
     "metadata": {},
     "output_type": "execute_result"
    }
   ],
   "source": [
    "xyz = assemble_xyz(z, pos)\n",
    "view = draw_in_3dmol(xyz, \"xyz\")\n",
    "\n",
    "view"
   ]
  },
  {
   "cell_type": "code",
   "execution_count": 18,
   "id": "058cdbdc-6250-4396-8edb-039e7547aa89",
   "metadata": {},
   "outputs": [
    {
     "data": {
      "text/plain": [
       "'6\\n\\nO\\t0.0\\t0.0\\t0.0\\nH\\t1.0\\t0.0\\t0.0\\nH\\t0.0\\t1.0\\t0.0\\nH\\t0.0\\t3.0\\t-0.4\\nH\\t0.0\\t3.0\\t0.4\\nO\\t0.0\\t-3.0\\t0.0\\n'"
      ]
     },
     "execution_count": 18,
     "metadata": {},
     "output_type": "execute_result"
    }
   ],
   "source": [
    "xyz"
   ]
  },
  {
   "cell_type": "markdown",
   "id": "__bohr_old_version_cellId_22__",
   "metadata": {},
   "source": [
    "\n",
    "When using the overall SE(3) for a chemical reaction, all of our atoms need to be connected together to ensure that the reactants and products can 'interact' with each other via the graph neural network. Otherwise, even if we change the reactants, the products won't change, and the problem become worse😉"
   ]
  },
  {
   "cell_type": "code",
   "execution_count": 19,
   "id": "__bohr_old_version_cellId_23__",
   "metadata": {
    "ExecuteTime": {
     "end_time": "2023-10-02T20:31:28.974627800Z",
     "start_time": "2023-10-02T20:31:28.892068900Z"
    }
   },
   "outputs": [],
   "source": [
    "from oa_reactdiff.tests.model.utils import (\n",
    "    generate_full_eij, # TL: edge index like the two rows of source and target node IDs before.\n",
    "    get_cut_graph_mask,\n",
    ")\n",
    "\n",
    "edge_index = generate_full_eij(ntot)"
   ]
  },
  {
   "cell_type": "code",
   "execution_count": 20,
   "id": "803aefdb-d699-4ca6-ad69-b46ca8e00842",
   "metadata": {},
   "outputs": [
    {
     "data": {
      "text/plain": [
       "tensor([[0, 0, 0, 0, 0, 1, 1, 1, 1, 1, 2, 2, 2, 2, 2, 3, 3, 3, 3, 3, 4, 4, 4, 4,\n",
       "         4, 5, 5, 5, 5, 5],\n",
       "        [1, 2, 3, 4, 5, 0, 2, 3, 4, 5, 0, 1, 3, 4, 5, 0, 1, 2, 4, 5, 0, 1, 2, 3,\n",
       "         5, 0, 1, 2, 3, 4]])"
      ]
     },
     "execution_count": 20,
     "metadata": {},
     "output_type": "execute_result"
    }
   ],
   "source": [
    "edge_index"
   ]
  },
  {
   "cell_type": "markdown",
   "id": "__bohr_old_version_cellId_24__",
   "metadata": {},
   "source": [
    "\n",
    "### forward projection"
   ]
  },
  {
   "cell_type": "code",
   "execution_count": 21,
   "id": "__bohr_old_version_cellId_25__",
   "metadata": {
    "ExecuteTime": {
     "end_time": "2023-10-02T20:31:29.608626300Z",
     "start_time": "2023-10-02T20:31:29.540067600Z"
    }
   },
   "outputs": [],
   "source": [
    "_h, _pos, __ = model.forward(\n",
    "    h=h,\n",
    "    pos=remove_mean_batch(pos, mask),\n",
    "    edge_index=edge_index,\n",
    ")"
   ]
  },
  {
   "cell_type": "markdown",
   "id": "__bohr_old_version_cellId_26__",
   "metadata": {},
   "source": [
    "\n",
    "### Let's rotate the reactants."
   ]
  },
  {
   "cell_type": "code",
   "execution_count": 22,
   "id": "__bohr_old_version_cellId_27__",
   "metadata": {
    "ExecuteTime": {
     "end_time": "2023-10-02T20:31:30.366681700Z",
     "start_time": "2023-10-02T20:31:30.297622900Z"
    }
   },
   "outputs": [
    {
     "data": {
      "application/3dmoljs_load.v0": "<div id=\"3dmolviewer_17477139457194493\"  style=\"position: relative; width: 576px; height: 480px;\">\n        <p id=\"3dmolwarning_17477139457194493\" style=\"background-color:#ffcccc;color:black\">3Dmol.js failed to load for some reason.  Please check your browser console for error messages.<br></p>\n        </div>\n<script>\n\nvar loadScriptAsync = function(uri){\n  return new Promise((resolve, reject) => {\n    //this is to ignore the existence of requirejs amd\n    var savedexports, savedmodule;\n    if (typeof exports !== 'undefined') savedexports = exports;\n    else exports = {}\n    if (typeof module !== 'undefined') savedmodule = module;\n    else module = {}\n\n    var tag = document.createElement('script');\n    tag.src = uri;\n    tag.async = true;\n    tag.onload = () => {\n        exports = savedexports;\n        module = savedmodule;\n        resolve();\n    };\n  var firstScriptTag = document.getElementsByTagName('script')[0];\n  firstScriptTag.parentNode.insertBefore(tag, firstScriptTag);\n});\n};\n\nif(typeof $3Dmolpromise === 'undefined') {\n$3Dmolpromise = null;\n  $3Dmolpromise = loadScriptAsync('https://cdnjs.cloudflare.com/ajax/libs/3Dmol/2.4.2/3Dmol-min.js');\n}\n\nvar viewer_17477139457194493 = null;\nvar warn = document.getElementById(\"3dmolwarning_17477139457194493\");\nif(warn) {\n    warn.parentNode.removeChild(warn);\n}\n$3Dmolpromise.then(function() {\nviewer_17477139457194493 = $3Dmol.createViewer(document.getElementById(\"3dmolviewer_17477139457194493\"),{backgroundColor:\"white\"});\n$3Dmol.download(\"1024\", viewer_17477139457194493, {}, function() {\nviewer_17477139457194493.zoomTo();\n\tviewer_17477139457194493.addModel(\"6\\n\\nO\\t0.0\\t0.0\\t0.0\\nH\\t-0.24017008079969623\\t0.10654831208499686\\t-0.9648656846838868\\nH\\t0.629373173949938\\t-0.7396511977120821\\t-0.23833907282538364\\nH\\t0.0\\t3.0\\t-0.4\\nH\\t0.0\\t3.0\\t0.4\\nO\\t0.0\\t-3.0\\t0.0\\n\",\"xyz\");\n\tviewer_17477139457194493.setStyle({\"stick\": {}, \"sphere\": {\"radius\": 0.36}});\n\tviewer_17477139457194493.zoomTo();\nviewer_17477139457194493.render();\n})\n});\n</script>",
      "text/html": [
       "<div id=\"3dmolviewer_17477139457194493\"  style=\"position: relative; width: 576px; height: 480px;\">\n",
       "        <p id=\"3dmolwarning_17477139457194493\" style=\"background-color:#ffcccc;color:black\">3Dmol.js failed to load for some reason.  Please check your browser console for error messages.<br></p>\n",
       "        </div>\n",
       "<script>\n",
       "\n",
       "var loadScriptAsync = function(uri){\n",
       "  return new Promise((resolve, reject) => {\n",
       "    //this is to ignore the existence of requirejs amd\n",
       "    var savedexports, savedmodule;\n",
       "    if (typeof exports !== 'undefined') savedexports = exports;\n",
       "    else exports = {}\n",
       "    if (typeof module !== 'undefined') savedmodule = module;\n",
       "    else module = {}\n",
       "\n",
       "    var tag = document.createElement('script');\n",
       "    tag.src = uri;\n",
       "    tag.async = true;\n",
       "    tag.onload = () => {\n",
       "        exports = savedexports;\n",
       "        module = savedmodule;\n",
       "        resolve();\n",
       "    };\n",
       "  var firstScriptTag = document.getElementsByTagName('script')[0];\n",
       "  firstScriptTag.parentNode.insertBefore(tag, firstScriptTag);\n",
       "});\n",
       "};\n",
       "\n",
       "if(typeof $3Dmolpromise === 'undefined') {\n",
       "$3Dmolpromise = null;\n",
       "  $3Dmolpromise = loadScriptAsync('https://cdnjs.cloudflare.com/ajax/libs/3Dmol/2.4.2/3Dmol-min.js');\n",
       "}\n",
       "\n",
       "var viewer_17477139457194493 = null;\n",
       "var warn = document.getElementById(\"3dmolwarning_17477139457194493\");\n",
       "if(warn) {\n",
       "    warn.parentNode.removeChild(warn);\n",
       "}\n",
       "$3Dmolpromise.then(function() {\n",
       "viewer_17477139457194493 = $3Dmol.createViewer(document.getElementById(\"3dmolviewer_17477139457194493\"),{backgroundColor:\"white\"});\n",
       "$3Dmol.download(\"1024\", viewer_17477139457194493, {}, function() {\n",
       "viewer_17477139457194493.zoomTo();\n",
       "\tviewer_17477139457194493.addModel(\"6\\n\\nO\\t0.0\\t0.0\\t0.0\\nH\\t-0.24017008079969623\\t0.10654831208499686\\t-0.9648656846838868\\nH\\t0.629373173949938\\t-0.7396511977120821\\t-0.23833907282538364\\nH\\t0.0\\t3.0\\t-0.4\\nH\\t0.0\\t3.0\\t0.4\\nO\\t0.0\\t-3.0\\t0.0\\n\",\"xyz\");\n",
       "\tviewer_17477139457194493.setStyle({\"stick\": {}, \"sphere\": {\"radius\": 0.36}});\n",
       "\tviewer_17477139457194493.zoomTo();\n",
       "viewer_17477139457194493.render();\n",
       "})\n",
       "});\n",
       "</script>"
      ]
     },
     "metadata": {},
     "output_type": "display_data"
    },
    {
     "data": {
      "text/plain": [
       "<py3Dmol.view at 0x2ad8732dc1c0>"
      ]
     },
     "execution_count": 22,
     "metadata": {},
     "output_type": "execute_result"
    }
   ],
   "source": [
    "rot = o3.rand_matrix()\n",
    "pos_react_rot = torch.matmul(pos_react, rot).double()\n",
    "\n",
    "pos_rot = torch.cat(\n",
    "    [pos_react_rot, pos_prod],\n",
    "    dim=0,\n",
    ")  # Combine rotated H2O and unrotated H2 and O radicals\n",
    "\n",
    "xyz = assemble_xyz(z, pos_rot)\n",
    "view = draw_in_3dmol(xyz, \"xyz\")\n",
    "\n",
    "view"
   ]
  },
  {
   "cell_type": "code",
   "execution_count": 23,
   "id": "17446dfc-3632-4329-87d0-a635b202094f",
   "metadata": {},
   "outputs": [
    {
     "data": {
      "text/plain": [
       "tensor([[ 0.0000,  0.0000,  0.0000],\n",
       "        [-0.2402,  0.1065, -0.9649],\n",
       "        [ 0.6294, -0.7397, -0.2383],\n",
       "        [ 0.0000,  3.0000, -0.4000],\n",
       "        [ 0.0000,  3.0000,  0.4000],\n",
       "        [ 0.0000, -3.0000,  0.0000]])"
      ]
     },
     "execution_count": 23,
     "metadata": {},
     "output_type": "execute_result"
    }
   ],
   "source": [
    "pos_rot"
   ]
  },
  {
   "cell_type": "markdown",
   "id": "__bohr_old_version_cellId_28__",
   "metadata": {},
   "source": [
    "\n",
    "### Predict this reaction again. Note that the chemical substance of these two reactions is the same"
   ]
  },
  {
   "cell_type": "code",
   "execution_count": 24,
   "id": "__bohr_old_version_cellId_29__",
   "metadata": {
    "ExecuteTime": {
     "end_time": "2023-10-02T20:31:31.167110500Z",
     "start_time": "2023-10-02T20:31:31.100557400Z"
    }
   },
   "outputs": [],
   "source": [
    "_h_rot, _pos_rot, __ = model.forward(\n",
    "    h=h,\n",
    "    pos=remove_mean_batch(pos_rot, mask),\n",
    "    edge_index=edge_index,\n",
    ")"
   ]
  },
  {
   "cell_type": "code",
   "execution_count": 25,
   "id": "b4f5ac59-8ea6-428a-afb2-61173702ab41",
   "metadata": {},
   "outputs": [
    {
     "data": {
      "text/plain": [
       "tensor([[-1.2968e-01,  2.1089e-01,  4.0170e-01],\n",
       "        [-3.6985e-01,  3.1769e-01, -5.6379e-01],\n",
       "        [ 5.0137e-01, -5.3021e-01,  1.6301e-01],\n",
       "        [-1.1425e-04,  1.9975e+00, -3.9842e-01],\n",
       "        [ 4.8567e-06,  1.9997e+00,  3.9970e-01],\n",
       "        [ 3.4310e-05, -3.9928e+00,  4.0416e-05]], grad_fn=<AddBackward0>)"
      ]
     },
     "execution_count": 25,
     "metadata": {},
     "output_type": "execute_result"
    }
   ],
   "source": [
    "_pos_rot"
   ]
  },
  {
   "cell_type": "code",
   "execution_count": 26,
   "id": "c32ba759-f35c-4001-8dd8-4b3584c1a579",
   "metadata": {},
   "outputs": [
    {
     "data": {
      "text/plain": [
       "tensor([[-0.5619, -0.8606,  0.0530, -1.2367],\n",
       "        [-0.5049, -0.7969, -0.0518, -1.2034],\n",
       "        [-0.7093, -0.9140,  0.1142, -1.1912],\n",
       "        [-0.1108, -0.5676,  0.0504, -1.0636],\n",
       "        [-0.0528, -0.5248, -0.0782, -1.0869],\n",
       "        [ 0.3160, -0.2091,  0.1010, -0.7866]], grad_fn=<AddmmBackward0>)"
      ]
     },
     "execution_count": 26,
     "metadata": {},
     "output_type": "execute_result"
    }
   ],
   "source": [
    "_h_rot"
   ]
  },
  {
   "cell_type": "code",
   "execution_count": 27,
   "id": "578a5bd5-6c05-4648-875c-0250efefa03c",
   "metadata": {},
   "outputs": [],
   "source": [
    "# TL what am I supposed to see from this? And how?"
   ]
  },
  {
   "cell_type": "markdown",
   "id": "__bohr_old_version_cellId_30__",
   "metadata": {},
   "source": [
    "### But we're losing \"equivariance\" on both scalar and vector❌"
   ]
  },
  {
   "cell_type": "code",
   "execution_count": 28,
   "id": "__bohr_old_version_cellId_31__",
   "metadata": {
    "ExecuteTime": {
     "end_time": "2023-10-02T20:31:31.923174700Z",
     "start_time": "2023-10-02T20:31:31.884639500Z"
    }
   },
   "outputs": [
    {
     "data": {
      "text/plain": [
       "tensor(0.0287, grad_fn=<MaxBackward1>)"
      ]
     },
     "execution_count": 28,
     "metadata": {},
     "output_type": "execute_result"
    }
   ],
   "source": [
    "torch.max(\n",
    "    torch.abs(\n",
    "        _h - _h_rot\n",
    "    )\n",
    ")  # The h should remain the same after rotation"
   ]
  },
  {
   "cell_type": "code",
   "execution_count": 29,
   "id": "__bohr_old_version_cellId_32__",
   "metadata": {
    "ExecuteTime": {
     "end_time": "2023-10-02T20:31:32.436155900Z",
     "start_time": "2023-10-02T20:31:32.360434800Z"
    }
   },
   "outputs": [
    {
     "data": {
      "text/plain": [
       "tensor(0.0013, grad_fn=<MaxBackward1>)"
      ]
     },
     "execution_count": 29,
     "metadata": {},
     "output_type": "execute_result"
    }
   ],
   "source": [
    "_pos_rot_prime = torch.cat(\n",
    "    [\n",
    "        torch.matmul(_pos[:3], rot),\n",
    "        _pos[3:]\n",
    "    ]\n",
    ")\n",
    "torch.max(\n",
    "    torch.abs(\n",
    "        _pos_rot_prime  - _pos_rot\n",
    "    )\n",
    ")  # The rotated pos should rotate"
   ]
  },
  {
   "cell_type": "markdown",
   "id": "__bohr_old_version_cellId_33__",
   "metadata": {},
   "source": [
    "\n",
    "## The need for an <span style=\"color: orange;\">**\"object-aware\"**</span> SE(3) model in chemical reactions\n",
    "\n",
    "To address this challenge and extend the framework of generative modeling to chemical reactions, we have developed a **generalized approach**, [OA-ReactDiff](https://arxiv.org/abs/2304.06174), that extends the SE(3) model to an <span style=\"color: orange;\">**\"object-aware\"**</span> SE(3) model. This approach can be applied to variety of graph neural networks and Transformers.\n",
    "\n",
    "This part contains more technical details. If you are interested, you can click on the article link above🔗. We directly demonstrate the improved results in this notebook."
   ]
  },
  {
   "cell_type": "markdown",
   "id": "__bohr_old_version_cellId_34__",
   "metadata": {},
   "source": [
    "\n",
    "\n",
    "### Create an \"Object-Aware\" LEFTNet"
   ]
  },
  {
   "cell_type": "code",
   "execution_count": 30,
   "id": "__bohr_old_version_cellId_35__",
   "metadata": {
    "ExecuteTime": {
     "end_time": "2023-10-02T20:31:35.925564Z",
     "start_time": "2023-10-02T20:31:35.902036100Z"
    }
   },
   "outputs": [],
   "source": [
    "model_oa =  LEFTNet(\n",
    "    num_layers=num_layers,\n",
    "    hidden_channels=hidden_channels,\n",
    "    in_hidden_channels=in_hidden_channels,\n",
    "    num_radial=num_radial,\n",
    "    object_aware=True,  # Using the object-aware model\n",
    ")"
   ]
  },
  {
   "cell_type": "markdown",
   "id": "__bohr_old_version_cellId_36__",
   "metadata": {},
   "source": [
    "\n",
    "We assign different atoms to their respective objects, which are \"reactants and products\" in this case."
   ]
  },
  {
   "cell_type": "code",
   "execution_count": 31,
   "id": "66fc3c4f-5c74-4083-a57a-e6017103899c",
   "metadata": {},
   "outputs": [
    {
     "data": {
      "text/plain": [
       "tensor([[0, 0, 0, 0, 0, 1, 1, 1, 1, 1, 2, 2, 2, 2, 2, 3, 3, 3, 3, 3, 4, 4, 4, 4,\n",
       "         4, 5, 5, 5, 5, 5],\n",
       "        [1, 2, 3, 4, 5, 0, 2, 3, 4, 5, 0, 1, 3, 4, 5, 0, 1, 2, 4, 5, 0, 1, 2, 3,\n",
       "         5, 0, 1, 2, 3, 4]])"
      ]
     },
     "execution_count": 31,
     "metadata": {},
     "output_type": "execute_result"
    }
   ],
   "source": [
    "edge_index"
   ]
  },
  {
   "cell_type": "code",
   "execution_count": 32,
   "id": "__bohr_old_version_cellId_37__",
   "metadata": {
    "ExecuteTime": {
     "end_time": "2023-10-02T20:31:37.348909100Z",
     "start_time": "2023-10-02T20:31:37.323887500Z"
    }
   },
   "outputs": [],
   "source": [
    "subgraph_mask = get_cut_graph_mask(edge_index, 3)  # 0-2 is the atomic number of the reactant"
   ]
  },
  {
   "cell_type": "code",
   "execution_count": null,
   "id": "187b5d91-fcdb-4d46-baf8-c069acbba7bb",
   "metadata": {},
   "outputs": [],
   "source": []
  },
  {
   "cell_type": "code",
   "execution_count": 33,
   "id": "1e2ee458-dc3a-479d-9eb9-5b8a8bb5ef08",
   "metadata": {},
   "outputs": [
    {
     "data": {
      "text/plain": [
       "torch.Size([30, 1])"
      ]
     },
     "execution_count": 33,
     "metadata": {},
     "output_type": "execute_result"
    }
   ],
   "source": [
    "subgraph_mask.shape # TL: why this shape?"
   ]
  },
  {
   "cell_type": "code",
   "execution_count": 34,
   "id": "973f12cc-af8a-435d-b94e-cb558f33f369",
   "metadata": {},
   "outputs": [
    {
     "data": {
      "text/plain": [
       "tensor([[1],\n",
       "        [1],\n",
       "        [0],\n",
       "        [0],\n",
       "        [0],\n",
       "        [1],\n",
       "        [1],\n",
       "        [0],\n",
       "        [0],\n",
       "        [0],\n",
       "        [1],\n",
       "        [1],\n",
       "        [0],\n",
       "        [0],\n",
       "        [0],\n",
       "        [0],\n",
       "        [0],\n",
       "        [0],\n",
       "        [1],\n",
       "        [1],\n",
       "        [0],\n",
       "        [0],\n",
       "        [0],\n",
       "        [1],\n",
       "        [1],\n",
       "        [0],\n",
       "        [0],\n",
       "        [0],\n",
       "        [1],\n",
       "        [1]])"
      ]
     },
     "execution_count": 34,
     "metadata": {},
     "output_type": "execute_result"
    }
   ],
   "source": [
    "subgraph_mask"
   ]
  },
  {
   "cell_type": "markdown",
   "id": "__bohr_old_version_cellId_38__",
   "metadata": {},
   "source": [
    "\n",
    "### Repeat the rotation test again\n"
   ]
  },
  {
   "cell_type": "code",
   "execution_count": 35,
   "id": "__bohr_old_version_cellId_39__",
   "metadata": {
    "ExecuteTime": {
     "end_time": "2023-10-02T20:31:51.363122500Z",
     "start_time": "2023-10-02T20:31:51.296349300Z"
    }
   },
   "outputs": [],
   "source": [
    "_h, _pos, __ = model_oa.forward(\n",
    "    h=h,\n",
    "    pos=remove_mean_batch(pos, mask),\n",
    "    edge_index=edge_index,\n",
    "    subgraph_mask=subgraph_mask,\n",
    ")"
   ]
  },
  {
   "cell_type": "code",
   "execution_count": 36,
   "id": "__bohr_old_version_cellId_40__",
   "metadata": {
    "ExecuteTime": {
     "end_time": "2023-10-02T20:31:51.841331400Z",
     "start_time": "2023-10-02T20:31:51.767601500Z"
    }
   },
   "outputs": [],
   "source": [
    "rot = o3.rand_matrix()\n",
    "pos_react_rot = torch.matmul(pos_react, rot).double()\n",
    "\n",
    "pos_rot = torch.cat(\n",
    "    [pos_react_rot, pos_prod],\n",
    "    dim=0,\n",
    ")\n",
    "\n",
    "_h_rot, _pos_rot, __ = model_oa.forward(\n",
    "    h=h,\n",
    "    pos=remove_mean_batch(pos_rot, mask),\n",
    "    edge_index=edge_index,\n",
    "    subgraph_mask=subgraph_mask,\n",
    ")"
   ]
  },
  {
   "cell_type": "markdown",
   "id": "__bohr_old_version_cellId_41__",
   "metadata": {},
   "source": [
    "### We verified that the \"object-aware\" LEFTNet will maintain the desired symmetry ✅"
   ]
  },
  {
   "cell_type": "code",
   "execution_count": 37,
   "id": "__bohr_old_version_cellId_42__",
   "metadata": {
    "ExecuteTime": {
     "end_time": "2023-10-02T20:31:52.619023800Z",
     "start_time": "2023-10-02T20:31:52.545487500Z"
    }
   },
   "outputs": [
    {
     "data": {
      "text/plain": [
       "tensor(1.1355e-13, grad_fn=<MaxBackward1>)"
      ]
     },
     "execution_count": 37,
     "metadata": {},
     "output_type": "execute_result"
    }
   ],
   "source": [
    "torch.max(\n",
    "    torch.abs(\n",
    "        _h - _h_rot\n",
    "    )\n",
    ")  # The h should remain the same after rotation"
   ]
  },
  {
   "cell_type": "code",
   "execution_count": 38,
   "id": "__bohr_old_version_cellId_43__",
   "metadata": {
    "ExecuteTime": {
     "end_time": "2023-10-02T20:31:53.572285500Z",
     "start_time": "2023-10-02T20:31:53.490071Z"
    }
   },
   "outputs": [
    {
     "data": {
      "text/plain": [
       "tensor(4.9960e-16, grad_fn=<MaxBackward1>)"
      ]
     },
     "execution_count": 38,
     "metadata": {},
     "output_type": "execute_result"
    }
   ],
   "source": [
    "_pos_rot_prime = torch.cat(\n",
    "    [\n",
    "        torch.matmul(_pos[:3], rot),\n",
    "        _pos[3:]\n",
    "    ]\n",
    ")\n",
    "\n",
    "torch.max(\n",
    "    torch.abs(\n",
    "        _pos_rot_prime  - _pos_rot\n",
    "    )\n",
    ")  # The rotated pos should rotate"
   ]
  },
  {
   "cell_type": "markdown",
   "id": "__bohr_old_version_cellId_44__",
   "metadata": {},
   "source": [
    "# From days to seconds, OA-ReactDiff accelerates the generation of transition state (TS) structures\n",
    "\n",
    "In experiments, the time scale of the existence of reactants and products is relatively long, making them relatively easy to characterize (e.g. NMR, mass spectrometry, etc.). However, <span style=\"color: red;\">**experimentally characterizing transition state structures is very difficult**</span>. This is because transition states exist for a very short period of time and have higher energy compared to reactants or products, making them difficult to separate and study directly. In terms of calculations, although methods like nudged elastic band have been developed, they are time-consuming and often require running on a machine that contains 24 CPU for a day, with <span style=\"color: red;\">**a very low**</span> success rate (around 30%) 😭.\n",
    "\n",
    "However, with [the OA-ReactDiff architecture developed in our article](https://arxiv.org/abs/2304.06174), can reduce the search time for transition states **from several days to 6 seconds**, greatly accelerating the exploration of chemical reaction mechanisms, improving success rates, and enabling the study of more complex chemical reaction networks. We have prepared three examples to demonstrate the application scenarios of OA-ReactDiff 🎬."
   ]
  },
  {
   "cell_type": "markdown",
   "id": "__bohr_old_version_cellId_45__",
   "metadata": {},
   "source": [
    "## Correct symmetry removes the need for all cumbersome pre-processing<a id ='no-preprocessing'></a>\n",
    "In computation, traditional machine learning methods usually require a one-to-one correspondence between reactants and products, and the geometric positions between each molecule in the reactants also need to be carefully adjusted if there are multiple reactants. These pre-processing steps, not only take time, are practically unfeasible in many unknown reactions.\n",
    "\n",
    "However, OA-ReactDiff ensures the symmetry required in all chemical reactions, So we **don't need to do any pre-processing for the reactions**."
   ]
  },
  {
   "cell_type": "code",
   "execution_count": 39,
   "id": "__bohr_old_version_cellId_46__",
   "metadata": {
    "ExecuteTime": {
     "end_time": "2023-10-02T20:31:55.072136100Z",
     "start_time": "2023-10-02T20:31:55.024148400Z"
    }
   },
   "outputs": [],
   "source": [
    "# --- Importing necessary function ---\n",
    "from torch.utils.data import DataLoader\n",
    "\n",
    "from oa_reactdiff.trainer.pl_trainer import DDPMModule\n",
    "\n",
    "\n",
    "from oa_reactdiff.dataset import ProcessedTS1x\n",
    "from oa_reactdiff.diffusion._schedule import DiffSchedule, PredefinedNoiseSchedule\n",
    "\n",
    "from oa_reactdiff.diffusion._normalizer import FEATURE_MAPPING\n",
    "from oa_reactdiff.analyze.rmsd import batch_rmsd\n",
    "\n",
    "from oa_reactdiff.utils.sampling_tools import (\n",
    "    assemble_sample_inputs,\n",
    "    write_tmp_xyz,\n",
    ")"
   ]
  },
  {
   "cell_type": "markdown",
   "id": "__bohr_old_version_cellId_47__",
   "metadata": {},
   "source": [
    "\n",
    "### Import the pre-trained model and redefine the schedule."
   ]
  },
  {
   "cell_type": "code",
   "execution_count": 40,
   "id": "__bohr_old_version_cellId_48__",
   "metadata": {
    "ExecuteTime": {
     "end_time": "2023-10-02T20:31:55.921080700Z",
     "start_time": "2023-10-02T20:31:55.869082Z"
    }
   },
   "outputs": [
    {
     "name": "stdout",
     "output_type": "stream",
     "text": [
      "cuda\n"
     ]
    },
    {
     "name": "stderr",
     "output_type": "stream",
     "text": [
      "/misc/home/guest50/micromamba/envs/oa_reactdiff_m/lib/python3.10/site-packages/torch_geometric/nn/conv/message_passing.py:972: UserWarning: 'EquiMessage.jittable' is deprecated and a no-op. Please remove its usage.\n",
      "  warnings.warn(f\"'{self.__class__.__name__}.jittable' is deprecated \"\n"
     ]
    }
   ],
   "source": [
    "# TL fix: {\n",
    "from oa_reactdiff.trainer.pl_trainer import DDPMModule\n",
    "# } fix. Why didn' this carry over from the previous cell import statement?\n",
    "\n",
    "device = torch.device(\"cpu\") if not torch.cuda.is_available() else torch.device(\"cuda\")\n",
    "print(device) # TL\n",
    "\n",
    "ddpm_trainer = DDPMModule.load_from_checkpoint(\n",
    "    checkpoint_path=\"./pretrained-ts1x-diff.ckpt\",\n",
    "    map_location=device,\n",
    ")\n",
    "ddpm_trainer = ddpm_trainer.to(device)"
   ]
  },
  {
   "cell_type": "code",
   "execution_count": 41,
   "id": "__bohr_old_version_cellId_50__",
   "metadata": {
    "ExecuteTime": {
     "end_time": "2023-10-02T20:31:56.986652100Z",
     "start_time": "2023-10-02T20:31:56.909147700Z"
    }
   },
   "outputs": [],
   "source": [
    "noise_schedule: str = \"polynomial_2\"\n",
    "timesteps: int = 150\n",
    "precision: float = 1e-5\n",
    "\n",
    "gamma_module = PredefinedNoiseSchedule(\n",
    "            noise_schedule=noise_schedule,\n",
    "            timesteps=timesteps,\n",
    "            precision=precision,\n",
    "        )\n",
    "schedule = DiffSchedule(\n",
    "    gamma_module=gamma_module,\n",
    "    norm_values=ddpm_trainer.ddpm.norm_values\n",
    ")\n",
    "ddpm_trainer.ddpm.schedule = schedule\n",
    "ddpm_trainer.ddpm.T = timesteps\n",
    "ddpm_trainer = ddpm_trainer.to(device)"
   ]
  },
  {
   "cell_type": "markdown",
   "id": "__bohr_old_version_cellId_51__",
   "metadata": {},
   "source": [
    "\n",
    "### Prepare dataset and data loader and select a reaction involving multiple molecules"
   ]
  },
  {
   "cell_type": "code",
   "execution_count": 42,
   "id": "__bohr_old_version_cellId_52__",
   "metadata": {
    "ExecuteTime": {
     "end_time": "2023-10-02T20:31:57.929560300Z",
     "start_time": "2023-10-02T20:31:57.861384500Z"
    }
   },
   "outputs": [
    {
     "data": {
      "text/plain": [
       "9000"
      ]
     },
     "execution_count": 42,
     "metadata": {},
     "output_type": "execute_result"
    }
   ],
   "source": [
    "dataset = ProcessedTS1x(\n",
    "    npz_path=\"./oa_reactdiff/data/transition1x/train.pkl\",\n",
    "    center=True,\n",
    "    pad_fragments=0,\n",
    "    device=device,\n",
    "    zero_charge=False,\n",
    "    remove_h=False,\n",
    "    single_frag_only=False,\n",
    "    swapping_react_prod=False,\n",
    "    use_by_ind=True,\n",
    ")\n",
    "loader = DataLoader(\n",
    "    dataset, \n",
    "    batch_size=1,\n",
    "    shuffle=False,\n",
    "    num_workers=0,\n",
    "    collate_fn=dataset.collate_fn\n",
    ")\n",
    "itl = iter(loader)\n",
    "idx = -1 # TL: why?\n",
    "\n",
    "len(dataset)"
   ]
  },
  {
   "cell_type": "code",
   "execution_count": 43,
   "id": "e5a6ead6-571c-40d3-a0ed-c04b65140ea9",
   "metadata": {},
   "outputs": [],
   "source": [
    "#dataset.transition_state"
   ]
  },
  {
   "cell_type": "code",
   "execution_count": 44,
   "id": "0fd05d24-6911-42fd-859d-d6156122c759",
   "metadata": {},
   "outputs": [
    {
     "data": {
      "text/plain": [
       "<torch.utils.data.dataloader._SingleProcessDataLoaderIter at 0x2ad8732ed0c0>"
      ]
     },
     "execution_count": 44,
     "metadata": {},
     "output_type": "execute_result"
    }
   ],
   "source": [
    "itl"
   ]
  },
  {
   "cell_type": "code",
   "execution_count": 45,
   "id": "__bohr_old_version_cellId_54__",
   "metadata": {
    "ExecuteTime": {
     "end_time": "2023-10-02T20:31:59.012167300Z",
     "start_time": "2023-10-02T20:31:58.961628600Z"
    }
   },
   "outputs": [
    {
     "name": "stdout",
     "output_type": "stream",
     "text": [
      "[tensor([7], device='cuda:0'), tensor([7], device='cuda:0'), tensor([7], device='cuda:0')]\n",
      "0\n",
      "[{'size': tensor([7], device='cuda:0'), 'pos': tensor([[ 0.2427, -0.8901,  0.2854],\n",
      "        [-0.5765,  0.0045,  0.8826],\n",
      "        [-0.6887,  1.1058,  0.2289],\n",
      "        [ 0.1122,  0.9626, -0.8994],\n",
      "        [ 0.6299, -0.2113, -0.8175],\n",
      "        [-1.0335, -0.2771,  1.8197],\n",
      "        [ 1.3140, -0.6944, -1.4998]], device='cuda:0', dtype=torch.float32), 'one_hot': tensor([[0, 0, 0, 1, 0],\n",
      "        [0, 1, 0, 0, 0],\n",
      "        [0, 0, 1, 0, 0],\n",
      "        [0, 0, 1, 0, 0],\n",
      "        [0, 1, 0, 0, 0],\n",
      "        [1, 0, 0, 0, 0],\n",
      "        [1, 0, 0, 0, 0]], device='cuda:0'), 'charge': tensor([[8],\n",
      "        [6],\n",
      "        [7],\n",
      "        [7],\n",
      "        [6],\n",
      "        [1],\n",
      "        [1]], device='cuda:0', dtype=torch.int32), 'mask': tensor([0, 0, 0, 0, 0, 0, 0], device='cuda:0')}, {'size': tensor([7], device='cuda:0'), 'pos': tensor([[ 0.1031,  0.6314, -1.1980],\n",
      "        [-0.8480,  0.1328, -0.5836],\n",
      "        [-0.8011, -0.5178,  0.5847],\n",
      "        [ 0.6439, -1.1659,  0.8551],\n",
      "        [ 1.0814, -0.0828,  0.6162],\n",
      "        [-1.8893,  0.2143, -0.9296],\n",
      "        [ 1.7100,  0.7879,  0.6552]], device='cuda:0', dtype=torch.float32), 'one_hot': tensor([[0, 0, 0, 1, 0],\n",
      "        [0, 1, 0, 0, 0],\n",
      "        [0, 0, 1, 0, 0],\n",
      "        [0, 0, 1, 0, 0],\n",
      "        [0, 1, 0, 0, 0],\n",
      "        [1, 0, 0, 0, 0],\n",
      "        [1, 0, 0, 0, 0]], device='cuda:0'), 'charge': tensor([[8],\n",
      "        [6],\n",
      "        [7],\n",
      "        [7],\n",
      "        [6],\n",
      "        [1],\n",
      "        [1]], device='cuda:0', dtype=torch.int32), 'mask': tensor([0, 0, 0, 0, 0, 0, 0], device='cuda:0')}, {'size': tensor([7], device='cuda:0'), 'pos': tensor([[ 1.9504,  1.0311, -0.1182],\n",
      "        [ 0.8780,  0.5870, -0.4073],\n",
      "        [-0.1942,  0.5241,  0.5420],\n",
      "        [-1.5136, -0.0201, -0.2455],\n",
      "        [-0.8812, -0.7034,  0.5675],\n",
      "        [ 0.5929,  0.2361, -1.4219],\n",
      "        [-0.8323, -1.6548,  1.0833]], device='cuda:0', dtype=torch.float32), 'one_hot': tensor([[0, 0, 0, 1, 0],\n",
      "        [0, 1, 0, 0, 0],\n",
      "        [0, 0, 1, 0, 0],\n",
      "        [0, 0, 1, 0, 0],\n",
      "        [0, 1, 0, 0, 0],\n",
      "        [1, 0, 0, 0, 0],\n",
      "        [1, 0, 0, 0, 0]], device='cuda:0'), 'charge': tensor([[8],\n",
      "        [6],\n",
      "        [7],\n",
      "        [7],\n",
      "        [6],\n",
      "        [1],\n",
      "        [1]], device='cuda:0', dtype=torch.int32), 'mask': tensor([0, 0, 0, 0, 0, 0, 0], device='cuda:0')}]\n",
      "res:\n",
      "tensor([[0]], device='cuda:0')\n",
      "\n",
      "\n",
      "\n",
      "[tensor([7], device='cuda:0'), tensor([7], device='cuda:0'), tensor([7], device='cuda:0')]\n",
      "1\n",
      "[{'size': tensor([7], device='cuda:0'), 'pos': tensor([[ 0.8957,  0.3545, -0.0673],\n",
      "        [ 0.3498, -0.4072,  0.9073],\n",
      "        [-0.8780, -0.7154,  0.6833],\n",
      "        [-1.2043, -0.1220, -0.5318],\n",
      "        [-0.1417,  0.4864, -0.9236],\n",
      "        [ 0.9705, -0.6664,  1.7522],\n",
      "        [ 0.0079,  1.0701, -1.8201]], device='cuda:0', dtype=torch.float32), 'one_hot': tensor([[0, 0, 0, 1, 0],\n",
      "        [0, 1, 0, 0, 0],\n",
      "        [0, 0, 1, 0, 0],\n",
      "        [0, 0, 1, 0, 0],\n",
      "        [0, 1, 0, 0, 0],\n",
      "        [1, 0, 0, 0, 0],\n",
      "        [1, 0, 0, 0, 0]], device='cuda:0'), 'charge': tensor([[8],\n",
      "        [6],\n",
      "        [7],\n",
      "        [7],\n",
      "        [6],\n",
      "        [1],\n",
      "        [1]], device='cuda:0', dtype=torch.int32), 'mask': tensor([0, 0, 0, 0, 0, 0, 0], device='cuda:0')}, {'size': tensor([7], device='cuda:0'), 'pos': tensor([[-0.0885, -0.8433,  0.0902],\n",
      "        [ 0.7615, -0.6801, -0.8451],\n",
      "        [ 0.3059,  1.7275, -0.7285],\n",
      "        [-0.3426,  1.6241,  0.1774],\n",
      "        [-1.0092, -0.0893,  0.7203],\n",
      "        [ 1.0334, -1.7013, -1.1824],\n",
      "        [-0.6603, -0.0375,  1.7682]], device='cuda:0', dtype=torch.float32), 'one_hot': tensor([[0, 0, 0, 1, 0],\n",
      "        [0, 1, 0, 0, 0],\n",
      "        [0, 0, 1, 0, 0],\n",
      "        [0, 0, 1, 0, 0],\n",
      "        [0, 1, 0, 0, 0],\n",
      "        [1, 0, 0, 0, 0],\n",
      "        [1, 0, 0, 0, 0]], device='cuda:0'), 'charge': tensor([[8],\n",
      "        [6],\n",
      "        [7],\n",
      "        [7],\n",
      "        [6],\n",
      "        [1],\n",
      "        [1]], device='cuda:0', dtype=torch.int32), 'mask': tensor([0, 0, 0, 0, 0, 0, 0], device='cuda:0')}, {'size': tensor([7], device='cuda:0'), 'pos': tensor([[-6.2483, -5.1973, -5.3522],\n",
      "        [-7.0470, -6.1779, -5.5563],\n",
      "        [15.3395, 12.5957, 12.8774],\n",
      "        [16.0069, 13.3298, 13.3589],\n",
      "        [-5.2665, -4.3872, -5.5340],\n",
      "        [-8.0392, -5.7835, -5.2431],\n",
      "        [-4.7454, -4.3797, -4.5508]], device='cuda:0', dtype=torch.float32), 'one_hot': tensor([[0, 0, 0, 1, 0],\n",
      "        [0, 1, 0, 0, 0],\n",
      "        [0, 0, 1, 0, 0],\n",
      "        [0, 0, 1, 0, 0],\n",
      "        [0, 1, 0, 0, 0],\n",
      "        [1, 0, 0, 0, 0],\n",
      "        [1, 0, 0, 0, 0]], device='cuda:0'), 'charge': tensor([[8],\n",
      "        [6],\n",
      "        [7],\n",
      "        [7],\n",
      "        [6],\n",
      "        [1],\n",
      "        [1]], device='cuda:0', dtype=torch.int32), 'mask': tensor([0, 0, 0, 0, 0, 0, 0], device='cuda:0')}]\n",
      "res:\n",
      "tensor([[0]], device='cuda:0')\n",
      "\n",
      "\n",
      "\n",
      "[tensor([7], device='cuda:0'), tensor([7], device='cuda:0'), tensor([7], device='cuda:0')]\n",
      "2\n",
      "[{'size': tensor([7], device='cuda:0'), 'pos': tensor([[ 0.4775, -0.6585,  0.5206],\n",
      "        [-0.5951, -0.8218, -0.2862],\n",
      "        [-0.9844,  0.2706, -0.8410],\n",
      "        [-0.1205,  1.2599, -0.3825],\n",
      "        [ 0.7067,  0.6685,  0.4041],\n",
      "        [-1.0115, -1.8141, -0.3772],\n",
      "        [ 1.5272,  1.0953,  0.9623]], device='cuda:0', dtype=torch.float32), 'one_hot': tensor([[0, 0, 0, 1, 0],\n",
      "        [0, 1, 0, 0, 0],\n",
      "        [0, 0, 1, 0, 0],\n",
      "        [0, 0, 1, 0, 0],\n",
      "        [0, 1, 0, 0, 0],\n",
      "        [1, 0, 0, 0, 0],\n",
      "        [1, 0, 0, 0, 0]], device='cuda:0'), 'charge': tensor([[8],\n",
      "        [6],\n",
      "        [7],\n",
      "        [7],\n",
      "        [6],\n",
      "        [1],\n",
      "        [1]], device='cuda:0', dtype=torch.int32), 'mask': tensor([0, 0, 0, 0, 0, 0, 0], device='cuda:0')}, {'size': tensor([7], device='cuda:0'), 'pos': tensor([[-1.2772,  0.3334, -0.0161],\n",
      "        [-0.4080,  0.8171, -0.7351],\n",
      "        [ 0.9317,  0.4736, -0.7129],\n",
      "        [ 1.0019, -0.4452,  0.2163],\n",
      "        [ 0.3486, -1.0352,  0.9926],\n",
      "        [-0.6231,  1.5885, -1.4824],\n",
      "        [ 0.0261, -1.7322,  1.7376]], device='cuda:0', dtype=torch.float32), 'one_hot': tensor([[0, 0, 0, 1, 0],\n",
      "        [0, 1, 0, 0, 0],\n",
      "        [0, 0, 1, 0, 0],\n",
      "        [0, 0, 1, 0, 0],\n",
      "        [0, 1, 0, 0, 0],\n",
      "        [1, 0, 0, 0, 0],\n",
      "        [1, 0, 0, 0, 0]], device='cuda:0'), 'charge': tensor([[8],\n",
      "        [6],\n",
      "        [7],\n",
      "        [7],\n",
      "        [6],\n",
      "        [1],\n",
      "        [1]], device='cuda:0', dtype=torch.int32), 'mask': tensor([0, 0, 0, 0, 0, 0, 0], device='cuda:0')}, {'size': tensor([7], device='cuda:0'), 'pos': tensor([[ 1.0496,  1.3910, -0.2040],\n",
      "        [ 0.1943,  1.2250,  0.6409],\n",
      "        [-0.6269,  0.1118,  0.7808],\n",
      "        [-0.3730, -0.7629, -0.1127],\n",
      "        [-0.1841, -1.5827, -0.9007],\n",
      "        [-0.0363,  1.9672,  1.4209],\n",
      "        [-0.0235, -2.3493, -1.6252]], device='cuda:0', dtype=torch.float32), 'one_hot': tensor([[0, 0, 0, 1, 0],\n",
      "        [0, 1, 0, 0, 0],\n",
      "        [0, 0, 1, 0, 0],\n",
      "        [0, 0, 1, 0, 0],\n",
      "        [0, 1, 0, 0, 0],\n",
      "        [1, 0, 0, 0, 0],\n",
      "        [1, 0, 0, 0, 0]], device='cuda:0'), 'charge': tensor([[8],\n",
      "        [6],\n",
      "        [7],\n",
      "        [7],\n",
      "        [6],\n",
      "        [1],\n",
      "        [1]], device='cuda:0', dtype=torch.int32), 'mask': tensor([0, 0, 0, 0, 0, 0, 0], device='cuda:0')}]\n",
      "res:\n",
      "tensor([[0]], device='cuda:0')\n",
      "\n",
      "\n",
      "\n",
      "[tensor([7], device='cuda:0'), tensor([7], device='cuda:0'), tensor([7], device='cuda:0')]\n",
      "3\n",
      "[{'size': tensor([7], device='cuda:0'), 'pos': tensor([[ 1.2328, -0.5216, -0.8588],\n",
      "        [ 1.3499,  0.2690,  0.2318],\n",
      "        [ 0.1347,  0.4751,  0.6483],\n",
      "        [-0.7571, -0.2115, -0.2149],\n",
      "        [-0.0583, -0.8153, -1.1315],\n",
      "        [-0.0676,  1.0821,  1.5179],\n",
      "        [-1.8343, -0.2778, -0.1928]], device='cuda:0', dtype=torch.float32), 'one_hot': tensor([[0, 0, 0, 1, 0],\n",
      "        [0, 0, 1, 0, 0],\n",
      "        [0, 1, 0, 0, 0],\n",
      "        [0, 1, 0, 0, 0],\n",
      "        [0, 0, 1, 0, 0],\n",
      "        [1, 0, 0, 0, 0],\n",
      "        [1, 0, 0, 0, 0]], device='cuda:0'), 'charge': tensor([[8],\n",
      "        [7],\n",
      "        [6],\n",
      "        [6],\n",
      "        [7],\n",
      "        [1],\n",
      "        [1]], device='cuda:0', dtype=torch.int32), 'mask': tensor([0, 0, 0, 0, 0, 0, 0], device='cuda:0')}, {'size': tensor([7], device='cuda:0'), 'pos': tensor([[ 1.2855,  0.7048, -0.5932],\n",
      "        [ 1.7646, -0.1798,  0.0329],\n",
      "        [-0.4315, -0.8378,  0.6446],\n",
      "        [-1.1386, -0.0226,  0.0804],\n",
      "        [ 0.4166,  1.3756, -1.0395],\n",
      "        [ 0.0148, -1.6297,  1.2054],\n",
      "        [-1.9114,  0.5896, -0.3304]], device='cuda:0', dtype=torch.float32), 'one_hot': tensor([[0, 0, 0, 1, 0],\n",
      "        [0, 0, 1, 0, 0],\n",
      "        [0, 1, 0, 0, 0],\n",
      "        [0, 1, 0, 0, 0],\n",
      "        [0, 0, 1, 0, 0],\n",
      "        [1, 0, 0, 0, 0],\n",
      "        [1, 0, 0, 0, 0]], device='cuda:0'), 'charge': tensor([[8],\n",
      "        [7],\n",
      "        [6],\n",
      "        [6],\n",
      "        [7],\n",
      "        [1],\n",
      "        [1]], device='cuda:0', dtype=torch.int32), 'mask': tensor([0, 0, 0, 0, 0, 0, 0], device='cuda:0')}, {'size': tensor([7], device='cuda:0'), 'pos': tensor([[-12.0588, -12.1970, -12.8132],\n",
      "        [-11.6263, -11.3212, -13.4617],\n",
      "        [  9.2536,   9.5815,   9.2488],\n",
      "        [  8.8197,   8.6953,   9.9382],\n",
      "        [-12.4724, -13.0495, -12.1239],\n",
      "        [  9.6388,  10.3751,   8.6468],\n",
      "        [  8.4455,   7.9159,  10.5651]], device='cuda:0', dtype=torch.float32), 'one_hot': tensor([[0, 0, 0, 1, 0],\n",
      "        [0, 0, 1, 0, 0],\n",
      "        [0, 1, 0, 0, 0],\n",
      "        [0, 1, 0, 0, 0],\n",
      "        [0, 0, 1, 0, 0],\n",
      "        [1, 0, 0, 0, 0],\n",
      "        [1, 0, 0, 0, 0]], device='cuda:0'), 'charge': tensor([[8],\n",
      "        [7],\n",
      "        [6],\n",
      "        [6],\n",
      "        [7],\n",
      "        [1],\n",
      "        [1]], device='cuda:0', dtype=torch.int32), 'mask': tensor([0, 0, 0, 0, 0, 0, 0], device='cuda:0')}]\n",
      "res:\n",
      "tensor([[0]], device='cuda:0')\n",
      "\n",
      "\n",
      "\n",
      "1\n"
     ]
    }
   ],
   "source": [
    "for i in range(4):  # The 4th sample happens to be a multimolecular reaction\n",
    "    representations, res = next(itl) #  (reactants, TS, product), label properties\n",
    "    fragments_nodes = [\n",
    "    repre[\"size\"] for repre in representations\n",
    "]\n",
    "    print(fragments_nodes)\n",
    "    if i < 4: #== 3:\n",
    "        print(i)\n",
    "        print(representations) # TL: how can we see it's multimolecular?\n",
    "        print(\"res:\")\n",
    "        print(res)\n",
    "        print(\"\\n\\n\") \n",
    "idx += 1 # TL: why? not used?\n",
    "n_samples = representations[0][\"size\"].size(0)\n",
    "print(n_samples)\n",
    "fragments_nodes = [\n",
    "    repre[\"size\"] for repre in representations\n",
    "]\n",
    "conditions = torch.tensor([[0] for _ in range(n_samples)], device=device)"
   ]
  },
  {
   "cell_type": "code",
   "execution_count": 46,
   "id": "2cbb654a-513f-4b64-93f1-773b2f1db47a",
   "metadata": {},
   "outputs": [
    {
     "data": {
      "text/plain": [
       "3"
      ]
     },
     "execution_count": 46,
     "metadata": {},
     "output_type": "execute_result"
    }
   ],
   "source": [
    "len(representations)"
   ]
  },
  {
   "cell_type": "code",
   "execution_count": 47,
   "id": "fcc7c9e2-4601-4b60-ab13-65b97222cdd4",
   "metadata": {},
   "outputs": [
    {
     "data": {
      "text/plain": [
       "[tensor([7], device='cuda:0'),\n",
       " tensor([7], device='cuda:0'),\n",
       " tensor([7], device='cuda:0')]"
      ]
     },
     "execution_count": 47,
     "metadata": {},
     "output_type": "execute_result"
    }
   ],
   "source": [
    "fragments_nodes"
   ]
  },
  {
   "cell_type": "code",
   "execution_count": 48,
   "id": "c37288b6-2f1d-444e-9cde-9c845d16b6c1",
   "metadata": {},
   "outputs": [
    {
     "name": "stdout",
     "output_type": "stream",
     "text": [
      "--- Verifying Interpretation of remove_mean_batch ---\n",
      "\n",
      "--- Reactant (Stage 0) ---\n",
      "Number of atoms in this stage: 7\n",
      "Mean of original positions for Reactant: [ 1.7029899e-08 -2.9802322e-08  2.3416112e-08]\n",
      "Mean of centered positions for Reactant: [ 1.7029899e-08 -2.7673586e-08  1.7029899e-08]\n",
      "\n",
      "--- Transition State (Stage 1) ---\n",
      "Number of atoms in this stage: 7\n",
      "Mean of original positions for Transition State: [ 3.4059799e-08 -2.1287374e-08  8.5149496e-09]\n",
      "Mean of centered positions for Transition State: [-8.5149495e-08 -1.7562083e-08  6.3862124e-09]\n",
      "\n",
      "--- Product (Stage 2) ---\n",
      "Number of atoms in this stage: 7\n",
      "Mean of original positions for Product: [ 2.724784e-07 -2.724784e-07  5.449568e-07]\n",
      "Mean of centered positions for Product: [ 2.724784e-07 -2.724784e-07  5.449568e-07]\n",
      "Note: If this Product is multi-molecular (e.g., contains N1+N2 atoms from two molecules),\n",
      "the above centering operation treated all 7 atoms as a single group.\n",
      "This is because `indices_for_stage_centering` was a tensor of all zeros for this stage.\n",
      "\n",
      "--- Conclusion ---\n",
      "The output above demonstrates that `remove_mean_batch`, when applied in the model's pipeline\n",
      "for a batch_size of 1, centers each reaction stage (Reactant, TS, Product) independently.\n",
      "Crucially, if a stage itself is composed of multiple molecules, all atoms of that stage\n",
      "are centered together as a single unit. The `indices` used in this context do not\n",
      "facilitate separate centering of individual molecules *within* a single stage.\n",
      "This aligns with the interpretation that the GNN processes the (potentially multi-molecular)\n",
      "geometry of an entire stage after that stage as a whole has been centered.\n"
     ]
    }
   ],
   "source": [
    "# Co-pilot:\n",
    "# This cell aims to confirm or falsify the interpretation of how `remove_mean_batch`\n",
    "# handles atomic coordinates from the `representations` obtained from the DataLoader,\n",
    "# particularly in the context of how OA-ReactDiff's LEFTNet model processes them.\n",
    "\n",
    "# User's Interpretation to verify:\n",
    "# 1. The `indices` (or \"mask\") used with `remove_mean_batch` in the model's core\n",
    "#    effectively group atoms by reaction stage (reactant, TS, product), leading to\n",
    "#    independent centering of each stage.\n",
    "# 2. Within a single stage (e.g., a product stage composed of multiple molecules),\n",
    "#    `remove_mean_batch` (as used in this context) centers the entire collection of\n",
    "#    that stage's atoms as one unit. It does not perform further sub-centering\n",
    "#    for individual molecules within that stage.\n",
    "\n",
    "print(\"--- Verifying Interpretation of remove_mean_batch ---\")\n",
    "\n",
    "# Ensure `representations`, `device`, and `remove_mean_batch` are available\n",
    "# This cell should be run after the cell that defines `remove_mean_batch` (cell 6)\n",
    "# and after a sample is loaded into `representations` (e.g., cell 46).\n",
    "\n",
    "# Assuming 'representations' is a list of 3 dicts (reactant, TS, product) for a single sample (batch_size=1)\n",
    "# Each dict contains 'pos' (atomic positions for that stage) and 'size' (number of atoms in that stage).\n",
    "\n",
    "stage_names = [\"Reactant\", \"Transition State\", \"Product\"]\n",
    "\n",
    "for i, stage_repre in enumerate(representations):\n",
    "    stage_name = stage_names[i]\n",
    "    pos_stage = stage_repre['pos'] # Positions for the current stage\n",
    "    num_atoms_in_stage = stage_repre['size'].item()\n",
    "\n",
    "    print(f\"\\n--- {stage_name} (Stage {i}) ---\")\n",
    "    print(f\"Number of atoms in this stage: {num_atoms_in_stage}\")\n",
    "    # print(f\"Original positions (first 2 atoms):\\n{pos_stage[:2]}\")\n",
    "    print(f\"Mean of original positions for {stage_name}: {torch.mean(pos_stage, dim=0).cpu().numpy()}\")\n",
    "\n",
    "    # In LEFTNet.forward_all_fragments, for each fragment (stage) `i`,\n",
    "    # `remove_mean_batch(frag_pos[i], frag_indices[i])` is called.\n",
    "    # `frag_pos[i]` corresponds to `pos_stage`.\n",
    "    # `frag_indices[i]` corresponds to `node_sample_idx` from collate_fn.\n",
    "    # For batch_size=1, `node_sample_idx` for all atoms in this stage will be all zeros.\n",
    "    indices_for_stage_centering = torch.zeros(num_atoms_in_stage, dtype=torch.long, device=pos_stage.device)\n",
    "\n",
    "    # Apply remove_mean_batch as it would be for this stage's positions\n",
    "    centered_pos_stage = remove_mean_batch(pos_stage.clone(), indices_for_stage_centering)\n",
    "\n",
    "    # print(f\"Centered positions (first 2 atoms):\\n{centered_pos_stage[:2]}\")\n",
    "    print(f\"Mean of centered positions for {stage_name}: {torch.mean(centered_pos_stage, dim=0).cpu().numpy()}\")\n",
    "\n",
    "    if stage_name == \"Product\": # The 4th sample's product stage is multi-molecular\n",
    "        # We can check the raw data for the 4th sample (index 3)\n",
    "        # product_num_atoms_per_molecule = dataset.raw_dataset['product']['num_atoms'][3] # 3 is the index for the 4th sample\n",
    "        # print(f\"Structure of product stage (num_atoms per molecule): {product_num_atoms_per_molecule}\")\n",
    "        # This shows that even if product_num_atoms_per_molecule indicates multiple molecules,\n",
    "        # (e.g. [N1, N2]), the `pos_stage` contains N1+N2 atoms, and they are all centered\n",
    "        # together by the `remove_mean_batch` call above because `indices_for_stage_centering` is all zeros.\n",
    "        print(f\"Note: If this {stage_name} is multi-molecular (e.g., contains N1+N2 atoms from two molecules),\")\n",
    "        print(f\"the above centering operation treated all {num_atoms_in_stage} atoms as a single group.\")\n",
    "        print(\"This is because `indices_for_stage_centering` was a tensor of all zeros for this stage.\")\n",
    "\n",
    "print(\"\\n--- Conclusion ---\")\n",
    "print(\"The output above demonstrates that `remove_mean_batch`, when applied in the model's pipeline\")\n",
    "print(\"for a batch_size of 1, centers each reaction stage (Reactant, TS, Product) independently.\")\n",
    "print(\"Crucially, if a stage itself is composed of multiple molecules, all atoms of that stage\")\n",
    "print(\"are centered together as a single unit. The `indices` used in this context do not\")\n",
    "print(\"facilitate separate centering of individual molecules *within* a single stage.\")\n",
    "print(\"This aligns with the interpretation that the GNN processes the (potentially multi-molecular)\")\n",
    "print(\"geometry of an entire stage after that stage as a whole has been centered.\")"
   ]
  },
  {
   "cell_type": "code",
   "execution_count": 49,
   "id": "8af5d923-01ef-4b4f-9e13-b410abbb0ee4",
   "metadata": {},
   "outputs": [
    {
     "name": "stdout",
     "output_type": "stream",
     "text": [
      "Reactant\n",
      "tensor(0, device='cuda:0')\n",
      "\n",
      "Transition State\n",
      "tensor(0, device='cuda:0')\n",
      "\n",
      "Product\n",
      "tensor(0, device='cuda:0')\n",
      "\n"
     ]
    }
   ],
   "source": [
    "# TL: I want to see how the 4th set of representations is multi-molecular\n",
    "from pprint import pprint\n",
    "for i, repre in enumerate(representations):\n",
    "    print(stage_names[i])\n",
    "    #pprint(repre[\"charge\"].sum(dim=0)) # 'size', 'pos', 'one_hot', 'charge', 'mask'\n",
    "    pprint(repre[\"mask\"].sum(dim=-1))\n",
    "    print(\"\")\n",
    "#print([repr.keys() for repr in representations])\n",
    "\n",
    "# reactants?\n"
   ]
  },
  {
   "cell_type": "code",
   "execution_count": 50,
   "id": "bb5c008d-2f85-4508-a61b-fa4afa553a4b",
   "metadata": {},
   "outputs": [
    {
     "data": {
      "text/plain": [
       "tensor([[1],\n",
       "        [1],\n",
       "        [0],\n",
       "        [0],\n",
       "        [0],\n",
       "        [1],\n",
       "        [1],\n",
       "        [0],\n",
       "        [0],\n",
       "        [0],\n",
       "        [1],\n",
       "        [1],\n",
       "        [0],\n",
       "        [0],\n",
       "        [0],\n",
       "        [0],\n",
       "        [0],\n",
       "        [0],\n",
       "        [1],\n",
       "        [1],\n",
       "        [0],\n",
       "        [0],\n",
       "        [0],\n",
       "        [1],\n",
       "        [1],\n",
       "        [0],\n",
       "        [0],\n",
       "        [0],\n",
       "        [1],\n",
       "        [1]])"
      ]
     },
     "execution_count": 50,
     "metadata": {},
     "output_type": "execute_result"
    }
   ],
   "source": [
    "subgraph_mask"
   ]
  },
  {
   "cell_type": "code",
   "execution_count": 51,
   "id": "7a19e46c-5d4c-49cb-92f3-1080c6f7ed13",
   "metadata": {},
   "outputs": [
    {
     "data": {
      "text/plain": [
       "torch.Size([30, 1])"
      ]
     },
     "execution_count": 51,
     "metadata": {},
     "output_type": "execute_result"
    }
   ],
   "source": [
    "subgraph_mask.size()"
   ]
  },
  {
   "cell_type": "code",
   "execution_count": 52,
   "id": "d7d259d1-ec65-4a15-a66e-1ea625469ed7",
   "metadata": {},
   "outputs": [
    {
     "data": {
      "application/3dmoljs_load.v0": "<div id=\"3dmolviewer_17477139677856798\"  style=\"position: relative; width: 576px; height: 480px;\">\n        <p id=\"3dmolwarning_17477139677856798\" style=\"background-color:#ffcccc;color:black\">3Dmol.js failed to load for some reason.  Please check your browser console for error messages.<br></p>\n        </div>\n<script>\n\nvar loadScriptAsync = function(uri){\n  return new Promise((resolve, reject) => {\n    //this is to ignore the existence of requirejs amd\n    var savedexports, savedmodule;\n    if (typeof exports !== 'undefined') savedexports = exports;\n    else exports = {}\n    if (typeof module !== 'undefined') savedmodule = module;\n    else module = {}\n\n    var tag = document.createElement('script');\n    tag.src = uri;\n    tag.async = true;\n    tag.onload = () => {\n        exports = savedexports;\n        module = savedmodule;\n        resolve();\n    };\n  var firstScriptTag = document.getElementsByTagName('script')[0];\n  firstScriptTag.parentNode.insertBefore(tag, firstScriptTag);\n});\n};\n\nif(typeof $3Dmolpromise === 'undefined') {\n$3Dmolpromise = null;\n  $3Dmolpromise = loadScriptAsync('https://cdnjs.cloudflare.com/ajax/libs/3Dmol/2.4.2/3Dmol-min.js');\n}\n\nvar viewer_17477139677856798 = null;\nvar warn = document.getElementById(\"3dmolwarning_17477139677856798\");\nif(warn) {\n    warn.parentNode.removeChild(warn);\n}\n$3Dmolpromise.then(function() {\nviewer_17477139677856798 = $3Dmol.createViewer(document.getElementById(\"3dmolviewer_17477139677856798\"),{backgroundColor:\"white\"});\n$3Dmol.download(\"1024\", viewer_17477139677856798, {}, function() {\nviewer_17477139677856798.zoomTo();\n\tviewer_17477139677856798.addModel(\"7\\n\\nO\\t1.2855321\\t0.70477474\\t-0.59323037\\nN\\t1.7646067\\t-0.1797891\\t0.03285548\\nC\\t-0.43146637\\t-0.837822\\t0.6445558\\nC\\t-1.1385744\\t-0.02262178\\t0.08036587\\nN\\t0.41656098\\t1.3756052\\t-1.0395337\\nH\\t0.014762726\\t-1.6297137\\t1.2054013\\nH\\t-1.9114215\\t0.5895664\\t-0.33041432\\n\",\"xyz\");\n\tviewer_17477139677856798.setStyle({\"stick\": {}, \"sphere\": {\"radius\": 0.36}});\n\tviewer_17477139677856798.zoomTo();\nviewer_17477139677856798.render();\n})\n});\n</script>",
      "text/html": [
       "<div id=\"3dmolviewer_17477139677856798\"  style=\"position: relative; width: 576px; height: 480px;\">\n",
       "        <p id=\"3dmolwarning_17477139677856798\" style=\"background-color:#ffcccc;color:black\">3Dmol.js failed to load for some reason.  Please check your browser console for error messages.<br></p>\n",
       "        </div>\n",
       "<script>\n",
       "\n",
       "var loadScriptAsync = function(uri){\n",
       "  return new Promise((resolve, reject) => {\n",
       "    //this is to ignore the existence of requirejs amd\n",
       "    var savedexports, savedmodule;\n",
       "    if (typeof exports !== 'undefined') savedexports = exports;\n",
       "    else exports = {}\n",
       "    if (typeof module !== 'undefined') savedmodule = module;\n",
       "    else module = {}\n",
       "\n",
       "    var tag = document.createElement('script');\n",
       "    tag.src = uri;\n",
       "    tag.async = true;\n",
       "    tag.onload = () => {\n",
       "        exports = savedexports;\n",
       "        module = savedmodule;\n",
       "        resolve();\n",
       "    };\n",
       "  var firstScriptTag = document.getElementsByTagName('script')[0];\n",
       "  firstScriptTag.parentNode.insertBefore(tag, firstScriptTag);\n",
       "});\n",
       "};\n",
       "\n",
       "if(typeof $3Dmolpromise === 'undefined') {\n",
       "$3Dmolpromise = null;\n",
       "  $3Dmolpromise = loadScriptAsync('https://cdnjs.cloudflare.com/ajax/libs/3Dmol/2.4.2/3Dmol-min.js');\n",
       "}\n",
       "\n",
       "var viewer_17477139677856798 = null;\n",
       "var warn = document.getElementById(\"3dmolwarning_17477139677856798\");\n",
       "if(warn) {\n",
       "    warn.parentNode.removeChild(warn);\n",
       "}\n",
       "$3Dmolpromise.then(function() {\n",
       "viewer_17477139677856798 = $3Dmol.createViewer(document.getElementById(\"3dmolviewer_17477139677856798\"),{backgroundColor:\"white\"});\n",
       "$3Dmol.download(\"1024\", viewer_17477139677856798, {}, function() {\n",
       "viewer_17477139677856798.zoomTo();\n",
       "\tviewer_17477139677856798.addModel(\"7\\n\\nO\\t1.2855321\\t0.70477474\\t-0.59323037\\nN\\t1.7646067\\t-0.1797891\\t0.03285548\\nC\\t-0.43146637\\t-0.837822\\t0.6445558\\nC\\t-1.1385744\\t-0.02262178\\t0.08036587\\nN\\t0.41656098\\t1.3756052\\t-1.0395337\\nH\\t0.014762726\\t-1.6297137\\t1.2054013\\nH\\t-1.9114215\\t0.5895664\\t-0.33041432\\n\",\"xyz\");\n",
       "\tviewer_17477139677856798.setStyle({\"stick\": {}, \"sphere\": {\"radius\": 0.36}});\n",
       "\tviewer_17477139677856798.zoomTo();\n",
       "viewer_17477139677856798.render();\n",
       "})\n",
       "});\n",
       "</script>"
      ]
     },
     "metadata": {},
     "output_type": "display_data"
    },
    {
     "data": {
      "text/plain": [
       "<py3Dmol.view at 0x2ad885a2bb50>"
      ]
     },
     "execution_count": 52,
     "metadata": {},
     "output_type": "execute_result"
    }
   ],
   "source": [
    "# TL visualize each state:\n",
    "atomic_num2sym = {\n",
    "    1: 'H',    2: 'He',   3: 'Li',   4: 'Be',   5: 'B',    6: 'C',    7: 'N',    8: 'O',    9: 'F',    10: 'Ne',\n",
    "    11: 'Na',  12: 'Mg',  13: 'Al',  14: 'Si',  15: 'P',   16: 'S',   17: 'Cl',  18: 'Ar',  19: 'K',   20: 'Ca',\n",
    "    21: 'Sc',  22: 'Ti',  23: 'V',   24: 'Cr',  25: 'Mn',  26: 'Fe',  27: 'Co',  28: 'Ni',  29: 'Cu',  30: 'Zn',\n",
    "    31: 'Ga',  32: 'Ge',  33: 'As',  34: 'Se',  35: 'Br',  36: 'Kr',  37: 'Rb',  38: 'Sr',  39: 'Y',   40: 'Zr',\n",
    "    41: 'Nb',  42: 'Mo',  43: 'Tc',  44: 'Ru',  45: 'Rh',  46: 'Pd',  47: 'Ag',  48: 'Cd',  49: 'In',  50: 'Sn',\n",
    "    51: 'Sb',  52: 'Te',  53: 'I',   54: 'Xe',  55: 'Cs',  56: 'Ba',  57: 'La',  58: 'Ce',  59: 'Pr',  60: 'Nd',\n",
    "    61: 'Pm',  62: 'Sm',  63: 'Eu',  64: 'Gd', 65: 'Tb',  66: 'Dy',  67: 'Ho',  68: 'Er',  69: 'Tm',  70: 'Yb',\n",
    "    71: 'Lu',  72: 'Hf',  73: 'Ta',  74: 'W',   75: 'Re',  76: 'Os',  77: 'Ir',  78: 'Pt',  79: 'Au',  80: 'Hg',\n",
    "    81: 'Tl',  82: 'Pb',  83: 'Bi',  84: 'Po',  85: 'At',  86: 'Rn',  87: 'Fr',  88: 'Ra',  89: 'Ac',  90: 'Th',\n",
    "    91: 'Pa',  92: 'U',   93: 'Np',  94: 'Pu',  95: 'Am',  96: 'Cm',  97: 'Bk',  98: 'Cf',  99: 'Es', 100: 'Fm',\n",
    "    101: 'Md', 102: 'No', 103: 'Lr', 104: 'Rf', 105: 'Db', 106: 'Sg', 107: 'Bh', 108: 'Hs', 109: 'Mt', 110: 'Ds',\n",
    "    111: 'Rg', 112: 'Cn', 113: 'Nh', 114: 'Fl', 115: 'Mc', 116: 'Lv', 117: 'Ts', 118: 'Og'\n",
    "}\n",
    "\n",
    "for i, repre in enumerate(representations):\n",
    "    z = [atomic_num2sym[int(x[0])] for x in repre[\"charge\"]]\n",
    "    pos = repre[\"pos\"]\n",
    "    if i == 1: # 0, 1, 2\n",
    "        break\n",
    "        \n",
    "xyz = assemble_xyz(z, pos.cpu())\n",
    "view = draw_in_3dmol(xyz, \"xyz\")\n",
    "view"
   ]
  },
  {
   "cell_type": "raw",
   "id": "2a2acad2-b329-4025-a114-c0d286f8930b",
   "metadata": {},
   "source": [
    "xyz = assemble_xyz(z, pos)\n",
    "view = draw_in_3dmol(xyz, \"xyz\")\n",
    "\n",
    "view"
   ]
  },
  {
   "cell_type": "markdown",
   "id": "__bohr_old_version_cellId_55__",
   "metadata": {},
   "source": [
    "\n",
    "\n",
    "The order of atoms in the reactants is intentionally scrambled relative to the products, and two molecules in the products are pulled infinitely far apart (10 A)."
   ]
  },
  {
   "cell_type": "code",
   "execution_count": 53,
   "id": "__bohr_old_version_cellId_56__",
   "metadata": {
    "ExecuteTime": {
     "end_time": "2023-10-02T20:31:59.970433Z",
     "start_time": "2023-10-02T20:31:59.885546700Z"
    }
   },
   "outputs": [],
   "source": [
    "new_order_react = torch.randperm(representations[0][\"size\"].item())\n",
    "for k in [\"pos\", \"one_hot\", \"charge\"]:\n",
    "    representations[0][k] = representations[0][k][new_order_react]\n",
    "    \n",
    "xh_fixed = [\n",
    "    torch.cat(\n",
    "        [repre[feature_type] for feature_type in FEATURE_MAPPING],\n",
    "        dim=1,\n",
    "    )\n",
    "    for repre in representations\n",
    "]"
   ]
  },
  {
   "cell_type": "code",
   "execution_count": 54,
   "id": "910ea14f-82c6-4dc6-8cc6-8bceccfee512",
   "metadata": {},
   "outputs": [
    {
     "data": {
      "text/plain": [
       "tensor([4, 0, 1, 2, 3, 6, 5])"
      ]
     },
     "execution_count": 54,
     "metadata": {},
     "output_type": "execute_result"
    }
   ],
   "source": [
    "new_order_react"
   ]
  },
  {
   "cell_type": "code",
   "execution_count": 55,
   "id": "f226c2c5-be9d-4016-b82f-c3112831ed4b",
   "metadata": {},
   "outputs": [
    {
     "data": {
      "text/plain": [
       "[tensor([[-0.0583, -0.8153, -1.1315,  0.0000,  0.0000,  1.0000,  0.0000,  0.0000,\n",
       "           7.0000],\n",
       "         [ 1.2328, -0.5216, -0.8588,  0.0000,  0.0000,  0.0000,  1.0000,  0.0000,\n",
       "           8.0000],\n",
       "         [ 1.3499,  0.2690,  0.2318,  0.0000,  0.0000,  1.0000,  0.0000,  0.0000,\n",
       "           7.0000],\n",
       "         [ 0.1347,  0.4751,  0.6483,  0.0000,  1.0000,  0.0000,  0.0000,  0.0000,\n",
       "           6.0000],\n",
       "         [-0.7571, -0.2115, -0.2149,  0.0000,  1.0000,  0.0000,  0.0000,  0.0000,\n",
       "           6.0000],\n",
       "         [-1.8343, -0.2778, -0.1928,  1.0000,  0.0000,  0.0000,  0.0000,  0.0000,\n",
       "           1.0000],\n",
       "         [-0.0676,  1.0821,  1.5179,  1.0000,  0.0000,  0.0000,  0.0000,  0.0000,\n",
       "           1.0000]], device='cuda:0', dtype=torch.float32),\n",
       " tensor([[ 1.2855,  0.7048, -0.5932,  0.0000,  0.0000,  0.0000,  1.0000,  0.0000,\n",
       "           8.0000],\n",
       "         [ 1.7646, -0.1798,  0.0329,  0.0000,  0.0000,  1.0000,  0.0000,  0.0000,\n",
       "           7.0000],\n",
       "         [-0.4315, -0.8378,  0.6446,  0.0000,  1.0000,  0.0000,  0.0000,  0.0000,\n",
       "           6.0000],\n",
       "         [-1.1386, -0.0226,  0.0804,  0.0000,  1.0000,  0.0000,  0.0000,  0.0000,\n",
       "           6.0000],\n",
       "         [ 0.4166,  1.3756, -1.0395,  0.0000,  0.0000,  1.0000,  0.0000,  0.0000,\n",
       "           7.0000],\n",
       "         [ 0.0148, -1.6297,  1.2054,  1.0000,  0.0000,  0.0000,  0.0000,  0.0000,\n",
       "           1.0000],\n",
       "         [-1.9114,  0.5896, -0.3304,  1.0000,  0.0000,  0.0000,  0.0000,  0.0000,\n",
       "           1.0000]], device='cuda:0', dtype=torch.float32),\n",
       " tensor([[-12.0588, -12.1970, -12.8132,   0.0000,   0.0000,   0.0000,   1.0000,\n",
       "            0.0000,   8.0000],\n",
       "         [-11.6263, -11.3212, -13.4617,   0.0000,   0.0000,   1.0000,   0.0000,\n",
       "            0.0000,   7.0000],\n",
       "         [  9.2536,   9.5815,   9.2488,   0.0000,   1.0000,   0.0000,   0.0000,\n",
       "            0.0000,   6.0000],\n",
       "         [  8.8197,   8.6953,   9.9382,   0.0000,   1.0000,   0.0000,   0.0000,\n",
       "            0.0000,   6.0000],\n",
       "         [-12.4724, -13.0495, -12.1239,   0.0000,   0.0000,   1.0000,   0.0000,\n",
       "            0.0000,   7.0000],\n",
       "         [  9.6388,  10.3751,   8.6468,   1.0000,   0.0000,   0.0000,   0.0000,\n",
       "            0.0000,   1.0000],\n",
       "         [  8.4455,   7.9159,  10.5651,   1.0000,   0.0000,   0.0000,   0.0000,\n",
       "            0.0000,   1.0000]], device='cuda:0', dtype=torch.float32)]"
      ]
     },
     "execution_count": 55,
     "metadata": {},
     "output_type": "execute_result"
    }
   ],
   "source": [
    "xh_fixed"
   ]
  },
  {
   "cell_type": "code",
   "execution_count": 56,
   "id": "8d51faa9-639a-4814-9aa3-568382787900",
   "metadata": {},
   "outputs": [
    {
     "data": {
      "text/plain": [
       "tensor([[0]], device='cuda:0')"
      ]
     },
     "execution_count": 56,
     "metadata": {},
     "output_type": "execute_result"
    }
   ],
   "source": [
    "conditions"
   ]
  },
  {
   "cell_type": "markdown",
   "id": "__bohr_old_version_cellId_57__",
   "metadata": {},
   "source": [
    "### Generating TS structures for this set of \"reactants, products\" without any atomic ordering and fragment arrangement."
   ]
  },
  {
   "cell_type": "code",
   "execution_count": null,
   "id": "__bohr_old_version_cellId_58__",
   "metadata": {
    "ExecuteTime": {
     "end_time": "2023-10-02T20:32:09.721324300Z",
     "start_time": "2023-10-02T20:32:09.653645700Z"
    }
   },
   "outputs": [],
   "source": [
    "out_samples, out_masks = ddpm_trainer.ddpm.inpaint(\n",
    "    n_samples=n_samples,\n",
    "    fragments_nodes=fragments_nodes,\n",
    "    conditions=conditions,\n",
    "    return_frames=1,\n",
    "    resamplings=5,\n",
    "    jump_length=5,\n",
    "    timesteps=None,\n",
    "    xh_fixed=xh_fixed,\n",
    "    frag_fixed=[0, 2],\n",
    ")"
   ]
  },
  {
   "cell_type": "markdown",
   "id": "281925f9-11d8-4b20-8d43-c12490907cb7",
   "metadata": {},
   "source": [
    "### Evaluating the quality of generated TS structures"
   ]
  },
  {
   "cell_type": "markdown",
   "id": "__bohr_old_version_cellId_59__",
   "metadata": {},
   "source": [
    "\n",
    "\n",
    "The difference between two molecules with RMSD below 0.1A is almost indistinguishable to the naked eye.\n",
    "\n",
    "<div>\n",
    "    <img src=\"https://bohrium.oss-cn-zhangjiakou.aliyuncs.com/article/20204/bcae8391a60845f990e6387bb4ac3977/4vUVwvt2hGtpcZwTw296Xg.png\", alt=\"rmsd_visualy\" width=\"850\" title=\"rmsd_visual\">\n",
    "    <p style='font-size:0.8rem; font-weight:bold'>Figure 6 | Structural differences between two molecules at different RMSD values (The C atoms of the two molecules are indicated by blue and yellowish colors, respectively)</p>\n",
    "</div>\n",
    "\n",
    "Storing the generated transition state and checking its RMSD against the true transition state for this reaction, we have an RMSD of only 0.02A.\n",
    "\n"
   ]
  },
  {
   "cell_type": "code",
   "execution_count": null,
   "id": "__bohr_old_version_cellId_60__",
   "metadata": {
    "ExecuteTime": {
     "end_time": "2023-10-02T20:33:13.315911400Z",
     "start_time": "2023-10-02T20:33:13.261181200Z"
    }
   },
   "outputs": [],
   "source": [
    "rmsds = batch_rmsd(\n",
    "    fragments_nodes, \n",
    "    out_samples[0],\n",
    "    xh_fixed,\n",
    "    idx=1,\n",
    ")\n",
    "write_tmp_xyz(\n",
    "    fragments_nodes, \n",
    "    out_samples[0], \n",
    "    idx=[0, 1, 2], \n",
    "    localpath=\"./demo/inpainting\"\n",
    ")\n",
    "\n",
    "rmsds = [min(1, _x) for _x in rmsds]\n",
    "[(ii, round(rmsd, 2)) for ii, rmsd in enumerate(rmsds)], np.mean(rmsds), np.median(rmsds)"
   ]
  },
  {
   "cell_type": "markdown",
   "id": "__bohr_old_version_cellId_61__",
   "metadata": {},
   "source": [
    "It can be seen that the atomic numbers of the transition states we generate and the atomic numbers of the reactants do not need to correspond at all, showing that OA-ReactDiff does not require the pre-processing of atomic arrangements"
   ]
  },
  {
   "cell_type": "code",
   "execution_count": null,
   "id": "__bohr_old_version_cellId_62__",
   "metadata": {
    "ExecuteTime": {
     "end_time": "2023-10-02T20:33:14.393818300Z",
     "start_time": "2023-10-02T20:33:14.343760800Z"
    }
   },
   "outputs": [],
   "source": [
    "! cat ./demo/inpainting/gen_0_react.xyz"
   ]
  },
  {
   "cell_type": "code",
   "execution_count": null,
   "id": "__bohr_old_version_cellId_63__",
   "metadata": {
    "ExecuteTime": {
     "end_time": "2023-10-02T20:33:16.738622500Z",
     "start_time": "2023-10-02T20:33:16.683074800Z"
    }
   },
   "outputs": [],
   "source": [
    "! cat ./demo/inpainting/gen_0_ts.xyz"
   ]
  },
  {
   "cell_type": "markdown",
   "id": "__bohr_old_version_cellId_64__",
   "metadata": {},
   "source": [
    "\n",
    "At the same time, although the product consists of multiple molecules, there is no need for a specific geometrical arrangement of them (we've already pulled two molecules to \"infinity\" before the creation)"
   ]
  },
  {
   "cell_type": "code",
   "execution_count": null,
   "id": "__bohr_old_version_cellId_65__",
   "metadata": {
    "ExecuteTime": {
     "end_time": "2023-10-02T20:33:18.440920500Z",
     "start_time": "2023-10-02T20:33:18.345856500Z"
    }
   },
   "outputs": [],
   "source": [
    "draw_in_3dmol(\n",
    "    open(\"./demo/inpainting/gen_0_prod.xyz\", \"r\").read(),\n",
    "    \"xyz\"\n",
    ")"
   ]
  },
  {
   "cell_type": "markdown",
   "id": "__bohr_old_version_cellId_66__",
   "metadata": {},
   "source": [
    "\n",
    "## Surprises for unintented reactions - Gifts from stochastic processes<a id ='stochasticity'></a>\n",
    "\n",
    "There is a certain amount of randomness in the diffusion generation model due to the intervention of noise, which leads to the fact that given the 3D structure of the 'reactants, products' in time, the transition state structure that comes out of the generation is not the same every time.\n",
    "\n",
    "So a natural question arises: do these randomly generated structures, apart from the one that is identical to the true transition state, <span style=\"color: orange;\">**have any chemical significance and practical value**</span>❓\n",
    "    \n",
    "We will delve into a case study to find the answer to this question."
   ]
  },
  {
   "cell_type": "code",
   "execution_count": null,
   "id": "__bohr_old_version_cellId_67__",
   "metadata": {
    "ExecuteTime": {
     "end_time": "2023-10-02T20:33:32.081591500Z",
     "start_time": "2023-10-02T20:33:32.030059400Z"
    }
   },
   "outputs": [],
   "source": [
    "from glob import glob\n",
    "import plotly.express as px\n",
    "\n",
    "from oa_reactdiff.analyze.rmsd import xyz2pmg, pymatgen_rmsd\n",
    "\n",
    "from pymatgen.core import Molecule\n",
    "from collections import OrderedDict\n",
    "\n",
    "\n",
    "def draw_reaction(react_path: str, idx: int = 0, prefix: str = \"gen\") -> py3Dmol.view:\n",
    "    \"\"\"Draw the {reactants, transition states, products} of the reaction.\n",
    "\n",
    "    Args:\n",
    "        react_path (str): path to the reaction.\n",
    "        idx (int, optional): index for the generated reaction. Defaults to 0.\n",
    "        prefix (str, optional): prefix for distinguishing true sample and generated structure.\n",
    "            Defaults to \"gen\".\n",
    "\n",
    "    Returns:\n",
    "        py3Dmol.view: _description_\n",
    "    \"\"\"\n",
    "    with open(f\"{react_path}/{prefix}_{idx}_react.xyz\", \"r\") as fo:\n",
    "        natoms = int(fo.readline()) * 3\n",
    "    mol = f\"{natoms}\\n\\n\"\n",
    "    for ii, t in enumerate([\"react\", \"ts\", \"prod\"]):\n",
    "        pmatg_mol = xyz2pmg(f\"{react_path}/{prefix}_{idx}_{t}.xyz\")\n",
    "        pmatg_mol_prime = Molecule(\n",
    "            species=pmatg_mol.atomic_numbers,\n",
    "            coords=pmatg_mol.cart_coords + 8 * ii,\n",
    "        )\n",
    "        mol += \"\\n\".join(pmatg_mol_prime.to(fmt=\"xyz\").split(\"\\n\")[2:]) + \"\\n\"\n",
    "    viewer = py3Dmol.view(1024, 576)\n",
    "    viewer.addModel(mol, \"xyz\")\n",
    "    viewer.setStyle({'stick': {}, \"sphere\": {\"radius\": 0.3}})\n",
    "    viewer.zoomTo()\n",
    "    return viewer"
   ]
  },
  {
   "cell_type": "markdown",
   "id": "__bohr_old_version_cellId_68__",
   "metadata": {},
   "source": [
    "### Draw our example reaction\n",
    "\n",
    "The bottom left to top right corresponds to \"reactants, transition states, and products\"."
   ]
  },
  {
   "cell_type": "code",
   "execution_count": null,
   "id": "__bohr_old_version_cellId_69__",
   "metadata": {
    "ExecuteTime": {
     "end_time": "2023-10-02T20:33:33.843885500Z",
     "start_time": "2023-10-02T20:33:33.775342600Z"
    }
   },
   "outputs": [],
   "source": [
    "draw_reaction(\"./demo/example-3/ground_truth\", prefix=\"sample\")"
   ]
  },
  {
   "cell_type": "markdown",
   "id": "__bohr_old_version_cellId_70__",
   "metadata": {},
   "source": [
    "\n",
    "\n",
    "Take a closer look at the transition state structure."
   ]
  },
  {
   "cell_type": "code",
   "execution_count": null,
   "id": "__bohr_old_version_cellId_71__",
   "metadata": {
    "ExecuteTime": {
     "end_time": "2023-10-02T20:33:39.231641700Z",
     "start_time": "2023-10-02T20:33:39.148069400Z"
    }
   },
   "outputs": [],
   "source": [
    "draw_in_3dmol(\n",
    "    open(\"./demo/example-3/ground_truth/sample_0_ts.xyz\", \"r\").read(),\n",
    "    \"xyz\"\n",
    ")"
   ]
  },
  {
   "cell_type": "code",
   "execution_count": null,
   "id": "0793ce4e-2a72-427a-8488-069b6f0b2e7c",
   "metadata": {},
   "outputs": [],
   "source": [
    "#TL reactant\n",
    "draw_in_3dmol(\n",
    "    open(\"./demo/example-3/ground_truth/sample_0_react.xyz\", \"r\").read(),\n",
    "    \"xyz\"\n",
    ")"
   ]
  },
  {
   "cell_type": "code",
   "execution_count": null,
   "id": "855c83ac-6864-4f33-b660-3fb59d2b1fac",
   "metadata": {},
   "outputs": [],
   "source": [
    "#TL product\n",
    "draw_in_3dmol(\n",
    "    open(\"./demo/example-3/ground_truth/sample_0_prod.xyz\", \"r\").read(),\n",
    "    \"xyz\"\n",
    ")"
   ]
  },
  {
   "cell_type": "markdown",
   "id": "__bohr_old_version_cellId_72__",
   "metadata": {},
   "source": [
    "\n",
    "\n",
    "### How many different TSs do we generate for the same reaction?\n",
    "\n",
    "To save everyone's time, we have gone ahead and used OA-ReactDiff to generate multiple transition state structures for this 'reactant, product', this reaction corresponds to [the example on the right side of Figure 3 in our article](https://arxiv.org/abs/2304.06174)."
   ]
  },
  {
   "cell_type": "markdown",
   "id": "__bohr_old_version_cellId_73__",
   "metadata": {},
   "source": [
    "\n",
    "Sort the generated transition states into categories."
   ]
  },
  {
   "cell_type": "code",
   "execution_count": null,
   "id": "__bohr_old_version_cellId_74__",
   "metadata": {
    "ExecuteTime": {
     "end_time": "2023-10-02T20:33:46.767307100Z",
     "start_time": "2023-10-02T20:33:46.691566Z"
    }
   },
   "outputs": [],
   "source": [
    "opt_ts_path = \"./demo/example-3/opt_ts/\"\n",
    "opt_ts_xyzs = glob(f\"{opt_ts_path}/*ts.opt.xyz\")\n",
    "\n",
    "order_dict = {}\n",
    "for xyz in opt_ts_xyzs:\n",
    "\n",
    "    order_dict.update(\n",
    "        {int(xyz.split(\"/\")[-1].split(\".\")[0]): xyz}\n",
    "    )\n",
    "order_dict = OrderedDict(sorted(order_dict.items()))\n",
    "\n",
    "opt_ts_xyzs = []\n",
    "ind_dict = {}\n",
    "for ii, v in enumerate(order_dict.values()):\n",
    "    opt_ts_xyzs.append(v)\n",
    "    ind_dict.update(\n",
    "        {ii: v}\n",
    "    )"
   ]
  },
  {
   "cell_type": "markdown",
   "id": "__bohr_old_version_cellId_75__",
   "metadata": {},
   "source": [
    "\n",
    "\n",
    "Calculate the paired RMSD matrix between these transition states. As seen in our previous comparison plot, configurations of molecules with an RMSD lower than \"0.1\" can be considered the same."
   ]
  },
  {
   "cell_type": "code",
   "execution_count": null,
   "id": "__bohr_old_version_cellId_76__",
   "metadata": {},
   "outputs": [],
   "source": [
    "n_ts = len(opt_ts_xyzs)\n",
    "rmsd_mat = np.ones((n_ts, n_ts)) * -2.5\n",
    "for ii in range(n_ts):\n",
    "    for jj in range(ii+1, n_ts):\n",
    "        try:\n",
    "            rmsd_mat[ii, jj] = np.log10(\n",
    "                pymatgen_rmsd(\n",
    "                    opt_ts_xyzs[ii],\n",
    "                    opt_ts_xyzs[jj],\n",
    "                    ignore_chirality=True,\n",
    "                )\n",
    "            )\n",
    "        except:\n",
    "            print(ii, jj)\n",
    "            pass\n",
    "        rmsd_mat[jj, ii] = rmsd_mat[ii, jj]"
   ]
  },
  {
   "cell_type": "markdown",
   "id": "__bohr_old_version_cellId_77__",
   "metadata": {},
   "source": [
    "\n",
    "\n",
    "Classify these generated transition states based on their structures using K-Means."
   ]
  },
  {
   "cell_type": "code",
   "execution_count": null,
   "id": "5b2c566e-ef8d-4cbe-bae7-890b5e7f4437",
   "metadata": {},
   "outputs": [],
   "source": [
    "# TL fix of multiple OpenMB libraries loaded, cf. https://github.com/joblib/threadpoolctl/blob/master/multiple_openmp.md from error message.\n",
    "!export MKL_THREADING_LAYER=TBB "
   ]
  },
  {
   "cell_type": "code",
   "execution_count": null,
   "id": "__bohr_old_version_cellId_78__",
   "metadata": {},
   "outputs": [],
   "source": [
    "from sklearn.cluster import KMeans\n",
    "\n",
    "def reorder_matrix(matrix, n_clusters):\n",
    "    # Apply K-means clustering to rows and columns\n",
    "    row_clusters = KMeans(n_clusters=n_clusters).fit_predict(matrix)\n",
    "    \n",
    "    # Create a permutation to reorder rows and columns\n",
    "    row_permutation = np.argsort(row_clusters)\n",
    "    col_permutation = np.argsort(row_clusters)\n",
    "\n",
    "    # Apply the permutation to the matrix\n",
    "    reordered_matrix = matrix[row_permutation][:, col_permutation]\n",
    "\n",
    "    return reordered_matrix, row_permutation, row_clusters\n",
    "\n",
    "\n",
    "n = n_ts  # Number of overall transition states\n",
    "n_clusters = 6  # The number of clusters in our K-Means\n",
    "\n",
    "reordered_matrix, row_permutation, row_clusters = reorder_matrix(rmsd_mat, n_clusters)"
   ]
  },
  {
   "cell_type": "markdown",
   "id": "__bohr_old_version_cellId_79__",
   "metadata": {},
   "source": [
    "\n",
    "\n",
    "Display the classification results. It can be clearly seen that many transition state structures are quite similar (the red squares on the diagonal represent one cluster).\n",
    "\n",
    "Note: We have applied a log10 transformation to the RMSD values. \"-2\" corresponds to \"0.01A\", and \"-1\" corresponds to \"0.1A\"."
   ]
  },
  {
   "cell_type": "code",
   "execution_count": null,
   "id": "__bohr_old_version_cellId_80__",
   "metadata": {},
   "outputs": [],
   "source": [
    "from IPython.display import HTML\n",
    "\n",
    "fig = px.imshow(\n",
    "    reordered_matrix, \n",
    "    color_continuous_scale=\"Oryel_r\",\n",
    "    range_color=[-2, -0.3],\n",
    ")\n",
    "fig.layout.font.update({\"size\": 18, \"family\": \"Arial\"})\n",
    "\n",
    "fig.layout.update({\"width\": 650, \"height\": 500})\n",
    "# HTML(fig.to_html())\n",
    "fig.show()"
   ]
  },
  {
   "cell_type": "markdown",
   "id": "__bohr_old_version_cellId_81__",
   "metadata": {},
   "source": [
    "\n",
    "Intuitively summarize which cluster each different transition state belongs to (id: '0' to '5').\n",
    "\n",
    "Note: The cluster where `./demo/example-3/opt_ts/26.ts.opt.xyz` is located corresponds to the true transition state of the given {reactant, product}."
   ]
  },
  {
   "cell_type": "code",
   "execution_count": null,
   "id": "__bohr_old_version_cellId_82__",
   "metadata": {},
   "outputs": [],
   "source": [
    "import json\n",
    "\n",
    "cluster_dict = {}\n",
    "for ii, cluster in enumerate(row_clusters):\n",
    "    cluster = str(cluster)\n",
    "    if cluster not in cluster_dict:\n",
    "        cluster_dict[cluster] = [ind_dict[ii]]\n",
    "    else:\n",
    "        cluster_dict[cluster] += [ind_dict[ii]]\n",
    "\n",
    "cluster_dict = OrderedDict(sorted(cluster_dict.items()))\n",
    "cluster_dict"
   ]
  },
  {
   "cell_type": "markdown",
   "id": "__bohr_old_version_cellId_83__",
   "metadata": {},
   "source": [
    "\n",
    "It can be seen that the geometries of the transition states in the different clusters are completely different."
   ]
  },
  {
   "cell_type": "code",
   "execution_count": null,
   "id": "__bohr_old_version_cellId_84__",
   "metadata": {},
   "outputs": [],
   "source": [
    "draw_in_3dmol(\n",
    "    open(\"./demo/example-3/generated/gen_36_ts.xyz\", \"r\").read(),\n",
    "    \"xyz\"\n",
    ")"
   ]
  },
  {
   "cell_type": "markdown",
   "id": "__bohr_old_version_cellId_85__",
   "metadata": {},
   "source": [
    "### Are the rest of the TS worthless?\n",
    "\n",
    "Of course not. Any given transition state structure will correspond to a unique chemical reaction. However, in calculations, due to personal experience or computational methods, <span style=\"color: red;\">**the chemical reactions that each person can explore are also limited**</span>.\n",
    "\n",
    "This limitation is particularly fatal especially when studying unknown complex reactions. It can cause us to overlook some potentially possible reactions, leading to a misjudgment of the reaction mechanism, which in turn affects the idea of catalytic material design. [Dr. Qiyuan Zhao's article](https://www.nature.com/articles/s43588-021-00101-3) explores these phenomena in depth, if you are interested in you can dive into it.\n",
    "\n",
    "In our case, OA-ReactDiff not only found the transition state of the reaction we wanted, but also explored five related \"unintended\" chemical reactions due to the stochastic process feature. This feature can <span style=\"color: orange;\">**compensate for the existing chemistry-based intuitive reaction exploration framework**</span> 😄."
   ]
  },
  {
   "cell_type": "markdown",
   "id": "__bohr_old_version_cellId_86__",
   "metadata": {},
   "source": [
    "\n",
    "For example, the reaction we generated below is **an unintended new reaction**."
   ]
  },
  {
   "cell_type": "code",
   "execution_count": null,
   "id": "__bohr_old_version_cellId_87__",
   "metadata": {},
   "outputs": [],
   "source": [
    "draw_reaction(\"./demo/example-3/irc\", prefix=\"cluster\", idx=1)"
   ]
  },
  {
   "cell_type": "markdown",
   "id": "__bohr_old_version_cellId_88__",
   "metadata": {},
   "source": [
    "\n",
    "## Give me some atoms, and I can generate all the reactions about them<a id ='exploration'></a>\n",
    "\n",
    "In addition to searching for transition states of known reactions, OA-ReactDiff can directly and unconditionally <span style=\"color: orange;\">**generate new chemical reactions and be used to explore reaction networks**</span>\n",
    "\n",
    "Here, we hypothesize a beaker with only four atoms, C, N, O, H, and use OA-ReactDiff to explore the possible reactions of all four atoms."
   ]
  },
  {
   "cell_type": "markdown",
   "id": "__bohr_old_version_cellId_89__",
   "metadata": {},
   "source": [
    "\n",
    "### Randomly Generated Reactions"
   ]
  },
  {
   "cell_type": "code",
   "execution_count": null,
   "id": "__bohr_old_version_cellId_90__",
   "metadata": {},
   "outputs": [],
   "source": [
    "xyz_path = \"./demo/CNOH/\"\n",
    "n_samples = 128  # Total number of reactions generated\n",
    "natm = 4  # Number of atoms in the reactant\n",
    "fragments_nodes = [\n",
    "    torch.tensor([natm] * n_samples, device=device),\n",
    "    torch.tensor([natm] * n_samples, device=device),\n",
    "    torch.tensor([natm] * n_samples, device=device),\n",
    "]\n",
    "\n",
    "conditions = torch.tensor([[0]] * n_samples, device=device)\n",
    "h0 = assemble_sample_inputs(\n",
    "    atoms=[\"C\"] * 1 + [\"O\"] * 1 + [\"N\"] * 1 + [\"H\"] * 1,  # The atomic species of the reactants, in this case one each of CNOH\n",
    "    device=device,\n",
    "    n_samples=n_samples,\n",
    "    frag_type=False,\n",
    ")"
   ]
  },
  {
   "cell_type": "markdown",
   "id": "__bohr_old_version_cellId_91__",
   "metadata": {},
   "source": [
    "It is highly recommended that you use a V100 GPU machine to perform this step (it takes 30 seconds to run). Otherwise, it may take around 10 minutes. you can make yourself a cup of 🍵 or do some push-ups."
   ]
  },
  {
   "cell_type": "code",
   "execution_count": null,
   "id": "__bohr_old_version_cellId_92__",
   "metadata": {},
   "outputs": [],
   "source": [
    "out_samples, out_masks = ddpm_trainer.ddpm.sample(\n",
    "    n_samples=n_samples,\n",
    "    fragments_nodes=fragments_nodes,\n",
    "    conditions=conditions,\n",
    "    return_frames=1,\n",
    "    timesteps=None,\n",
    "    h0=h0,\n",
    ")"
   ]
  },
  {
   "cell_type": "markdown",
   "id": "__bohr_old_version_cellId_93__",
   "metadata": {},
   "source": [
    "Save the generated result as xyz files."
   ]
  },
  {
   "cell_type": "code",
   "execution_count": null,
   "id": "__bohr_old_version_cellId_94__",
   "metadata": {},
   "outputs": [],
   "source": [
    "write_tmp_xyz(\n",
    "    fragments_nodes, \n",
    "    out_samples[0], \n",
    "    idx=[0, 1, 2], \n",
    "    ex_ind=0,\n",
    "    localpath=xyz_path,\n",
    ")"
   ]
  },
  {
   "cell_type": "markdown",
   "id": "__bohr_old_version_cellId_95__",
   "metadata": {},
   "source": [
    "\n",
    "\n",
    "Randomly draw a generated reaction."
   ]
  },
  {
   "cell_type": "code",
   "execution_count": null,
   "id": "__bohr_old_version_cellId_96__",
   "metadata": {},
   "outputs": [],
   "source": [
    "idx = 2\n",
    "assert idx < n_samples\n",
    "views = draw_reaction(xyz_path, idx)\n",
    "views"
   ]
  },
  {
   "cell_type": "markdown",
   "id": "__bohr_old_version_cellId_97__",
   "metadata": {},
   "source": [
    "\n",
    "\n",
    "### Analyzing reaction results"
   ]
  },
  {
   "cell_type": "markdown",
   "id": "__bohr_old_version_cellId_98__",
   "metadata": {},
   "source": [
    "\n",
    "\n",
    "#### Finding unique non-repeating stable Molecules"
   ]
  },
  {
   "cell_type": "code",
   "execution_count": null,
   "id": "__bohr_old_version_cellId_99__",
   "metadata": {},
   "outputs": [],
   "source": [
    "from glob import glob\n",
    "\n",
    "from pymatgen.io.xyz import XYZ\n",
    "from openbabel import pybel\n",
    "\n",
    "from oa_reactdiff.analyze.rmsd import pymatgen_rmsd\n",
    "\n",
    "\n",
    "def xyz_to_smiles(fname: str) -> str:\n",
    "    \"\"\"Convert molecules in xyz format to smiles format\n",
    "\n",
    "    Args:\n",
    "        fname (str): path to the xyz file.\n",
    "\n",
    "    Returns:\n",
    "        str: SMILES string.\n",
    "    \"\"\"\n",
    "    mol = next(pybel.readfile(\"xyz\", fname))\n",
    "    smi = mol.write(format=\"can\")\n",
    "    return smi.split()[0].strip()\n"
   ]
  },
  {
   "cell_type": "code",
   "execution_count": null,
   "id": "06aa6ead-96f8-4384-9f90-42d6710c238b",
   "metadata": {},
   "outputs": [],
   "source": [
    "# TL fix:\n",
    "xyz_path = \"demo/CNOH/\" #\"demo/example-3/generated/\""
   ]
  },
  {
   "cell_type": "code",
   "execution_count": null,
   "id": "__bohr_old_version_cellId_100__",
   "metadata": {},
   "outputs": [],
   "source": [
    "xyzfiles = glob(f\"{xyz_path}/gen*_react.xyz\") + glob(f\"{xyz_path}/gen*_prod.xyz\")\n",
    "xyz_converter = XYZ(mol=None)\n",
    "mol = xyz_converter.from_file(xyzfiles[0]).molecule\n",
    "unique_mols = {xyzfiles[0]: mol}\n",
    "for _xyzfile in xyzfiles:\n",
    "    _mol = xyz_converter.from_file(_xyzfile).molecule\n",
    "    min_rmsd = 100\n",
    "    for _, mol in unique_mols.items():\n",
    "        rmsd = pymatgen_rmsd(mol, _mol, ignore_chirality=True, threshold=0.5)\n",
    "        min_rmsd = min(min_rmsd, rmsd)\n",
    "    if min_rmsd > 0.1:  # If the rmsd with an existing molecule is all greater than 0.1, then it is considered a new molecule\n",
    "        unique_mols.update({_xyzfile: _mol})\n",
    "        \n",
    "len(unique_mols)"
   ]
  },
  {
   "cell_type": "markdown",
   "id": "__bohr_old_version_cellId_101__",
   "metadata": {},
   "source": [
    "\n",
    "Only consider stable (i.e. non-radical, etc.) molecules here."
   ]
  },
  {
   "cell_type": "code",
   "execution_count": null,
   "id": "__bohr_old_version_cellId_102__",
   "metadata": {},
   "outputs": [],
   "source": [
    "unique_idx = []\n",
    "unique_smiles = []\n",
    "idx = 0\n",
    "for file in unique_mols:\n",
    "    smi = xyz_to_smiles(file)\n",
    "    if smi not in unique_smiles and not \".\" in smi:\n",
    "        unique_smiles.append(smi)\n",
    "        unique_idx.append(idx)\n",
    "    idx += 1\n",
    "unique_idx, unique_smiles  # Unique molecular counterparts to reactive indexes and smiles"
   ]
  },
  {
   "cell_type": "markdown",
   "id": "__bohr_old_version_cellId_103__",
   "metadata": {},
   "source": [
    "\n",
    "\n",
    "Everyone can list it by themselves and see if the molecules produced here cover all the CONH tetraatom stabilized molecules 😁\n",
    "\n",
    "Now let's draw one of them."
   ]
  },
  {
   "cell_type": "code",
   "execution_count": null,
   "id": "__bohr_old_version_cellId_104__",
   "metadata": {},
   "outputs": [],
   "source": [
    "idx = np.random.choice(unique_idx, 1)[0]\n",
    "\n",
    "draw_in_3dmol(open(list(unique_mols.keys())[idx], \"r\").read(), \"xyz\")"
   ]
  },
  {
   "cell_type": "markdown",
   "id": "__bohr_old_version_cellId_105__",
   "metadata": {},
   "source": [
    "\n",
    "\n",
    "#### Unique Reaction Pathway\n",
    "\n",
    "We only analyze reactions between stable molecules"
   ]
  },
  {
   "cell_type": "code",
   "execution_count": null,
   "id": "__bohr_old_version_cellId_106__",
   "metadata": {},
   "outputs": [],
   "source": [
    "unique_paths = {}\n",
    "path_index = {}\n",
    "for ii in range(n_samples):\n",
    "    r_xyz = f\"{xyz_path}/gen_{ii}_react.xyz\"\n",
    "    p_xyz = f\"{xyz_path}/gen_{ii}_prod.xyz\"\n",
    "    path = set([xyz_to_smiles(r_xyz), xyz_to_smiles(p_xyz)])\n",
    "    use = True\n",
    "    for smi in path:\n",
    "        if smi not in unique_smiles:\n",
    "            use = False\n",
    "    if not path in unique_paths.values() and len(path) > 1 and use:\n",
    "        unique_paths[ii] = path\n",
    "    if not (len(path) > 1 and use):\n",
    "        continue\n",
    "    sorted_smi = \" & \".join(list(sorted(path)))\n",
    "    if sorted_smi not in path_index:\n",
    "        path_index[sorted_smi] = [ii]\n",
    "    else:\n",
    "        path_index[sorted_smi] += [ii]\n",
    "mols_in_paths = []\n",
    "for k, v in unique_paths.items():\n",
    "    for _v in v:\n",
    "        if not _v in mols_in_paths:\n",
    "            mols_in_paths.append(_v)\n",
    "            \n",
    "mols_in_paths, len(mols_in_paths)"
   ]
  },
  {
   "cell_type": "markdown",
   "id": "__bohr_old_version_cellId_107__",
   "metadata": {},
   "source": [
    "\n",
    "All CNOH tetraatomic stabilization reactions are as follows:"
   ]
  },
  {
   "cell_type": "code",
   "execution_count": null,
   "id": "__bohr_old_version_cellId_108__",
   "metadata": {},
   "outputs": [],
   "source": [
    "unique_paths, len(unique_paths)"
   ]
  },
  {
   "cell_type": "markdown",
   "id": "__bohr_old_version_cellId_109__",
   "metadata": {},
   "source": [
    "\n",
    "select one and see if this reaction is chemically reasonable 😄"
   ]
  },
  {
   "cell_type": "code",
   "execution_count": null,
   "id": "__bohr_old_version_cellId_110__",
   "metadata": {},
   "outputs": [],
   "source": [
    "idx = np.random.choice(list(unique_paths.keys()), 4)[0] # 1, 2lm, 4 \n",
    "views = draw_reaction(xyz_path, idx)\n",
    "views"
   ]
  },
  {
   "cell_type": "markdown",
   "id": "bdd7ebb7-b118-40b6-a1c5-96af8a7cade0",
   "metadata": {},
   "source": [
    "\n",
    "\n",
    "## Outlook: Let's \"Generate\" the Future <a id ='outlook'></a>\n",
    "<div class=\"alert alert-success\">\n",
    "    <b>🎖️Congratulations! You have finished reading this notebook.</b>\n",
    "</div>\n",
    "    \n",
    "A major challenge in the discovery of chemical materials lies in its enormous ($10^{60}$) potential design space. This space is so large that even if we were to buy all NVIDIA graphics cards and exhaust the global power supply, it would still be impossible to explore. Generative AI <span style=\"color: orange;\">**bypasses the difficulty of screening the material space**</span> and directly generates potentially valuable molecules and materials, bringing new possibilities for material discovery.\n",
    "\n",
    "Expansion of diffusion generation modeling for chemical materials is still in its early stages of infancy. If you have ideas about applying OA-ReactDiff to your own problems but are unsure if it is completely suitable or don't know where to start, please feel free to contact the author at duanchenru@gmail.com👏🏻\n",
    "\n"
   ]
  },
  {
   "cell_type": "code",
   "execution_count": null,
   "id": "58655676-4071-4427-87fe-bb3e99688958",
   "metadata": {},
   "outputs": [],
   "source": [
    "# TL explorations:"
   ]
  },
  {
   "cell_type": "code",
   "execution_count": null,
   "id": "495c9318-dace-42dd-b071-8ecfe28d9e3d",
   "metadata": {},
   "outputs": [],
   "source": [
    "ProcessedTS1x"
   ]
  },
  {
   "cell_type": "code",
   "execution_count": null,
   "id": "2d255608-9a28-44ce-9670-cc6f85ca0bb7",
   "metadata": {},
   "outputs": [],
   "source": []
  }
 ],
 "metadata": {
  "kernelspec": {
   "display_name": "Python 3 (ipykernel)",
   "language": "python",
   "name": "python3"
  },
  "language_info": {
   "codemirror_mode": {
    "name": "ipython",
    "version": 3
   },
   "file_extension": ".py",
   "mimetype": "text/x-python",
   "name": "python",
   "nbconvert_exporter": "python",
   "pygments_lexer": "ipython3",
   "version": "3.10.4"
  }
 },
 "nbformat": 4,
 "nbformat_minor": 5
}
