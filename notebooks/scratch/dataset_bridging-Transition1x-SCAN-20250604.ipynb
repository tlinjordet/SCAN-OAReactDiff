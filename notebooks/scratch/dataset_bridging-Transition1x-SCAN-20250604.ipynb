{
 "cells": [
  {
   "cell_type": "code",
   "execution_count": 1,
   "id": "e9678911-c007-4678-94cd-bdf8f1108056",
   "metadata": {},
   "outputs": [
    {
     "name": "stdout",
     "output_type": "stream",
     "text": [
      "{'a': [1, 2], 'b': [3, 4]}\n"
     ]
    }
   ],
   "source": [
    "from pprint import pprint\n",
    "\n",
    "simplified = {\"a\":[1,2], \"b\":[3,4]}\n",
    "\n",
    "pprint(simplified)"
   ]
  },
  {
   "cell_type": "code",
   "execution_count": 2,
   "id": "0b0f6c84-5524-4388-9850-25e347b9d2e4",
   "metadata": {},
   "outputs": [],
   "source": [
    "import rdkit"
   ]
  },
  {
   "cell_type": "code",
   "execution_count": 3,
   "id": "754ccfae-127c-4313-97f3-67d2ab62aa1e",
   "metadata": {},
   "outputs": [],
   "source": [
    "import copy"
   ]
  },
  {
   "cell_type": "code",
   "execution_count": 4,
   "id": "08d0f47a-c699-4a0e-86b4-311fb83b0e9b",
   "metadata": {},
   "outputs": [
    {
     "name": "stdout",
     "output_type": "stream",
     "text": [
      "{'a': [1, 2], 'b': [3, 4]}\n"
     ]
    }
   ],
   "source": [
    "pprint(simplified)"
   ]
  },
  {
   "cell_type": "code",
   "execution_count": 5,
   "id": "fd8dcf6f-cebc-4a29-893e-b090198b97d1",
   "metadata": {},
   "outputs": [],
   "source": [
    "import os\n",
    "os.environ[\"CUDA_DEVICE_ORDER\"]=\"PCI_BUS_ID\"\n",
    "os.environ[\"CUDA_VISIBLE_DEVICES\"]=\"0\""
   ]
  },
  {
   "cell_type": "code",
   "execution_count": 6,
   "id": "00fa7c04-f4f8-4550-b599-f4fa6665f099",
   "metadata": {},
   "outputs": [],
   "source": [
    "#import ase # --> get hill chemical formula if necessary\n",
    "# https://wiki.fysik.dtu.dk/ase/ase/atoms.html#ase.Atoms.get_chemical_formula\n",
    "# a good sanity check"
   ]
  },
  {
   "cell_type": "code",
   "execution_count": 7,
   "id": "19f9107a-7e51-40bf-b146-97b898a02081",
   "metadata": {},
   "outputs": [],
   "source": [
    "# Commented out fields that may not be strictly necessary and which .\n",
    "state_format = {'num_atoms': [], #:int\n",
    "                'charges': [], #: list(int)\n",
    "                #'fragments', #: tuple(tuple(int)) (or list(list(int)) ?)\n",
    "                'positions': [], #: numpy.ndarray\n",
    "                'rxn': [], # unique ID of elementary reaction\n",
    "                #'wB97x_6-31G(d).energy', \n",
    "                #'wB97x_6-31G(d).atomization_energy', \n",
    "                #'wB97x_6-31G(d).forces', \n",
    "                #'formula'\n",
    "               }"
   ]
  },
  {
   "cell_type": "code",
   "execution_count": 8,
   "id": "bd013e48-460c-4f53-94ed-f4e8006faef2",
   "metadata": {},
   "outputs": [],
   "source": [
    "raw_dataset_format = {\"reactant\": copy.deepcopy(state_format), \n",
    "                      \"transition_state\": copy.deepcopy(state_format), \n",
    "                      \"product\": copy.deepcopy(state_format),\n",
    "                      \"single_fragment\": [], # 0 or 1\n",
    "                      \"use_ind\": [], # subset of indices to use as train data\n",
    "                     }"
   ]
  },
  {
   "cell_type": "raw",
   "id": "0de1cc71-37ed-411e-9f6c-bd9955592232",
   "metadata": {},
   "source": [
    "* self.raw_dataset[\"single_fragment\"] → marks product state, unclear why used in first model but not restricted in confidence model.\n",
    "* self.raw_dataset[\"use_ind\"] → marks training vs validation split\n",
    "self.raw_dataset[\"reactant\"] / [\"transition_state\"] / [\"product\"]\n",
    "Sub fields:\n",
    "'Num_atoms': int,\n",
    "'Charges': list of int ~ atomic number, i.e., the elements of XYZ\n",
    "'fragments': tuple of tuple of ints ~ indices of different fragments inside state, \n",
    "'Positions': list of list of floats, i.e., coordinates of XYZ \n",
    "'Rxn': ID string\n",
    "* 'wB97x_6-31G(d).energy',\n",
    "* 'wB97x_6-31G(d).atomization_energy'\n",
    "* 'wB97x_6-31G(d).forces', \n",
    "* 'formula': single str, e.g. ,'C4H7NO'\n",
    "171 unique in Transition1x train\n",
    "vs one per map in SCAN?\n",
    "´if v in [\"wB97x_6-31G(d).forces\", position_key]: # position_key=\"positions\"``\n",
    "Used to invert z-coordinate of positions and forces for data augmentation since chirality is respected by LEFTNet. \n",
    "if confidence model\n",
    "\tself.raw_dataset[\"target\"]\n",
    "\tself.raw_dataset[\"rmsd\"]\n",
    "if ediff is not None:\n",
    "* self.raw_dataset[ediff][\"ediff\"]\n"
   ]
  },
  {
   "cell_type": "raw",
   "id": "8fe204d0-4ae6-4a3d-a29f-bef0db3a9eb4",
   "metadata": {},
   "source": [
    "{'product': {'charges': defaultdict(<class 'set'>,\n",
    "                                    {\"<class 'list'>\": {4,\n",
    "                                                        5,\n",
    "                                                        6,\n",
    "                                                        7,\n",
    "                                                        8,\n",
    "                                                        9,\n",
    "                                                        10,\n",
    "                                                        11,\n",
    "                                                        12,\n",
    "                                                        13,\n",
    "                                                        14,\n",
    "                                                        15,\n",
    "                                                        16,\n",
    "                                                        17,\n",
    "                                                        18,\n",
    "                                                        19,\n",
    "                                                        20,\n",
    "                                                        21,\n",
    "                                                        23}}),\n",
    "             'formula': ['C4H3N3',\n",
    "                         'C2H4N4',\n",
    "                         'C3H2N2',\n",
    "                         '...(171 unique values in total)'],\n",
    "             'fragments': defaultdict(<class 'set'>,\n",
    "                                      {\"<class 'list'>\": {1, 2, 3}}),\n",
    "             'num_atoms': [4, 5, 6, '...(19 unique values in total)'],\n",
    "             'positions': defaultdict(<class 'set'>,\n",
    "                                      {\"<class 'numpy.ndarray'>\": {(4, 3),\n",
    "                                                                   (5, 3),\n",
    "                                                                   (6, 3),\n",
    "                                                                   (7, 3),\n",
    "                                                                   (8, 3),\n",
    "                                                                   (9, 3),\n",
    "                                                                   (10, 3),\n",
    "                                                                   (11, 3),\n",
    "                                                                   (12, 3),\n",
    "                                                                   (13, 3),\n",
    "                                                                   (14, 3),\n",
    "                                                                   (15, 3),\n",
    "                                                                   (16, 3),\n",
    "                                                                   (17, 3),\n",
    "                                                                   (18, 3),\n",
    "                                                                   (19, 3),\n",
    "                                                                   (20, 3),\n",
    "                                                                   (21, 3),\n",
    "                                                                   (23, 3)}}),\n",
    "             'rxn': ['rxn6011',\n",
    "                     'rxn10071',\n",
    "                     'rxn3615',\n",
    "                     '...(10073 unique values in total)'],\n",
    "             'unique_atomic_number_equivalents': [1, 6, 7, 8],\n",
    "             'wB97x_6-31G(d).atomization_energy': [-53.660818521537294,\n",
    "                                                   -54.771007992289015,\n",
    "                                                   -81.98031826100396,\n",
    "                                                   '...(10073 unique values in '\n",
    "                                                   'total)'],\n",
    "             'wB97x_6-31G(d).energy': [-7326.4223589431695,\n",
    "                                       -7326.000008846115,\n",
    "                                       -8393.594892762034,\n",
    "                                       '...(10073 unique values in total)'],\n",
    "             'wB97x_6-31G(d).forces': defaultdict(<class 'set'>,\n",
    "                                                  {\"<class 'list'>\": {4,\n",
    "                                                                      5,\n",
    "                                                                      6,\n",
    "                                                                      7,\n",
    "                                                                      8,\n",
    "                                                                      9,\n",
    "                                                                      10,\n",
    "                                                                      11,\n",
    "                                                                      12,\n",
    "                                                                      13,\n",
    "                                                                      14,\n",
    "                                                                      15,\n",
    "                                                                      16,\n",
    "                                                                      17,\n",
    "                                                                      18,\n",
    "                                                                      19,\n",
    "                                                                      20,\n",
    "                                                                      21,\n",
    "                                                                      23}})},\n",
    " 'reactant': {'charges': defaultdict(<class 'set'>,\n",
    "                                     {\"<class 'list'>\": {4,\n",
    "                                                         5,\n",
    "                                                         6,\n",
    "                                                         7,\n",
    "                                                         8,\n",
    "                                                         9,\n",
    "                                                         10,\n",
    "                                                         11,\n",
    "                                                         12,\n",
    "                                                         13,\n",
    "                                                         14,\n",
    "                                                         15,\n",
    "                                                         16,\n",
    "                                                         17,\n",
    "                                                         18,\n",
    "                                                         19,\n",
    "                                                         20,\n",
    "                                                         21,\n",
    "                                                         23}}),\n",
    "              'formula': ['C4H3N3',\n",
    "                          'C2H4N4',\n",
    "                          'C3H2N2',\n",
    "                          '...(171 unique values in total)'],\n",
    "              'fragments': defaultdict(<class 'set'>,\n",
    "                                       {\"<class 'list'>\": {1, 2}}),\n",
    "              'num_atoms': [4, 5, 6, '...(19 unique values in total)'],\n",
    "              'positions': defaultdict(<class 'set'>,\n",
    "                                       {\"<class 'numpy.ndarray'>\": {(4, 3),\n",
    "                                                                    (5, 3),\n",
    "                                                                    (6, 3),\n",
    "                                                                    (7, 3),\n",
    "                                                                    (8, 3),\n",
    "                                                                    (9, 3),\n",
    "                                                                    (10, 3),\n",
    "                                                                    (11, 3),\n",
    "                                                                    (12, 3),\n",
    "                                                                    (13, 3),\n",
    "                                                                    (14, 3),\n",
    "                                                                    (15, 3),\n",
    "                                                                    (16, 3),\n",
    "                                                                    (17, 3),\n",
    "                                                                    (18, 3),\n",
    "                                                                    (19, 3),\n",
    "                                                                    (20, 3),\n",
    "                                                                    (21, 3),\n",
    "                                                                    (23, 3)}}),\n",
    "              'rxn': ['rxn6011',\n",
    "                      'rxn10071',\n",
    "                      'rxn3615',\n",
    "                      '...(10073 unique values in total)'],\n",
    "              'unique_atomic_number_equivalents': [1, 6, 7, 8],\n",
    "              'wB97x_6-31G(d).atomization_energy': [-58.44512717886937,\n",
    "                                                    -58.99542758516145,\n",
    "                                                    -67.27800796809242,\n",
    "                                                    '...(2052 unique values in '\n",
    "                                                    'total)'],\n",
    "              'wB97x_6-31G(d).energy': [-8165.931055450679,\n",
    "                                        -7325.544862162706,\n",
    "                                        -8132.788846597306,\n",
    "                                        '...(2052 unique values in total)'],\n",
    "              'wB97x_6-31G(d).forces': defaultdict(<class 'set'>,\n",
    "                                                   {\"<class 'list'>\": {4,\n",
    "                                                                       5,\n",
    "                                                                       6,\n",
    "                                                                       7,\n",
    "                                                                       8,\n",
    "                                                                       9,\n",
    "                                                                       10,\n",
    "                                                                       11,\n",
    "                                                                       12,\n",
    "                                                                       13,\n",
    "                                                                       14,\n",
    "                                                                       15,\n",
    "                                                                       16,\n",
    "                                                                       17,\n",
    "                                                                       18,\n",
    "                                                                       19,\n",
    "                                                                       20,\n",
    "                                                                       21,\n",
    "                                                                       23}})},\n",
    " 'single_fragment': [0, 1, '...(2 unique values in total)'],\n",
    " 'transition_state': {'charges': defaultdict(<class 'set'>,\n",
    "                                             {\"<class 'list'>\": {4,\n",
    "                                                                 5,\n",
    "                                                                 6,\n",
    "                                                                 7,\n",
    "                                                                 8,\n",
    "                                                                 9,\n",
    "                                                                 10,\n",
    "                                                                 11,\n",
    "                                                                 12,\n",
    "                                                                 13,\n",
    "                                                                 14,\n",
    "                                                                 15,\n",
    "                                                                 16,\n",
    "                                                                 17,\n",
    "                                                                 18,\n",
    "                                                                 19,\n",
    "                                                                 20,\n",
    "                                                                 21,\n",
    "                                                                 23}}),\n",
    "                      'formula': ['C4H3N3',\n",
    "                                  'C2H4N4',\n",
    "                                  'C3H2N2',\n",
    "                                  '...(171 unique values in total)'],\n",
    "                      'fragments': defaultdict(<class 'set'>,\n",
    "                                               {\"<class 'list'>\": {1,\n",
    "                                                                   2,\n",
    "                                                                   3,\n",
    "                                                                   4,\n",
    "                                                                   5}}),\n",
    "                      'num_atoms': [4, 5, 6, '...(19 unique values in total)'],\n",
    "                      'positions': defaultdict(<class 'set'>,\n",
    "                                               {\"<class 'numpy.ndarray'>\": {(4,\n",
    "                                                                             3),\n",
    "                                                                            (5,\n",
    "                                                                             3),\n",
    "                                                                            (6,\n",
    "                                                                             3),\n",
    "                                                                            (7,\n",
    "                                                                             3),\n",
    "                                                                            (8,\n",
    "                                                                             3),\n",
    "                                                                            (9,\n",
    "                                                                             3),\n",
    "                                                                            (10,\n",
    "                                                                             3),\n",
    "                                                                            (11,\n",
    "                                                                             3),\n",
    "                                                                            (12,\n",
    "                                                                             3),\n",
    "                                                                            (13,\n",
    "                                                                             3),\n",
    "                                                                            (14,\n",
    "                                                                             3),\n",
    "                                                                            (15,\n",
    "                                                                             3),\n",
    "                                                                            (16,\n",
    "                                                                             3),\n",
    "                                                                            (17,\n",
    "                                                                             3),\n",
    "                                                                            (18,\n",
    "                                                                             3),\n",
    "                                                                            (19,\n",
    "                                                                             3),\n",
    "                                                                            (20,\n",
    "                                                                             3),\n",
    "                                                                            (21,\n",
    "                                                                             3),\n",
    "                                                                            (23,\n",
    "                                                                             3)}}),\n",
    "                      'rxn': ['rxn6011',\n",
    "                              'rxn10071',\n",
    "                              'rxn3615',\n",
    "                              '...(10073 unique values in total)'],\n",
    "                      'unique_atomic_number_equivalents': [1, 6, 7, 8],\n",
    "                      'wB97x_6-31G(d).atomization_energy': [-53.48021994591545,\n",
    "                                                            -55.06382107014724,\n",
    "                                                            -55.367559015536244,\n",
    "                                                            '...(10073 unique '\n",
    "                                                            'values in total)'],\n",
    "                      'wB97x_6-31G(d).energy': [-8390.955776660665,\n",
    "                                                -9369.636246382915,\n",
    "                                                -7323.000085821381,\n",
    "                                                '...(10073 unique values in '\n",
    "                                                'total)'],\n",
    "                      'wB97x_6-31G(d).forces': defaultdict(<class 'set'>,\n",
    "                                                           {\"<class 'list'>\": {4,\n",
    "                                                                               5,\n",
    "                                                                               6,\n",
    "                                                                               7,\n",
    "                                                                               8,\n",
    "                                                                               9,\n",
    "                                                                               10,\n",
    "                                                                               11,\n",
    "                                                                               12,\n",
    "                                                                               13,\n",
    "                                                                               14,\n",
    "                                                                               15,\n",
    "                                                                               16,\n",
    "                                                                               17,\n",
    "                                                                               18,\n",
    "                                                                               19,\n",
    "                                                                               20,\n",
    "                                                                               21,\n",
    "                                                                               23}})},\n",
    " 'use_ind': [0, 1, 2, '...(9000 unique values in total)']}"
   ]
  },
  {
   "cell_type": "code",
   "execution_count": 9,
   "id": "15fa42a4-456e-43b4-b64c-41a8d894bb18",
   "metadata": {},
   "outputs": [],
   "source": [
    "import pickle\n",
    "npz_path = \"./oa_reactdiff/data/transition1x/train.pkl\"\n",
    "train_pkl = pickle.load(open(npz_path, \"rb\"))"
   ]
  },
  {
   "cell_type": "code",
   "execution_count": 10,
   "id": "d8ddc21e-1b9e-4143-8be0-ffc98037f497",
   "metadata": {},
   "outputs": [
    {
     "data": {
      "text/plain": [
       "array([[ 0.25745181, -0.8735503 ,  0.30037837],\n",
       "       [-0.56172165,  0.02103662,  0.89758269],\n",
       "       [-0.67397285,  1.12227861,  0.24385745],\n",
       "       [ 0.12700341,  0.97910814, -0.88440928],\n",
       "       [ 0.64463946, -0.19480799, -0.80248384],\n",
       "       [-1.01875544, -0.26059762,  1.83467119],\n",
       "       [ 1.32874423, -0.67792179, -1.48481407]])"
      ]
     },
     "execution_count": 10,
     "metadata": {},
     "output_type": "execute_result"
    }
   ],
   "source": [
    "temp_array = train_pkl[\"reactant\"][\"positions\"][0]\n",
    "temp_array"
   ]
  },
  {
   "cell_type": "code",
   "execution_count": 11,
   "id": "4f9fcf12-b989-494f-8153-d117d933eefc",
   "metadata": {},
   "outputs": [
    {
     "name": "stdout",
     "output_type": "stream",
     "text": [
      "<class 'numpy.ndarray'>\n",
      "<class 'numpy.ndarray'>\n",
      "<class 'numpy.float64'>\n"
     ]
    }
   ],
   "source": [
    "print(type(temp_array))\n",
    "print(type(temp_array[0]))\n",
    "print(type(temp_array[0][0]))"
   ]
  },
  {
   "cell_type": "code",
   "execution_count": 12,
   "id": "b27b8443-a51a-41f2-a063-8fefeb85bd96",
   "metadata": {},
   "outputs": [
    {
     "data": {
      "text/plain": [
       "[8, 6, 7, 7, 6, 1, 1]"
      ]
     },
     "execution_count": 12,
     "metadata": {},
     "output_type": "execute_result"
    }
   ],
   "source": [
    "train_pkl[\"reactant\"][\"charges\"][0]"
   ]
  },
  {
   "cell_type": "code",
   "execution_count": 13,
   "id": "634d2d5b-835b-4967-a964-d32a009ae03a",
   "metadata": {},
   "outputs": [
    {
     "data": {
      "text/plain": [
       "'C2H2N2O'"
      ]
     },
     "execution_count": 13,
     "metadata": {},
     "output_type": "execute_result"
    }
   ],
   "source": [
    "train_pkl[\"reactant\"][\"formula\"][0]"
   ]
  },
  {
   "cell_type": "raw",
   "id": "fcf54681-5fbe-4c51-a8ee-377c343a1ea2",
   "metadata": {},
   "source": [
    "with open(\"/scr/trond/SCAN/repath_WL1.pkl\", \"rb\") as f:\n",
    "    repath_WL1_pkl = pickle.load(f)"
   ]
  },
  {
   "cell_type": "markdown",
   "id": "1e6c4bc0-7552-4ca0-9205-dcb491284efa",
   "metadata": {},
   "source": [
    "# Labeling fragmentation of product state\n",
    "04/06/2025:\n",
    "After preparing SCAN data for the Transition1x.pkl format in the grrm_log parser environment with the notebook `all_repath_SCAN_data_formatting-20250604.ipynb`, we use the OAReactDiff environment to complete the pre-confidence model job and label the instances in SCAN by whether the product state of the i'th instance is more than one fragment or not. While not a perfect emulation, we use RDkit determineconnectivity which matched Transition1x labeling at aroun 94%. \n"
   ]
  },
  {
   "cell_type": "code",
   "execution_count": 14,
   "id": "6c8bdc80-efdb-4b53-b78e-9cc144777c40",
   "metadata": {},
   "outputs": [],
   "source": [
    "import pickle\n",
    "import rdkit\n",
    "from rdkit import Chem\n",
    "import torch"
   ]
  },
  {
   "cell_type": "code",
   "execution_count": 15,
   "id": "e3379196-8b97-4bf9-9c5a-2fc3419251ee",
   "metadata": {},
   "outputs": [],
   "source": [
    "atom_num2sym = {\n",
    "    1: 'H',    2: 'He',   3: 'Li',   4: 'Be',   5: 'B',    6: 'C',    7: 'N',    8: 'O',    9: 'F',    10: 'Ne',\n",
    "    11: 'Na',  12: 'Mg',  13: 'Al',  14: 'Si',  15: 'P',   16: 'S',   17: 'Cl',  18: 'Ar',  19: 'K',   20: 'Ca',\n",
    "    21: 'Sc',  22: 'Ti',  23: 'V',   24: 'Cr',  25: 'Mn',  26: 'Fe',  27: 'Co',  28: 'Ni',  29: 'Cu',  30: 'Zn',\n",
    "    31: 'Ga',  32: 'Ge',  33: 'As',  34: 'Se',  35: 'Br',  36: 'Kr',  37: 'Rb',  38: 'Sr',  39: 'Y',   40: 'Zr',\n",
    "    41: 'Nb',  42: 'Mo',  43: 'Tc',  44: 'Ru',  45: 'Rh',  46: 'Pd',  47: 'Ag',  48: 'Cd',  49: 'In',  50: 'Sn',\n",
    "    51: 'Sb',  52: 'Te',  53: 'I',   54: 'Xe',  55: 'Cs',  56: 'Ba',  57: 'La',  58: 'Ce',  59: 'Pr',  60: 'Nd',\n",
    "    61: 'Pm',  62: 'Sm',  63: 'Eu',  64: 'Gd', 65: 'Tb',  66: 'Dy',  67: 'Ho',  68: 'Er',  69: 'Tm',  70: 'Yb',\n",
    "    71: 'Lu',  72: 'Hf',  73: 'Ta',  74: 'W',   75: 'Re',  76: 'Os',  77: 'Ir',  78: 'Pt',  79: 'Au',  80: 'Hg',\n",
    "    81: 'Tl',  82: 'Pb',  83: 'Bi',  84: 'Po',  85: 'At',  86: 'Rn',  87: 'Fr',  88: 'Ra',  89: 'Ac',  90: 'Th',\n",
    "    91: 'Pa',  92: 'U',   93: 'Np',  94: 'Pu',  95: 'Am',  96: 'Cm',  97: 'Bk',  98: 'Cf',  99: 'Es', 100: 'Fm',\n",
    "    101: 'Md', 102: 'No', 103: 'Lr', 104: 'Rf', 105: 'Db', 106: 'Sg', 107: 'Bh', 108: 'Hs', 109: 'Mt', 110: 'Ds',\n",
    "    111: 'Rg', 112: 'Cn', 113: 'Nh', 114: 'Fl', 115: 'Mc', 116: 'Lv', 117: 'Ts', 118: 'Og'\n",
    "}\n",
    "\n",
    "atom_sym2num = {v:k for k, v in atom_num2sym.items()}"
   ]
  },
  {
   "cell_type": "code",
   "execution_count": 16,
   "id": "d287013b-ad2a-4ba5-a795-38eb09bfe9e4",
   "metadata": {},
   "outputs": [],
   "source": [
    "with open(\"/scr/trond/SCAN/SCAN_train_wo_product_frag_labels.pkl\", \"rb\") as f:\n",
    "    scan_pkl = pickle.load(f)"
   ]
  },
  {
   "cell_type": "code",
   "execution_count": 17,
   "id": "16480c66-0fc4-47fe-82d8-54de5556d4f1",
   "metadata": {},
   "outputs": [],
   "source": [
    "def assemble_xyz(atom_symbols, positions: torch.Tensor, comment_line: str=\"\") -> str:\n",
    "    \"\"\"\n",
    "    Assembles an XYZ string from atom symbols and torch tensor positions.\n",
    "    Ensures robust formatting of coordinates for RDKit parsing.\n",
    "\n",
    "    Args:\n",
    "        atom_symbols (list[str]): List of atomic symbols (e.g., ['C', 'H', 'H']).\n",
    "        positions (torch.Tensor): A Nx3 torch tensor of atomic coordinates.\n",
    "\n",
    "    Returns:\n",
    "        str: The formatted XYZ string.\n",
    "    \"\"\"\n",
    "    num_atoms = len(atom_symbols)\n",
    "    xyz_lines = [str(num_atoms), comment_line]\n",
    "\n",
    "    for i in range(num_atoms):\n",
    "        symbol = atom_symbols[i]\n",
    "        # Format coordinates to a reasonable number of decimal places (e.g., 6)\n",
    "        # Using 'f' format ensures fixed-point notation, avoiding 'e-XX' for small numbers.\n",
    "        # This is CRUCIAL for RDKit's MolFromXYZBlock to parse correctly.\n",
    "        x = f\"{positions[i, 0]:.6f}\"\n",
    "        y = f\"{positions[i, 1]:.6f}\"\n",
    "        z = f\"{positions[i, 2]:.6f}\"\n",
    "        xyz_lines.append(f\"{symbol}  {x}  {y}  {z}\")\n",
    "\n",
    "    return \"\\n\".join(xyz_lines)"
   ]
  },
  {
   "cell_type": "code",
   "execution_count": 18,
   "id": "64196bda-a2f7-4b63-abc8-392ec75f8c68",
   "metadata": {},
   "outputs": [],
   "source": [
    "def get_fragments(xyz: str, bond_cov_factor: float=1.3, useHueckel: bool=False) -> list:\n",
    "    mol_block = Chem.MolFromXYZBlock(xyz)\n",
    "    # useHueckel=False, int charge=0\n",
    "    Chem.rdDetermineBonds.DetermineConnectivity(mol_block, useHueckel=useHueckel, charge=0, covFactor=bond_cov_factor, useVdw=True)\n",
    "    #rdkit.Chem.rdDetermineBonds.DetermineConnectivity(mol_block, covFactor=bond_cov_factor, useVdw=True)\n",
    "    #rdDetermineBonds.DetermineBondOrders(mol_block, charge=0)\n",
    "\n",
    "    #fragmols = Chem.GetMolFrags(mol_block, asMols=True, sanitizeFrags=False)\n",
    "    #fragments = []\n",
    "    return Chem.GetMolFrags(mol_block, asMols=False, sanitizeFrags=False)"
   ]
  },
  {
   "cell_type": "code",
   "execution_count": 19,
   "id": "9c8b9518-1b10-40dc-b1b4-3ada76cd7a34",
   "metadata": {},
   "outputs": [],
   "source": [
    "from rdkit.Chem.rdDetermineBonds import DetermineConnectivity"
   ]
  },
  {
   "cell_type": "code",
   "execution_count": 20,
   "id": "63c450d9-793e-4db8-9de3-6b0af435c468",
   "metadata": {},
   "outputs": [],
   "source": [
    "i = 777\n",
    "charges = scan_pkl[\"product\"][\"charges\"][i]\n",
    "z = [atom_num2sym[x] for x in charges]\n",
    "positions = scan_pkl[\"product\"][\"positions\"][i]\n",
    "xyz = assemble_xyz(z, torch.tensor(positions))"
   ]
  },
  {
   "cell_type": "code",
   "execution_count": 21,
   "id": "1a154d8f-f395-4f8c-a7af-d591ffa13dcc",
   "metadata": {},
   "outputs": [
    {
     "data": {
      "text/plain": [
       "((0, 1, 2, 3, 4, 5, 6, 7, 8, 9, 10, 11, 12, 13, 14, 15, 16),)"
      ]
     },
     "execution_count": 21,
     "metadata": {},
     "output_type": "execute_result"
    }
   ],
   "source": [
    "fragments = get_fragments(xyz, bond_cov_factor=3)\n",
    "fragments"
   ]
  },
  {
   "cell_type": "code",
   "execution_count": 22,
   "id": "15435940-1a62-495b-9c52-1b312689580e",
   "metadata": {},
   "outputs": [
    {
     "data": {
      "text/plain": [
       "1"
      ]
     },
     "execution_count": 22,
     "metadata": {},
     "output_type": "execute_result"
    }
   ],
   "source": [
    "len(fragments)"
   ]
  },
  {
   "cell_type": "code",
   "execution_count": 24,
   "id": "19d473f7-af41-4f14-a866-c7510c34ca93",
   "metadata": {},
   "outputs": [
    {
     "name": "stdout",
     "output_type": "stream",
     "text": [
      "0\n",
      "1000\n",
      "2000\n",
      "3000\n",
      "4000\n",
      "5000\n",
      "6000\n",
      "7000\n",
      "8000\n",
      "9000\n",
      "10000\n",
      "11000\n",
      "12000\n",
      "13000\n",
      "14000\n",
      "15000\n",
      "16000\n",
      "17000\n",
      "18000\n",
      "19000\n",
      "20000\n",
      "21000\n",
      "22000\n",
      "23000\n",
      "24000\n",
      "25000\n",
      "26000\n",
      "27000\n",
      "28000\n",
      "29000\n",
      "30000\n",
      "31000\n",
      "32000\n",
      "33000\n",
      "34000\n",
      "35000\n",
      "36000\n",
      "37000\n",
      "38000\n",
      "39000\n",
      "40000\n",
      "41000\n",
      "42000\n",
      "43000\n",
      "44000\n",
      "45000\n",
      "46000\n",
      "47000\n",
      "48000\n",
      "49000\n",
      "50000\n",
      "51000\n",
      "52000\n",
      "53000\n",
      "54000\n",
      "55000\n",
      "56000\n",
      "57000\n",
      "58000\n",
      "59000\n",
      "60000\n",
      "61000\n",
      "62000\n",
      "63000\n",
      "64000\n",
      "65000\n",
      "66000\n",
      "67000\n",
      "68000\n",
      "69000\n",
      "70000\n",
      "71000\n",
      "72000\n",
      "73000\n",
      "74000\n",
      "75000\n",
      "76000\n",
      "77000\n",
      "78000\n",
      "79000\n",
      "80000\n",
      "81000\n",
      "82000\n",
      "83000\n",
      "84000\n",
      "85000\n",
      "86000\n",
      "87000\n",
      "88000\n",
      "89000\n",
      "90000\n",
      "91000\n",
      "92000\n",
      "93000\n",
      "94000\n",
      "95000\n",
      "96000\n",
      "97000\n",
      "98000\n",
      "99000\n",
      "100000\n",
      "101000\n",
      "102000\n",
      "103000\n",
      "104000\n",
      "105000\n",
      "106000\n",
      "107000\n",
      "108000\n",
      "68688\n",
      "0.6312713102776425\n"
     ]
    }
   ],
   "source": [
    "fragment_fraction = 0\n",
    "bond_cov_factor = 2.3\n",
    "dataset_size = 108809\n",
    "\n",
    "for i in range(dataset_size):\n",
    "    if i % 1000 == 0:\n",
    "        print(i)\n",
    "    charges = scan_pkl[\"product\"][\"charges\"][i]\n",
    "    z = [atom_num2sym[x] for x in charges]\n",
    "    positions = scan_pkl[\"product\"][\"positions\"][i]\n",
    "    xyz = assemble_xyz(z, torch.tensor(positions))\n",
    "    fragments = get_fragments(xyz, bond_cov_factor=bond_cov_factor)\n",
    "    if len(fragments) > 1:\n",
    "        fragment_fraction += 1\n",
    "\n",
    "print(fragment_fraction)\n",
    "fragment_fraction /= dataset_size\n",
    "print(fragment_fraction)"
   ]
  },
  {
   "cell_type": "markdown",
   "id": "7ec77919-68cd-4c4d-aedd-41e2e4fa5367",
   "metadata": {},
   "source": [
    "With default covalent radius factor, there would be no training data. Better just ignore this for the initial pass and try more later."
   ]
  },
  {
   "cell_type": "code",
   "execution_count": null,
   "id": "76d89e6d-d700-475c-a72e-1b416d6eab58",
   "metadata": {},
   "outputs": [],
   "source": []
  }
 ],
 "metadata": {
  "kernelspec": {
   "display_name": "Python 3 (ipykernel)",
   "language": "python",
   "name": "python3"
  },
  "language_info": {
   "codemirror_mode": {
    "name": "ipython",
    "version": 3
   },
   "file_extension": ".py",
   "mimetype": "text/x-python",
   "name": "python",
   "nbconvert_exporter": "python",
   "pygments_lexer": "ipython3",
   "version": "3.10.4"
  }
 },
 "nbformat": 4,
 "nbformat_minor": 5
}
